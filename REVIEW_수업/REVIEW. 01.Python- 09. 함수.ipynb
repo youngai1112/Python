{
 "cells": [
  {
   "cell_type": "markdown",
   "id": "1d059328",
   "metadata": {},
   "source": [
    "# 1. 목차\n",
    "- 함수 ( function )\n",
    "- 함수의 정의 방법\n",
    "- 파라미터를 정의하는 여러 방법\n",
    "    - Default Parameter ★★★★★\n",
    "    - *args\n",
    "        - Keyword Argument?\n",
    "    - **kwargs\n"
   ]
  },
  {
   "cell_type": "markdown",
   "id": "a4ca1212",
   "metadata": {},
   "source": [
    "# 2. 목차보고 개념 및 예문 떠올리기"
   ]
  },
  {
   "cell_type": "markdown",
   "id": "073ed2a2",
   "metadata": {},
   "source": [
    "- 함수 : y = f(x)\n",
    "    - 반복해서 사용해야 하는 연산을 묶어두는 것?\n",
    "- 함수의 정의 방법\n",
    "    ```\n",
    "    def func(a, b):\n",
    "        return a + b\n",
    "        \n",
    "    > func(10, 5)\n",
    "    >> 15\n",
    "    ```\n",
    "    \n",
    "- 파라미터를 정의하는 여러 방법 ???\n",
    "    - Default Parameter\n",
    "    - *args \n",
    "        - Keyword Argument\n",
    "    - **kwargs    "
   ]
  },
  {
   "cell_type": "markdown",
   "id": "6ddd712f",
   "metadata": {},
   "source": [
    "# 2-1. 예문 작성으로 개념 확인해보기"
   ]
  },
  {
   "cell_type": "code",
   "execution_count": 1,
   "id": "c0aa9e23",
   "metadata": {
    "ExecuteTime": {
     "end_time": "2021-12-27T12:34:50.585503Z",
     "start_time": "2021-12-27T12:34:50.578558Z"
    }
   },
   "outputs": [],
   "source": [
    "# parameter : 함수 선언할 때 호출하는 곳에서 입력해주는 데이터를 저장할 변수\n",
    "# argument : 함수를 호출하는 곳에서 함수에 넣어주는 데이터\n",
    "# parameter 변수명과 argument 변수명은 항상 일치해야 하는 것은 아니다."
   ]
  },
  {
   "cell_type": "code",
   "execution_count": 2,
   "id": "ba925a62",
   "metadata": {
    "ExecuteTime": {
     "end_time": "2021-12-27T12:35:52.704848Z",
     "start_time": "2021-12-27T12:35:52.685901Z"
    }
   },
   "outputs": [
    {
     "name": "stdout",
     "output_type": "stream",
     "text": [
      "here is foo\n",
      "param X, return X\n"
     ]
    }
   ],
   "source": [
    "# 1. arg, param X, return X\n",
    "def foo(): # foo()라는 함수를 정의\n",
    "    print('here is foo') # 'here is foo'\n",
    "    print('param X, return X') # 'param X, return X'\n",
    "    \n",
    "foo() # foo() 함수 호출"
   ]
  },
  {
   "cell_type": "code",
   "execution_count": 3,
   "id": "efdc63bf",
   "metadata": {
    "ExecuteTime": {
     "end_time": "2021-12-27T12:37:19.837738Z",
     "start_time": "2021-12-27T12:37:19.819787Z"
    }
   },
   "outputs": [
    {
     "name": "stdout",
     "output_type": "stream",
     "text": [
      "small\n",
      "big\n"
     ]
    }
   ],
   "source": [
    "# 2. arg, param O, return X\n",
    "def goo(num1, num2): # \n",
    "    if num1 + num2 > 10:\n",
    "        print('big')\n",
    "    else:\n",
    "        print('small')\n",
    "        \n",
    "goo(1, 2)\n",
    "goo(10, 20)"
   ]
  },
  {
   "cell_type": "code",
   "execution_count": 4,
   "id": "2d97420f",
   "metadata": {
    "ExecuteTime": {
     "end_time": "2021-12-27T12:40:15.329489Z",
     "start_time": "2021-12-27T12:40:15.323546Z"
    }
   },
   "outputs": [
    {
     "name": "stdout",
     "output_type": "stream",
     "text": [
      "hoo is called\n",
      "결과: 45\n"
     ]
    }
   ],
   "source": [
    "# 3. arg(param) X, return O\n",
    "def hoo():\n",
    "    print('hoo is called')\n",
    "    lst = range(1 , 10)\n",
    "    total = sum(lst)\n",
    "    \n",
    "    return total\n",
    "\n",
    "hoo_result = hoo()\n",
    "print(\"결과: {}\".format(hoo_result))"
   ]
  },
  {
   "cell_type": "code",
   "execution_count": 5,
   "id": "ae09dfa6",
   "metadata": {
    "ExecuteTime": {
     "end_time": "2021-12-27T12:41:53.524397Z",
     "start_time": "2021-12-27T12:41:53.518377Z"
    }
   },
   "outputs": [
    {
     "name": "stdout",
     "output_type": "stream",
     "text": [
      "moo is called\n",
      "30\n"
     ]
    }
   ],
   "source": [
    "# 4. arg(param) O, result O\n",
    "def moo(num1, num2):\n",
    "    print(\"moo is called\")\n",
    "    return num1 + num2\n",
    "\n",
    "a = 10\n",
    "b = 20\n",
    "moo_result = moo(a,b)\n",
    "\n",
    "print(moo_result)"
   ]
  },
  {
   "cell_type": "code",
   "execution_count": null,
   "id": "128c3d87",
   "metadata": {},
   "outputs": [],
   "source": [
    "# 파라미터를 정의하는 여러가지 방법\n",
    "# default parameter\n",
    "# *args : 여러 argument를 동시에 포함시키기\n",
    "# **kwargs : 여러 argument를 dict 형태로 받기"
   ]
  },
  {
   "cell_type": "code",
   "execution_count": 6,
   "id": "33b96e39",
   "metadata": {
    "ExecuteTime": {
     "end_time": "2021-12-27T12:46:25.421751Z",
     "start_time": "2021-12-27T12:46:25.405795Z"
    }
   },
   "outputs": [
    {
     "name": "stdout",
     "output_type": "stream",
     "text": [
      "Hello 30 5.99\n"
     ]
    }
   ],
   "source": [
    "# default parameter : 함수를 호출할 때 argument를 넣어주지 않아도 기본적으로 parameter가 가지고 있어야 할 값 지정\n",
    "def noo(a, b, c):\n",
    "    print(a, b, c)\n",
    "    \n",
    "noo(\"Hello\", 30, 5.99)"
   ]
  },
  {
   "cell_type": "code",
   "execution_count": 7,
   "id": "32c2c225",
   "metadata": {
    "ExecuteTime": {
     "end_time": "2021-12-27T12:46:55.355408Z",
     "start_time": "2021-12-27T12:46:55.073509Z"
    }
   },
   "outputs": [
    {
     "ename": "TypeError",
     "evalue": "noo() missing 1 required positional argument: 'c'",
     "output_type": "error",
     "traceback": [
      "\u001b[1;31m---------------------------------------------------------------------------\u001b[0m",
      "\u001b[1;31mTypeError\u001b[0m                                 Traceback (most recent call last)",
      "\u001b[1;32m<ipython-input-7-4a0694526a33>\u001b[0m in \u001b[0;36m<module>\u001b[1;34m\u001b[0m\n\u001b[1;32m----> 1\u001b[1;33m \u001b[0mnoo\u001b[0m\u001b[1;33m(\u001b[0m\u001b[1;36m10\u001b[0m\u001b[1;33m,\u001b[0m \u001b[1;36m20\u001b[0m\u001b[1;33m)\u001b[0m\u001b[1;33m\u001b[0m\u001b[1;33m\u001b[0m\u001b[0m\n\u001b[0m",
      "\u001b[1;31mTypeError\u001b[0m: noo() missing 1 required positional argument: 'c'"
     ]
    }
   ],
   "source": [
    "noo(10, 20)"
   ]
  },
  {
   "cell_type": "code",
   "execution_count": 8,
   "id": "4cbc7e72",
   "metadata": {
    "ExecuteTime": {
     "end_time": "2021-12-27T12:47:56.673578Z",
     "start_time": "2021-12-27T12:47:56.655498Z"
    }
   },
   "outputs": [
    {
     "name": "stdout",
     "output_type": "stream",
     "text": [
      "10 20 20\n"
     ]
    }
   ],
   "source": [
    "# default parameter\n",
    "def koo(a, b, c=20):\n",
    "    print(a, b, c)\n",
    "    \n",
    "koo(10, 20)"
   ]
  },
  {
   "cell_type": "code",
   "execution_count": 9,
   "id": "172c08c7",
   "metadata": {
    "ExecuteTime": {
     "end_time": "2021-12-27T12:48:31.157768Z",
     "start_time": "2021-12-27T12:48:31.138821Z"
    }
   },
   "outputs": [
    {
     "name": "stdout",
     "output_type": "stream",
     "text": [
      "10 20 hi\n"
     ]
    }
   ],
   "source": [
    "koo(10, 20, \"hi\")"
   ]
  },
  {
   "cell_type": "code",
   "execution_count": 10,
   "id": "cf481bc6",
   "metadata": {
    "ExecuteTime": {
     "end_time": "2021-12-27T12:50:08.679088Z",
     "start_time": "2021-12-27T12:50:08.670268Z"
    }
   },
   "outputs": [
    {
     "ename": "SyntaxError",
     "evalue": "non-default argument follows default argument (<ipython-input-10-b162fd947209>, line 1)",
     "output_type": "error",
     "traceback": [
      "\u001b[1;36m  File \u001b[1;32m\"<ipython-input-10-b162fd947209>\"\u001b[1;36m, line \u001b[1;32m1\u001b[0m\n\u001b[1;33m    def roo(a, b=10, c):\u001b[0m\n\u001b[1;37m            ^\u001b[0m\n\u001b[1;31mSyntaxError\u001b[0m\u001b[1;31m:\u001b[0m non-default argument follows default argument\n"
     ]
    }
   ],
   "source": [
    "def roo(a, b=10, c):\n",
    "    print(a, b, c)\n",
    "    \n",
    "roo(10, 30)"
   ]
  },
  {
   "cell_type": "code",
   "execution_count": 11,
   "id": "bb903c87",
   "metadata": {
    "ExecuteTime": {
     "end_time": "2021-12-27T12:50:43.763850Z",
     "start_time": "2021-12-27T12:50:43.754732Z"
    }
   },
   "outputs": [
    {
     "name": "stdout",
     "output_type": "stream",
     "text": [
      "50 20 30\n"
     ]
    }
   ],
   "source": [
    "def woo(a, b=20, c=30):\n",
    "    print(a, b, c)\n",
    "    \n",
    "woo(50)"
   ]
  },
  {
   "cell_type": "code",
   "execution_count": 13,
   "id": "478efb32",
   "metadata": {
    "ExecuteTime": {
     "end_time": "2021-12-27T12:52:26.047403Z",
     "start_time": "2021-12-27T12:52:26.039073Z"
    }
   },
   "outputs": [
    {
     "name": "stdout",
     "output_type": "stream",
     "text": [
      "130\n"
     ]
    }
   ],
   "source": [
    "# *args : 함수를 정의하면서 argument가 n개가 들어올 수도 있다.\n",
    "def add_ver1(a, b):\n",
    "    total = a + b\n",
    "    print(total)\n",
    "    \n",
    "add_ver1(50, 80)"
   ]
  },
  {
   "cell_type": "code",
   "execution_count": 14,
   "id": "2c8de3c0",
   "metadata": {
    "ExecuteTime": {
     "end_time": "2021-12-27T12:53:34.919250Z",
     "start_time": "2021-12-27T12:53:34.908008Z"
    }
   },
   "outputs": [
    {
     "name": "stdout",
     "output_type": "stream",
     "text": [
      "110\n"
     ]
    }
   ],
   "source": [
    "def add_ver2(a, b, c):\n",
    "    total = a + b + c\n",
    "    \n",
    "    return total\n",
    "\n",
    "add_result = add_ver2(10, 40, 60)\n",
    "print(add_result)"
   ]
  },
  {
   "cell_type": "code",
   "execution_count": 15,
   "id": "05fad4ee",
   "metadata": {
    "ExecuteTime": {
     "end_time": "2021-12-27T12:55:06.577897Z",
     "start_time": "2021-12-27T12:55:06.560945Z"
    }
   },
   "outputs": [
    {
     "name": "stdout",
     "output_type": "stream",
     "text": [
      "326\n"
     ]
    }
   ],
   "source": [
    "# *args : N개의 argument를 받아서 더하고 싶다면\n",
    "def add_ver3(*args):\n",
    "    total = sum(args)\n",
    "    print(total)\n",
    "    \n",
    "add_ver3(1, 5, 7, 54, 90, 92, 77)"
   ]
  },
  {
   "cell_type": "code",
   "execution_count": 16,
   "id": "060001d3",
   "metadata": {
    "ExecuteTime": {
     "end_time": "2021-12-27T12:55:33.671790Z",
     "start_time": "2021-12-27T12:55:33.656730Z"
    }
   },
   "outputs": [
    {
     "name": "stdout",
     "output_type": "stream",
     "text": [
      "hello bye\n"
     ]
    }
   ],
   "source": [
    "print('hello', 'bye')"
   ]
  },
  {
   "cell_type": "code",
   "execution_count": 17,
   "id": "c3ed7c2e",
   "metadata": {
    "ExecuteTime": {
     "end_time": "2021-12-27T12:55:54.232467Z",
     "start_time": "2021-12-27T12:55:54.222387Z"
    }
   },
   "outputs": [
    {
     "name": "stdout",
     "output_type": "stream",
     "text": [
      "5 80 d\n"
     ]
    }
   ],
   "source": [
    "print(5, 80, 'd')"
   ]
  },
  {
   "cell_type": "code",
   "execution_count": 18,
   "id": "d5118090",
   "metadata": {
    "ExecuteTime": {
     "end_time": "2021-12-27T12:56:51.258563Z",
     "start_time": "2021-12-27T12:56:51.245599Z"
    }
   },
   "outputs": [
    {
     "ename": "SyntaxError",
     "evalue": "invalid syntax (<ipython-input-18-6b5d637f6c32>, line 2)",
     "output_type": "error",
     "traceback": [
      "\u001b[1;36m  File \u001b[1;32m\"<ipython-input-18-6b5d637f6c32>\"\u001b[1;36m, line \u001b[1;32m2\u001b[0m\n\u001b[1;33m    def qoo(*args1, *args2):\u001b[0m\n\u001b[1;37m                    ^\u001b[0m\n\u001b[1;31mSyntaxError\u001b[0m\u001b[1;31m:\u001b[0m invalid syntax\n"
     ]
    }
   ],
   "source": [
    "# 하나의 함수에서 여러 개의 *args를 사용할 수 없다.\n",
    "def qoo(*args1, *args2):\n",
    "    print(args1)\n",
    "    print(args2)"
   ]
  },
  {
   "cell_type": "code",
   "execution_count": 19,
   "id": "dea569c7",
   "metadata": {
    "ExecuteTime": {
     "end_time": "2021-12-29T12:54:21.623584Z",
     "start_time": "2021-12-29T12:54:21.600612Z"
    }
   },
   "outputs": [
    {
     "name": "stdout",
     "output_type": "stream",
     "text": [
      "1\n",
      "2\n",
      "(3, 4, 's', 't')\n"
     ]
    }
   ],
   "source": [
    "# positional argument : parameter의 위치에 맞게 들어가는 argument\n",
    "# positional argument와 *args 같이 사용하기\n",
    "def qoo(a, b, *args):\n",
    "    print(a)\n",
    "    print(b)\n",
    "    print(args)\n",
    "    \n",
    "qoo(1,2,3,4,'s','t')"
   ]
  },
  {
   "cell_type": "code",
   "execution_count": 25,
   "id": "4ba2ca33",
   "metadata": {
    "ExecuteTime": {
     "end_time": "2021-12-29T12:57:12.030976Z",
     "start_time": "2021-12-29T12:57:12.007933Z"
    }
   },
   "outputs": [
    {
     "ename": "TypeError",
     "evalue": "eoo() missing 1 required keyword-only argument: 'b'",
     "output_type": "error",
     "traceback": [
      "\u001b[1;31m---------------------------------------------------------------------------\u001b[0m",
      "\u001b[1;31mTypeError\u001b[0m                                 Traceback (most recent call last)",
      "\u001b[1;32m<ipython-input-25-4ecf4a395f39>\u001b[0m in \u001b[0;36m<module>\u001b[1;34m\u001b[0m\n\u001b[0;32m      6\u001b[0m     \u001b[0mprint\u001b[0m\u001b[1;33m(\u001b[0m\u001b[0margs\u001b[0m\u001b[1;33m)\u001b[0m\u001b[1;33m\u001b[0m\u001b[1;33m\u001b[0m\u001b[0m\n\u001b[0;32m      7\u001b[0m \u001b[1;33m\u001b[0m\u001b[0m\n\u001b[1;32m----> 8\u001b[1;33m \u001b[0meoo\u001b[0m\u001b[1;33m(\u001b[0m\u001b[1;36m1\u001b[0m\u001b[1;33m,\u001b[0m\u001b[1;36m2\u001b[0m\u001b[1;33m,\u001b[0m\u001b[1;36m3\u001b[0m\u001b[1;33m,\u001b[0m\u001b[1;36m4\u001b[0m\u001b[1;33m,\u001b[0m\u001b[1;36m5\u001b[0m\u001b[1;33m)\u001b[0m\u001b[1;33m\u001b[0m\u001b[1;33m\u001b[0m\u001b[0m\n\u001b[0m",
      "\u001b[1;31mTypeError\u001b[0m: eoo() missing 1 required keyword-only argument: 'b'"
     ]
    }
   ],
   "source": [
    "# args는 가운데에 위치할 수 없다.\n",
    "\n",
    "def eoo(a, *args, b):\n",
    "    print(a)\n",
    "    print(b)\n",
    "    print(args)\n",
    "    \n",
    "eoo(1,2,3,4,5)"
   ]
  },
  {
   "cell_type": "code",
   "execution_count": 26,
   "id": "73632b5d",
   "metadata": {
    "ExecuteTime": {
     "end_time": "2021-12-29T12:57:12.791464Z",
     "start_time": "2021-12-29T12:57:12.779533Z"
    }
   },
   "outputs": [
    {
     "name": "stdout",
     "output_type": "stream",
     "text": [
      "1\n",
      "5\n",
      "(2, 3, 4)\n"
     ]
    }
   ],
   "source": [
    "# b는 Keyword Argument로 설정\n",
    "eoo(1,2,3,4, b=5)"
   ]
  },
  {
   "cell_type": "code",
   "execution_count": 27,
   "id": "d88d0a87",
   "metadata": {
    "ExecuteTime": {
     "end_time": "2021-12-29T12:59:20.140522Z",
     "start_time": "2021-12-29T12:59:20.127461Z"
    }
   },
   "outputs": [
    {
     "name": "stdout",
     "output_type": "stream",
     "text": [
      "10 20 30\n",
      "30 10 20\n"
     ]
    }
   ],
   "source": [
    "# Keyword Argument: 파라미터에 값을 넣어줄 때 파라미터의 변수명을 같이 기입하는 것\n",
    "def too(a,b,c):\n",
    "    print(a,b,c)\n",
    "    \n",
    "too(10,20,30) # 파라미터 a,b,c의 순서에 맞춰서 아규먼트를 집어 넣은 것(Positional Argument)\n",
    "too(b=10, a=30, c=20) # 파라미터의 이름을 기입해서 집어 넣기"
   ]
  },
  {
   "cell_type": "code",
   "execution_count": 28,
   "id": "bd0cfb4c",
   "metadata": {
    "ExecuteTime": {
     "end_time": "2021-12-29T13:00:54.613741Z",
     "start_time": "2021-12-29T13:00:54.594561Z"
    }
   },
   "outputs": [],
   "source": [
    "# **kwargs : 입력된 keyword argument들을 dict로 정리\n",
    "def yoo(a, b, **kwargs):\n",
    "    print(a)\n",
    "    print(b)\n",
    "    print(kwargs)"
   ]
  },
  {
   "cell_type": "code",
   "execution_count": 29,
   "id": "c089dca6",
   "metadata": {
    "ExecuteTime": {
     "end_time": "2021-12-29T13:01:25.091823Z",
     "start_time": "2021-12-29T13:01:25.076759Z"
    }
   },
   "outputs": [
    {
     "name": "stdout",
     "output_type": "stream",
     "text": [
      "10\n",
      "20\n",
      "{'c': 20, 'd': 50, 'e': 80}\n"
     ]
    }
   ],
   "source": [
    "yoo(10,20,c=20,d=50,e=80)"
   ]
  },
  {
   "cell_type": "code",
   "execution_count": 30,
   "id": "344ebf08",
   "metadata": {
    "ExecuteTime": {
     "end_time": "2021-12-30T13:25:35.720334Z",
     "start_time": "2021-12-30T13:25:35.708888Z"
    }
   },
   "outputs": [
    {
     "name": "stdout",
     "output_type": "stream",
     "text": [
      "1\n",
      "2\n",
      "(3, 4, 5, 6, 7, 8, 9, 10)\n",
      "{}\n",
      "\n",
      "1\n",
      "2\n",
      "(3, 4, 5, 6, 7, 8, 9)\n",
      "{'c': 20, 'd': 30, 'e': 50}\n"
     ]
    }
   ],
   "source": [
    "# keyword argument의 변수명이 key로, 값이 value로 **kwargs에 모아진다.\n",
    "def aoo(a, b, *args, **kwargs):\n",
    "    print(a)\n",
    "    print(b)\n",
    "    print(args)\n",
    "    print(kwargs)\n",
    "    \n",
    "aoo(1,2,3,4,5,6,7,8,9,10)\n",
    "print()\n",
    "aoo(1,2,3,4,5,6,7,8,9, c=20, d=30, e=50)"
   ]
  },
  {
   "cell_type": "code",
   "execution_count": 31,
   "id": "35ed89de",
   "metadata": {
    "ExecuteTime": {
     "end_time": "2021-12-30T13:26:24.182505Z",
     "start_time": "2021-12-30T13:26:24.169541Z"
    }
   },
   "outputs": [
    {
     "ename": "SyntaxError",
     "evalue": "positional argument follows keyword argument (<ipython-input-31-f596b10e58d4>, line 2)",
     "output_type": "error",
     "traceback": [
      "\u001b[1;36m  File \u001b[1;32m\"<ipython-input-31-f596b10e58d4>\"\u001b[1;36m, line \u001b[1;32m2\u001b[0m\n\u001b[1;33m    aoo(1,2,3, a=5, 6)\u001b[0m\n\u001b[1;37m                    ^\u001b[0m\n\u001b[1;31mSyntaxError\u001b[0m\u001b[1;31m:\u001b[0m positional argument follows keyword argument\n"
     ]
    }
   ],
   "source": [
    "# keyword argument도 항상 오른쪽부터 채운다.\n",
    "aoo(1,2,3, a=5, 6)"
   ]
  },
  {
   "cell_type": "code",
   "execution_count": null,
   "id": "5c28a607",
   "metadata": {},
   "outputs": [],
   "source": []
  },
  {
   "cell_type": "code",
   "execution_count": null,
   "id": "b61d7b5d",
   "metadata": {},
   "outputs": [],
   "source": []
  },
  {
   "cell_type": "code",
   "execution_count": null,
   "id": "7029bdd3",
   "metadata": {},
   "outputs": [],
   "source": []
  },
  {
   "cell_type": "code",
   "execution_count": null,
   "id": "76e90b8e",
   "metadata": {},
   "outputs": [],
   "source": []
  },
  {
   "cell_type": "code",
   "execution_count": null,
   "id": "b334088f",
   "metadata": {},
   "outputs": [],
   "source": []
  },
  {
   "cell_type": "code",
   "execution_count": null,
   "id": "21b12ea2",
   "metadata": {},
   "outputs": [],
   "source": []
  },
  {
   "cell_type": "code",
   "execution_count": null,
   "id": "c0b4bd2f",
   "metadata": {},
   "outputs": [],
   "source": []
  },
  {
   "cell_type": "code",
   "execution_count": null,
   "id": "a70e9a93",
   "metadata": {},
   "outputs": [],
   "source": []
  },
  {
   "cell_type": "code",
   "execution_count": null,
   "id": "3afdcc82",
   "metadata": {},
   "outputs": [],
   "source": []
  },
  {
   "cell_type": "code",
   "execution_count": null,
   "id": "db13208a",
   "metadata": {},
   "outputs": [],
   "source": []
  },
  {
   "cell_type": "code",
   "execution_count": null,
   "id": "fc52d9ee",
   "metadata": {},
   "outputs": [],
   "source": []
  },
  {
   "cell_type": "code",
   "execution_count": null,
   "id": "c6408be8",
   "metadata": {},
   "outputs": [],
   "source": []
  },
  {
   "cell_type": "code",
   "execution_count": null,
   "id": "ed0dcb02",
   "metadata": {},
   "outputs": [],
   "source": []
  },
  {
   "cell_type": "code",
   "execution_count": null,
   "id": "25f0b917",
   "metadata": {},
   "outputs": [],
   "source": []
  },
  {
   "cell_type": "code",
   "execution_count": null,
   "id": "47a7f8ac",
   "metadata": {},
   "outputs": [],
   "source": []
  },
  {
   "cell_type": "code",
   "execution_count": null,
   "id": "80865e19",
   "metadata": {},
   "outputs": [],
   "source": []
  },
  {
   "cell_type": "code",
   "execution_count": null,
   "id": "9b3c2fe1",
   "metadata": {},
   "outputs": [],
   "source": []
  },
  {
   "cell_type": "code",
   "execution_count": null,
   "id": "0d6ee076",
   "metadata": {},
   "outputs": [],
   "source": []
  },
  {
   "cell_type": "code",
   "execution_count": null,
   "id": "1034bfc9",
   "metadata": {},
   "outputs": [],
   "source": []
  },
  {
   "cell_type": "code",
   "execution_count": null,
   "id": "638515cf",
   "metadata": {},
   "outputs": [],
   "source": []
  },
  {
   "cell_type": "code",
   "execution_count": null,
   "id": "67b55f59",
   "metadata": {},
   "outputs": [],
   "source": []
  },
  {
   "cell_type": "code",
   "execution_count": null,
   "id": "af6bc984",
   "metadata": {},
   "outputs": [],
   "source": []
  },
  {
   "cell_type": "markdown",
   "id": "4f6f39fd",
   "metadata": {},
   "source": [
    "# 3. 공부내용\n",
    "목차보고 개념 또는 예문 떠올려보기\n",
    "\n",
    "# 4. 해야할 것\n",
    "파이썬 > 09. : 개념 한 번 훑어보기\n",
    "예문 정리 / 주석달기"
   ]
  },
  {
   "cell_type": "markdown",
   "id": "2d8eeb05",
   "metadata": {},
   "source": [
    "## 4-1. 개념 확인, 예문 정리 및 주석 달기"
   ]
  },
  {
   "cell_type": "code",
   "execution_count": null,
   "id": "05b38ad6",
   "metadata": {},
   "outputs": [],
   "source": []
  },
  {
   "cell_type": "code",
   "execution_count": null,
   "id": "bead0979",
   "metadata": {},
   "outputs": [],
   "source": []
  },
  {
   "cell_type": "code",
   "execution_count": null,
   "id": "68e7bfd5",
   "metadata": {},
   "outputs": [],
   "source": []
  },
  {
   "cell_type": "code",
   "execution_count": null,
   "id": "5ef74be7",
   "metadata": {},
   "outputs": [],
   "source": []
  },
  {
   "cell_type": "code",
   "execution_count": null,
   "id": "af1b1081",
   "metadata": {},
   "outputs": [],
   "source": []
  },
  {
   "cell_type": "code",
   "execution_count": null,
   "id": "acdd9ed0",
   "metadata": {},
   "outputs": [],
   "source": []
  },
  {
   "cell_type": "code",
   "execution_count": null,
   "id": "a863cb5f",
   "metadata": {},
   "outputs": [],
   "source": []
  },
  {
   "cell_type": "code",
   "execution_count": null,
   "id": "75316a37",
   "metadata": {},
   "outputs": [],
   "source": []
  }
 ],
 "metadata": {
  "kernelspec": {
   "display_name": "Python 3",
   "language": "python",
   "name": "python3"
  },
  "language_info": {
   "codemirror_mode": {
    "name": "ipython",
    "version": 3
   },
   "file_extension": ".py",
   "mimetype": "text/x-python",
   "name": "python",
   "nbconvert_exporter": "python",
   "pygments_lexer": "ipython3",
   "version": "3.8.8"
  },
  "toc": {
   "base_numbering": 1,
   "nav_menu": {},
   "number_sections": true,
   "sideBar": true,
   "skip_h1_title": false,
   "title_cell": "Table of Contents",
   "title_sidebar": "Contents",
   "toc_cell": false,
   "toc_position": {},
   "toc_section_display": true,
   "toc_window_display": false
  },
  "varInspector": {
   "cols": {
    "lenName": 16,
    "lenType": 16,
    "lenVar": 40
   },
   "kernels_config": {
    "python": {
     "delete_cmd_postfix": "",
     "delete_cmd_prefix": "del ",
     "library": "var_list.py",
     "varRefreshCmd": "print(var_dic_list())"
    },
    "r": {
     "delete_cmd_postfix": ") ",
     "delete_cmd_prefix": "rm(",
     "library": "var_list.r",
     "varRefreshCmd": "cat(var_dic_list()) "
    }
   },
   "types_to_exclude": [
    "module",
    "function",
    "builtin_function_or_method",
    "instance",
    "_Feature"
   ],
   "window_display": false
  }
 },
 "nbformat": 4,
 "nbformat_minor": 5
}
