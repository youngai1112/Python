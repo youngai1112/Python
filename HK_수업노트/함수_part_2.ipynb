{
 "cells": [
  {
   "cell_type": "markdown",
   "id": "56ec821c",
   "metadata": {
    "id": "56ec821c"
   },
   "source": [
    "# 람다 함수\n",
    "* 삼항연산 또는 컴프리헨션과 흡사하게 만들어지는 함수\n",
    "* 간단하고, 1회성으로 사용 함수를 람다로 만들자!"
   ]
  },
  {
   "cell_type": "code",
   "execution_count": null,
   "id": "b40f7caa",
   "metadata": {
    "id": "b40f7caa"
   },
   "outputs": [],
   "source": [
    "def add(num1, num2):\n",
    "    return num1 + num2"
   ]
  },
  {
   "cell_type": "code",
   "execution_count": null,
   "id": "2f660d74",
   "metadata": {
    "id": "2f660d74",
    "outputId": "8e7ca421-ab8f-4537-a54b-0155c75b10aa"
   },
   "outputs": [
    {
     "data": {
      "text/plain": [
       "3"
      ]
     },
     "execution_count": 2,
     "metadata": {},
     "output_type": "execute_result"
    }
   ],
   "source": [
    "add(1, 2)"
   ]
  },
  {
   "cell_type": "code",
   "execution_count": null,
   "id": "3e258cc5",
   "metadata": {
    "id": "3e258cc5",
    "outputId": "04ec60c4-c2f4-48c0-bba4-b6d50bd1e62d"
   },
   "outputs": [
    {
     "data": {
      "text/plain": [
       "3"
      ]
     },
     "execution_count": 4,
     "metadata": {},
     "output_type": "execute_result"
    }
   ],
   "source": [
    "add2 = lambda num1, num2 : num1 + num2\n",
    "add2(1, 2)"
   ]
  },
  {
   "cell_type": "code",
   "execution_count": null,
   "id": "af8d172b",
   "metadata": {
    "id": "af8d172b"
   },
   "outputs": [],
   "source": [
    "def square1(x):\n",
    "    return x ** 2\n",
    "\n",
    "square2 = lambda x : x ** 2"
   ]
  },
  {
   "cell_type": "markdown",
   "id": "b555bdbe",
   "metadata": {
    "id": "b555bdbe"
   },
   "source": [
    "1. 람다함수는 아주 간단한 파라미터가 있고, 리턴이 있는 함수를 만들 때 사용\n",
    "2. 1회성으로 사용하는 간단한 함수를 만들 때 사용\n",
    "\n",
    "* 간단하다? 1줄짜리"
   ]
  },
  {
   "cell_type": "markdown",
   "id": "2414477c",
   "metadata": {
    "id": "2414477c"
   },
   "source": [
    "# Scope 범위\n",
    "* 함수 안에서 선언되는 변수와 함수 밖에서 선언되는 변수의 **사용범위**가 다르다\n",
    "* global(전역), local(지역)"
   ]
  },
  {
   "cell_type": "code",
   "execution_count": null,
   "id": "4e87077f",
   "metadata": {
    "id": "4e87077f",
    "outputId": "31900e9c-fb56-4337-813f-b97f5488049e"
   },
   "outputs": [
    {
     "name": "stdout",
     "output_type": "stream",
     "text": [
      "10\n"
     ]
    }
   ],
   "source": [
    "# 전역 변수 - 어디에서든 접근이 가능\n",
    "gv = 10\n",
    "\n",
    "def foo():\n",
    "    print(gv)\n",
    "\n",
    "foo()"
   ]
  },
  {
   "cell_type": "code",
   "execution_count": null,
   "id": "0a1f290e",
   "metadata": {
    "id": "0a1f290e",
    "outputId": "220d19bb-8c74-4951-8779-f73dcd4e79f7"
   },
   "outputs": [
    {
     "name": "stdout",
     "output_type": "stream",
     "text": [
      "100\n",
      "10\n"
     ]
    }
   ],
   "source": [
    "# 전역 gv\n",
    "gv = 10\n",
    "\n",
    "# 함수 안쪽에서 만들어진 변수를 해당 함수의 지역 변수라 한다.\n",
    "def goo():\n",
    "    # 지역 gv\n",
    "    gv = 100\n",
    "    print(gv)\n",
    "    \n",
    "goo()\n",
    "print(gv)"
   ]
  },
  {
   "cell_type": "markdown",
   "id": "7068ebd7",
   "metadata": {
    "id": "7068ebd7"
   },
   "source": [
    "전역 변수랑 지역 변수의 이름이 같으면 애매모호. 따라서 함수 내에서 명시적으로 전역 변수를 사용할 수 있게 해주는 기법"
   ]
  },
  {
   "cell_type": "code",
   "execution_count": null,
   "id": "ebb6ba76",
   "metadata": {
    "id": "ebb6ba76",
    "outputId": "3d59b557-9fd3-424a-b404-cc404dffc4da"
   },
   "outputs": [
    {
     "name": "stdout",
     "output_type": "stream",
     "text": [
      "100\n",
      "100\n"
     ]
    }
   ],
   "source": [
    "gv = 10\n",
    "\n",
    "def hoo():\n",
    "    global gv\n",
    "    gv = 100\n",
    "    print(gv)\n",
    "    \n",
    "hoo()\n",
    "print(gv)"
   ]
  },
  {
   "cell_type": "code",
   "execution_count": null,
   "id": "b0d39c05",
   "metadata": {
    "id": "b0d39c05",
    "outputId": "904ade55-46b5-418a-93cd-0daf769bf778"
   },
   "outputs": [
    {
     "name": "stdout",
     "output_type": "stream",
     "text": [
      "10\n"
     ]
    }
   ],
   "source": [
    "def moo():\n",
    "    lv_moo = 10\n",
    "    print(lv_moo)\n",
    "\n",
    "moo()\n",
    "# print(lv_moo) # error!"
   ]
  },
  {
   "cell_type": "markdown",
   "id": "ca1fde2b",
   "metadata": {
    "id": "ca1fde2b"
   },
   "source": [
    "* 함수 밖에서 만들어진 전역 변수는 어디에서든 사용이 가능하다.\n",
    "* 함수 안쪽에서 만들어진 변수인 지역 변수는 함수 내에서만 사용이 가능하다.\n",
    "    * 지역 변수에 포함 되는 것 : 함수 내에서 만들어진 변수, 파라미터 변수"
   ]
  },
  {
   "cell_type": "code",
   "execution_count": null,
   "id": "762fe686",
   "metadata": {
    "id": "762fe686"
   },
   "outputs": [],
   "source": [
    "# 지역변수에 해당하는 것 : num1, num2, result\n",
    "def noo(num1, num2):\n",
    "    result = num1 + num2"
   ]
  },
  {
   "cell_type": "markdown",
   "id": "00029d9a",
   "metadata": {
    "id": "00029d9a"
   },
   "source": [
    "# 내부함수(지역함수)\n",
    "함수 내부에 다른 함수가 정의되는 것"
   ]
  },
  {
   "cell_type": "code",
   "execution_count": null,
   "id": "4ce3c876",
   "metadata": {
    "id": "4ce3c876",
    "outputId": "aa049e30-62dc-473d-a6b8-ce37a97b74e9"
   },
   "outputs": [
    {
     "name": "stdout",
     "output_type": "stream",
     "text": [
      "Here is outer\n",
      "Here is inner\n"
     ]
    },
    {
     "data": {
      "text/plain": [
       "30"
      ]
     },
     "execution_count": 16,
     "metadata": {},
     "output_type": "execute_result"
    }
   ],
   "source": [
    "def outer(a, b):\n",
    "    print(\"Here is outer\")\n",
    "    \n",
    "    # inner함수는 outer의 지역함수\n",
    "    # inner함수는 outer함수에 귀속되어 있다.\n",
    "    def inner(c, d):\n",
    "        print(\"Here is inner\")\n",
    "        return c + d\n",
    "    \n",
    "    return inner(a, b)\n",
    "\n",
    "outer(10, 20)"
   ]
  },
  {
   "cell_type": "code",
   "execution_count": null,
   "id": "60869d94",
   "metadata": {
    "id": "60869d94"
   },
   "outputs": [],
   "source": [
    "def outer(a, b):\n",
    "    \n",
    "    def inner(c, d):\n",
    "        return c + d\n",
    "    \n",
    "    return inner # 함수 자체를 리턴"
   ]
  },
  {
   "cell_type": "code",
   "execution_count": null,
   "id": "af4c11fc",
   "metadata": {
    "id": "af4c11fc",
    "outputId": "3e12b58e-3add-4d2c-f49a-609aa242da4a"
   },
   "outputs": [
    {
     "data": {
      "text/plain": [
       "<function __main__.outer.<locals>.inner(c, d)>"
      ]
     },
     "execution_count": 19,
     "metadata": {},
     "output_type": "execute_result"
    }
   ],
   "source": [
    "inner_func = outer(10, 20)\n",
    "inner_func"
   ]
  },
  {
   "cell_type": "code",
   "execution_count": null,
   "id": "77d752cf",
   "metadata": {
    "id": "77d752cf",
    "outputId": "c538d06b-ae54-4784-bc18-74f2f203b31b"
   },
   "outputs": [
    {
     "data": {
      "text/plain": [
       "30"
      ]
     },
     "execution_count": 20,
     "metadata": {},
     "output_type": "execute_result"
    }
   ],
   "source": [
    "inner_func(10, 20)"
   ]
  },
  {
   "cell_type": "markdown",
   "id": "13de86e6",
   "metadata": {
    "id": "13de86e6"
   },
   "source": [
    "# Callback Function\n",
    "* 함수의 Argument로 함수가 넘어가는 것\n",
    "* 함수 Argument를 받는 Parameter를 Callback Function이라고 한다."
   ]
  },
  {
   "cell_type": "code",
   "execution_count": null,
   "id": "4a9c0dcd",
   "metadata": {
    "id": "4a9c0dcd"
   },
   "outputs": [],
   "source": [
    "def foo(callback, a, b):\n",
    "    a **= 2\n",
    "    b **= 2\n",
    "    \n",
    "    return callback(a, b)\n",
    "\n",
    "def add_func(num1, num2):\n",
    "    return num1 + num2\n",
    "\n",
    "def sub_func(num1, num2):\n",
    "    return num1 - num2"
   ]
  },
  {
   "cell_type": "code",
   "execution_count": null,
   "id": "63ede157",
   "metadata": {
    "id": "63ede157",
    "outputId": "c59ceb62-51cc-401b-9626-547cfe7b3d2f"
   },
   "outputs": [
    {
     "data": {
      "text/plain": [
       "-5"
      ]
     },
     "execution_count": 23,
     "metadata": {},
     "output_type": "execute_result"
    }
   ],
   "source": [
    "foo(sub_func, 2, 3)"
   ]
  },
  {
   "cell_type": "code",
   "execution_count": null,
   "id": "e4404885",
   "metadata": {
    "id": "e4404885",
    "outputId": "d0e94312-8a9c-4a25-aa60-27fc691308ba"
   },
   "outputs": [
    {
     "data": {
      "text/plain": [
       "36"
      ]
     },
     "execution_count": 24,
     "metadata": {},
     "output_type": "execute_result"
    }
   ],
   "source": [
    "foo(lambda x, y : x * y, 2, 3)"
   ]
  },
  {
   "cell_type": "markdown",
   "id": "27cf1a63",
   "metadata": {
    "id": "27cf1a63"
   },
   "source": [
    "# map, filter, reduce"
   ]
  },
  {
   "cell_type": "markdown",
   "id": "b8ff2951",
   "metadata": {
    "id": "b8ff2951"
   },
   "source": [
    "## map\n",
    "순서가 있는 데이터 집합( Sequence )에서 모든 값에 특정 함수를 적용시킨 결과를 만들어 낸다."
   ]
  },
  {
   "cell_type": "code",
   "execution_count": null,
   "id": "c0239f0a",
   "metadata": {
    "id": "c0239f0a",
    "outputId": "a0ed8034-8955-4e7f-9eea-ab253989cf8c"
   },
   "outputs": [
    {
     "data": {
      "text/plain": [
       "['홀', '짝', '홀', '짝']"
      ]
     },
     "execution_count": 25,
     "metadata": {},
     "output_type": "execute_result"
    }
   ],
   "source": [
    "lst = [1, 2, 3, 4]\n",
    "\n",
    "def odd_even(num):\n",
    "    ######\n",
    "    \n",
    "    ######\n",
    "    return \"홀\" if num % 2 else \"짝\"\n",
    "\n",
    "result = []\n",
    "for num in lst:\n",
    "    result.append(odd_even(num))\n",
    "    \n",
    "result"
   ]
  },
  {
   "cell_type": "code",
   "execution_count": null,
   "id": "8220ceb1",
   "metadata": {
    "id": "8220ceb1",
    "outputId": "298efa59-a1aa-4883-c19c-fb5c2b0b3c22"
   },
   "outputs": [
    {
     "data": {
      "text/plain": [
       "['홀', '짝', '홀', '짝']"
      ]
     },
     "execution_count": 27,
     "metadata": {},
     "output_type": "execute_result"
    }
   ],
   "source": [
    "list(map(odd_even, lst))"
   ]
  },
  {
   "cell_type": "markdown",
   "id": "123c6441",
   "metadata": {
    "id": "123c6441"
   },
   "source": [
    "## filter\n",
    "* 리스트 데이터에서 특정 조건의 value만 걸러내는 함수"
   ]
  },
  {
   "cell_type": "code",
   "execution_count": null,
   "id": "ee56860f",
   "metadata": {
    "id": "ee56860f",
    "outputId": "6d78e158-7f6e-4924-ea6d-746b38fdf195"
   },
   "outputs": [
    {
     "data": {
      "text/plain": [
       "[1, 3, 5, 7, 9]"
      ]
     },
     "execution_count": 29,
     "metadata": {},
     "output_type": "execute_result"
    }
   ],
   "source": [
    "lst = range(10)\n",
    "\n",
    "# 홀수만 출력\n",
    "result = filter(lambda data : data % 2, lst)\n",
    "# result = filter(lambda data : True if data % 2 else False, lst)\n",
    "# def get_odd(data):\n",
    "#     if data % 2:\n",
    "#         return True\n",
    "#     else:\n",
    "#         return False\n",
    "\n",
    "# result = filter(get_odd, lst)\n",
    "    \n",
    "list(result)"
   ]
  },
  {
   "cell_type": "markdown",
   "id": "5eb7e6e2",
   "metadata": {
    "id": "5eb7e6e2"
   },
   "source": [
    "## reduce\n",
    "* 리스트 데이터를 처음부터 순서대로 특정 함수를 실행하여 결과를 누적"
   ]
  },
  {
   "cell_type": "code",
   "execution_count": null,
   "id": "ecbad54d",
   "metadata": {
    "id": "ecbad54d",
    "outputId": "d6169a48-a241-42e2-945b-a4555bb8f463"
   },
   "outputs": [
    {
     "data": {
      "text/plain": [
       "15"
      ]
     },
     "execution_count": 30,
     "metadata": {},
     "output_type": "execute_result"
    }
   ],
   "source": [
    "from functools import reduce\n",
    "\n",
    "lst = [3, 1, 4, 2, 5]\n",
    "reduce(lambda x, y: x + y, lst)"
   ]
  },
  {
   "cell_type": "markdown",
   "id": "4ee4b024",
   "metadata": {
    "id": "4ee4b024"
   },
   "source": [
    "# Decorator\n",
    "코드를 바꾸지 않고 기능을 추가하거나 수정하고 싶을 때 사용하는 문법"
   ]
  },
  {
   "cell_type": "code",
   "execution_count": null,
   "id": "19df4351",
   "metadata": {
    "id": "19df4351"
   },
   "outputs": [],
   "source": [
    "def bus(name):\n",
    "    print(\"카드를 찍고 탑니다.\")\n",
    "    print(f\"{name}이 버스를 타고 집에 갑니다.\")\n",
    "    print(\"카드를 찍고 내립니다.\")\n",
    "    \n",
    "def subway(name):\n",
    "    print(\"카드를 찍고 탑니다.\")\n",
    "    print(f\"{name}이 지하철을 타고 집에 갑니다.\")\n",
    "    print(\"카드를 찍고 내립니다.\")"
   ]
  },
  {
   "cell_type": "code",
   "execution_count": null,
   "id": "c701fd76",
   "metadata": {
    "id": "c701fd76"
   },
   "outputs": [],
   "source": [
    "# 카드를 찍고 타고, 찍고 내리는 로직은 메인 로직을 꾸며주는 로직\n",
    "def tag_card(callback):\n",
    "    # 메인 로직을 꾸며줄 함수 작성. 메인 로직을 꾸며주는 로직으로 감싸야 하는 것.\n",
    "    \n",
    "    # 메인 로직을 꾸며내면서 실행. 메인로직에 들어가는 Argument는???\n",
    "    # wrapper 함수에서 책임을 져 준다!( wrapper 함수가 대신 받아줌 )\n",
    "    def wrapper(*args, **kwargs):\n",
    "        print(\"카드를 찍고 탑니다.\")\n",
    "        callback(*args, **kwargs) # 모든 파라마티가 풀려서 들어가요.\n",
    "        print(\"카드를 찍고 내립니다.\")\n",
    "    \n",
    "    # 꾸며주는 함수를 리턴\n",
    "    return wrapper"
   ]
  },
  {
   "cell_type": "code",
   "execution_count": null,
   "id": "59bc4dc5",
   "metadata": {
    "id": "59bc4dc5",
    "outputId": "481f7a96-fce2-4e5c-cacc-e3346ffa9407"
   },
   "outputs": [
    {
     "name": "stdout",
     "output_type": "stream",
     "text": [
      "카드를 찍고 탑니다.\n",
      "1250원을 내고 버스를 탑니다.\n",
      "카드를 찍고 내립니다.\n"
     ]
    }
   ],
   "source": [
    "@tag_card\n",
    "def take_bus(fee):\n",
    "    # 메인 로직이 들어있는 함수\n",
    "    print(f\"{fee}원을 내고 버스를 탑니다.\")\n",
    "\n",
    "take_bus(1250)"
   ]
  },
  {
   "cell_type": "markdown",
   "id": "03817c56",
   "metadata": {
    "id": "03817c56"
   },
   "source": [
    "만약에 callback에 리턴이 있다면, wrapper에서는 callback의 값을 같이 리턴"
   ]
  },
  {
   "cell_type": "code",
   "execution_count": null,
   "id": "757f7ab8",
   "metadata": {
    "id": "757f7ab8"
   },
   "outputs": [],
   "source": [
    "def deco_op(callback):\n",
    "    \n",
    "    def wrapper(*args, **kwargs):\n",
    "        print(\"연산 시작!\")\n",
    "        # 메인로직으로부터 리턴을 받고\n",
    "        result = callback(*args, **kwargs)\n",
    "        print(\"연산 끝!\")\n",
    "        \n",
    "        # wrapper에서 리턴\n",
    "        return result\n",
    "    \n",
    "    return wrapper\n",
    "\n",
    "@deco_op\n",
    "def add(a, b):\n",
    "    return a + b\n",
    "\n",
    "@deco_op\n",
    "def sub(a, b):\n",
    "    return a - c"
   ]
  },
  {
   "cell_type": "code",
   "execution_count": null,
   "id": "a60fd8bf",
   "metadata": {
    "id": "a60fd8bf",
    "outputId": "31c84053-a39d-4809-c979-89f64e15a553"
   },
   "outputs": [
    {
     "name": "stdout",
     "output_type": "stream",
     "text": [
      "연산 시작!\n",
      "연산 끝!\n"
     ]
    },
    {
     "data": {
      "text/plain": [
       "5"
      ]
     },
     "execution_count": 49,
     "metadata": {},
     "output_type": "execute_result"
    }
   ],
   "source": [
    "add(2, 3)"
   ]
  },
  {
   "cell_type": "code",
   "execution_count": null,
   "id": "e3aab3f0",
   "metadata": {
    "id": "e3aab3f0"
   },
   "outputs": [],
   "source": []
  }
 ],
 "metadata": {
  "colab": {
   "collapsed_sections": [],
   "name": "함수 part 2.ipynb",
   "provenance": []
  },
  "kernelspec": {
   "display_name": "Python 3",
   "language": "python",
   "name": "python3"
  },
  "language_info": {
   "codemirror_mode": {
    "name": "ipython",
    "version": 3
   },
   "file_extension": ".py",
   "mimetype": "text/x-python",
   "name": "python",
   "nbconvert_exporter": "python",
   "pygments_lexer": "ipython3",
   "version": "3.8.8"
  }
 },
 "nbformat": 4,
 "nbformat_minor": 5
}
