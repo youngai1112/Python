{
 "cells": [
  {
   "cell_type": "markdown",
   "id": "500c82b6",
   "metadata": {},
   "source": [
    "# 컴프리헨션\n",
    "- 반복문을 통한 컬렉션(`list`, `set`, `dict`)을 만들기 위함\n",
    "- 복잡하지 않은 조건문을 사용  --pandas에서 활용 가능\n",
    "\n",
    "    => 한 줄이면 간단한 반복문(가능), 두 줄이상 조건문과 반복문이면 복잡하다고 판단(컴프리헨션 사용 불가능)\n"
   ]
  },
  {
   "cell_type": "code",
   "execution_count": 1,
   "id": "d61e1bed",
   "metadata": {},
   "outputs": [
    {
     "data": {
      "text/plain": [
       "[1, 2, 3, 4, 5, 6, 7, 8, 9, 10]"
      ]
     },
     "execution_count": 1,
     "metadata": {},
     "output_type": "execute_result"
    }
   ],
   "source": [
    "# 0~ 10 까지 각 숫자에 대해 3로 나눴을 때의 나머지를 저장\n",
    "lst = list(range(1,11))\n",
    "lst"
   ]
  },
  {
   "cell_type": "code",
   "execution_count": 3,
   "id": "59cf3abf",
   "metadata": {},
   "outputs": [
    {
     "data": {
      "text/plain": [
       "[1, 2, 0, 1, 2, 0, 1, 2, 0, 1]"
      ]
     },
     "execution_count": 3,
     "metadata": {},
     "output_type": "execute_result"
    }
   ],
   "source": [
    "# 각 숫자를 3으로 나눴을 때의 나머지를 저장할 리스트\n",
    "result = []\n",
    "\n",
    "for num in lst:\n",
    "    result.append( num % 3 )\n",
    "    \n",
    "result"
   ]
  },
  {
   "cell_type": "markdown",
   "id": "047c1476",
   "metadata": {},
   "source": [
    "위와 똑같은 리스트를 컴프리헨션으로 만들면?"
   ]
  },
  {
   "cell_type": "code",
   "execution_count": 4,
   "id": "c6a21bae",
   "metadata": {},
   "outputs": [
    {
     "data": {
      "text/plain": [
       "[1, 2, 0, 1, 2, 0, 1, 2, 0, 1]"
      ]
     },
     "execution_count": 4,
     "metadata": {},
     "output_type": "execute_result"
    }
   ],
   "source": [
    "result = [ num % 3 for num in lst ]\n",
    "result\n",
    "\n",
    "# result = [ ②[condition] ①for num in lst ]"
   ]
  },
  {
   "cell_type": "markdown",
   "id": "4f57be76",
   "metadata": {},
   "source": [
    "조건문이 있는 컴프리헨션"
   ]
  },
  {
   "cell_type": "code",
   "execution_count": 5,
   "id": "45325d39",
   "metadata": {},
   "outputs": [
    {
     "data": {
      "text/plain": [
       "['홀', '짝', '홀', '짝', '홀', '짝', '홀', '짝', '홀', '짝']"
      ]
     },
     "execution_count": 5,
     "metadata": {},
     "output_type": "execute_result"
    }
   ],
   "source": [
    "# 1 ~ 10까지 리스트를 만들어서 홀짝 리스트 만들기\n",
    "# lst = [1, 2, 3, 4, 5, 6, 7, 8, 9, 10]\n",
    "# even_odd_lst = [\"홀\", \"짝\", 홀\", \"짝\", 홀\", \"짝\", 홀\", \"짝\", 홀\", \"짝\"]\n",
    "\n",
    "even_odd_lst = []\n",
    "\n",
    "for num in lst:\n",
    "    if num % 2 ==0:\n",
    "        even_odd_lst.append(\"짝\")\n",
    "    else:\n",
    "        even_odd_lst.append(\"홀\")\n",
    "        \n",
    "even_odd_lst"
   ]
  },
  {
   "cell_type": "code",
   "execution_count": 8,
   "id": "e515221b",
   "metadata": {},
   "outputs": [
    {
     "data": {
      "text/plain": [
       "'Bye'"
      ]
     },
     "execution_count": 8,
     "metadata": {},
     "output_type": "execute_result"
    }
   ],
   "source": [
    "# 삼항연산자\n",
    "a = 10\n",
    "b = 20\n",
    "result = \"Hello\" if a > 10 else \"Bye\"\n",
    "result"
   ]
  },
  {
   "cell_type": "code",
   "execution_count": 13,
   "id": "664b2ffd",
   "metadata": {},
   "outputs": [
    {
     "data": {
      "text/plain": [
       "['홀', '짝', '홀', '짝', '홀', '짝', '홀', '짝', '홀', '짝']"
      ]
     },
     "execution_count": 13,
     "metadata": {},
     "output_type": "execute_result"
    }
   ],
   "source": [
    "even_odd_lst = [ \"짝\" if num % 2 == 0 else \"홀\" for num in lst]\n",
    "even_odd_lst\n",
    "\n",
    "# \"짝\" if num % 2 == 0 else \"홀\" ----표현 / for num in lst-----데이터를 꺼내오는 요건"
   ]
  },
  {
   "cell_type": "markdown",
   "id": "b8ffa2ef",
   "metadata": {},
   "source": [
    "추가에 대한 조건 생성"
   ]
  },
  {
   "cell_type": "code",
   "execution_count": 14,
   "id": "731274a8",
   "metadata": {},
   "outputs": [
    {
     "data": {
      "text/plain": [
       "[3, 6, 9]"
      ]
     },
     "execution_count": 14,
     "metadata": {},
     "output_type": "execute_result"
    }
   ],
   "source": [
    "even_odd_lst_3time = [ num for num in lst if num % 3 == 0 ]\n",
    "\n",
    "# num(Expression) for num in lst(Loop) if num % 3 == 0(Condition, True여야 Expression 가능)\n",
    "\n",
    "even_odd_lst_3time"
   ]
  },
  {
   "cell_type": "code",
   "execution_count": 18,
   "id": "c61aa8f7",
   "metadata": {},
   "outputs": [
    {
     "data": {
      "text/plain": [
       "['홀', '짝', '홀']"
      ]
     },
     "execution_count": 18,
     "metadata": {},
     "output_type": "execute_result"
    }
   ],
   "source": [
    "even_odd_lst_3time = [ \"짝\" if num % 2 == 0 else \"홀\" for num in lst if num % 3 == 0 ]\n",
    "even_odd_lst_3time"
   ]
  },
  {
   "cell_type": "code",
   "execution_count": 19,
   "id": "e7f5d927",
   "metadata": {},
   "outputs": [
    {
     "data": {
      "text/plain": [
       "{'짝', '홀'}"
      ]
     },
     "execution_count": 19,
     "metadata": {},
     "output_type": "execute_result"
    }
   ],
   "source": [
    "even_odd_set_3time = { \"짝\" if num % 2 == 0 else \"홀\" for num in lst if num % 3 == 0 }\n",
    "even_odd_set_3time"
   ]
  },
  {
   "cell_type": "markdown",
   "id": "11a268fd",
   "metadata": {},
   "source": [
    "딕셔너리 컴프리헨션 : `{}`를 활용해서 만든다. 단 `key:value` 형식으로 구성"
   ]
  },
  {
   "cell_type": "code",
   "execution_count": 20,
   "id": "598d37f1",
   "metadata": {},
   "outputs": [
    {
     "data": {
      "text/plain": [
       "{'아침': '샐러드', '점심': '구내식당', '저녁': '삼겹살'}"
      ]
     },
     "execution_count": 20,
     "metadata": {},
     "output_type": "execute_result"
    }
   ],
   "source": [
    "a = [\"아침\", \"점심\", \"저녁\"]\n",
    "b = [\"샐러드\", \"구내식당\", \"삼겹살\"]\n",
    "\n",
    "result = {}\n",
    "for meal, food in zip(a, b):\n",
    "    result[meal] = food\n",
    "    \n",
    "result"
   ]
  },
  {
   "cell_type": "code",
   "execution_count": 22,
   "id": "8c910e1c",
   "metadata": {},
   "outputs": [
    {
     "data": {
      "text/plain": [
       "{'아침': '샐러드', '점심': '구내식당', '저녁': '삼겹살'}"
      ]
     },
     "execution_count": 22,
     "metadata": {},
     "output_type": "execute_result"
    }
   ],
   "source": [
    "result = { meal : food for meal, food in zip(a, b)}\n",
    "result\n",
    "# meal : food key : value 구성 맨 앞에 위치시킴"
   ]
  },
  {
   "cell_type": "markdown",
   "id": "9e7c2690",
   "metadata": {},
   "source": [
    "딕셔너리 컴프리헨션 실습 ==> 자연어 처리에 도움되는 기법!\n",
    "1. 단어의 글자가 몇 번 등장했는지에 대한 딕셔너리 만들기\n",
    "    * `letter --> {'l' : 1, 'e' : 2, 't' : 2, 'r' : 1 }`\n",
    "2. 특정 문장에 단어가 몇 번 등장했는지에 대한 딕셔너리 만들기\n",
    "    * `hello hi bye hello`--> {'hello' : 2, 'hi' : 1, 'bye': 1}"
   ]
  },
  {
   "cell_type": "code",
   "execution_count": 23,
   "id": "46b95ca1",
   "metadata": {},
   "outputs": [
    {
     "data": {
      "text/plain": [
       "2"
      ]
     },
     "execution_count": 23,
     "metadata": {},
     "output_type": "execute_result"
    }
   ],
   "source": [
    "# 1번 문제 힌트 : count()\n",
    "\"hello hell\".count(\"h\")"
   ]
  },
  {
   "cell_type": "code",
   "execution_count": 24,
   "id": "2d93c5d4",
   "metadata": {},
   "outputs": [
    {
     "data": {
      "text/plain": [
       "1"
      ]
     },
     "execution_count": 24,
     "metadata": {},
     "output_type": "execute_result"
    }
   ],
   "source": [
    "# 2번 문제 힌트 : list에도 count가 있다.\n",
    "lst = [\"Hello\", \"Bye\", \"Hello\"]\n",
    "lst.count(\"Bye\")"
   ]
  },
  {
   "cell_type": "code",
   "execution_count": 29,
   "id": "87ba94dc",
   "metadata": {},
   "outputs": [
    {
     "data": {
      "text/plain": [
       "1"
      ]
     },
     "execution_count": 29,
     "metadata": {},
     "output_type": "execute_result"
    }
   ],
   "source": [
    "\"letter\".count(\"l\")\n",
    "# \"letter\".count(\"e\")\n",
    "# \"letter\".count(\"t\")\n",
    "# \"letter\".count(\"r\")"
   ]
  },
  {
   "cell_type": "code",
   "execution_count": 65,
   "id": "06958ade",
   "metadata": {},
   "outputs": [
    {
     "data": {
      "text/plain": [
       "{'l': 1, 'e': 2, 't': 2, 'r': 1}"
      ]
     },
     "execution_count": 65,
     "metadata": {},
     "output_type": "execute_result"
    }
   ],
   "source": [
    "a = \"letter\"\n",
    "lst = [\"l\", \"e\", \"t\", \"t\", \"e\", \"r\"]\n",
    "\n",
    "result = {}\n",
    "\n",
    "for alp in lst:\n",
    "    result[alp] = a.count(alp)\n",
    "    \n",
    "result"
   ]
  },
  {
   "cell_type": "code",
   "execution_count": 74,
   "id": "7c171d75",
   "metadata": {},
   "outputs": [
    {
     "ename": "SyntaxError",
     "evalue": "invalid syntax (<ipython-input-74-e98a75cf263f>, line 1)",
     "output_type": "error",
     "traceback": [
      "\u001b[1;36m  File \u001b[1;32m\"<ipython-input-74-e98a75cf263f>\"\u001b[1;36m, line \u001b[1;32m1\u001b[0m\n\u001b[1;33m    result = [ lst : a for alp in lst]\u001b[0m\n\u001b[1;37m                   ^\u001b[0m\n\u001b[1;31mSyntaxError\u001b[0m\u001b[1;31m:\u001b[0m invalid syntax\n"
     ]
    }
   ],
   "source": [
    "result = [  for alp in lst] # 오답!\n",
    "\n",
    "# 참 쉽죠? "
   ]
  },
  {
   "cell_type": "code",
   "execution_count": null,
   "id": "376ea042",
   "metadata": {},
   "outputs": [],
   "source": []
  },
  {
   "cell_type": "code",
   "execution_count": 66,
   "id": "6e376433",
   "metadata": {},
   "outputs": [
    {
     "data": {
      "text/plain": [
       "{'hello': 2, 'bye': 1, 'hi': 1}"
      ]
     },
     "execution_count": 66,
     "metadata": {},
     "output_type": "execute_result"
    }
   ],
   "source": [
    "a = \"hello hi bye hello\"\n",
    "lst = [\"hello\", \"bye\", \"hi\"]\n",
    "\n",
    "result = {}\n",
    "\n",
    "for alp in lst:\n",
    "    result[alp] = a.count(alp)\n",
    "    \n",
    "result"
   ]
  },
  {
   "cell_type": "code",
   "execution_count": null,
   "id": "df2a0307",
   "metadata": {},
   "outputs": [],
   "source": [
    "result = [ for alp in lst] # 오답!\n",
    "# 엉엉 \n",
    "# split() 활용\n",
    "# ① 필요한 데이터 뽑아내는 연구 -> ② 발생된 데이터로부터 내가 원하는 것 뽑아내기 / 알고리즘\n",
    "# 연습을 통해서 익숙해지는 것이 먼저! (손이 먼저 기억하도록)"
   ]
  },
  {
   "cell_type": "code",
   "execution_count": null,
   "id": "7ef03cb2",
   "metadata": {},
   "outputs": [],
   "source": []
  }
 ],
 "metadata": {
  "kernelspec": {
   "display_name": "Python 3",
   "language": "python",
   "name": "python3"
  },
  "language_info": {
   "codemirror_mode": {
    "name": "ipython",
    "version": 3
   },
   "file_extension": ".py",
   "mimetype": "text/x-python",
   "name": "python",
   "nbconvert_exporter": "python",
   "pygments_lexer": "ipython3",
   "version": "3.8.8"
  }
 },
 "nbformat": 4,
 "nbformat_minor": 5
}
