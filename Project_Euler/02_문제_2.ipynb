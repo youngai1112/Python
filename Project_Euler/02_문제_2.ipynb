{
 "cells": [
  {
   "cell_type": "markdown",
   "metadata": {},
   "source": [
    "# 피보나치 수열에서 4백만 이하이면서 짝수인 항의 합\n",
    "- 피보나치(Fibonacci) 수열의 각 항은 바로 앞의 항 두 개를 더한 것입니다. 1과 2로 시작하는 경우 이 수열은 아래와 같습니다.\n",
    "- 1, 2, 3, 5, 8, 13, 21, 34, 55, 89, ...\n",
    "- 4백만 이하의 짝수 값을 갖는 모든 피보나치 항을 더하면 얼마가 됩니까?"
   ]
  },
  {
   "cell_type": "markdown",
   "metadata": {},
   "source": [
    "- 0항 : 1\n",
    "- 1항 : 2\n",
    "- 2항 : 1+2 (0항+1항)\n",
    "- 3항 : 2+3 (1항+2항)\n",
    "- 4항 : 3+5 (2항+3항)\n",
    "- ..."
   ]
  },
  {
   "cell_type": "markdown",
   "metadata": {},
   "source": [
    "- 0항 : 1\n",
    "- 1항 : 2\n",
    "- 2항 : 1항 + 2항\n",
    "- 3항 : 2항 + 3항\n",
    "- 4항 : 3항 + 4항"
   ]
  },
  {
<<<<<<< HEAD
   "cell_type": "markdown",
   "metadata": {},
   "source": [
    "- 참고 : https://www.youtube.com/watch?v=WpzjpKt0lbc&t=18s"
=======
   "cell_type": "code",
   "execution_count": 3,
   "metadata": {},
   "outputs": [
    {
     "data": {
      "text/plain": [
       "1333332000"
      ]
     },
     "execution_count": 3,
     "metadata": {},
     "output_type": "execute_result"
    }
   ],
   "source": [
    "# 1.\n",
    "fibonacci_list = []\n",
    "next_num = 0\n",
    "sum = 0\n",
    "\n",
    "for i in range(1,4000001):\n",
    "    next_num += i + (i+1)\n",
    "    fibonacci_list.append(next_num)\n",
    "for j in fibonacci_list:\n",
    "    if j % 2 == 0 and j <= 4000000:\n",
    "        sum += j\n",
    "\n",
    "sum"
   ]
  },
  {
   "cell_type": "code",
   "execution_count": 7,
   "metadata": {},
   "outputs": [
    {
     "data": {
      "text/plain": [
       "166666000"
      ]
     },
     "execution_count": 7,
     "metadata": {},
     "output_type": "execute_result"
    }
   ],
   "source": [
    "# 2. 400만이 넘는다면 실행 X, 400만 이하라면 실행 O\n",
    "fibonacci = []\n",
    "sum = 0\n",
    "\n",
    "if 4000000:\n",
    "   pass\n",
    "else:\n"
>>>>>>> 2f62c7143e49112d5a37e7db75a3258f60b8deb9
   ]
  },
  {
   "cell_type": "markdown",
   "metadata": {},
   "source": []
  }
 ],
 "metadata": {
  "interpreter": {
   "hash": "237dfbe96289c26a34bb3817ed9a5dda5a1f28f78dcc25894f58473fa7732fcf"
  },
  "kernelspec": {
   "display_name": "Python 3.8.8 64-bit",
   "language": "python",
   "name": "python3"
  },
  "language_info": {
   "codemirror_mode": {
    "name": "ipython",
    "version": 3
   },
   "file_extension": ".py",
   "mimetype": "text/x-python",
   "name": "python",
   "nbconvert_exporter": "python",
   "pygments_lexer": "ipython3",
   "version": "3.8.8"
  },
  "orig_nbformat": 4
 },
 "nbformat": 4,
 "nbformat_minor": 2
}
