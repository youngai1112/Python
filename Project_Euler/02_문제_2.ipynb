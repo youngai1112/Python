{
 "cells": [
  {
   "cell_type": "markdown",
   "metadata": {},
   "source": [
    "# 피보나치 수열에서 4백만 이하이면서 짝수인 항의 합\n",
    "- 피보나치(Fibonacci) 수열의 각 항은 바로 앞의 항 두 개를 더한 것입니다. 1과 2로 시작하는 경우 이 수열은 아래와 같습니다.\n",
    "- 1, 2, 3, 5, 8, 13, 21, 34, 55, 89, ...\n",
    "- 4백만 이하의 짝수 값을 갖는 모든 피보나치 항을 더하면 얼마가 됩니까?"
   ]
  },
  {
   "cell_type": "markdown",
   "metadata": {},
   "source": [
    "- 1항 : 1\n",
    "- 2항 : 2\n",
    "- 3항 : 1+2 (1항+2항)\n",
    "- 4항 : 2+3 (2항+3항)\n",
    "- 5항 : 3+5 (3항+4항)\n",
    "- ..."
   ]
  },
  {
   "cell_type": "markdown",
   "metadata": {},
   "source": [
    "- i항 : 1\n",
    "- i+1항 : 2\n",
    "- i+2항 : i항+(i+1항)\n",
    "- i+3항 : (i+1항)+(i+2항)\n",
    "- i+4항 : (i+2항)+(i+3항)"
   ]
  },
  {
   "cell_type": "markdown",
   "metadata": {},
   "source": [
    "- [1, 2, 1+2, 2+3, 3+5, ...]\n",
    "- [1, 2, i항+(i+1항), (i+1항)+(i+2항), (i+2항)+(i+3항)]"
   ]
  },
  {
   "cell_type": "markdown",
   "metadata": {},
   "source": [
    "- 참고 : https://www.youtube.com/watch?v=WpzjpKt0lbc&t=18s"
   ]
  },
  {
   "cell_type": "code",
   "execution_count": 9,
   "metadata": {},
   "outputs": [
    {
     "ename": "IndexError",
     "evalue": "list assignment index out of range",
     "output_type": "error",
     "traceback": [
      "\u001b[1;31m---------------------------------------------------------------------------\u001b[0m",
      "\u001b[1;31mIndexError\u001b[0m                                Traceback (most recent call last)",
      "\u001b[1;32mc:\\Workspace\\Python\\Project_Euler\\02_문제_2.ipynb Cell 6'\u001b[0m in \u001b[0;36m<cell line: 6>\u001b[1;34m()\u001b[0m\n\u001b[0;32m      <a href='vscode-notebook-cell:/c%3A/Workspace/Python/Project_Euler/02_%EB%AC%B8%EC%A0%9C_2.ipynb#ch0000008?line=3'>4</a>\u001b[0m lst \u001b[39m=\u001b[39m []\n\u001b[0;32m      <a href='vscode-notebook-cell:/c%3A/Workspace/Python/Project_Euler/02_%EB%AC%B8%EC%A0%9C_2.ipynb#ch0000008?line=5'>6</a>\u001b[0m \u001b[39mfor\u001b[39;00m i \u001b[39min\u001b[39;00m num_lst:\n\u001b[1;32m----> <a href='vscode-notebook-cell:/c%3A/Workspace/Python/Project_Euler/02_%EB%AC%B8%EC%A0%9C_2.ipynb#ch0000008?line=6'>7</a>\u001b[0m     num_lst[i] \u001b[39m=\u001b[39m num_lst[i\u001b[39m-\u001b[39m\u001b[39m1\u001b[39m] \u001b[39m+\u001b[39m num_lst[i\u001b[39m-\u001b[39m\u001b[39m2\u001b[39m]\n\u001b[0;32m      <a href='vscode-notebook-cell:/c%3A/Workspace/Python/Project_Euler/02_%EB%AC%B8%EC%A0%9C_2.ipynb#ch0000008?line=7'>8</a>\u001b[0m     lst\u001b[39m.\u001b[39mappend(num_lst[i])\n\u001b[0;32m      <a href='vscode-notebook-cell:/c%3A/Workspace/Python/Project_Euler/02_%EB%AC%B8%EC%A0%9C_2.ipynb#ch0000008?line=8'>9</a>\u001b[0m lst\n",
      "\u001b[1;31mIndexError\u001b[0m: list assignment index out of range"
     ]
    }
   ],
   "source": [
    "# 피보나치 수열 출력 : 배열 & for 문\n",
    "# An = (An-1) + (An-2)\n",
    "# IndexError: list assignment index out of range\n",
    "num_lst = list(range(2,10))\n",
    "lst = []\n",
    "\n",
    "for i in num_lst:\n",
    "    num_lst[i] = num_lst[i-1] + num_lst[i-2]\n",
    "    lst.append(num_lst[i])\n",
    "lst"
   ]
  },
  {
   "cell_type": "code",
   "execution_count": 12,
   "metadata": {},
   "outputs": [
    {
     "data": {
      "text/plain": [
       "[1,\n",
       " 1,\n",
       " 2,\n",
       " 3,\n",
       " 5,\n",
       " 8,\n",
       " 13,\n",
       " 21,\n",
       " 34,\n",
       " 55,\n",
       " 89,\n",
       " 144,\n",
       " 233,\n",
       " 377,\n",
       " 610,\n",
       " 987,\n",
       " 1597,\n",
       " 2584,\n",
       " 4181,\n",
       " 6765,\n",
       " 10946,\n",
       " 17711,\n",
       " 28657,\n",
       " 46368,\n",
       " 75025,\n",
       " 121393,\n",
       " 196418,\n",
       " 317811,\n",
       " 514229,\n",
       " 832040,\n",
       " 1346269,\n",
       " 2178309,\n",
       " 3524578,\n",
       " 5702887,\n",
       " 9227465,\n",
       " 14930352,\n",
       " 24157817,\n",
       " 39088169,\n",
       " 63245986,\n",
       " 102334155,\n",
       " 165580141,\n",
       " 267914296,\n",
       " 433494437,\n",
       " 701408733,\n",
       " 1134903170,\n",
       " 1836311903,\n",
       " 2971215073,\n",
       " 4807526976,\n",
       " 7778742049,\n",
       " 12586269025,\n",
       " 20365011074,\n",
       " 32951280099,\n",
       " 53316291173,\n",
       " 86267571272,\n",
       " 139583862445,\n",
       " 225851433717,\n",
       " 365435296162,\n",
       " 591286729879,\n",
       " 956722026041,\n",
       " 1548008755920,\n",
       " 2504730781961,\n",
       " 4052739537881,\n",
       " 6557470319842,\n",
       " 10610209857723,\n",
       " 17167680177565,\n",
       " 27777890035288,\n",
       " 44945570212853,\n",
       " 72723460248141,\n",
       " 117669030460994,\n",
       " 190392490709135,\n",
       " 308061521170129,\n",
       " 498454011879264,\n",
       " 806515533049393,\n",
       " 1304969544928657,\n",
       " 2111485077978050,\n",
       " 3416454622906707,\n",
       " 5527939700884757,\n",
       " 8944394323791464,\n",
       " 14472334024676221,\n",
       " 23416728348467685,\n",
       " 37889062373143906,\n",
       " 61305790721611591,\n",
       " 99194853094755497,\n",
       " 160500643816367088,\n",
       " 259695496911122585,\n",
       " 420196140727489673,\n",
       " 679891637638612258,\n",
       " 1100087778366101931,\n",
       " 1779979416004714189,\n",
       " 2880067194370816120,\n",
       " 4660046610375530309,\n",
       " 7540113804746346429,\n",
       " 12200160415121876738,\n",
       " 19740274219868223167,\n",
       " 31940434634990099905,\n",
       " 51680708854858323072,\n",
       " 83621143489848422977,\n",
       " 135301852344706746049,\n",
       " 218922995834555169026,\n",
       " 354224848179261915075]"
      ]
     },
     "execution_count": 12,
     "metadata": {},
     "output_type": "execute_result"
    }
   ],
   "source": [
    "# 배열을 사용한 방법\n",
    "# An = (An-1) + (An-2) (단, n>= 3)\n",
    "# a1 = 1, a2 = 1 로 초기화\n",
    "lst = list(range(100))\n",
    "lst[0] = 1\n",
    "lst[1] = 1\n",
    "\n",
    "for i in lst[2:]:\n",
    "    lst[i] = lst[i-1] + lst[i-2]\n",
    "lst"
   ]
  },
  {
   "cell_type": "code",
   "execution_count": 13,
   "metadata": {},
   "outputs": [
    {
     "data": {
      "text/plain": [
       "4613732"
      ]
     },
     "execution_count": 13,
     "metadata": {},
     "output_type": "execute_result"
    }
   ],
   "source": [
    "# 1. \n",
    "lst = list(range(50))\n",
    "lst[0] = 1\n",
    "lst[1] = 2\n",
    "fibonacci_lst = [lst[0], lst[1]]\n",
    "sum = 0\n",
    "\n",
    "for i in lst[2:]:\n",
    "    lst[i] = lst[i-1] + lst[i-2]\n",
    "    fibonacci_lst.append(lst[i])\n",
    "for j in fibonacci_lst:\n",
    "    if j % 2 == 0 and j <= 4000000:\n",
    "        sum += j\n",
    "\n",
    "sum"
   ]
  },
  {
   "cell_type": "code",
   "execution_count": 15,
   "metadata": {},
   "outputs": [
    {
     "name": "stdout",
     "output_type": "stream",
     "text": [
      "4613732\n"
     ]
    }
   ],
   "source": [
    "# 다른 풀이 방법_1\n",
    "a=[1,2]\n",
    "s=0\n",
    "for i in range(0,10000):\n",
    "    a.append(a[i]+a[i+1])\n",
    "    if a[i]<=4000000 and a[i]%2==0:\n",
    "        s+=a[i]\n",
    "print(s)"
   ]
  },
  {
   "cell_type": "code",
   "execution_count": 16,
   "metadata": {},
   "outputs": [
    {
     "name": "stdout",
     "output_type": "stream",
     "text": [
      "4613732\n"
     ]
    }
   ],
   "source": [
    "# 다른 풀이 방법_2\n",
    "a = 1\n",
    "b = 1\n",
    "c = a+b\n",
    "result = 0\n",
    "\n",
    "while(c<4000000) :\n",
    "    if c%2 == 0 :\n",
    "        result += c\n",
    "    a = b\n",
    "    b = c\n",
    "    c = a+b\n",
    "\n",
    "print(result)"
   ]
  },
  {
   "cell_type": "code",
   "execution_count": 19,
   "metadata": {},
   "outputs": [
    {
     "name": "stdout",
     "output_type": "stream",
     "text": [
      "4613732\n"
     ]
    }
   ],
   "source": [
    "# 다른 풀이 방법_3\n",
    "pib=[1,1]\n",
    "n=0\n",
    "result=0\n",
    "while pib[n+1]<=4000000:\n",
    "    pib.append(pib[n]+pib[n+1])\n",
    "    if pib[n+1]%2==0:\n",
    "        result+=pib[n+1]\n",
    "    n+=1\n",
    "print(result)"
   ]
  },
  {
   "cell_type": "code",
   "execution_count": null,
   "metadata": {},
   "outputs": [],
   "source": []
  }
 ],
 "metadata": {
  "interpreter": {
   "hash": "237dfbe96289c26a34bb3817ed9a5dda5a1f28f78dcc25894f58473fa7732fcf"
  },
  "kernelspec": {
   "display_name": "Python 3.8.8 64-bit",
   "language": "python",
   "name": "python3"
  },
  "language_info": {
   "codemirror_mode": {
    "name": "ipython",
    "version": 3
   },
   "file_extension": ".py",
   "mimetype": "text/x-python",
   "name": "python",
   "nbconvert_exporter": "python",
   "pygments_lexer": "ipython3",
   "version": "3.8.8"
  },
  "orig_nbformat": 4
 },
 "nbformat": 4,
 "nbformat_minor": 2
}
