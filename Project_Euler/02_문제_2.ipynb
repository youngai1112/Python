{
 "cells": [
  {
   "cell_type": "markdown",
   "metadata": {},
   "source": [
    "# 피보나치 수열에서 4백만 이하이면서 짝수인 항의 합\n",
    "- 피보나치(Fibonacci) 수열의 각 항은 바로 앞의 항 두 개를 더한 것입니다. 1과 2로 시작하는 경우 이 수열은 아래와 같습니다.\n",
    "- 1, 2, 3, 5, 8, 13, 21, 34, 55, 89, ...\n",
    "- 4백만 이하의 짝수 값을 갖는 모든 피보나치 항을 더하면 얼마가 됩니까?"
   ]
  },
  {
   "cell_type": "markdown",
   "metadata": {},
   "source": [
    "- 1항 : 1\n",
    "- 2항 : 2\n",
    "- 3항 : 1+2 (1항+2항)\n",
    "- 4항 : 2+3 (2항+3항)\n",
    "- 5항 : 3+5 (3항+4항)\n",
    "- ..."
   ]
  },
  {
   "cell_type": "markdown",
   "metadata": {},
   "source": [
    "- i항 : 1\n",
    "- i+1항 : 2\n",
    "- i+2항 : i항+(i+1항)\n",
    "- i+3항 : (i+1항)+(i+2항)\n",
    "- i+4항 : (i+2항)+(i+3항)"
   ]
  },
  {
   "cell_type": "markdown",
   "metadata": {},
   "source": [
    "- [1, 2, 1+2, 2+3, 3+5, ...]\n",
    "- [1, 2, i항+(i+1항), (i+1항)+(i+2항), (i+2항)+(i+3항)]"
   ]
  },
  {
   "cell_type": "markdown",
   "metadata": {},
   "source": [
    "- 참고 : https://www.youtube.com/watch?v=WpzjpKt0lbc&t=18s"
   ]
  },
  {
   "cell_type": "code",
   "execution_count": 6,
   "metadata": {},
   "outputs": [
    {
     "ename": "IndexError",
     "evalue": "list assignment index out of range",
     "output_type": "error",
     "traceback": [
      "\u001b[1;31m---------------------------------------------------------------------------\u001b[0m",
      "\u001b[1;31mIndexError\u001b[0m                                Traceback (most recent call last)",
      "\u001b[1;32mc:\\Workspace\\Python\\Project_Euler\\02_문제_2.ipynb Cell 6'\u001b[0m in \u001b[0;36m<cell line: 6>\u001b[1;34m()\u001b[0m\n\u001b[0;32m      <a href='vscode-notebook-cell:/c%3A/Workspace/Python/Project_Euler/02_%EB%AC%B8%EC%A0%9C_2.ipynb#ch0000008?line=3'>4</a>\u001b[0m lst \u001b[39m=\u001b[39m []\n\u001b[0;32m      <a href='vscode-notebook-cell:/c%3A/Workspace/Python/Project_Euler/02_%EB%AC%B8%EC%A0%9C_2.ipynb#ch0000008?line=5'>6</a>\u001b[0m \u001b[39mfor\u001b[39;00m i \u001b[39min\u001b[39;00m num_lst:\n\u001b[1;32m----> <a href='vscode-notebook-cell:/c%3A/Workspace/Python/Project_Euler/02_%EB%AC%B8%EC%A0%9C_2.ipynb#ch0000008?line=6'>7</a>\u001b[0m     num_lst[i] \u001b[39m=\u001b[39m num_lst[i\u001b[39m-\u001b[39m\u001b[39m1\u001b[39m] \u001b[39m+\u001b[39m num_lst[i\u001b[39m-\u001b[39m\u001b[39m2\u001b[39m]\n\u001b[0;32m      <a href='vscode-notebook-cell:/c%3A/Workspace/Python/Project_Euler/02_%EB%AC%B8%EC%A0%9C_2.ipynb#ch0000008?line=7'>8</a>\u001b[0m     lst\u001b[39m.\u001b[39mappend(num_lst[i])\n\u001b[0;32m      <a href='vscode-notebook-cell:/c%3A/Workspace/Python/Project_Euler/02_%EB%AC%B8%EC%A0%9C_2.ipynb#ch0000008?line=8'>9</a>\u001b[0m lst\n",
      "\u001b[1;31mIndexError\u001b[0m: list assignment index out of range"
     ]
    }
   ],
   "source": [
    "# 피보나치 수열 출력 : 배열 & for 문\n",
    "# An = (An-1) + (An-2)\n",
    "num_lst = list(range(2,10))\n",
    "lst = []\n",
    "\n",
    "for i in num_lst:\n",
    "    num_lst[i] = num_lst[i-1] + num_lst[i-2]\n",
    "    lst.append(num_lst[i])\n",
    "lst"
   ]
  },
  {
   "cell_type": "code",
   "execution_count": null,
   "metadata": {},
   "outputs": [],
   "source": []
  }
 ],
 "metadata": {
  "interpreter": {
   "hash": "237dfbe96289c26a34bb3817ed9a5dda5a1f28f78dcc25894f58473fa7732fcf"
  },
  "kernelspec": {
   "display_name": "Python 3.8.8 64-bit",
   "language": "python",
   "name": "python3"
  },
  "language_info": {
   "codemirror_mode": {
    "name": "ipython",
    "version": 3
   },
   "file_extension": ".py",
   "mimetype": "text/x-python",
   "name": "python",
   "nbconvert_exporter": "python",
   "pygments_lexer": "ipython3",
   "version": "3.8.8"
  },
  "orig_nbformat": 4
 },
 "nbformat": 4,
 "nbformat_minor": 2
}
