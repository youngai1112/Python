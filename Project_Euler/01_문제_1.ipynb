{
 "cells": [
  {
   "cell_type": "markdown",
   "metadata": {},
   "source": [
    "# 1000보다 작은 자연수 중에서 3 또는 5의 배수를 모두 더하면?\n",
    "- 10보다 작은 자연수 중에서 3 또는 5의 배수는 3, 5, 6, 9 이고, 이것을 모두 더하면 23입니다.\n",
    "- 1000보다 작은 자연수 중에서 3 또는 5의 배수를 모두 더하면 얼마일까요?"
   ]
  },
  {
   "cell_type": "code",
   "execution_count": 24,
   "metadata": {},
   "outputs": [
    {
     "data": {
      "text/plain": [
       "[1, 2, 3, 4, 5, 6, 7, 8, 9]"
      ]
     },
     "execution_count": 24,
     "metadata": {},
     "output_type": "execute_result"
    }
   ],
   "source": [
    "# 10보다 작은 자연수 리스트 생성\n",
    "number = list(range(1,10))\n",
    "number"
   ]
  },
  {
   "cell_type": "code",
   "execution_count": 25,
   "metadata": {},
   "outputs": [
    {
     "data": {
      "text/plain": [
       "[3, 5, 6, 9]"
      ]
     },
     "execution_count": 25,
     "metadata": {},
     "output_type": "execute_result"
    }
   ],
   "source": [
    "# 3 또는 5의 배수 number_list에 저장\n",
    "number_list = []\n",
    "for num in number:\n",
    "    if num % 3 == 0:\n",
    "        number_list.append(num)\n",
    "    elif num % 5 == 0:\n",
    "        number_list.append(num)\n",
    "number_list"
   ]
  },
  {
   "cell_type": "code",
   "execution_count": 28,
   "metadata": {},
   "outputs": [
    {
     "data": {
      "text/plain": [
       "23"
      ]
     },
     "execution_count": 28,
     "metadata": {},
     "output_type": "execute_result"
    }
   ],
   "source": [
    "# 연습문제 풀이\n",
    "sum = 0\n",
    "\n",
    "for i in number_list:\n",
    "    sum += i\n",
    "sum"
   ]
  },
  {
   "cell_type": "code",
   "execution_count": 38,
   "metadata": {},
   "outputs": [
    {
     "data": {
      "text/plain": [
       "[996, 997, 998, 999, 1000]"
      ]
     },
     "execution_count": 38,
     "metadata": {},
     "output_type": "execute_result"
    }
   ],
   "source": [
    "# 1000 보다 작은 자연수 생성\n",
    "number_under_1000 = list(range(1,1001))\n",
    "number_under_1000[-5:]"
   ]
  },
  {
   "cell_type": "code",
   "execution_count": 32,
   "metadata": {},
   "outputs": [
    {
     "data": {
      "text/plain": [
       "1000"
      ]
     },
     "execution_count": 32,
     "metadata": {},
     "output_type": "execute_result"
    }
   ],
   "source": [
    "number_list = []\n",
    "sum = 0\n",
    "\n",
    "for num in number_under_1000:\n",
    "    if num % 3 == 0 or num % 5 ==0 :\n",
    "        number_list.append(num)\n",
    "        for n in number_list:\n",
    "            sum += n\n",
    "n"
   ]
  },
  {
   "cell_type": "code",
   "execution_count": 39,
   "metadata": {},
   "outputs": [
    {
     "data": {
      "text/plain": [
       "78011782"
      ]
     },
     "execution_count": 39,
     "metadata": {},
     "output_type": "execute_result"
    }
   ],
   "source": [
    "# 2\n",
    "number_list = []\n",
    "sum = 0\n",
    "\n",
    "for num in number_under_1000:\n",
    "    if num % 3 == 0 or num % 5 ==0 :\n",
    "        number_list.append(num)\n",
    "    for n in number_list:\n",
    "        sum += n\n",
    "sum"
   ]
  },
  {
   "cell_type": "code",
   "execution_count": 40,
   "metadata": {},
   "outputs": [
    {
     "data": {
      "text/plain": [
       "234168"
      ]
     },
     "execution_count": 40,
     "metadata": {},
     "output_type": "execute_result"
    }
   ],
   "source": [
    "# 3\n",
    "number_list = []\n",
    "sum = 0\n",
    "\n",
    "for num in number_under_1000:\n",
    "    if num % 3 == 0 or num % 5 ==0 :\n",
    "        number_list.append(num)\n",
    "for n in number_list:\n",
    "    sum += n\n",
    "sum"
   ]
  },
  {
   "cell_type": "code",
   "execution_count": 43,
   "metadata": {},
   "outputs": [
    {
     "data": {
      "text/plain": [
       "[993, 995, 996, 999, 1000]"
      ]
     },
     "execution_count": 43,
     "metadata": {},
     "output_type": "execute_result"
    }
   ],
   "source": [
    "# 4\n",
    "number_list = []\n",
    "sum = 0\n",
    "\n",
    "for num in number_under_1000:\n",
    "    if num % 3 == 0 or num % 5 ==0 :\n",
    "        number_list.append(num)\n",
    "number_list[-5:]"
   ]
  },
  {
   "cell_type": "code",
   "execution_count": 44,
   "metadata": {},
   "outputs": [
    {
     "data": {
      "text/plain": [
       "234168"
      ]
     },
     "execution_count": 44,
     "metadata": {},
     "output_type": "execute_result"
    }
   ],
   "source": [
    "sum = 0\n",
    "\n",
    "for n in number_list:\n",
    "    sum += n\n",
    "sum"
   ]
  },
  {
   "cell_type": "markdown",
   "metadata": {},
   "source": [
    "- 3 또는 5의 배수 : 3의 배수이거나, 5의 배수 => ex. 210, 300는 둘 중 하나에만 해당!"
   ]
  },
  {
   "cell_type": "code",
   "execution_count": null,
   "metadata": {},
   "outputs": [],
   "source": [
    "# 변수 설정\n",
    "numbers = list(range(1,1001))\n",
    "numbers"
   ]
  },
  {
   "cell_type": "code",
   "execution_count": 75,
   "metadata": {},
   "outputs": [
    {
     "data": {
      "text/plain": [
       "66531"
      ]
     },
     "execution_count": 75,
     "metadata": {},
     "output_type": "execute_result"
    }
   ],
   "source": [
    "# 1\n",
    "number_list = []\n",
    "sum = 0\n",
    "\n",
    "for num in numbers:\n",
    "    if num % 3 == 0 | num % 5 :\n",
    "        number_list.append(num)\n",
    "for num_15 in number_list:\n",
    "    if num_15 % 15 == 0:\n",
    "        number_list.remove(num_15)\n",
    "for i in number_list:\n",
    "    sum += i\n",
    "\n",
    "sum"
   ]
  },
  {
   "cell_type": "code",
   "execution_count": 69,
   "metadata": {},
   "outputs": [
    {
     "data": {
      "text/plain": [
       "98704"
      ]
     },
     "execution_count": 69,
     "metadata": {},
     "output_type": "execute_result"
    }
   ],
   "source": [
    "# 2.\n",
    "number_list = []\n",
    "sum = 0\n",
    "\n",
    "for num in numbers:\n",
    "    if num % 3 == 0 | num % 5 :\n",
    "        number_list.append(num)\n",
    "if num_15 in number_list:\n",
    "    number_list.remove(num_15)\n",
    "for i in number_list:\n",
    "    sum += i\n",
    "\n",
    "sum"
   ]
  },
  {
   "cell_type": "code",
   "execution_count": 74,
   "metadata": {},
   "outputs": [
    {
     "data": {
      "text/plain": [
       "433165"
      ]
     },
     "execution_count": 74,
     "metadata": {},
     "output_type": "execute_result"
    }
   ],
   "source": [
    "# 3.\n",
    "number_list = []\n",
    "new_list = []\n",
    "sum = 0\n",
    "\n",
    "for num in numbers:\n",
    "    if num % 3 == 0 or num % 5:\n",
    "        number_list.append(num)\n",
    "for i in number_list:\n",
    "    if i not in new_list:\n",
    "        new_list.append(i)\n",
    "for k in new_list:\n",
    "    sum += k\n",
    "\n",
    "sum"
   ]
  }
 ],
 "metadata": {
  "interpreter": {
   "hash": "237dfbe96289c26a34bb3817ed9a5dda5a1f28f78dcc25894f58473fa7732fcf"
  },
  "kernelspec": {
   "display_name": "Python 3.8.8 64-bit",
   "language": "python",
   "name": "python3"
  },
  "language_info": {
   "codemirror_mode": {
    "name": "ipython",
    "version": 3
   },
   "file_extension": ".py",
   "mimetype": "text/x-python",
   "name": "python",
   "nbconvert_exporter": "python",
   "pygments_lexer": "ipython3",
   "version": "3.8.8"
  },
  "orig_nbformat": 4
 },
 "nbformat": 4,
 "nbformat_minor": 2
}
