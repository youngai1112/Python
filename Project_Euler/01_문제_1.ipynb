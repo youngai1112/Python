{
 "cells": [
  {
   "cell_type": "markdown",
   "metadata": {},
   "source": [
    "# 1000보다 작은 자연수 중에서 3 또는 5의 배수를 모두 더하면?\n",
    "- 10보다 작은 자연수 중에서 3 또는 5의 배수는 3, 5, 6, 9 이고, 이것을 모두 더하면 23입니다.\n",
    "- 1000보다 작은 자연수 중에서 3 또는 5의 배수를 모두 더하면 얼마일까요?"
   ]
  },
  {
   "cell_type": "code",
   "execution_count": 24,
   "metadata": {},
   "outputs": [
    {
     "data": {
      "text/plain": [
       "[1, 2, 3, 4, 5, 6, 7, 8, 9]"
      ]
     },
     "execution_count": 24,
     "metadata": {},
     "output_type": "execute_result"
    }
   ],
   "source": [
    "# 10보다 작은 자연수 리스트 생성\n",
    "number = list(range(1,10))\n",
    "number"
   ]
  },
  {
   "cell_type": "code",
   "execution_count": 25,
   "metadata": {},
   "outputs": [
    {
     "data": {
      "text/plain": [
       "[3, 5, 6, 9]"
      ]
     },
     "execution_count": 25,
     "metadata": {},
     "output_type": "execute_result"
    }
   ],
   "source": [
    "# 3 또는 5의 배수 number_list에 저장\n",
    "number_list = []\n",
    "for num in number:\n",
    "    if num % 3 == 0:\n",
    "        number_list.append(num)\n",
    "    elif num % 5 == 0:\n",
    "        number_list.append(num)\n",
    "number_list"
   ]
  },
  {
   "cell_type": "code",
   "execution_count": 28,
   "metadata": {},
   "outputs": [
    {
     "data": {
      "text/plain": [
       "23"
      ]
     },
     "execution_count": 28,
     "metadata": {},
     "output_type": "execute_result"
    }
   ],
   "source": [
    "# 연습문제 풀이\n",
    "sum = 0\n",
    "\n",
    "for i in number_list:\n",
    "    sum += i\n",
    "sum"
   ]
  },
  {
   "cell_type": "code",
   "execution_count": 38,
   "metadata": {},
   "outputs": [
    {
     "data": {
      "text/plain": [
       "[996, 997, 998, 999, 1000]"
      ]
     },
     "execution_count": 38,
     "metadata": {},
     "output_type": "execute_result"
    }
   ],
   "source": [
    "# 1000 보다 작은 자연수 생성\n",
    "number_under_1000 = list(range(1,1001))\n",
    "number_under_1000[-5:]"
   ]
  },
  {
   "cell_type": "code",
   "execution_count": 32,
   "metadata": {},
   "outputs": [
    {
     "data": {
      "text/plain": [
       "1000"
      ]
     },
     "execution_count": 32,
     "metadata": {},
     "output_type": "execute_result"
    }
   ],
   "source": [
    "number_list = []\n",
    "sum = 0\n",
    "\n",
    "for num in number_under_1000:\n",
    "    if num % 3 == 0 or num % 5 ==0 :\n",
    "        number_list.append(num)\n",
    "        for n in number_list:\n",
    "            sum += n\n",
    "n"
   ]
  },
  {
   "cell_type": "code",
   "execution_count": 39,
   "metadata": {},
   "outputs": [
    {
     "data": {
      "text/plain": [
       "78011782"
      ]
     },
     "execution_count": 39,
     "metadata": {},
     "output_type": "execute_result"
    }
   ],
   "source": [
    "# 2\n",
    "number_list = []\n",
    "sum = 0\n",
    "\n",
    "for num in number_under_1000:\n",
    "    if num % 3 == 0 or num % 5 ==0 :\n",
    "        number_list.append(num)\n",
    "    for n in number_list:\n",
    "        sum += n\n",
    "sum"
   ]
  },
  {
   "cell_type": "code",
   "execution_count": 40,
   "metadata": {},
   "outputs": [
    {
     "data": {
      "text/plain": [
       "234168"
      ]
     },
     "execution_count": 40,
     "metadata": {},
     "output_type": "execute_result"
    }
   ],
   "source": [
    "# 3\n",
    "number_list = []\n",
    "sum = 0\n",
    "\n",
    "for num in number_under_1000:\n",
    "    if num % 3 == 0 or num % 5 ==0 :\n",
    "        number_list.append(num)\n",
    "for n in number_list:\n",
    "    sum += n\n",
    "sum"
   ]
  },
  {
   "cell_type": "code",
   "execution_count": 43,
   "metadata": {},
   "outputs": [
    {
     "data": {
      "text/plain": [
       "[993, 995, 996, 999, 1000]"
      ]
     },
     "execution_count": 43,
     "metadata": {},
     "output_type": "execute_result"
    }
   ],
   "source": [
    "# 4\n",
    "number_list = []\n",
    "sum = 0\n",
    "\n",
    "for num in number_under_1000:\n",
    "    if num % 3 == 0 or num % 5 ==0 :\n",
    "        number_list.append(num)\n",
    "number_list[-5:]"
   ]
  },
  {
   "cell_type": "code",
   "execution_count": 44,
   "metadata": {},
   "outputs": [
    {
     "data": {
      "text/plain": [
       "234168"
      ]
     },
     "execution_count": 44,
     "metadata": {},
     "output_type": "execute_result"
    }
   ],
   "source": [
    "sum = 0\n",
    "\n",
    "for n in number_list:\n",
    "    sum += n\n",
    "sum"
   ]
  },
  {
   "cell_type": "markdown",
   "metadata": {},
   "source": [
    "- 3 또는 5의 배수 : 3의 배수이거나, 5의 배수 => ex. 210, 300는 둘 중 하나에만 해당!"
   ]
  },
  {
   "cell_type": "code",
   "execution_count": null,
   "metadata": {},
   "outputs": [],
   "source": [
    "# 변수 설정\n",
    "numbers = list(range(1,1001))\n",
    "numbers"
   ]
  },
  {
   "cell_type": "code",
   "execution_count": 75,
   "metadata": {},
   "outputs": [
    {
     "data": {
      "text/plain": [
       "66531"
      ]
     },
     "execution_count": 75,
     "metadata": {},
     "output_type": "execute_result"
    }
   ],
   "source": [
    "# 1\n",
    "number_list = []\n",
    "sum = 0\n",
    "\n",
    "for num in numbers:\n",
    "    if num % 3 == 0 | num % 5 :\n",
    "        number_list.append(num)\n",
    "for num_15 in number_list:\n",
    "    if num_15 % 15 == 0:\n",
    "        number_list.remove(num_15)\n",
    "for i in number_list:\n",
    "    sum += i\n",
    "\n",
    "sum"
   ]
  },
  {
   "cell_type": "code",
   "execution_count": 79,
   "metadata": {},
   "outputs": [
    {
     "data": {
      "text/plain": [
       "16830"
      ]
     },
     "execution_count": 79,
     "metadata": {},
     "output_type": "execute_result"
    }
   ],
   "source": [
    "# 1-1.\n",
    "number_list = []\n",
    "sum = 0\n",
    "\n",
    "for num in numbers:\n",
    "    if num % 3 == 0 | num % 5 == 0 :\n",
    "        number_list.append(num)\n",
    "for num_15 in number_list:\n",
    "    if num_15 % 15 == 0:\n",
    "        number_list.remove(num_15)\n",
    "for i in number_list:\n",
    "    sum += i\n",
    "\n",
    "sum"
   ]
  },
  {
   "cell_type": "code",
   "execution_count": 69,
   "metadata": {},
   "outputs": [
    {
     "data": {
      "text/plain": [
       "98704"
      ]
     },
     "execution_count": 69,
     "metadata": {},
     "output_type": "execute_result"
    }
   ],
   "source": [
    "# 2.\n",
    "number_list = []\n",
    "sum = 0\n",
    "\n",
    "for num in numbers:\n",
    "    if num % 3 == 0 | num % 5 :\n",
    "        number_list.append(num)\n",
    "if num_15 in number_list:\n",
    "    number_list.remove(num_15)\n",
    "for i in number_list:\n",
    "    sum += i\n",
    "\n",
    "sum"
   ]
  },
  {
   "cell_type": "code",
   "execution_count": 78,
   "metadata": {},
   "outputs": [
    {
     "data": {
      "text/plain": [
       "33165"
      ]
     },
     "execution_count": 78,
     "metadata": {},
     "output_type": "execute_result"
    }
   ],
   "source": [
    "# 2-1.\n",
    "number_list = []\n",
    "sum = 0\n",
    "\n",
    "for num in numbers:\n",
    "    if num % 3 == 0 | num % 5 ==0 :\n",
    "        number_list.append(num)\n",
    "if num_15 in number_list:\n",
    "    number_list.remove(num_15)\n",
    "for i in number_list:\n",
    "    sum += i\n",
    "\n",
    "sum"
   ]
  },
  {
   "cell_type": "code",
   "execution_count": 74,
   "metadata": {},
   "outputs": [
    {
     "data": {
      "text/plain": [
       "433165"
      ]
     },
     "execution_count": 74,
     "metadata": {},
     "output_type": "execute_result"
    }
   ],
   "source": [
    "# 3.\n",
    "number_list = []\n",
    "new_list = []\n",
    "sum = 0\n",
    "\n",
    "for num in numbers:\n",
    "    if num % 3 == 0 or num % 5:\n",
    "        number_list.append(num)\n",
    "for i in number_list:\n",
    "    if i not in new_list:\n",
    "        new_list.append(i)\n",
    "for k in new_list:\n",
    "    sum += k\n",
    "\n",
    "sum"
   ]
  },
  {
   "cell_type": "code",
   "execution_count": 77,
   "metadata": {},
   "outputs": [
    {
     "data": {
      "text/plain": [
       "234168"
      ]
     },
     "execution_count": 77,
     "metadata": {},
     "output_type": "execute_result"
    }
   ],
   "source": [
    "# 3-1.\n",
    "number_list = []\n",
    "new_list = []\n",
    "sum = 0\n",
    "\n",
    "for num in numbers:\n",
    "    if num % 3 == 0 or num % 5 ==0:\n",
    "        number_list.append(num)\n",
    "for i in number_list:\n",
    "    if i not in new_list:\n",
    "        new_list.append(i)\n",
    "for k in new_list:\n",
    "    sum += k\n",
    "\n",
    "sum"
   ]
  },
  {
   "cell_type": "code",
   "execution_count": 76,
   "metadata": {},
   "outputs": [
    {
     "data": {
      "text/plain": [
       "234168"
      ]
     },
     "execution_count": 76,
     "metadata": {},
     "output_type": "execute_result"
    }
   ],
   "source": [
    "# 4.\n",
    "number_list = []\n",
    "new_list = []\n",
    "sum = 0\n",
    "\n",
    "for num in numbers:\n",
    "    if num % 3 == 0 or num % 5 == 0:    # num % 5 == 0 !! <- 위에 있는 코드는 오류가 날 수 밖에 없음!\n",
    "        number_list.append(num)\n",
    "for i in number_list:\n",
    "    if i not in new_list:\n",
    "        new_list.append(i)\n",
    "for k in new_list:\n",
    "    sum += k\n",
    "\n",
    "sum"
   ]
  },
  {
   "cell_type": "code",
   "execution_count": 3,
   "metadata": {},
   "outputs": [],
   "source": [
    "# 5. 3의 배수 리스트 저장\n",
    "number = list(range(1, 1001))\n",
    "multiply_3 = []\n",
    "\n",
    "for num in number:\n",
    "    if num % 3 == 0:\n",
    "        multiply_3.append(num)"
   ]
  },
  {
   "cell_type": "code",
   "execution_count": 4,
   "metadata": {},
   "outputs": [
    {
     "data": {
      "text/plain": [
       "[5,\n",
       " 10,\n",
       " 15,\n",
       " 20,\n",
       " 25,\n",
       " 30,\n",
       " 35,\n",
       " 40,\n",
       " 45,\n",
       " 50,\n",
       " 55,\n",
       " 60,\n",
       " 65,\n",
       " 70,\n",
       " 75,\n",
       " 80,\n",
       " 85,\n",
       " 90,\n",
       " 95,\n",
       " 100,\n",
       " 105,\n",
       " 110,\n",
       " 115,\n",
       " 120,\n",
       " 125,\n",
       " 130,\n",
       " 135,\n",
       " 140,\n",
       " 145,\n",
       " 150,\n",
       " 155,\n",
       " 160,\n",
       " 165,\n",
       " 170,\n",
       " 175,\n",
       " 180,\n",
       " 185,\n",
       " 190,\n",
       " 195,\n",
       " 200,\n",
       " 205,\n",
       " 210,\n",
       " 215,\n",
       " 220,\n",
       " 225,\n",
       " 230,\n",
       " 235,\n",
       " 240,\n",
       " 245,\n",
       " 250,\n",
       " 255,\n",
       " 260,\n",
       " 265,\n",
       " 270,\n",
       " 275,\n",
       " 280,\n",
       " 285,\n",
       " 290,\n",
       " 295,\n",
       " 300,\n",
       " 305,\n",
       " 310,\n",
       " 315,\n",
       " 320,\n",
       " 325,\n",
       " 330,\n",
       " 335,\n",
       " 340,\n",
       " 345,\n",
       " 350,\n",
       " 355,\n",
       " 360,\n",
       " 365,\n",
       " 370,\n",
       " 375,\n",
       " 380,\n",
       " 385,\n",
       " 390,\n",
       " 395,\n",
       " 400,\n",
       " 405,\n",
       " 410,\n",
       " 415,\n",
       " 420,\n",
       " 425,\n",
       " 430,\n",
       " 435,\n",
       " 440,\n",
       " 445,\n",
       " 450,\n",
       " 455,\n",
       " 460,\n",
       " 465,\n",
       " 470,\n",
       " 475,\n",
       " 480,\n",
       " 485,\n",
       " 490,\n",
       " 495,\n",
       " 500,\n",
       " 505,\n",
       " 510,\n",
       " 515,\n",
       " 520,\n",
       " 525,\n",
       " 530,\n",
       " 535,\n",
       " 540,\n",
       " 545,\n",
       " 550,\n",
       " 555,\n",
       " 560,\n",
       " 565,\n",
       " 570,\n",
       " 575,\n",
       " 580,\n",
       " 585,\n",
       " 590,\n",
       " 595,\n",
       " 600,\n",
       " 605,\n",
       " 610,\n",
       " 615,\n",
       " 620,\n",
       " 625,\n",
       " 630,\n",
       " 635,\n",
       " 640,\n",
       " 645,\n",
       " 650,\n",
       " 655,\n",
       " 660,\n",
       " 665,\n",
       " 670,\n",
       " 675,\n",
       " 680,\n",
       " 685,\n",
       " 690,\n",
       " 695,\n",
       " 700,\n",
       " 705,\n",
       " 710,\n",
       " 715,\n",
       " 720,\n",
       " 725,\n",
       " 730,\n",
       " 735,\n",
       " 740,\n",
       " 745,\n",
       " 750,\n",
       " 755,\n",
       " 760,\n",
       " 765,\n",
       " 770,\n",
       " 775,\n",
       " 780,\n",
       " 785,\n",
       " 790,\n",
       " 795,\n",
       " 800,\n",
       " 805,\n",
       " 810,\n",
       " 815,\n",
       " 820,\n",
       " 825,\n",
       " 830,\n",
       " 835,\n",
       " 840,\n",
       " 845,\n",
       " 850,\n",
       " 855,\n",
       " 860,\n",
       " 865,\n",
       " 870,\n",
       " 875,\n",
       " 880,\n",
       " 885,\n",
       " 890,\n",
       " 895,\n",
       " 900,\n",
       " 905,\n",
       " 910,\n",
       " 915,\n",
       " 920,\n",
       " 925,\n",
       " 930,\n",
       " 935,\n",
       " 940,\n",
       " 945,\n",
       " 950,\n",
       " 955,\n",
       " 960,\n",
       " 965,\n",
       " 970,\n",
       " 975,\n",
       " 980,\n",
       " 985,\n",
       " 990,\n",
       " 995,\n",
       " 1000]"
      ]
     },
     "execution_count": 4,
     "metadata": {},
     "output_type": "execute_result"
    }
   ],
   "source": [
    "# 5. 5의 배수 리스트 저장\n",
    "multiply_5 = []\n",
    "\n",
    "for num in number:\n",
    "    if num % 5 == 0:\n",
    "        multiply_5.append(num)"
   ]
  },
  {
   "cell_type": "code",
   "execution_count": null,
   "metadata": {},
   "outputs": [],
   "source": []
  }
 ],
 "metadata": {
  "interpreter": {
   "hash": "237dfbe96289c26a34bb3817ed9a5dda5a1f28f78dcc25894f58473fa7732fcf"
  },
  "kernelspec": {
   "display_name": "Python 3.8.8 64-bit",
   "language": "python",
   "name": "python3"
  },
  "language_info": {
   "codemirror_mode": {
    "name": "ipython",
    "version": 3
   },
   "file_extension": ".py",
   "mimetype": "text/x-python",
   "name": "python",
   "nbconvert_exporter": "python",
   "pygments_lexer": "ipython3",
   "version": "3.8.8"
  },
  "orig_nbformat": 4
 },
 "nbformat": 4,
 "nbformat_minor": 2
}
