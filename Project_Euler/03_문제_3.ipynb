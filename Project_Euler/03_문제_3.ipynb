{
 "cells": [
  {
   "cell_type": "markdown",
   "metadata": {},
   "source": [
    "# 가장 큰 소인수 구하기\n",
    "- 어떤 수를 소수의 곱으로만 나타내는 것을 소인수분해라 하고, 이 소수들을 그 수의 소인수라고 합니다.\n",
    "- 예를 들면 13195의 소인수는 5, 7, 13, 29 입니다.\n",
    "- 600851475143의 소인수 중에서 가장 큰 수를 구하세요."
   ]
  },
  {
   "cell_type": "markdown",
   "metadata": {},
   "source": [
    "- 참고 : https://freedeveloper.tistory.com/391"
   ]
  },
  {
   "cell_type": "markdown",
   "metadata": {},
   "source": [
    "1. **소수**란 1보다 큰 자연수 중에서 1과 자기 자신을 제외한 자연수로는 나누어 떨어지지 않는 자연수\n",
    "    - 6은 1,2,3,6으로 나누어 떨어지므로 소수가 아님\n",
    "    - 7은 1과 7을 제외하고는 나누어 떨어지지 않으므로 소수임\n"
   ]
  },
  {
   "cell_type": "code",
   "execution_count": 1,
   "metadata": {},
   "outputs": [],
   "source": [
    "# 소수 판별 함수(2 이상의 자연수에 대하여)\n",
    "def is_prime_number(x):\n",
    "    # 2부터 (x-1)까지의 모든 수를 확인\n",
    "    for i in range(2, x):\n",
    "        # x가 해당 수로 나누어 떨어진다면\n",
    "        if x % i == 0:\n",
    "            return False    # 소수가 아님\n",
    "    return True             # 소수임"
   ]
  },
  {
   "cell_type": "code",
   "execution_count": 2,
   "metadata": {},
   "outputs": [
    {
     "name": "stdout",
     "output_type": "stream",
     "text": [
      "False\n"
     ]
    }
   ],
   "source": [
    "print(is_prime_number(4))"
   ]
  },
  {
   "cell_type": "code",
   "execution_count": 3,
   "metadata": {},
   "outputs": [
    {
     "name": "stdout",
     "output_type": "stream",
     "text": [
      "True\n"
     ]
    }
   ],
   "source": [
    "print(is_prime_number(853))"
   ]
  },
  {
   "cell_type": "markdown",
   "metadata": {},
   "source": [
    "2. 약수의 성질\n",
    "    - 모든 약수가 가운데 약수를 기준으로 곱셈 연산에 대해 대칭을 이루는 것을 알 수 있다. \n",
    "    - ex. 16의 약수는 1,2,4,8,16\n",
    "    -   2 * 8 = 16, 8 * 2 = 16\n",
    "    - 특정한 자연수의 모든 약수를 찾을 때 가운데 약수(제곱근)까지만 확인하면 된다. \n",
    "        - 16이 2로 나누어 떨어진다는 것은 8로도 나누어 떨어진다는 것을 의미"
   ]
  },
  {
   "cell_type": "code",
   "execution_count": 4,
   "metadata": {},
   "outputs": [],
   "source": [
    "import math\n",
    "\n",
    "# 소수 판별 함수\n",
    "def is_prime_number(x):\n",
    "    # 2부터 x의 제곱근까지의 모든 수를 확인\n",
    "    for i in range(2, int(math.sqrt(x))+1):\n",
    "        # x가 해당 수로 나누어 떨어진다면\n",
    "        if x % i == 0:\n",
    "            return False    # 소수가 아님\n",
    "    return True             # 소수임"
   ]
  },
  {
   "cell_type": "code",
   "execution_count": 5,
   "metadata": {},
   "outputs": [
    {
     "name": "stdout",
     "output_type": "stream",
     "text": [
      "True\n"
     ]
    }
   ],
   "source": [
    "print(is_prime_number(3))"
   ]
  },
  {
   "cell_type": "code",
   "execution_count": 6,
   "metadata": {},
   "outputs": [
    {
     "name": "stdout",
     "output_type": "stream",
     "text": [
      "True\n"
     ]
    }
   ],
   "source": [
    "print(is_prime_number(89))"
   ]
  },
  {
   "cell_type": "markdown",
   "metadata": {},
   "source": [
    "----"
   ]
  },
  {
   "cell_type": "code",
   "execution_count": 50,
   "metadata": {},
   "outputs": [],
   "source": [
    "# 1.\n",
    "divisor_list = []\n",
    "primenumber_lst = []\n",
    "\n",
    "def is_prime_number(x):\n",
    "    for i in range(2, x):\n",
    "        if x % i == 0:\n",
    "            divisor_list.append(i)\n",
    "    for j in divisor_list:\n",
    "        if divisor_list[i] % j != 0:\n",
    "            primenumber_lst.append(j)\n",
    "        return primenumber_lst"
   ]
  },
  {
   "cell_type": "code",
   "execution_count": 51,
   "metadata": {},
   "outputs": [
    {
     "ename": "IndexError",
     "evalue": "list index out of range",
     "output_type": "error",
     "traceback": [
      "\u001b[1;31m---------------------------------------------------------------------------\u001b[0m",
      "\u001b[1;31mIndexError\u001b[0m                                Traceback (most recent call last)",
      "\u001b[1;32mc:\\Workspace\\Python\\Project_Euler\\03_문제_3.ipynb Cell 13'\u001b[0m in \u001b[0;36m<cell line: 1>\u001b[1;34m()\u001b[0m\n\u001b[1;32m----> <a href='vscode-notebook-cell:/c%3A/Workspace/Python/Project_Euler/03_%EB%AC%B8%EC%A0%9C_3.ipynb#ch0000018?line=0'>1</a>\u001b[0m \u001b[39mprint\u001b[39m(is_prime_number(\u001b[39m13195\u001b[39;49m))\n",
      "\u001b[1;32mc:\\Workspace\\Python\\Project_Euler\\03_문제_3.ipynb Cell 12'\u001b[0m in \u001b[0;36mis_prime_number\u001b[1;34m(x)\u001b[0m\n\u001b[0;32m      <a href='vscode-notebook-cell:/c%3A/Workspace/Python/Project_Euler/03_%EB%AC%B8%EC%A0%9C_3.ipynb#ch0000017?line=7'>8</a>\u001b[0m         divisor_list\u001b[39m.\u001b[39mappend(i)\n\u001b[0;32m      <a href='vscode-notebook-cell:/c%3A/Workspace/Python/Project_Euler/03_%EB%AC%B8%EC%A0%9C_3.ipynb#ch0000017?line=8'>9</a>\u001b[0m \u001b[39mfor\u001b[39;00m j \u001b[39min\u001b[39;00m divisor_list:\n\u001b[1;32m---> <a href='vscode-notebook-cell:/c%3A/Workspace/Python/Project_Euler/03_%EB%AC%B8%EC%A0%9C_3.ipynb#ch0000017?line=9'>10</a>\u001b[0m     \u001b[39mif\u001b[39;00m divisor_list[i] \u001b[39m%\u001b[39m j \u001b[39m!=\u001b[39m \u001b[39m0\u001b[39m:\n\u001b[0;32m     <a href='vscode-notebook-cell:/c%3A/Workspace/Python/Project_Euler/03_%EB%AC%B8%EC%A0%9C_3.ipynb#ch0000017?line=10'>11</a>\u001b[0m         primenumber_lst\u001b[39m.\u001b[39mappend(j)\n\u001b[0;32m     <a href='vscode-notebook-cell:/c%3A/Workspace/Python/Project_Euler/03_%EB%AC%B8%EC%A0%9C_3.ipynb#ch0000017?line=11'>12</a>\u001b[0m     \u001b[39mreturn\u001b[39;00m primenumber_lst\n",
      "\u001b[1;31mIndexError\u001b[0m: list index out of range"
     ]
    }
   ],
   "source": [
    "print(is_prime_number(13195))"
   ]
  },
  {
   "cell_type": "markdown",
   "metadata": {},
   "source": [
    "- 참고 : https://www.youtube.com/watch?v=bBG8TICXVfY"
   ]
  },
  {
   "cell_type": "markdown",
   "metadata": {},
   "source": [
    "- 소수 판별 아이디어\n",
    "    - 특정 숫자의 약수를 찾아서 그 약수의 개수를 세어봄\n",
    "    - 약수의 개수가 2개라면 소수이고, 2개가 아니면 소수가 아니다."
   ]
  },
  {
   "cell_type": "markdown",
   "metadata": {},
   "source": [
    "-- 진행과정\n",
    "- 1) 특정 수의 약수를 구함\n",
    "- 2) 약수 중 소수를 구함\n",
    "- 3) 소수 중 가장 큰 수를 구함 "
   ]
  },
  {
   "cell_type": "code",
   "execution_count": 96,
   "metadata": {},
   "outputs": [],
   "source": [
    "divisor_list = []\n",
    "primenumber_lst = []\n",
    "\n",
    "def is_prime_number(x):\n",
    "    for i in range(2, x):\n",
    "        if x % i == 0:\n",
    "            divisor_list.append(i)\n",
    "    for j in divisor_list:\n",
    "        for k in range(1,j):\n",
    "            if j % k == 0:\n",
    "                pass\n",
    "            else:\n",
    "                primenumber_lst.append(k)\n",
    "        \n",
    "    return primenumber_lst"
   ]
  },
  {
   "cell_type": "code",
   "execution_count": 97,
   "metadata": {},
   "outputs": [
    {
     "name": "stdout",
     "output_type": "stream",
     "text": [
      "[2, 3, 4, 3, 4, 6, 7, 8, 9, 2, 3, 4, 6, 7, 8, 9, 10, 11, 12, 13, 14, 15, 16, 17, 18, 19, 20, 21, 22, 23, 24]\n"
     ]
    }
   ],
   "source": [
    "print(is_prime_number(50))"
   ]
  },
  {
   "cell_type": "markdown",
   "metadata": {},
   "source": [
    "---"
   ]
  },
  {
   "cell_type": "markdown",
   "metadata": {},
   "source": [
    "- 참고 : https://inuplace.tistory.com/459"
   ]
  },
  {
   "cell_type": "markdown",
   "metadata": {},
   "source": []
  }
 ],
 "metadata": {
  "interpreter": {
   "hash": "237dfbe96289c26a34bb3817ed9a5dda5a1f28f78dcc25894f58473fa7732fcf"
  },
  "kernelspec": {
   "display_name": "Python 3.8.8 64-bit",
   "language": "python",
   "name": "python3"
  },
  "language_info": {
   "codemirror_mode": {
    "name": "ipython",
    "version": 3
   },
   "file_extension": ".py",
   "mimetype": "text/x-python",
   "name": "python",
   "nbconvert_exporter": "python",
   "pygments_lexer": "ipython3",
   "version": "3.8.8"
  },
  "orig_nbformat": 4
 },
 "nbformat": 4,
 "nbformat_minor": 2
}
