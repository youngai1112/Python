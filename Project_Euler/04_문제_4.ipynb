{
 "cells": [
  {
   "cell_type": "markdown",
   "metadata": {},
   "source": [
    "# 세자리 수를 곱해 만들 수 있는 가장 큰 대칭수\n",
    "- 앞에서부터 읽을 때나 뒤에서부터 읽을 때나 모양이 같은 수를 대칭수(palindrome)라고 부릅니다.\n",
    "- 두 자리 수를 곱해 만들 수 있는 대칭수 중 가장 큰 수는 9009 (= 91 × 99) 입니다.\n",
    "- 세 자리 수를 곱해 만들 수 있는 가장 큰 대칭수는 얼마입니까?"
   ]
  },
  {
   "cell_type": "code",
   "execution_count": 5,
   "metadata": {},
   "outputs": [],
   "source": [
    "def is_palindrome(x):\n",
    "    x = str(int(x))\n",
    "\n",
    "    if x == x[::-1]:\n",
    "        return True\n",
    "    else:\n",
    "        return False"
   ]
  },
  {
   "cell_type": "code",
   "execution_count": 6,
   "metadata": {},
   "outputs": [
    {
     "data": {
      "text/plain": [
       "True"
      ]
     },
     "execution_count": 6,
     "metadata": {},
     "output_type": "execute_result"
    }
   ],
   "source": [
    "is_palindrome(959)"
   ]
  },
  {
   "cell_type": "code",
   "execution_count": 11,
   "metadata": {},
   "outputs": [
    {
     "data": {
      "text/plain": [
       "True"
      ]
     },
     "execution_count": 11,
     "metadata": {},
     "output_type": "execute_result"
    }
   ],
   "source": [
    "# 두 자릿 수\n",
    "n = 50\n",
    "9 < n < 100"
   ]
  },
  {
   "cell_type": "code",
   "execution_count": 13,
   "metadata": {},
   "outputs": [
    {
     "data": {
      "text/plain": [
       "True"
      ]
     },
     "execution_count": 13,
     "metadata": {},
     "output_type": "execute_result"
    }
   ],
   "source": [
    "# 세 자릿 수\n",
    "m = 500\n",
    "99 < m < 1000"
   ]
  },
  {
   "cell_type": "markdown",
   "metadata": {},
   "source": [
    "- 랜덤한 정수 뽑는 방법 참고 : https://blockdmask.tistory.com/383"
   ]
  },
  {
   "cell_type": "code",
   "execution_count": 23,
   "metadata": {},
   "outputs": [
    {
     "ename": "KeyboardInterrupt",
     "evalue": "",
     "output_type": "error",
     "traceback": [
      "\u001b[1;31m---------------------------------------------------------------------------\u001b[0m",
      "\u001b[1;31mKeyboardInterrupt\u001b[0m                         Traceback (most recent call last)",
      "\u001b[1;32mc:\\Workspace\\Python\\Project_Euler\\04_문제_4.ipynb Cell 7'\u001b[0m in \u001b[0;36m<cell line: 6>\u001b[1;34m()\u001b[0m\n\u001b[0;32m      <a href='vscode-notebook-cell:/c%3A/Workspace/Python/Project_Euler/04_%EB%AC%B8%EC%A0%9C_4.ipynb#ch0000005?line=3'>4</a>\u001b[0m y \u001b[39m=\u001b[39m random\u001b[39m.\u001b[39mrandint(\u001b[39m10\u001b[39m, \u001b[39m99\u001b[39m)\n\u001b[0;32m      <a href='vscode-notebook-cell:/c%3A/Workspace/Python/Project_Euler/04_%EB%AC%B8%EC%A0%9C_4.ipynb#ch0000005?line=5'>6</a>\u001b[0m \u001b[39mwhile\u001b[39;00m x \u001b[39m*\u001b[39m y:\n\u001b[1;32m----> <a href='vscode-notebook-cell:/c%3A/Workspace/Python/Project_Euler/04_%EB%AC%B8%EC%A0%9C_4.ipynb#ch0000005?line=6'>7</a>\u001b[0m     \u001b[39mif\u001b[39;00m \u001b[39mstr\u001b[39m(\u001b[39mint\u001b[39m(x \u001b[39m*\u001b[39m y)) \u001b[39m!=\u001b[39m \u001b[39mstr\u001b[39;49m(\u001b[39mint\u001b[39;49m(x \u001b[39m*\u001b[39;49m y))[::\u001b[39m-\u001b[39m\u001b[39m1\u001b[39m]:\n\u001b[0;32m      <a href='vscode-notebook-cell:/c%3A/Workspace/Python/Project_Euler/04_%EB%AC%B8%EC%A0%9C_4.ipynb#ch0000005?line=7'>8</a>\u001b[0m         \u001b[39mpass\u001b[39;00m \n\u001b[0;32m      <a href='vscode-notebook-cell:/c%3A/Workspace/Python/Project_Euler/04_%EB%AC%B8%EC%A0%9C_4.ipynb#ch0000005?line=8'>9</a>\u001b[0m     \u001b[39melse\u001b[39;00m : \n",
      "\u001b[1;31mKeyboardInterrupt\u001b[0m: "
     ]
    }
   ],
   "source": [
    "# 1\n",
    "import random \n",
    "\n",
    "x = random.randint(10, 99)\n",
    "y = random.randint(10, 99)\n",
    "\n",
    "while x * y:\n",
    "    if str(int(x * y)) != str(int(x * y))[::-1]:\n",
    "        pass \n",
    "    else : \n",
    "        str(int(x * y)) == str(int(x * y))[::-1]\n",
    "return print(x * y)"
   ]
  },
  {
   "cell_type": "code",
   "execution_count": 28,
   "metadata": {},
   "outputs": [],
   "source": [
    "# 2\n",
    "a = list(range(10, 100))\n",
    "b = list(range(10, 100))"
   ]
  },
  {
   "cell_type": "code",
   "execution_count": 33,
   "metadata": {},
   "outputs": [
    {
     "ename": "KeyboardInterrupt",
     "evalue": "",
     "output_type": "error",
     "traceback": [
      "\u001b[1;31m---------------------------------------------------------------------------\u001b[0m",
      "\u001b[1;31mKeyboardInterrupt\u001b[0m                         Traceback (most recent call last)",
      "\u001b[1;32mc:\\Workspace\\Python\\Project_Euler\\04_문제_4.ipynb Cell 9'\u001b[0m in \u001b[0;36m<cell line: 1>\u001b[1;34m()\u001b[0m\n\u001b[0;32m      <a href='vscode-notebook-cell:/c%3A/Workspace/Python/Project_Euler/04_%EB%AC%B8%EC%A0%9C_4.ipynb#ch0000009?line=1'>2</a>\u001b[0m \u001b[39mfor\u001b[39;00m j \u001b[39min\u001b[39;00m b:\n\u001b[0;32m      <a href='vscode-notebook-cell:/c%3A/Workspace/Python/Project_Euler/04_%EB%AC%B8%EC%A0%9C_4.ipynb#ch0000009?line=2'>3</a>\u001b[0m     \u001b[39mwhile\u001b[39;00m i \u001b[39m*\u001b[39m j:\n\u001b[1;32m----> <a href='vscode-notebook-cell:/c%3A/Workspace/Python/Project_Euler/04_%EB%AC%B8%EC%A0%9C_4.ipynb#ch0000009?line=3'>4</a>\u001b[0m         \u001b[39mif\u001b[39;00m \u001b[39mint\u001b[39m(\u001b[39mstr\u001b[39m(i \u001b[39m*\u001b[39m j)) \u001b[39m!=\u001b[39m \u001b[39mint\u001b[39;49m(\u001b[39mstr\u001b[39;49m(i \u001b[39m*\u001b[39;49m j)[::\u001b[39m-\u001b[39;49m\u001b[39m1\u001b[39;49m]):\n\u001b[0;32m      <a href='vscode-notebook-cell:/c%3A/Workspace/Python/Project_Euler/04_%EB%AC%B8%EC%A0%9C_4.ipynb#ch0000009?line=4'>5</a>\u001b[0m             \u001b[39mpass\u001b[39;00m \n\u001b[0;32m      <a href='vscode-notebook-cell:/c%3A/Workspace/Python/Project_Euler/04_%EB%AC%B8%EC%A0%9C_4.ipynb#ch0000009?line=5'>6</a>\u001b[0m         \u001b[39melse\u001b[39;00m : \n",
      "\u001b[1;31mKeyboardInterrupt\u001b[0m: "
     ]
    }
   ],
   "source": [
    "for i in a:     # str(int(i * j))\n",
    "    for j in b:\n",
    "        while i * j:\n",
    "            if int(str(i * j)) != int(str(i * j)[::-1]):\n",
    "                pass \n",
    "            else : \n",
    "                int(str(i * j)) == int(str(i * j)[::-1])\n",
    "return print(x * y)"
   ]
  },
  {
   "cell_type": "code",
   "execution_count": 24,
   "metadata": {},
   "outputs": [],
   "source": [
    "# 3.\n",
    "def is_palindrome(x):\n",
    "    number = input(\"숫자를 입력하세요: \")\n",
    "    if x == x[::-1]:\n",
    "        return (number, True)\n",
    "    else:\n",
    "        return (number, False)"
   ]
  },
  {
   "cell_type": "code",
   "execution_count": 25,
   "metadata": {},
   "outputs": [
    {
     "name": "stdout",
     "output_type": "stream",
     "text": [
      "('959', True)\n"
     ]
    }
   ],
   "source": [
    "print(is_palindrome(number))"
   ]
  },
  {
   "cell_type": "code",
   "execution_count": null,
   "metadata": {},
   "outputs": [],
   "source": []
  }
 ],
 "metadata": {
  "interpreter": {
   "hash": "b3ba2566441a7c06988d0923437866b63cedc61552a5af99d1f4fb67d367b25f"
  },
  "kernelspec": {
   "display_name": "Python 3.8.8 ('base')",
   "language": "python",
   "name": "python3"
  },
  "language_info": {
   "codemirror_mode": {
    "name": "ipython",
    "version": 3
   },
   "file_extension": ".py",
   "mimetype": "text/x-python",
   "name": "python",
   "nbconvert_exporter": "python",
   "pygments_lexer": "ipython3",
   "version": "3.8.8"
  },
  "orig_nbformat": 4
 },
 "nbformat": 4,
 "nbformat_minor": 2
}
