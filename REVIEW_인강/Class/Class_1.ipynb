{
  "nbformat": 4,
  "nbformat_minor": 0,
  "metadata": {
    "colab": {
      "name": "스파르타",
      "provenance": [],
      "collapsed_sections": []
    },
    "kernelspec": {
      "name": "python3",
      "display_name": "Python 3"
    },
    "language_info": {
      "name": "python"
    }
  },
  "cells": [
    {
      "cell_type": "code",
      "execution_count": null,
      "metadata": {
        "colab": {
          "base_uri": "https://localhost:8080/"
        },
        "id": "5jU-pkrymMOU",
        "outputId": "289f27f3-14c6-4248-de5d-900311863b84"
      },
      "outputs": [
        {
          "output_type": "stream",
          "name": "stdout",
          "text": [
            "죽었다\n",
            "살았다\n"
          ]
        }
      ],
      "source": [
        "class Monster():\n",
        "    hp = 100\n",
        "    alive = True\n",
        "\n",
        "    def damage(self, attack):\n",
        "        self.hp = self.hp - attack\n",
        "        if self.hp < 0:\n",
        "            self.alive = False\n",
        "\n",
        "    def status_check(self):\n",
        "        if self.alive == True:\n",
        "            print('살았다')\n",
        "        else:\n",
        "            print('죽었다')\n",
        "\n",
        "m1 = Monster()      # m1 == 인스턴스\n",
        "m1.damage(150)\n",
        "m1.status_check()\n",
        "\n",
        "m2 = Monster()\n",
        "m2.damage(98)\n",
        "m2.status_check()"
      ]
    }
  ]
}