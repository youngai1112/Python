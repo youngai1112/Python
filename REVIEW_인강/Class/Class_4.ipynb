{
  "nbformat": 4,
  "nbformat_minor": 0,
  "metadata": {
    "colab": {
      "name": "나도코딩_문제",
      "provenance": [],
      "collapsed_sections": []
    },
    "kernelspec": {
      "name": "python3",
      "display_name": "Python 3"
    },
    "language_info": {
      "name": "python"
    }
  },
  "cells": [
    {
      "cell_type": "code",
      "execution_count": 28,
      "metadata": {
        "id": "3SWYTCv_bEEq"
      },
      "outputs": [],
      "source": [
        "class House:\n",
        "    def __init__(self, location, house_type, deal_type, price, completion_year):\n",
        "        self.location = location\n",
        "        self.house_type = house_type\n",
        "        self.deal_type = deal_type\n",
        "        self.price = price\n",
        "        self.completion_year = completion_year\n",
        "\n",
        "    def show_detail(self):\n",
        "        print(self.location, self.house_type, self.deal_type,\n",
        "              self.price, self.completion_year)"
      ]
    },
    {
      "cell_type": "code",
      "source": [
        "house1 = House('강남', '아파트', '매매', '10억', '2010년')\n",
        "house2 = House('마포', '오피스텔', '전세', '5억', '2007년')\n",
        "house3 = House('송파', '빌라', '월세', '500/50', '2000년')"
      ],
      "metadata": {
        "id": "VTfHHS2ID_WI"
      },
      "execution_count": 29,
      "outputs": []
    },
    {
      "cell_type": "code",
      "source": [
        "houses = []\n",
        "\n",
        "houses.append(house1)\n",
        "houses.append(house2)\n",
        "houses.append(house3)"
      ],
      "metadata": {
        "id": "ek5wWnJUELSc"
      },
      "execution_count": 30,
      "outputs": []
    },
    {
      "cell_type": "code",
      "source": [
        "print(f'총 {len(houses)}대의 매물이 있습니다')\n",
        "for house in houses:\n",
        "    house.show_detail()"
      ],
      "metadata": {
        "colab": {
          "base_uri": "https://localhost:8080/"
        },
        "id": "n8oQQQo_IOCg",
        "outputId": "b05a8318-b9db-4a1d-cfde-4c613dcd24f9"
      },
      "execution_count": 31,
      "outputs": [
        {
          "output_type": "stream",
          "name": "stdout",
          "text": [
            "총 3대의 매물이 있습니다\n",
            "강남 아파트 매매 10억 2010년\n",
            "마포 오피스텔 전세 5억 2007년\n",
            "송파 빌라 월세 500/50 2000년\n"
          ]
        }
      ]
    }
  ]
}