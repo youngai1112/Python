{
  "nbformat": 4,
  "nbformat_minor": 0,
  "metadata": {
    "colab": {
      "name": "인프런_누구나",
      "provenance": [],
      "collapsed_sections": []
    },
    "kernelspec": {
      "name": "python3",
      "display_name": "Python 3"
    },
    "language_info": {
      "name": "python"
    }
  },
  "cells": [
    {
      "cell_type": "markdown",
      "source": [
        "# 클래스\n",
        "1) 규약, 틀\n",
        "- 설계도 -> 집\n",
        "- 설계도는 집이 가져야 할 다양한 요소들(골격,디자인) 등을 이미 갖추고 있다.\n",
        "- 모양은 서로 제각기이지만, 전부 다 **집**\n",
        "- 집 설계도 -> 자동차 (X)\n",
        "- 유형: 자료형(list, dictionary, ...)이 설계도에 해당함\n",
        "     - 이 리스트들은 가지고 있는 값들은 서로 다르지만, 리스트가 가져야할 특성(인덱스로 데이터 관리, 인덱싱 등)은 공통적으로 다 가지고 있다. \n",
        "    - User defined 클래스: 사용자가 직접 정의하여 사용할 수 있다.\n",
        "- 구조\n",
        "    - 명사\n",
        "        - attribute, property, instance 변수\n",
        "    - 동사\n",
        "        - method: 클래스 안에 정의된 함수를 의미\n",
        "\n",
        "# 객체, 인스턴스\n",
        "- 클래스(규약)을 통해 만들어진 실제 형태가 있는 object\n",
        "- 틀을 이용해서 만든 객체들이 변수에 할당된다.\n",
        "\n",
        "# OOP (Object Oriented Program)\n",
        "- 객체지향프로그램\n",
        "- 객체가 중심이 됨\n",
        "- 코드의 확장성에 유리\n"
      ],
      "metadata": {
        "id": "gxnmJBIQnme-"
      }
    },
    {
      "cell_type": "code",
      "source": [
        "# 클래스의 구조\n",
        "'''\n",
        "class House():\n",
        "    - 명사(attribute)를 초기화 하는 공간\n",
        "    - 동사(behavior)를 정의하는 공간\n",
        "'''"
      ],
      "metadata": {
        "id": "9mgBuJ0BrBxb"
      },
      "execution_count": null,
      "outputs": []
    },
    {
      "cell_type": "markdown",
      "source": [
        "### 동사를 정의함"
      ],
      "metadata": {
        "id": "MjbVN0S02syc"
      }
    },
    {
      "cell_type": "code",
      "source": [
        "# 클래스 정의\n",
        "class SoccerPlayer:     # 클래스 안에 정의된 함수들은 클래스에 종속된다.\n",
        "                        # 클래스는 CamelCase로 작성한다.\n",
        "    def shoot(self):        # 메소드 내에 있는 것들은 메소드에 종속된다.\n",
        "        print('슛을 날립니다')\n",
        "        print('슛!')\n",
        "    \n",
        "    def pass_the_ball(self):    # self\n",
        "        print('패스를 합니다.')"
      ],
      "metadata": {
        "id": "QUK7KE6Zr3X-"
      },
      "execution_count": 13,
      "outputs": []
    },
    {
      "cell_type": "code",
      "source": [
        "# 클래스 호출(= 객체 만들기) : 객체 할당\n",
        "player = SoccerPlayer()\n",
        "player"
      ],
      "metadata": {
        "colab": {
          "base_uri": "https://localhost:8080/"
        },
        "id": "zQeI_h4Zs7mW",
        "outputId": "89145658-b75e-4722-c6e4-203759524881"
      },
      "execution_count": 4,
      "outputs": [
        {
          "output_type": "execute_result",
          "data": {
            "text/plain": [
              "<__main__.SoccerPlayer at 0x7f2542e7c5d0>"
            ]
          },
          "metadata": {},
          "execution_count": 4
        }
      ]
    },
    {
      "cell_type": "code",
      "source": [
        "player.shoot()  # 객체 인스턴스에 .을 붙이고 메소드를 호출"
      ],
      "metadata": {
        "colab": {
          "base_uri": "https://localhost:8080/"
        },
        "id": "G6T2ydQVtN5u",
        "outputId": "97c39a4d-da39-4e59-f0ea-39fcf9953888"
      },
      "execution_count": 5,
      "outputs": [
        {
          "output_type": "stream",
          "name": "stdout",
          "text": [
            "슛을 날립니다\n",
            "슛!\n"
          ]
        }
      ]
    },
    {
      "cell_type": "code",
      "source": [
        "player.pass_the_ball()"
      ],
      "metadata": {
        "colab": {
          "base_uri": "https://localhost:8080/"
        },
        "id": "1agauza11RHU",
        "outputId": "517416c7-9710-45e6-d49e-fea324bbe9c1"
      },
      "execution_count": 7,
      "outputs": [
        {
          "output_type": "stream",
          "name": "stdout",
          "text": [
            "패스를 합니다.\n"
          ]
        }
      ]
    },
    {
      "cell_type": "code",
      "source": [
        "player1 = SoccerPlayer()\n",
        "player2 = SoccerPlayer()"
      ],
      "metadata": {
        "id": "PzOBt-d71Ynu"
      },
      "execution_count": 8,
      "outputs": []
    },
    {
      "cell_type": "code",
      "source": [
        "player1.shoot() # player1이 shoot() --> player2는 shoot() X"
      ],
      "metadata": {
        "colab": {
          "base_uri": "https://localhost:8080/"
        },
        "id": "_QCA_Vq81r0E",
        "outputId": "8bc231b1-2002-4ac1-d429-97ca911a154c"
      },
      "execution_count": 9,
      "outputs": [
        {
          "output_type": "stream",
          "name": "stdout",
          "text": [
            "슛을 날립니다\n",
            "슛!\n"
          ]
        }
      ]
    },
    {
      "cell_type": "code",
      "source": [
        "player2.shoot()"
      ],
      "metadata": {
        "colab": {
          "base_uri": "https://localhost:8080/"
        },
        "id": "1rd2TCLT1uC9",
        "outputId": "d0f254b3-cc09-48ec-cc68-cde25a82e5f3"
      },
      "execution_count": 10,
      "outputs": [
        {
          "output_type": "stream",
          "name": "stdout",
          "text": [
            "슛을 날립니다\n",
            "슛!\n"
          ]
        }
      ]
    },
    {
      "cell_type": "code",
      "source": [
        "# Sequential하게 프로그래밍하는 법\n",
        "def let_player1_shoot():\n",
        "    print('player1이 슛을 하게 합니다.')\n",
        "\n",
        "def let_player2_shoot():\n",
        "    print('player2이 슛을 하게 합니다.')\n",
        "\n",
        "let_player1_shoot()"
      ],
      "metadata": {
        "colab": {
          "base_uri": "https://localhost:8080/"
        },
        "id": "OTR0YBQp1wWy",
        "outputId": "021bc0bb-026d-48ab-8472-db714af83cad"
      },
      "execution_count": 12,
      "outputs": [
        {
          "output_type": "stream",
          "name": "stdout",
          "text": [
            "player1이 슛을 하게 합니다.\n"
          ]
        }
      ]
    },
    {
      "cell_type": "markdown",
      "source": [
        "### attribute(명사)를 초기화\n",
        "    - `생성자(__init__)`: 객체를 생성할 때 객체를 생성하는 시점에서 무조건 호출이 되는 생성자\n",
        "        - 객체를 만들 때 무조건 호출이 되게 되어있음\n",
        "        - `__init__`을 사용하지 않으면 파이썬이 내부에서 아무 것도 실행하지 않는 `__init__`으로 인식한다.\n",
        "        - `__init__`을 정의하면, 아무 것도 실행하지 않는 생성자를 overriding(오버라이딩 == 덮어쓰기)하여, 원래의 기능을 대체한다."
      ],
      "metadata": {
        "id": "hU2PhkqL2Lrx"
      }
    },
    {
      "cell_type": "code",
      "source": [
        "class SoccerPlayer:\n",
        "    def __init__(self):     # 클래스를 쉽게 사용할 수 있도록 내부적으로 정의함\n",
        "        print('나 태어났어!')\n",
        "\n",
        "    def shoot(self):\n",
        "        print('슛을 합니다')"
      ],
      "metadata": {
        "id": "NdpVqoQa22PL"
      },
      "execution_count": 14,
      "outputs": []
    },
    {
      "cell_type": "code",
      "source": [
        "player1 = SoccerPlayer()    "
      ],
      "metadata": {
        "colab": {
          "base_uri": "https://localhost:8080/"
        },
        "id": "liJjI1IS3EuE",
        "outputId": "c67197e0-37f1-4147-a025-07e346f6e883"
      },
      "execution_count": 16,
      "outputs": [
        {
          "output_type": "stream",
          "name": "stdout",
          "text": [
            "나 태어났어!\n"
          ]
        }
      ]
    },
    {
      "cell_type": "code",
      "source": [
        "class SoccerPlayer:\n",
        "    def __init__(self, height, weight):     # height, weight는 추가 인자  \n",
        "        print('나 태어났어!')\n",
        "        self.height = height    # self.height는 변수명이므로 어떤 것이든 상관없다.\n",
        "        self.weight = weight    # height, weight는 함수인자로써 받아온 값\n",
        "\n",
        "    def shoot(self):\n",
        "        print('슛을 합니다')"
      ],
      "metadata": {
        "id": "YfotEF6S47iZ"
      },
      "execution_count": 18,
      "outputs": []
    },
    {
      "cell_type": "code",
      "source": [
        "player1 = SoccerPlayer()    # __init__를 호출\n",
        "                            # Class명() --> self를 호출\n",
        "                            # 위에 height, weight를 전달해주어야 함"
      ],
      "metadata": {
        "colab": {
          "base_uri": "https://localhost:8080/",
          "height": 175
        },
        "id": "QuvnWAvw5nyj",
        "outputId": "37e9cdad-cc9b-46de-e655-0df3b043eb1e"
      },
      "execution_count": 19,
      "outputs": [
        {
          "output_type": "error",
          "ename": "TypeError",
          "evalue": "ignored",
          "traceback": [
            "\u001b[0;31m---------------------------------------------------------------------------\u001b[0m",
            "\u001b[0;31mTypeError\u001b[0m                                 Traceback (most recent call last)",
            "\u001b[0;32m<ipython-input-19-2c8daa0af76b>\u001b[0m in \u001b[0;36m<module>\u001b[0;34m()\u001b[0m\n\u001b[0;32m----> 1\u001b[0;31m \u001b[0mplayer1\u001b[0m \u001b[0;34m=\u001b[0m \u001b[0mSoccerPlayer\u001b[0m\u001b[0;34m(\u001b[0m\u001b[0;34m)\u001b[0m    \u001b[0;31m# __init__을 호출\u001b[0m\u001b[0;34m\u001b[0m\u001b[0;34m\u001b[0m\u001b[0m\n\u001b[0m",
            "\u001b[0;31mTypeError\u001b[0m: __init__() missing 2 required positional arguments: 'height' and 'weight'"
          ]
        }
      ]
    },
    {
      "cell_type": "code",
      "source": [
        "player1 = SoccerPlayer(100, 50)\n",
        "# player1 = SoccerPlayer(height=100, weight=50)\n",
        "# self.height = height, self.weight = weight도 같이 실행되었다. "
      ],
      "metadata": {
        "colab": {
          "base_uri": "https://localhost:8080/"
        },
        "id": "0m38sI9P50vh",
        "outputId": "d95c356b-3a48-4965-c91a-03275d626ab5"
      },
      "execution_count": 20,
      "outputs": [
        {
          "output_type": "stream",
          "name": "stdout",
          "text": [
            "나 태어났어!\n"
          ]
        }
      ]
    },
    {
      "cell_type": "code",
      "source": [
        "player2 = SoccerPlayer(160, 70)"
      ],
      "metadata": {
        "colab": {
          "base_uri": "https://localhost:8080/"
        },
        "id": "Bhx_URXh6zDS",
        "outputId": "f705e08c-a695-476f-b664-d7eb9d24afbc"
      },
      "execution_count": 27,
      "outputs": [
        {
          "output_type": "stream",
          "name": "stdout",
          "text": [
            "나 태어났어!\n"
          ]
        }
      ]
    },
    {
      "cell_type": "code",
      "source": [
        "player1.height"
      ],
      "metadata": {
        "colab": {
          "base_uri": "https://localhost:8080/"
        },
        "id": "-BTdKer06Msi",
        "outputId": "f2acd580-287d-42dc-8bc2-d2e029525007"
      },
      "execution_count": 25,
      "outputs": [
        {
          "output_type": "execute_result",
          "data": {
            "text/plain": [
              "100"
            ]
          },
          "metadata": {},
          "execution_count": 25
        }
      ]
    },
    {
      "cell_type": "code",
      "source": [
        "player1.weight"
      ],
      "metadata": {
        "colab": {
          "base_uri": "https://localhost:8080/"
        },
        "id": "nF134Ddx6ifC",
        "outputId": "b155a6c0-5696-4911-abef-285d87b96c25"
      },
      "execution_count": 26,
      "outputs": [
        {
          "output_type": "execute_result",
          "data": {
            "text/plain": [
              "50"
            ]
          },
          "metadata": {},
          "execution_count": 26
        }
      ]
    },
    {
      "cell_type": "code",
      "source": [
        "player2.height"
      ],
      "metadata": {
        "colab": {
          "base_uri": "https://localhost:8080/"
        },
        "id": "ordYkmRL6vtv",
        "outputId": "52c70e5d-019f-43d2-a788-4b8bd08b5f54"
      },
      "execution_count": 28,
      "outputs": [
        {
          "output_type": "execute_result",
          "data": {
            "text/plain": [
              "160"
            ]
          },
          "metadata": {},
          "execution_count": 28
        }
      ]
    },
    {
      "cell_type": "code",
      "source": [
        "player2.weight"
      ],
      "metadata": {
        "colab": {
          "base_uri": "https://localhost:8080/"
        },
        "id": "1sNrtnB26469",
        "outputId": "95cd4fb8-4293-437a-8345-da971e3a594b"
      },
      "execution_count": 29,
      "outputs": [
        {
          "output_type": "execute_result",
          "data": {
            "text/plain": [
              "70"
            ]
          },
          "metadata": {},
          "execution_count": 29
        }
      ]
    },
    {
      "cell_type": "markdown",
      "source": [
        "### self의 존재이유\n",
        "    - 명시적으로 argument를 전달하지 않아도, 호출이 되는 인스턴스를 무조건 첫번째 argument로 전달하기 때문에 그걸 받아주는 argument가 필요함\n",
        "    => `self`"
      ],
      "metadata": {
        "id": "Zsvvvnpm67Vk"
      }
    },
    {
      "cell_type": "code",
      "source": [
        "class SoccerPlayer:\n",
        "    def __init__(self, height, weight):    \n",
        "        print('나 태어났어!')\n",
        "        self.height = height    \n",
        "        self.weight = weight    \n",
        "\n",
        "    def shoot(self):\n",
        "        # 다른 메소드에서 생성자 메소드에 접근이 가능하다\n",
        "        #   변경이 가능하다\n",
        "        # self에 걸어둔 성질들은 해당 인스턴스에만 적용이 된다.\n",
        "        # shoot에 내부적인 인자를 전달 --> 전달받게 되는 인자가 필요\n",
        "        #   인자를 받아주는 인자가 필요하기 때문에 self를 명시\n",
        "        self.height = self.height + 1   \n",
        "        print('슛을 합니다')"
      ],
      "metadata": {
        "id": "WKBd3gNj7L2m"
      },
      "execution_count": 30,
      "outputs": []
    },
    {
      "cell_type": "code",
      "source": [
        "player1 = SoccerPlayer(180,70)\n",
        "player1.height"
      ],
      "metadata": {
        "colab": {
          "base_uri": "https://localhost:8080/"
        },
        "id": "lAXPM95q7dT7",
        "outputId": "1fb5973d-6131-420c-f282-76c0bb0a77bb"
      },
      "execution_count": 31,
      "outputs": [
        {
          "output_type": "stream",
          "name": "stdout",
          "text": [
            "나 태어났어!\n"
          ]
        },
        {
          "output_type": "execute_result",
          "data": {
            "text/plain": [
              "180"
            ]
          },
          "metadata": {},
          "execution_count": 31
        }
      ]
    },
    {
      "cell_type": "code",
      "source": [
        "player1.shoot()\n",
        "player1.height"
      ],
      "metadata": {
        "colab": {
          "base_uri": "https://localhost:8080/"
        },
        "id": "r27TOjKG7juO",
        "outputId": "b739dd49-bb6d-40e4-9a91-9638383f4301"
      },
      "execution_count": 32,
      "outputs": [
        {
          "output_type": "stream",
          "name": "stdout",
          "text": [
            "슛을 합니다\n"
          ]
        },
        {
          "output_type": "execute_result",
          "data": {
            "text/plain": [
              "181"
            ]
          },
          "metadata": {},
          "execution_count": 32
        }
      ]
    },
    {
      "cell_type": "code",
      "source": [
        "player2 = SoccerPlayer(160,60)\n",
        "player2.height"
      ],
      "metadata": {
        "colab": {
          "base_uri": "https://localhost:8080/"
        },
        "id": "AKc3w-kp7rFV",
        "outputId": "f8d14c57-e64b-47e9-c623-33ce0681f983"
      },
      "execution_count": 34,
      "outputs": [
        {
          "output_type": "stream",
          "name": "stdout",
          "text": [
            "나 태어났어!\n"
          ]
        },
        {
          "output_type": "execute_result",
          "data": {
            "text/plain": [
              "160"
            ]
          },
          "metadata": {},
          "execution_count": 34
        }
      ]
    },
    {
      "cell_type": "code",
      "source": [
        "# SoccerPlayer.shoot(player2)\n",
        "player2.shoot()\n",
        "player2.height"
      ],
      "metadata": {
        "colab": {
          "base_uri": "https://localhost:8080/"
        },
        "id": "WZI9tpUg8PvK",
        "outputId": "bb40c8b8-659c-4d88-a7c8-320a6fdce165"
      },
      "execution_count": 35,
      "outputs": [
        {
          "output_type": "stream",
          "name": "stdout",
          "text": [
            "슛을 합니다\n"
          ]
        },
        {
          "output_type": "execute_result",
          "data": {
            "text/plain": [
              "161"
            ]
          },
          "metadata": {},
          "execution_count": 35
        }
      ]
    },
    {
      "cell_type": "code",
      "source": [
        "player1.height"
      ],
      "metadata": {
        "colab": {
          "base_uri": "https://localhost:8080/"
        },
        "id": "qfRecR358T4O",
        "outputId": "ee793b6c-3470-4847-ec7b-3dda5e6d57b6"
      },
      "execution_count": 36,
      "outputs": [
        {
          "output_type": "execute_result",
          "data": {
            "text/plain": [
              "181"
            ]
          },
          "metadata": {},
          "execution_count": 36
        }
      ]
    },
    {
      "cell_type": "markdown",
      "source": [
        "### 상속 (inheritance)\n",
        "    - 코드의 수정을 최소화하면서, 클래스 간에 계층 구조를 만들어서 logic화를 할 수 있다. "
      ],
      "metadata": {
        "id": "67Bpwdjv8Wa0"
      }
    },
    {
      "cell_type": "code",
      "source": [
        "class Human:\n",
        "    def __init__(self, weight, height):\n",
        "        self.weight = weight\n",
        "        self.height = height\n",
        "\n",
        "    def walk(self):\n",
        "        print('걷습니다')"
      ],
      "metadata": {
        "id": "QIGPb6LP-NnG"
      },
      "execution_count": 37,
      "outputs": []
    },
    {
      "cell_type": "code",
      "source": [
        "h1 = Human(60, 170)\n",
        "h1.walk()"
      ],
      "metadata": {
        "colab": {
          "base_uri": "https://localhost:8080/"
        },
        "id": "K8s_O-0Y-kmF",
        "outputId": "0fbcb854-e71d-44f3-b16d-91b680b874c8"
      },
      "execution_count": 39,
      "outputs": [
        {
          "output_type": "stream",
          "name": "stdout",
          "text": [
            "걷습니다\n"
          ]
        }
      ]
    },
    {
      "cell_type": "code",
      "source": [
        "class Athlete(Human):   # Athlete는 Human 클래스를 상속받는다.\n",
        "                        # Human 코드와 중복된 코드를 사용하지 않음\n",
        "    # def __init__(self, weight, height):\n",
        "    #     self.weight = weight\n",
        "    #     self.height = height\n",
        "\n",
        "    # def walk(self):\n",
        "    #     print('걷습니다.')\n",
        "\n",
        "    def workout(self):\n",
        "        print('운동을 합니다.')"
      ],
      "metadata": {
        "id": "hyes8rR8-oiq"
      },
      "execution_count": 41,
      "outputs": []
    },
    {
      "cell_type": "code",
      "source": [
        "h2 = Athlete(50, 150)\n",
        "h2.walk()"
      ],
      "metadata": {
        "colab": {
          "base_uri": "https://localhost:8080/"
        },
        "id": "IJwuprMf_GCO",
        "outputId": "2ce8f8fb-325a-4235-872e-043686c4fad7"
      },
      "execution_count": 42,
      "outputs": [
        {
          "output_type": "stream",
          "name": "stdout",
          "text": [
            "걷습니다\n"
          ]
        }
      ]
    },
    {
      "cell_type": "code",
      "source": [
        "class Athlete(Human):\n",
        "    def __init__(self, weight, height, fat_rate):\n",
        "        # super(): 부모의 해당 함수를 호출하겠다는 의미\n",
        "        #   생성자뿐만 아니라 상속받은 메소드에 대해서 전부 쓸 수 있다.\n",
        "        # 만약 부모의 생성자 내용이 필요없다면 super().__init__() 호출 X\n",
        "        #   일반 클래스에서 정의했던 것처럼 생성자를 정의하면 된다.\n",
        "        # super()를 활용한 호출은 클래스 내에 정의된 다른 메소드에도 그대로 정의됨\n",
        "        super().__init__(weight, height)\n",
        "        self.fat_rate = fat_rate\n",
        "    \n",
        "    def workout(self):\n",
        "        print('운동을 합니다.')"
      ],
      "metadata": {
        "id": "aLTflObS_lvh"
      },
      "execution_count": 43,
      "outputs": []
    },
    {
      "cell_type": "code",
      "source": [
        "h3 = Athlete(90, 190, 20)\n",
        "h3.walk()"
      ],
      "metadata": {
        "colab": {
          "base_uri": "https://localhost:8080/"
        },
        "id": "7QS31KswBMd1",
        "outputId": "0fa0c588-8d50-4687-e3cb-a25dc1ea866a"
      },
      "execution_count": 44,
      "outputs": [
        {
          "output_type": "stream",
          "name": "stdout",
          "text": [
            "걷습니다\n"
          ]
        }
      ]
    },
    {
      "cell_type": "code",
      "source": [
        "class SoccerPlayer(Athlete):\n",
        "    \n",
        "    # 부모에게 상속받은 메소드를 그대로 행할 수 있지만\n",
        "    #   같은 메소드일지라도, 다른 행동을 할 수 있다\n",
        "    #   == 오버라이딩\n",
        "    def workout(self):      \n",
        "        print('축구를 한다')"
      ],
      "metadata": {
        "id": "7stSTBa_BTN-"
      },
      "execution_count": 45,
      "outputs": []
    },
    {
      "cell_type": "code",
      "source": [
        "h4 = SoccerPlayer(50, 165, 11)\n",
        "h4.walk()\n",
        "h4.workout()"
      ],
      "metadata": {
        "colab": {
          "base_uri": "https://localhost:8080/"
        },
        "id": "GUKdGOaMByU0",
        "outputId": "0a8bd3d8-20e9-403c-cc0e-2ca0e5708a5f"
      },
      "execution_count": 47,
      "outputs": [
        {
          "output_type": "stream",
          "name": "stdout",
          "text": [
            "걷습니다\n",
            "축구를 한다\n"
          ]
        }
      ]
    },
    {
      "cell_type": "markdown",
      "source": [
        "## 파이썬 기본 자료형(클래스)별 api 살펴보기\n",
        "- API(Application Programming Interface): 프로그래밍 언어, 어플리케이션 등이 제공하는 **기능**들을 제어할 수 있게 만든 인터페이스\n",
        "- 자료형(list, string, 숫자열, dictionary)는 모두 Class의 object(객체)이다.\n",
        "    - 각각의 자료형은 클래스의 객체인데, 그 자료형에 맞는 규약으로 만들어져 있는 클래스이다.\n",
        "    - 그 클래스에는 자료형들이 저장되는 방식에 대해서 method나 attribute, property 형식으로 제공을 한다.\n",
        "    - 이러한 것들을 확인하려면, `. + tab 키(메소드명)`\n",
        "    - 각 자료형마다 특정 기능을 제공하는지 구글링을 통해 알아보면 된다.\n",
        "- 참고: https://docs.python.org/3/tutorial/datastructures.html"
      ],
      "metadata": {
        "id": "xGsHVsfQB310"
      }
    },
    {
      "cell_type": "code",
      "source": [
        "a = [1,2,3]\n",
        "# a = list([1,2,3])\n",
        "# a = ClassName()"
      ],
      "metadata": {
        "id": "OivcJwILDcHM"
      },
      "execution_count": 48,
      "outputs": []
    },
    {
      "cell_type": "code",
      "source": [
        "# 리스트라는 클래스에는 append()라는 메소드가 있다.\n",
        "a.append(3)"
      ],
      "metadata": {
        "id": "CWEbqkRKEUgd"
      },
      "execution_count": 49,
      "outputs": []
    },
    {
      "cell_type": "code",
      "source": [
        "a"
      ],
      "metadata": {
        "colab": {
          "base_uri": "https://localhost:8080/"
        },
        "id": "eiD_l_1REZ42",
        "outputId": "1012897e-9597-4524-ae91-ba46d903e91d"
      },
      "execution_count": 50,
      "outputs": [
        {
          "output_type": "execute_result",
          "data": {
            "text/plain": [
              "[1, 2, 3, 3]"
            ]
          },
          "metadata": {},
          "execution_count": 50
        }
      ]
    },
    {
      "cell_type": "code",
      "source": [
        "c = {'c': [7,8,9], 'd': [10,11,12]}"
      ],
      "metadata": {
        "id": "0Rp_nci1EaYF"
      },
      "execution_count": 53,
      "outputs": []
    },
    {
      "cell_type": "code",
      "source": [
        "# dictionary가 있고, keys()라는 API가 있다.\n",
        "c.keys()"
      ],
      "metadata": {
        "colab": {
          "base_uri": "https://localhost:8080/"
        },
        "id": "Tqn2df19EkMl",
        "outputId": "6c7d5733-916b-4239-820b-9af4a3555aba"
      },
      "execution_count": 54,
      "outputs": [
        {
          "output_type": "execute_result",
          "data": {
            "text/plain": [
              "dict_keys(['c', 'd'])"
            ]
          },
          "metadata": {},
          "execution_count": 54
        }
      ]
    },
    {
      "cell_type": "markdown",
      "source": [
        "### 객체를 인스턴스(instance) 변수로 가지고 있기"
      ],
      "metadata": {
        "id": "cCZPHvt0EnnS"
      }
    },
    {
      "cell_type": "code",
      "source": [
        "class SoccerPlayer:\n",
        "\n",
        "    def __init__(self, weight):\n",
        "        self.weight = weight"
      ],
      "metadata": {
        "id": "3FK9su0tGfQP"
      },
      "execution_count": 56,
      "outputs": []
    },
    {
      "cell_type": "code",
      "source": [
        "a = SoccerPlayer(10)\n",
        "a.weight"
      ],
      "metadata": {
        "colab": {
          "base_uri": "https://localhost:8080/"
        },
        "id": "4pA9iXBhGpFj",
        "outputId": "92cd2ee8-e0df-4d88-b4bb-76a72966a4f0"
      },
      "execution_count": 57,
      "outputs": [
        {
          "output_type": "execute_result",
          "data": {
            "text/plain": [
              "10"
            ]
          },
          "metadata": {},
          "execution_count": 57
        }
      ]
    },
    {
      "cell_type": "code",
      "source": [
        "class SoccerPlayer:\n",
        "\n",
        "    def __init__(self, historical_weight_list):\n",
        "        self.historical_weight_list = historical_weight_list"
      ],
      "metadata": {
        "id": "WKsU3xmQGvmE"
      },
      "execution_count": 58,
      "outputs": []
    },
    {
      "cell_type": "code",
      "source": [
        "# SoccerPlayer() 안에 있는 attribute가 player1를 가리킴\n",
        "player1 = SoccerPlayer([100, 90, 95, 80])"
      ],
      "metadata": {
        "id": "hT5YbrMGG5Zc"
      },
      "execution_count": 59,
      "outputs": []
    },
    {
      "cell_type": "code",
      "source": [
        "a = [1,2,3,4]"
      ],
      "metadata": {
        "id": "YLfdJgKBHTI9"
      },
      "execution_count": 60,
      "outputs": []
    },
    {
      "cell_type": "code",
      "source": [
        "class SoccerCoach:\n",
        "\n",
        "    def __init__(self, num_career_year):\n",
        "        self.num_career_year = num_career_year"
      ],
      "metadata": {
        "id": "_RdjuiHoHU95"
      },
      "execution_count": 67,
      "outputs": []
    },
    {
      "cell_type": "code",
      "source": [
        "class Team:\n",
        "    def __init__(self, coach, player_list):\n",
        "        self.coach = coach\n",
        "        self.player_list = player_list"
      ],
      "metadata": {
        "id": "gg_ZGv61HlKF"
      },
      "execution_count": 62,
      "outputs": []
    },
    {
      "cell_type": "code",
      "source": [
        "player1 = SoccerPlayer(70)\n",
        "player2 = SoccerPlayer(80)"
      ],
      "metadata": {
        "id": "ihFx7HhoHyjb"
      },
      "execution_count": 63,
      "outputs": []
    },
    {
      "cell_type": "code",
      "source": [
        "coach = SoccerCoach(10)"
      ],
      "metadata": {
        "id": "EnHIb1AkH8J-"
      },
      "execution_count": 68,
      "outputs": []
    },
    {
      "cell_type": "code",
      "source": [
        "team = Team(coach=coach, player_list=[player1, player2])"
      ],
      "metadata": {
        "id": "JGKuWguEH_bR"
      },
      "execution_count": 69,
      "outputs": []
    },
    {
      "cell_type": "code",
      "source": [
        "team.coach.num_career_year"
      ],
      "metadata": {
        "colab": {
          "base_uri": "https://localhost:8080/"
        },
        "id": "M9ooe2_DIa9r",
        "outputId": "df1897a9-f1f1-4d0e-8491-7e6f0400c0cb"
      },
      "execution_count": 70,
      "outputs": [
        {
          "output_type": "execute_result",
          "data": {
            "text/plain": [
              "10"
            ]
          },
          "metadata": {},
          "execution_count": 70
        }
      ]
    },
    {
      "cell_type": "code",
      "source": [
        "# python의 pep8이라는 coding style 참고\n",
        "# 참고: https://www.python.org/dev/peps/pep-0008/\n",
        "team = Team(\n",
        "    coach=coach, \n",
        "    player_list=[\n",
        "        player1, \n",
        "        player2\n",
        "    ]\n",
        ")"
      ],
      "metadata": {
        "id": "5dEVhcVVIecA"
      },
      "execution_count": 71,
      "outputs": []
    },
    {
      "cell_type": "markdown",
      "source": [
        "### 객체 method의 cascading\n",
        "- dot operation이 일렬로 발생하는 경우를 말한다.\n",
        "    - 일련의 데이터를 변수로 저장해서 가지고 오는 것이 아닌, 한꺼번에 가지고 오는 방법\n",
        "- 이 경우 앞에서부터 실행이 된다."
      ],
      "metadata": {
        "id": "fFbq_n9mJI77"
      }
    },
    {
      "cell_type": "code",
      "source": [
        "class SoccerPlayer:\n",
        "\n",
        "    def __init__(self, weight):\n",
        "        self.weight = weight\n",
        "\n",
        "    def walk(self):\n",
        "        print('걷는다')"
      ],
      "metadata": {
        "id": "SDFBX3SSJZ2J"
      },
      "execution_count": 72,
      "outputs": []
    },
    {
      "cell_type": "code",
      "source": [
        "# type(team) --> Team(클래스)\n",
        "# type(team.player_list) --> list\n",
        "# type(team.player_list[0]) --> SoccerPlayer(클래스)\n",
        "\n",
        "team = Team(\n",
        "    coach=coach, \n",
        "    player_list=[\n",
        "        SoccerPlayer(70),   # 변수를 만드는 과정 생략, 메모리 효율적 사용\n",
        "        SoccerPlayer(80)\n",
        "    ]\n",
        ")"
      ],
      "metadata": {
        "id": "1C5eRT_ZJdAU"
      },
      "execution_count": 75,
      "outputs": []
    },
    {
      "cell_type": "code",
      "source": [
        "team.player_list[0].walk()"
      ],
      "metadata": {
        "colab": {
          "base_uri": "https://localhost:8080/"
        },
        "id": "ETXxBJFZJy-K",
        "outputId": "0927ed17-9868-48e8-cc67-a27e16ae3596"
      },
      "execution_count": 74,
      "outputs": [
        {
          "output_type": "stream",
          "name": "stdout",
          "text": [
            "걷는다\n"
          ]
        }
      ]
    },
    {
      "cell_type": "code",
      "source": [
        "player_list = team.player_list\n",
        "player = player_list[0]\n",
        "player.walk()"
      ],
      "metadata": {
        "colab": {
          "base_uri": "https://localhost:8080/"
        },
        "id": "WVmrkaRYJ4s-",
        "outputId": "dfe5f061-e3ba-416c-9d69-a98e94f8b19d"
      },
      "execution_count": 76,
      "outputs": [
        {
          "output_type": "stream",
          "name": "stdout",
          "text": [
            "걷는다\n"
          ]
        }
      ]
    },
    {
      "cell_type": "code",
      "source": [
        "team = Team(\n",
        "    coach=coach, \n",
        "    player_list=[\n",
        "        SoccerPlayer(70),   \n",
        "        SoccerPlayer(80)\n",
        "    ]\n",
        ").player_list[0].walk()"
      ],
      "metadata": {
        "colab": {
          "base_uri": "https://localhost:8080/"
        },
        "id": "8dXpM8ZkKhjO",
        "outputId": "3923b729-4534-4d2c-c9b6-fa936074881b"
      },
      "execution_count": 77,
      "outputs": [
        {
          "output_type": "stream",
          "name": "stdout",
          "text": [
            "걷는다\n"
          ]
        }
      ]
    }
  ]
}