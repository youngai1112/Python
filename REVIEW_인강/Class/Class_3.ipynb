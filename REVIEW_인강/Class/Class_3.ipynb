{
  "nbformat": 4,
  "nbformat_minor": 0,
  "metadata": {
    "colab": {
      "name": "인프런-나도코딩",
      "provenance": [],
      "collapsed_sections": []
    },
    "kernelspec": {
      "name": "python3",
      "display_name": "Python 3"
    },
    "language_info": {
      "name": "python"
    }
  },
  "cells": [
    {
      "cell_type": "code",
      "execution_count": 1,
      "metadata": {
        "colab": {
          "base_uri": "https://localhost:8080/"
        },
        "id": "oi0yiIMz97hP",
        "outputId": "aab0451f-7f1c-4f83-f040-5031ed0d7d8b"
      },
      "outputs": [
        {
          "output_type": "stream",
          "name": "stdout",
          "text": [
            "마린 유닛이 생성되었습니다.\n",
            "체력 40, 공격력 5\n",
            "\n"
          ]
        }
      ],
      "source": [
        "name = '마린'   # 이름      \n",
        "hp = 40         # 체력\n",
        "damage = 5      # 공격력\n",
        "\n",
        "print(f'{name} 유닛이 생성되었습니다.')\n",
        "print(f'체력 {hp}, 공격력 {damage}\\n')"
      ]
    },
    {
      "cell_type": "code",
      "source": [
        "tank_name = '탱크'\n",
        "tank_hp = 150\n",
        "tank_damage = 35\n",
        "\n",
        "print(f'{tank_name} 유닛이 생성되었습니다.')\n",
        "print(f'체력 {tank_hp}, 공격력 {tank_damage}\\n')"
      ],
      "metadata": {
        "colab": {
          "base_uri": "https://localhost:8080/"
        },
        "id": "tfGtICfi_PwV",
        "outputId": "2fade9be-8f28-4906-877e-c26991cba1de"
      },
      "execution_count": 5,
      "outputs": [
        {
          "output_type": "stream",
          "name": "stdout",
          "text": [
            "탱크 유닛이 생성되었습니다.\n",
            "체력 150, 공격력 35\n",
            "\n"
          ]
        }
      ]
    },
    {
      "cell_type": "code",
      "source": [
        "tank2_name = '탱크'\n",
        "tank2_hp = 150\n",
        "tank2_damage = 35\n",
        "\n",
        "print(f'{tank2_name} 유닛이 생성되었습니다.')\n",
        "print(f'체력 {tank2_hp}, 공격력 {tank2_damage}\\n')"
      ],
      "metadata": {
        "colab": {
          "base_uri": "https://localhost:8080/"
        },
        "id": "GaygqKju-d5I",
        "outputId": "8c229dca-c036-4831-cd12-86ba06f1c334"
      },
      "execution_count": 6,
      "outputs": [
        {
          "output_type": "stream",
          "name": "stdout",
          "text": [
            "탱크 유닛이 생성되었습니다.\n",
            "체력 150, 공격력 35\n",
            "\n"
          ]
        }
      ]
    },
    {
      "cell_type": "code",
      "source": [
        "def attack(name, location, damage):\n",
        "    print(f'{name} : {location} 방향으로 적군을 공격합니다. [공격력 {damage}]')\n",
        "\n",
        "attack(name, '1시', damage)\n",
        "attack(tank_name, '1시', tank_damage)\n",
        "attack(tank2_name, '1시', tank2_damage)"
      ],
      "metadata": {
        "colab": {
          "base_uri": "https://localhost:8080/"
        },
        "id": "qcpd-mex-tit",
        "outputId": "a8a77577-3570-4717-8378-516892da5150"
      },
      "execution_count": 7,
      "outputs": [
        {
          "output_type": "stream",
          "name": "stdout",
          "text": [
            "마린 : 1시 방향으로 적군을 공격합니다. [공격력 5]\n",
            "탱크 : 1시 방향으로 적군을 공격합니다. [공격력 35]\n",
            "탱크 : 1시 방향으로 적군을 공격합니다. [공격력 35]\n"
          ]
        }
      ]
    },
    {
      "cell_type": "markdown",
      "source": [
        "## Class\n",
        "- `__init__`: 생성자\n",
        "- `멤버변수`: 클래스 내에 정의된 변수"
      ],
      "metadata": {
        "id": "B2_CS7L3_LGR"
      }
    },
    {
      "cell_type": "code",
      "source": [
        "class Unit:\n",
        "    # __init__은 생성자: marine이나 tank 같은 객체가 만들어질 때, \n",
        "    #   자동으로 호출되는 부분\n",
        "    def __init__(self, name, hp, damage):\n",
        "        self.name = name        # self.name, self.hp, self.damage == 멤버변수\n",
        "        self.hp = hp\n",
        "        self.damage = damage\n",
        "        print(f'{name} 유닛이 생성되었습니다.')\n",
        "        print(f'체력 {hp}, 공격력 {damage}')\n",
        "\n",
        "# 객체가 생성될 때는 기본적으로 __init__함수에 적용된 갯수와 동일해야 한다 (self는 제외)\n",
        "marine = Unit('마린', 40, 5)    # 클래스로부터 만들어지는 것 == 객체\n",
        "marine2 = Unit('마린', 40, 5)   #   marine, marine2, tank는 Unit 클래스의 인스턴스\n",
        "tank = Unit('탱크', 35, 5)"
      ],
      "metadata": {
        "colab": {
          "base_uri": "https://localhost:8080/"
        },
        "id": "i617ZgoF_vmp",
        "outputId": "3eddd259-7b3b-4620-d693-19fa49c68352"
      },
      "execution_count": 9,
      "outputs": [
        {
          "output_type": "stream",
          "name": "stdout",
          "text": [
            "마린 유닛이 생성되었습니다.\n",
            "체력 40, 공격력 5\n",
            "마린 유닛이 생성되었습니다.\n",
            "체력 40, 공격력 5\n",
            "탱크 유닛이 생성되었습니다.\n",
            "체력 35, 공격력 5\n"
          ]
        }
      ]
    },
    {
      "cell_type": "code",
      "source": [
        "marine3 = Unit('마린')\n",
        "marine3 = Unit('마린', 40)"
      ],
      "metadata": {
        "colab": {
          "base_uri": "https://localhost:8080/",
          "height": 193
        },
        "id": "ffh6cskrAR3H",
        "outputId": "73b9e5b0-266c-4879-d4c1-af9f5b615ccd"
      },
      "execution_count": 10,
      "outputs": [
        {
          "output_type": "error",
          "ename": "TypeError",
          "evalue": "ignored",
          "traceback": [
            "\u001b[0;31m---------------------------------------------------------------------------\u001b[0m",
            "\u001b[0;31mTypeError\u001b[0m                                 Traceback (most recent call last)",
            "\u001b[0;32m<ipython-input-10-60f522fa7d7b>\u001b[0m in \u001b[0;36m<module>\u001b[0;34m()\u001b[0m\n\u001b[0;32m----> 1\u001b[0;31m \u001b[0mmarine3\u001b[0m \u001b[0;34m=\u001b[0m \u001b[0mUnit\u001b[0m\u001b[0;34m(\u001b[0m\u001b[0;34m'마린'\u001b[0m\u001b[0;34m)\u001b[0m\u001b[0;34m\u001b[0m\u001b[0;34m\u001b[0m\u001b[0m\n\u001b[0m\u001b[1;32m      2\u001b[0m \u001b[0mmarine3\u001b[0m \u001b[0;34m=\u001b[0m \u001b[0mUnit\u001b[0m\u001b[0;34m(\u001b[0m\u001b[0;34m'마린'\u001b[0m\u001b[0;34m,\u001b[0m \u001b[0;36m40\u001b[0m\u001b[0;34m)\u001b[0m\u001b[0;34m\u001b[0m\u001b[0;34m\u001b[0m\u001b[0m\n",
            "\u001b[0;31mTypeError\u001b[0m: __init__() missing 2 required positional arguments: 'hp' and 'damage'"
          ]
        }
      ]
    },
    {
      "cell_type": "code",
      "source": [
        "# 클래스 바깥에서 멤버변수를 사용한다면?\n",
        "wraith1 = Unit('레이스', 80, 5)\n",
        "print('유닛 이름: {0}, 공격력: {1}'.format(wraith1.name, wraith1.damage))"
      ],
      "metadata": {
        "colab": {
          "base_uri": "https://localhost:8080/"
        },
        "id": "olvJOhSyBYaP",
        "outputId": "f9134760-ae43-4399-d5b9-14fb6a450264"
      },
      "execution_count": 12,
      "outputs": [
        {
          "output_type": "stream",
          "name": "stdout",
          "text": [
            "레이스 유닛이 생성되었습니다.\n",
            "체력 80, 공격력 5\n",
            "유닛 이름: 레이스, 공격력: 5\n"
          ]
        }
      ]
    },
    {
      "cell_type": "code",
      "source": [
        "# 클래스 외부에서 변수를 확장할 수 있음\n",
        "# 확장된 변수는 확장을 한 객체에서만 적용 가능하다.\n",
        "# 기존에 있던 다른 객체에는 적용되지 않는다.\n",
        "wraith2 = Unit('빼앗은 레이스', 80, 5)\n",
        "wraith2.clocking = True     # clocking은 클래스에서 정의되지 않음\n",
        "                            # clocking == 외부에서 추가된 변수\n",
        "\n",
        "if wraith2.clocking == True:\n",
        "    print('{0} 는 현재 클로킹 된 상태입니다.'.format(wraith2.name))\n",
        "\n",
        "if wraith1.clocking == True:\n",
        "    print('{0} 는 현재 클로킹 된 상태입니다.'.format(wraith1.name))"
      ],
      "metadata": {
        "colab": {
          "base_uri": "https://localhost:8080/",
          "height": 286
        },
        "id": "DGhGbyxFCVJ4",
        "outputId": "1c1eec8e-efbc-4bbe-bb22-5e8ac82a4fcf"
      },
      "execution_count": 15,
      "outputs": [
        {
          "output_type": "stream",
          "name": "stdout",
          "text": [
            "빼앗은 레이스 유닛이 생성되었습니다.\n",
            "체력 80, 공격력 5\n",
            "빼앗은 레이스 는 현재 클로킹 된 상태입니다.\n"
          ]
        },
        {
          "output_type": "error",
          "ename": "AttributeError",
          "evalue": "ignored",
          "traceback": [
            "\u001b[0;31m---------------------------------------------------------------------------\u001b[0m",
            "\u001b[0;31mAttributeError\u001b[0m                            Traceback (most recent call last)",
            "\u001b[0;32m<ipython-input-15-1734d2c319ba>\u001b[0m in \u001b[0;36m<module>\u001b[0;34m()\u001b[0m\n\u001b[1;32m      6\u001b[0m     \u001b[0mprint\u001b[0m\u001b[0;34m(\u001b[0m\u001b[0;34m'{0} 는 현재 클로킹 된 상태입니다.'\u001b[0m\u001b[0;34m.\u001b[0m\u001b[0mformat\u001b[0m\u001b[0;34m(\u001b[0m\u001b[0mwraith2\u001b[0m\u001b[0;34m.\u001b[0m\u001b[0mname\u001b[0m\u001b[0;34m)\u001b[0m\u001b[0;34m)\u001b[0m\u001b[0;34m\u001b[0m\u001b[0;34m\u001b[0m\u001b[0m\n\u001b[1;32m      7\u001b[0m \u001b[0;34m\u001b[0m\u001b[0m\n\u001b[0;32m----> 8\u001b[0;31m \u001b[0;32mif\u001b[0m \u001b[0mwraith1\u001b[0m\u001b[0;34m.\u001b[0m\u001b[0mclocking\u001b[0m \u001b[0;34m==\u001b[0m \u001b[0;32mTrue\u001b[0m\u001b[0;34m:\u001b[0m\u001b[0;34m\u001b[0m\u001b[0;34m\u001b[0m\u001b[0m\n\u001b[0m\u001b[1;32m      9\u001b[0m     \u001b[0mprint\u001b[0m\u001b[0;34m(\u001b[0m\u001b[0;34m'{0} 는 현재 클로킹 된 상태입니다.'\u001b[0m\u001b[0;34m.\u001b[0m\u001b[0mformat\u001b[0m\u001b[0;34m(\u001b[0m\u001b[0mwraith1\u001b[0m\u001b[0;34m.\u001b[0m\u001b[0mname\u001b[0m\u001b[0;34m)\u001b[0m\u001b[0;34m)\u001b[0m\u001b[0;34m\u001b[0m\u001b[0;34m\u001b[0m\u001b[0m\n",
            "\u001b[0;31mAttributeError\u001b[0m: 'Unit' object has no attribute 'clocking'"
          ]
        }
      ]
    },
    {
      "cell_type": "markdown",
      "source": [
        "## Class\n",
        "- `method`\n",
        "- `상속`\n",
        "- `메소드 오버라이딩`: 부모 클래스에서 정의한 메소드 말고, 자식 클래스에서 정의한 메소드를 사용하고 싶을 때 메소드를 새롭게 정의해서 사용하는 방법"
      ],
      "metadata": {
        "id": "nDUSZv0sDKPl"
      }
    },
    {
      "cell_type": "code",
      "source": [
        "# 상속하는 클래스 : 부모 클래스 1\n",
        "class Unit:\n",
        "    def __init__(self, name, hp, speed):\n",
        "        self.name = name        \n",
        "        self.hp = hp\n",
        "        self.speed = speed\n",
        "        print(f'{name} 유닛이 생성되었습니다.')\n",
        "\n",
        "    def move(self, location):\n",
        "        print('[지상 유닛 이동]')\n",
        "        print(f'{self.name} : {location} 방향으로 이동합니다. [속도 {self.speed}]')\n",
        "\n",
        "    def damaged(self, damage):\n",
        "        print(f'{self.name} : {damage} 데미지를 입었습니다.')\n",
        "        self.hp -= damage\n",
        "        print(f'{self.name} : 현재 체력은 {self.hp}입니다.')\n",
        "        if self.hp <= 0:\n",
        "            print(f'{self.name} : 파괴되었습니다.')"
      ],
      "metadata": {
        "id": "uykcQ4RmDmnb"
      },
      "execution_count": 78,
      "outputs": []
    },
    {
      "cell_type": "code",
      "source": [
        "# 상속받는 클래스 : 자식 클래스\n",
        "class AttackUnit(Unit):\n",
        "    def __init__(self, name, hp, speed, damage):\n",
        "        Unit.__init__(self, name, hp, speed)   # Unit 클래스와 중복되는 코드는 상속받는다.\n",
        "        self.damage = damage\n",
        "    \n",
        "    def attack(self, location):\n",
        "        # self.name, self.damage는 클래스에 있는 자기자신의 멤버변수를 출력(__init__에 정의되어 있는 것)\n",
        "        # location은 attack 함수에서 전달받아 사용한다 \n",
        "        print(f'{self.name} : {location} 방향으로 적군을 공격합니다. [공격력 {self.damage}]')\n"
      ],
      "metadata": {
        "id": "nTJrWaQKDssc"
      },
      "execution_count": 79,
      "outputs": []
    },
    {
      "cell_type": "code",
      "source": [
        "class Marine(AttackUnit):\n",
        "    def __init__(self):\n",
        "        AttackUnit.__init__(self, '마린', 40, 1, 5)\n",
        "\n",
        "    def stimpack(self):\n",
        "        if self.hp > 10:\n",
        "            self.hp -= 10\n",
        "            print(f'{self.name} : 스팀팩을 사용합니다. (HP 10 감소)')\n",
        "        else:\n",
        "            print(f'{self.name} : 체력이 부족하여 스팀팩을 사용하지 않습니다.')\n"
      ],
      "metadata": {
        "id": "NKP5_DDvRxa4"
      },
      "execution_count": 80,
      "outputs": []
    },
    {
      "cell_type": "code",
      "source": [
        "class Tank(AttackUnit):\n",
        "    seize_developed = False\n",
        "\n",
        "    def __init__(self):\n",
        "        AttackUnit.__init__(self, '탱크', 150, 1, 35)\n",
        "        self.seize_mode = False\n",
        "\n",
        "    def set_seize_mode(self):\n",
        "        if Tank.seize_developed == False:\n",
        "            return\n",
        "\n",
        "        if self.seize_mode == False:\n",
        "            print(f'{self.name} : 시즈모드로 전환합니다.')\n",
        "            self.damage *= 2\n",
        "            self.seize_mode = True\n",
        "        else:\n",
        "            print(f'{self.name} : 시즈모드로 해제합니다.')\n",
        "            self.damage /= 2\n",
        "            self.seize_mode = False\n",
        "        "
      ],
      "metadata": {
        "id": "U_WNW9kQSlpE"
      },
      "execution_count": 81,
      "outputs": []
    },
    {
      "cell_type": "code",
      "source": [
        "firebat1 = AttackUnit('파이어뱃', 50, 16)\n",
        "firebat1.attack('5시')\n",
        "\n",
        "firebat1.damaged(25)\n",
        "firebat1.damaged(25)"
      ],
      "metadata": {
        "colab": {
          "base_uri": "https://localhost:8080/"
        },
        "id": "c6CjUZ0mGBVq",
        "outputId": "1cd887b0-a8db-4f58-b2e8-ffda47a413b4"
      },
      "execution_count": 22,
      "outputs": [
        {
          "output_type": "stream",
          "name": "stdout",
          "text": [
            "파이어뱃 : 5시 방향으로 적군을 공격합니다. [공격력 16]\n",
            "파이어뱃 : 25 데미지를 입었습니다.\n",
            "파이어뱃 : 현재 체력은 25입니다.\n",
            "파이어뱃 : 25 데미지를 입었습니다.\n",
            "파이어뱃 : 현재 체력은 0입니다.\n",
            "파이어뱃 : 파괴되었습니다.\n"
          ]
        }
      ]
    },
    {
      "cell_type": "code",
      "source": [
        "# 상속하는 클래스 : 부모 클래스 2\n",
        "class Flyable:\n",
        "    def __init__(self, flying_speed):\n",
        "        self.flying_speed = flying_speed\n",
        "\n",
        "    def fly(self, name, location):\n",
        "        print(f'{name} : {location} 방향으로 날아갑니다. [속도 {self.flying_speed}]')"
      ],
      "metadata": {
        "id": "UjzJcYcwGTxh"
      },
      "execution_count": 82,
      "outputs": []
    },
    {
      "cell_type": "code",
      "source": [
        "# 상속하는 클래스 : 부모 클래스 3\n",
        "# AttackUnit, Flyable 클래스를 상속받아 초기화\n",
        "class FlyableAttackUnit(AttackUnit, Flyable):\n",
        "    def __init__(self, name, hp, damage, flying_speed):\n",
        "        AttackUnit.__init__(self, name, hp, 0, damage)  # 지상 speed 0\n",
        "        Flyable.__init__(self, flying_speed)\n",
        "\n",
        "    def move(self, location):   # AttackUnit의 move() X, move() 재정의\n",
        "        print('[공중 유닛 이동]')\n",
        "        self.fly(self.name, location)"
      ],
      "metadata": {
        "id": "lBxvv66iIYs9"
      },
      "execution_count": 83,
      "outputs": []
    },
    {
      "cell_type": "code",
      "source": [
        "class Wraith(FlyableAttackUnit):\n",
        "    def __init__(self):\n",
        "        FlyableAttackUnit.__init__(self, '레이스', 80, 20, 5)\n",
        "        self.clocked = False\n",
        "\n",
        "    def clocking(self):\n",
        "        if self.clocked == True:\n",
        "            print(f'{self.name} : 클로킹 모드 해제합니다.')\n",
        "            self.clocked = False\n",
        "        else:\n",
        "            print(f'{self.name} : 클로킹 모드 설정합니다.')\n",
        "            self.clocked = True\n"
      ],
      "metadata": {
        "id": "VMfbaDdmUEFo"
      },
      "execution_count": 84,
      "outputs": []
    },
    {
      "cell_type": "code",
      "source": [
        "valkyrie = FlyableAttackUnit('발키리', 200, 6, 5)\n",
        "valkyrie.fly(valkyrie.name, '3시')"
      ],
      "metadata": {
        "colab": {
          "base_uri": "https://localhost:8080/"
        },
        "id": "0XfrFhz_JFGw",
        "outputId": "141884a9-6bef-4a2f-b9a1-c4ee3b21289c"
      },
      "execution_count": 34,
      "outputs": [
        {
          "output_type": "stream",
          "name": "stdout",
          "text": [
            "발키리 : 3시 방향으로 날아갑니다. [속도 5]\n"
          ]
        }
      ]
    },
    {
      "cell_type": "code",
      "source": [
        "vulture = AttackUnit('벌쳐', 80, 10, 20)\n",
        "battlecruiser = FlyableAttackUnit('배틀크루져', 500, 25, 3)\n",
        "\n",
        "vulture.move('11시')\n",
        "# battlecruiser.fly(battlecruiser.name, '9시')\n",
        "battlecruiser.move('9시')"
      ],
      "metadata": {
        "colab": {
          "base_uri": "https://localhost:8080/"
        },
        "id": "L_cfcxPFJ23f",
        "outputId": "d23e95f8-c2a4-4d7f-e68c-08950f21d266"
      },
      "execution_count": 37,
      "outputs": [
        {
          "output_type": "stream",
          "name": "stdout",
          "text": [
            "[지상 유닛 이동]\n",
            "벌쳐 : 11시 방향으로 이동합니다. [속도 10]\n",
            "[공중 유닛 이동]\n",
            "배틀크루져 : 9시 방향으로 날아갑니다. [속도 3]\n"
          ]
        }
      ]
    },
    {
      "cell_type": "markdown",
      "source": [
        "- 게임 시작"
      ],
      "metadata": {
        "id": "Au0kXS1zVE6Y"
      }
    },
    {
      "cell_type": "code",
      "source": [
        "def game_start():\n",
        "    print(f'[알림] 새로운 게임을 시작합니다.')\n",
        "\n",
        "def game_over():\n",
        "    print(f'Player: gg')\n",
        "    print(f'[Player] 님이 게임에서 퇴장하셨습니다.')"
      ],
      "metadata": {
        "id": "gqpcBGAvVHiB"
      },
      "execution_count": 85,
      "outputs": []
    },
    {
      "cell_type": "code",
      "source": [
        "# 실제 게임 진행\n",
        "game_start()"
      ],
      "metadata": {
        "colab": {
          "base_uri": "https://localhost:8080/"
        },
        "id": "EuhhZMEBVHl4",
        "outputId": "95298daa-84f8-41dc-90c3-4e84832c7b8b"
      },
      "execution_count": 86,
      "outputs": [
        {
          "output_type": "stream",
          "name": "stdout",
          "text": [
            "[알림] 새로운 게임을 시작합니다.\n"
          ]
        }
      ]
    },
    {
      "cell_type": "code",
      "source": [
        "# 유닛 생성\n",
        "m1 = Marine()\n",
        "m2 = Marine()\n",
        "m3 = Marine()\n",
        "\n",
        "t1 = Tank()\n",
        "t2 = Tank()\n",
        "\n",
        "w1 = Wraith()"
      ],
      "metadata": {
        "colab": {
          "base_uri": "https://localhost:8080/"
        },
        "id": "0k5RHPaOVHpl",
        "outputId": "b17d68c1-d33b-403a-da39-73e21ef82324"
      },
      "execution_count": 87,
      "outputs": [
        {
          "output_type": "stream",
          "name": "stdout",
          "text": [
            "마린 유닛이 생성되었습니다.\n",
            "마린 유닛이 생성되었습니다.\n",
            "마린 유닛이 생성되었습니다.\n",
            "탱크 유닛이 생성되었습니다.\n",
            "탱크 유닛이 생성되었습니다.\n",
            "레이스 유닛이 생성되었습니다.\n"
          ]
        }
      ]
    },
    {
      "cell_type": "code",
      "source": [
        "# 유닛 일괄 관리\n",
        "attack_units = []\n",
        "attack_units.append(m1)\n",
        "attack_units.append(m2)\n",
        "attack_units.append(m3)\n",
        "attack_units.append(t1)\n",
        "attack_units.append(t2)\n",
        "attack_units.append(w1)"
      ],
      "metadata": {
        "id": "lYtPTCJCXQke"
      },
      "execution_count": 89,
      "outputs": []
    },
    {
      "cell_type": "code",
      "source": [
        "for unit in attack_units:\n",
        "    unit.move('1시')"
      ],
      "metadata": {
        "colab": {
          "base_uri": "https://localhost:8080/"
        },
        "id": "rr_cVTuyXQhW",
        "outputId": "55536718-3e25-443e-a762-0fd142113e71"
      },
      "execution_count": 90,
      "outputs": [
        {
          "output_type": "stream",
          "name": "stdout",
          "text": [
            "[지상 유닛 이동]\n",
            "마린 : 1시 방향으로 이동합니다. [속도 1]\n",
            "[지상 유닛 이동]\n",
            "마린 : 1시 방향으로 이동합니다. [속도 1]\n",
            "[지상 유닛 이동]\n",
            "마린 : 1시 방향으로 이동합니다. [속도 1]\n",
            "[지상 유닛 이동]\n",
            "탱크 : 1시 방향으로 이동합니다. [속도 1]\n",
            "[지상 유닛 이동]\n",
            "탱크 : 1시 방향으로 이동합니다. [속도 1]\n",
            "[공중 유닛 이동]\n",
            "레이스 : 1시 방향으로 날아갑니다. [속도 5]\n"
          ]
        }
      ]
    },
    {
      "cell_type": "code",
      "source": [
        "Tank.seize_developed = True\n",
        "print('[알림] 탱크 시즈 모드 개발이 완료되었습니다.')"
      ],
      "metadata": {
        "colab": {
          "base_uri": "https://localhost:8080/"
        },
        "id": "fWV6eUMlXQd5",
        "outputId": "b7996581-a130-4f38-8c23-a1f528d42a1c"
      },
      "execution_count": 91,
      "outputs": [
        {
          "output_type": "stream",
          "name": "stdout",
          "text": [
            "[알림] 탱크 시즈 모드 개발이 완료되었습니다.\n"
          ]
        }
      ]
    },
    {
      "cell_type": "code",
      "source": [
        "for unit in attack_units:\n",
        "    # isinstance() : 지금 만들어진 객체가 클래스의 인스턴스인지 확인\n",
        "    if isinstance(unit, Marine):    # 만약 unit이 Marine이라면\n",
        "        unit.stimpack()\n",
        "    elif isinstance(unit, Tank):    # 만약 unit이 Tank라면\n",
        "        unit.set_seize_mode()\n",
        "    elif isinstance(unit, Wraith):\n",
        "        unit.clocking()"
      ],
      "metadata": {
        "colab": {
          "base_uri": "https://localhost:8080/"
        },
        "id": "oxSLzHHZXQZ7",
        "outputId": "5222395c-e2a0-4274-fb3f-360dac5a5960"
      },
      "execution_count": 92,
      "outputs": [
        {
          "output_type": "stream",
          "name": "stdout",
          "text": [
            "마린 : 스팀팩을 사용합니다. (HP 10 감소)\n",
            "마린 : 스팀팩을 사용합니다. (HP 10 감소)\n",
            "마린 : 스팀팩을 사용합니다. (HP 10 감소)\n",
            "탱크 : 시즈모드로 전환합니다.\n",
            "탱크 : 시즈모드로 전환합니다.\n",
            "레이스 : 클로킹 모드 설정합니다.\n"
          ]
        }
      ]
    },
    {
      "cell_type": "code",
      "source": [
        "for unit in attack_units:\n",
        "    unit.attack('1시')"
      ],
      "metadata": {
        "colab": {
          "base_uri": "https://localhost:8080/"
        },
        "id": "OoSBNUWbVHs0",
        "outputId": "39a81c65-f9a2-41d0-af18-e191ea6301bc"
      },
      "execution_count": 93,
      "outputs": [
        {
          "output_type": "stream",
          "name": "stdout",
          "text": [
            "마린 : 1시 방향으로 적군을 공격합니다. [공격력 5]\n",
            "마린 : 1시 방향으로 적군을 공격합니다. [공격력 5]\n",
            "마린 : 1시 방향으로 적군을 공격합니다. [공격력 5]\n",
            "탱크 : 1시 방향으로 적군을 공격합니다. [공격력 70]\n",
            "탱크 : 1시 방향으로 적군을 공격합니다. [공격력 70]\n",
            "레이스 : 1시 방향으로 적군을 공격합니다. [공격력 20]\n"
          ]
        }
      ]
    },
    {
      "cell_type": "code",
      "source": [
        "from random import *\n",
        "\n",
        "for unit in attack_units:\n",
        "    unit.damaged(randint(5, 21))"
      ],
      "metadata": {
        "colab": {
          "base_uri": "https://localhost:8080/"
        },
        "id": "nHnohkFhY1BM",
        "outputId": "f7420b28-4692-4d78-dad7-c4133e694d3b"
      },
      "execution_count": 94,
      "outputs": [
        {
          "output_type": "stream",
          "name": "stdout",
          "text": [
            "마린 : 14 데미지를 입었습니다.\n",
            "마린 : 현재 체력은 16입니다.\n",
            "마린 : 13 데미지를 입었습니다.\n",
            "마린 : 현재 체력은 17입니다.\n",
            "마린 : 21 데미지를 입었습니다.\n",
            "마린 : 현재 체력은 9입니다.\n",
            "탱크 : 20 데미지를 입었습니다.\n",
            "탱크 : 현재 체력은 130입니다.\n",
            "탱크 : 13 데미지를 입었습니다.\n",
            "탱크 : 현재 체력은 137입니다.\n",
            "레이스 : 6 데미지를 입었습니다.\n",
            "레이스 : 현재 체력은 74입니다.\n"
          ]
        }
      ]
    },
    {
      "cell_type": "code",
      "source": [
        "# 게임 종료\n",
        "game_over()"
      ],
      "metadata": {
        "colab": {
          "base_uri": "https://localhost:8080/"
        },
        "id": "XL2DLu1NY03G",
        "outputId": "60f25a02-a2e8-480e-9749-d8efd4730bed"
      },
      "execution_count": 95,
      "outputs": [
        {
          "output_type": "stream",
          "name": "stdout",
          "text": [
            "Player: gg\n",
            "[Player] 님이 게임에서 퇴장하셨습니다.\n"
          ]
        }
      ]
    },
    {
      "cell_type": "markdown",
      "source": [
        "---"
      ],
      "metadata": {
        "id": "WMQyQ9RXZVRi"
      }
    },
    {
      "cell_type": "markdown",
      "source": [
        "## Class\n",
        "- `pass`\n",
        "- `super`"
      ],
      "metadata": {
        "id": "2TfGzuuFLGdf"
      }
    },
    {
      "cell_type": "code",
      "source": [
        "# pass\n",
        "class BuildingUnit(Unit):\n",
        "    def __init__(self, name, hp, location):\n",
        "        pass"
      ],
      "metadata": {
        "id": "q9ZT3-R2NHvN"
      },
      "execution_count": 38,
      "outputs": []
    },
    {
      "cell_type": "code",
      "source": [
        "supply_depot = BuildingUnit('서플라이디폿', 500, '7시')"
      ],
      "metadata": {
        "id": "qxpULmTsNREB"
      },
      "execution_count": 39,
      "outputs": []
    },
    {
      "cell_type": "code",
      "source": [
        "def game_start():\n",
        "    print('[알림] 새로운 게임을 시작합니다.')\n",
        "\n",
        "def game_over():\n",
        "    pass\n",
        "\n",
        "game_start()\n",
        "game_over()"
      ],
      "metadata": {
        "colab": {
          "base_uri": "https://localhost:8080/"
        },
        "id": "fKiPDbT4NeQY",
        "outputId": "56f12594-068f-4c75-980b-2b683c534010"
      },
      "execution_count": 41,
      "outputs": [
        {
          "output_type": "stream",
          "name": "stdout",
          "text": [
            "[알림] 새로운 게임을 시작합니다.\n"
          ]
        }
      ]
    },
    {
      "cell_type": "code",
      "source": [
        "# super\n",
        "class BuildingUnit(Unit):\n",
        "    def __init__(self, name, hp, location):\n",
        "        # Unit.__init__(self, name, hp, 0)\n",
        "        #   super()에서 초기화된 self 정보는 보내주지 않는다.\n",
        "        #   super()에서는 self를 쓰지 않는다.\n",
        "        super().__init__(name, hp, location) \n",
        "        self.location = location"
      ],
      "metadata": {
        "id": "lwcwpAlNNtkw"
      },
      "execution_count": 43,
      "outputs": []
    },
    {
      "cell_type": "code",
      "source": [
        "# 다중상속 case1\n",
        "class Unit:\n",
        "    def __init__(self):\n",
        "        print('Unit 생성자')\n",
        "\n",
        "class Flyable:\n",
        "    def __init__(self):\n",
        "        print('Flyable 생성자')\n",
        "\n",
        "class FlyableUnit(Unit, Flyable):\n",
        "    def __init__(self):\n",
        "        super().__init__()"
      ],
      "metadata": {
        "id": "K_OOysKCPTj6"
      },
      "execution_count": 50,
      "outputs": []
    },
    {
      "cell_type": "code",
      "source": [
        "dropship = FlyableUnit()"
      ],
      "metadata": {
        "colab": {
          "base_uri": "https://localhost:8080/"
        },
        "id": "oXoeoucDPpso",
        "outputId": "cfc45e0d-c3df-4012-c161-388c915cc396"
      },
      "execution_count": 51,
      "outputs": [
        {
          "output_type": "stream",
          "name": "stdout",
          "text": [
            "Unit 생성자\n"
          ]
        }
      ]
    },
    {
      "cell_type": "code",
      "source": [
        "# 다중상속 case2\n",
        "class Unit:\n",
        "    def __init__(self):\n",
        "        print('Unit 생성자')\n",
        "\n",
        "class Flyable:\n",
        "    def __init__(self):\n",
        "        print('Flyable 생성자')\n",
        "\n",
        "class FlyableUnit(Flyable, Unit):\n",
        "    def __init__(self):\n",
        "        super().__init__()"
      ],
      "metadata": {
        "id": "M_kqfkhqQEXm"
      },
      "execution_count": 52,
      "outputs": []
    },
    {
      "cell_type": "code",
      "source": [
        "dropship = FlyableUnit()"
      ],
      "metadata": {
        "colab": {
          "base_uri": "https://localhost:8080/"
        },
        "id": "-Tu6Q6CRQHZr",
        "outputId": "a531bdaa-32f5-4f8c-d0a3-2f93c452877c"
      },
      "execution_count": 53,
      "outputs": [
        {
          "output_type": "stream",
          "name": "stdout",
          "text": [
            "Flyable 생성자\n"
          ]
        }
      ]
    },
    {
      "cell_type": "code",
      "source": [
        "# 다중상속 case3\n",
        "class Unit:\n",
        "    def __init__(self):\n",
        "        print('Unit 생성자')\n",
        "\n",
        "class Flyable:\n",
        "    def __init__(self):\n",
        "        print('Flyable 생성자')\n",
        "\n",
        "class FlyableUnit(Flyable, Unit):\n",
        "    def __init__(self):\n",
        "        # super().__init__()\n",
        "        Unit.__init__(self)\n",
        "        Flyable.__init__(self)"
      ],
      "metadata": {
        "id": "NRQCx4SZQIe_"
      },
      "execution_count": 54,
      "outputs": []
    },
    {
      "cell_type": "code",
      "source": [
        "dropship = FlyableUnit()"
      ],
      "metadata": {
        "colab": {
          "base_uri": "https://localhost:8080/"
        },
        "outputId": "e331ac1b-c712-4326-d80a-669ee537eb27",
        "id": "-2mFc0FAQgbd"
      },
      "execution_count": 55,
      "outputs": [
        {
          "output_type": "stream",
          "name": "stdout",
          "text": [
            "Unit 생성자\n",
            "Flyable 생성자\n"
          ]
        }
      ]
    },
    {
      "cell_type": "code",
      "source": [
        ""
      ],
      "metadata": {
        "id": "fDa3WjXMQiDv"
      },
      "execution_count": null,
      "outputs": []
    }
  ]
}