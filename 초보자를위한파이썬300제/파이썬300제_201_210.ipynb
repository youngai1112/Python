{
  "nbformat": 4,
  "nbformat_minor": 0,
  "metadata": {
    "colab": {
      "name": "파이썬300제_201~210",
      "provenance": [],
      "collapsed_sections": []
    },
    "kernelspec": {
      "name": "python3",
      "display_name": "Python 3"
    },
    "language_info": {
      "name": "python"
    }
  },
  "cells": [
    {
      "cell_type": "markdown",
      "source": [
        "---\n",
        "201."
      ],
      "metadata": {
        "id": "e37WiJsuW4G6"
      }
    },
    {
      "cell_type": "code",
      "source": [
        "def print_coin():\n",
        "    print('비트코인')"
      ],
      "metadata": {
        "id": "1F6_6J0xW7pI"
      },
      "execution_count": null,
      "outputs": []
    },
    {
      "cell_type": "markdown",
      "source": [
        "---\n",
        "202."
      ],
      "metadata": {
        "id": "Ff50C7ucXANV"
      }
    },
    {
      "cell_type": "code",
      "source": [
        "print_coin()"
      ],
      "metadata": {
        "colab": {
          "base_uri": "https://localhost:8080/"
        },
        "id": "hUMyy0S8XBUW",
        "outputId": "b937134b-4b5e-469a-a621-af0d673fc230"
      },
      "execution_count": null,
      "outputs": [
        {
          "output_type": "stream",
          "name": "stdout",
          "text": [
            "비트코인\n"
          ]
        }
      ]
    },
    {
      "cell_type": "markdown",
      "source": [
        "---\n",
        "203."
      ],
      "metadata": {
        "id": "0uDtZ-uxXGY5"
      }
    },
    {
      "cell_type": "code",
      "source": [
        "for i in range(100):\n",
        "    print_coin()"
      ],
      "metadata": {
        "colab": {
          "base_uri": "https://localhost:8080/"
        },
        "id": "dqplo-wLXHyV",
        "outputId": "603945ab-dd74-4428-e69b-53eb4e0248c4"
      },
      "execution_count": null,
      "outputs": [
        {
          "output_type": "stream",
          "name": "stdout",
          "text": [
            "비트코인\n",
            "비트코인\n",
            "비트코인\n",
            "비트코인\n",
            "비트코인\n",
            "비트코인\n",
            "비트코인\n",
            "비트코인\n",
            "비트코인\n",
            "비트코인\n",
            "비트코인\n",
            "비트코인\n",
            "비트코인\n",
            "비트코인\n",
            "비트코인\n",
            "비트코인\n",
            "비트코인\n",
            "비트코인\n",
            "비트코인\n",
            "비트코인\n",
            "비트코인\n",
            "비트코인\n",
            "비트코인\n",
            "비트코인\n",
            "비트코인\n",
            "비트코인\n",
            "비트코인\n",
            "비트코인\n",
            "비트코인\n",
            "비트코인\n",
            "비트코인\n",
            "비트코인\n",
            "비트코인\n",
            "비트코인\n",
            "비트코인\n",
            "비트코인\n",
            "비트코인\n",
            "비트코인\n",
            "비트코인\n",
            "비트코인\n",
            "비트코인\n",
            "비트코인\n",
            "비트코인\n",
            "비트코인\n",
            "비트코인\n",
            "비트코인\n",
            "비트코인\n",
            "비트코인\n",
            "비트코인\n",
            "비트코인\n",
            "비트코인\n",
            "비트코인\n",
            "비트코인\n",
            "비트코인\n",
            "비트코인\n",
            "비트코인\n",
            "비트코인\n",
            "비트코인\n",
            "비트코인\n",
            "비트코인\n",
            "비트코인\n",
            "비트코인\n",
            "비트코인\n",
            "비트코인\n",
            "비트코인\n",
            "비트코인\n",
            "비트코인\n",
            "비트코인\n",
            "비트코인\n",
            "비트코인\n",
            "비트코인\n",
            "비트코인\n",
            "비트코인\n",
            "비트코인\n",
            "비트코인\n",
            "비트코인\n",
            "비트코인\n",
            "비트코인\n",
            "비트코인\n",
            "비트코인\n",
            "비트코인\n",
            "비트코인\n",
            "비트코인\n",
            "비트코인\n",
            "비트코인\n",
            "비트코인\n",
            "비트코인\n",
            "비트코인\n",
            "비트코인\n",
            "비트코인\n",
            "비트코인\n",
            "비트코인\n",
            "비트코인\n",
            "비트코인\n",
            "비트코인\n",
            "비트코인\n",
            "비트코인\n",
            "비트코인\n",
            "비트코인\n",
            "비트코인\n"
          ]
        }
      ]
    },
    {
      "cell_type": "markdown",
      "source": [
        "---\n",
        "204."
      ],
      "metadata": {
        "id": "eLy-rjXmXOJl"
      }
    },
    {
      "cell_type": "code",
      "source": [
        "def print_coins():\n",
        "    for i in range(100):\n",
        "        print('비트코인')"
      ],
      "metadata": {
        "id": "v_K94KXBXmnU"
      },
      "execution_count": null,
      "outputs": []
    },
    {
      "cell_type": "markdown",
      "source": [
        "---\n",
        "205."
      ],
      "metadata": {
        "id": "KgcDx2APXuSB"
      }
    },
    {
      "cell_type": "code",
      "source": [
        "hello()\n",
        "def hello():\n",
        "    print('Hi') # hello() 함수를 정의하는 구간 밖에서 호출했기 때문"
      ],
      "metadata": {
        "colab": {
          "base_uri": "https://localhost:8080/",
          "height": 212
        },
        "id": "Q-7wq8UIXvnq",
        "outputId": "f1135214-fbed-41e0-ede8-f7c77ae0a9a5"
      },
      "execution_count": null,
      "outputs": [
        {
          "output_type": "error",
          "ename": "NameError",
          "evalue": "ignored",
          "traceback": [
            "\u001b[0;31m---------------------------------------------------------------------------\u001b[0m",
            "\u001b[0;31mNameError\u001b[0m                                 Traceback (most recent call last)",
            "\u001b[0;32m<ipython-input-8-e769a06c3d1c>\u001b[0m in \u001b[0;36m<module>\u001b[0;34m()\u001b[0m\n\u001b[0;32m----> 1\u001b[0;31m \u001b[0mhello\u001b[0m\u001b[0;34m(\u001b[0m\u001b[0;34m)\u001b[0m\u001b[0;34m\u001b[0m\u001b[0;34m\u001b[0m\u001b[0m\n\u001b[0m\u001b[1;32m      2\u001b[0m \u001b[0;32mdef\u001b[0m \u001b[0mhello\u001b[0m\u001b[0;34m(\u001b[0m\u001b[0;34m)\u001b[0m\u001b[0;34m:\u001b[0m\u001b[0;34m\u001b[0m\u001b[0;34m\u001b[0m\u001b[0m\n\u001b[1;32m      3\u001b[0m     \u001b[0mprint\u001b[0m\u001b[0;34m(\u001b[0m\u001b[0;34m'Hi'\u001b[0m\u001b[0;34m)\u001b[0m \u001b[0;31m# hello() 함수를 정의하는 구간 밖에서 호출했기 때문\u001b[0m\u001b[0;34m\u001b[0m\u001b[0;34m\u001b[0m\u001b[0m\n",
            "\u001b[0;31mNameError\u001b[0m: name 'hello' is not defined"
          ]
        }
      ]
    },
    {
      "cell_type": "code",
      "source": [
        "# 함수가 정의되지 전에 호출되어서 에러가 발생함"
      ],
      "metadata": {
        "id": "vE2TfiB0Z46c"
      },
      "execution_count": null,
      "outputs": []
    },
    {
      "cell_type": "markdown",
      "source": [
        "---\n",
        "206."
      ],
      "metadata": {
        "id": "Bo3O8gjSX9mV"
      }
    },
    {
      "cell_type": "code",
      "source": [
        "def message():\n",
        "    print('A')\n",
        "    print('B')\n",
        "\n",
        "message()\n",
        "print('C')\n",
        "message()\n",
        "\n",
        "'''\n",
        "A\n",
        "B\n",
        "C\n",
        "A\n",
        "B\n",
        "'''"
      ],
      "metadata": {
        "colab": {
          "base_uri": "https://localhost:8080/",
          "height": 128
        },
        "id": "MCc0lIcUX_X4",
        "outputId": "42f02844-5ecc-4bc0-b4fb-963a4c9d1eae"
      },
      "execution_count": null,
      "outputs": [
        {
          "output_type": "stream",
          "name": "stdout",
          "text": [
            "A\n",
            "B\n",
            "C\n",
            "A\n",
            "B\n"
          ]
        },
        {
          "output_type": "execute_result",
          "data": {
            "application/vnd.google.colaboratory.intrinsic+json": {
              "type": "string"
            },
            "text/plain": [
              "'\\nA\\nB\\nC\\nA\\nB\\n'"
            ]
          },
          "metadata": {},
          "execution_count": 9
        }
      ]
    },
    {
      "cell_type": "markdown",
      "source": [
        "---\n",
        "207."
      ],
      "metadata": {
        "id": "cyGut6ziYUzp"
      }
    },
    {
      "cell_type": "code",
      "source": [
        "print('A')\n",
        "\n",
        "def message():\n",
        "    print('B')\n",
        "\n",
        "print('C')\n",
        "message()\n",
        "\n",
        "'''\n",
        "A\n",
        "C\n",
        "B\n",
        "'''"
      ],
      "metadata": {
        "colab": {
          "base_uri": "https://localhost:8080/",
          "height": 91
        },
        "id": "tO6xRkH7YY8U",
        "outputId": "2b1c42c9-af1d-4e03-b879-5637aa3cf1f4"
      },
      "execution_count": null,
      "outputs": [
        {
          "output_type": "stream",
          "name": "stdout",
          "text": [
            "A\n",
            "C\n",
            "B\n"
          ]
        },
        {
          "output_type": "execute_result",
          "data": {
            "application/vnd.google.colaboratory.intrinsic+json": {
              "type": "string"
            },
            "text/plain": [
              "'\\nA\\nC\\nB\\n'"
            ]
          },
          "metadata": {},
          "execution_count": 10
        }
      ]
    },
    {
      "cell_type": "markdown",
      "source": [
        "---\n",
        "208."
      ],
      "metadata": {
        "id": "l9vD_b4KYjyJ"
      }
    },
    {
      "cell_type": "code",
      "source": [
        "print('A')\n",
        "def message1():\n",
        "    print('B')\n",
        "print('C')\n",
        "def message2():\n",
        "    print('D')\n",
        "message1()\n",
        "print('E')\n",
        "message2()\n",
        "\n",
        "'''\n",
        "A\n",
        "C\n",
        "B\n",
        "E\n",
        "D\n",
        "'''"
      ],
      "metadata": {
        "colab": {
          "base_uri": "https://localhost:8080/",
          "height": 128
        },
        "id": "XOgWPmDBYm6j",
        "outputId": "383d70b6-093f-4d6b-fb9a-a8a495a51065"
      },
      "execution_count": null,
      "outputs": [
        {
          "output_type": "stream",
          "name": "stdout",
          "text": [
            "A\n",
            "C\n",
            "B\n",
            "E\n",
            "D\n"
          ]
        },
        {
          "output_type": "execute_result",
          "data": {
            "application/vnd.google.colaboratory.intrinsic+json": {
              "type": "string"
            },
            "text/plain": [
              "'\\nA\\nC\\nB\\nE\\nD\\n'"
            ]
          },
          "metadata": {},
          "execution_count": 11
        }
      ]
    },
    {
      "cell_type": "markdown",
      "source": [
        "---\n",
        "209."
      ],
      "metadata": {
        "id": "aAehX9SCY542"
      }
    },
    {
      "cell_type": "code",
      "source": [
        "def message1():\n",
        "    print('A')\n",
        "\n",
        "def message2():\n",
        "    print('B')\n",
        "    message1()\n",
        "\n",
        "message2()\n",
        "\n",
        "'''\n",
        "B\n",
        "A\n",
        "'''"
      ],
      "metadata": {
        "colab": {
          "base_uri": "https://localhost:8080/",
          "height": 73
        },
        "id": "1u6jnUz2Y7zr",
        "outputId": "77c3e313-5e05-4053-f7cc-5bf9aa5c05ba"
      },
      "execution_count": null,
      "outputs": [
        {
          "output_type": "stream",
          "name": "stdout",
          "text": [
            "B\n",
            "A\n"
          ]
        },
        {
          "output_type": "execute_result",
          "data": {
            "application/vnd.google.colaboratory.intrinsic+json": {
              "type": "string"
            },
            "text/plain": [
              "'\\nB\\nA\\n'"
            ]
          },
          "metadata": {},
          "execution_count": 13
        }
      ]
    },
    {
      "cell_type": "markdown",
      "source": [
        "---\n",
        "210."
      ],
      "metadata": {
        "id": "LBWJODiyZIyM"
      }
    },
    {
      "cell_type": "code",
      "source": [
        "def message1():\n",
        "    print('A')\n",
        "\n",
        "def message2():\n",
        "    print('B')\n",
        "\n",
        "def message3():\n",
        "    for i in range(3):\n",
        "        message2()\n",
        "        print('C')\n",
        "    message1()\n",
        "\n",
        "message3()\n",
        "\n",
        "'''\n",
        "B\n",
        "B\n",
        "B\n",
        "C\n",
        "A\n",
        "'''"
      ],
      "metadata": {
        "colab": {
          "base_uri": "https://localhost:8080/",
          "height": 165
        },
        "id": "SC2JG98iZOIi",
        "outputId": "4c740c19-8e7f-4a4e-b3b0-5382bbdf580e"
      },
      "execution_count": null,
      "outputs": [
        {
          "output_type": "stream",
          "name": "stdout",
          "text": [
            "B\n",
            "C\n",
            "B\n",
            "C\n",
            "B\n",
            "C\n",
            "A\n"
          ]
        },
        {
          "output_type": "execute_result",
          "data": {
            "application/vnd.google.colaboratory.intrinsic+json": {
              "type": "string"
            },
            "text/plain": [
              "'\\nB\\nB\\nB\\nC\\nA\\n'"
            ]
          },
          "metadata": {},
          "execution_count": 15
        }
      ]
    },
    {
      "cell_type": "code",
      "source": [
        "# \n",
        "'''\n",
        "B\n",
        "C\n",
        "B\n",
        "C\n",
        "B\n",
        "C\n",
        "A\n",
        "'''"
      ],
      "metadata": {
        "id": "tJtb47qWZmEB"
      },
      "execution_count": null,
      "outputs": []
    }
  ]
}