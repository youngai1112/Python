{
  "nbformat": 4,
  "nbformat_minor": 0,
  "metadata": {
    "colab": {
      "name": "파이썬300제_141~150",
      "provenance": [],
      "collapsed_sections": []
    },
    "kernelspec": {
      "name": "python3",
      "display_name": "Python 3"
    },
    "language_info": {
      "name": "python"
    }
  },
  "cells": [
    {
      "cell_type": "markdown",
      "source": [
        "---\n",
        "141."
      ],
      "metadata": {
        "id": "rxwy7ECZwK07"
      }
    },
    {
      "cell_type": "code",
      "source": [
        "lst = [100, 200, 300]\n",
        "\n",
        "for i in lst:\n",
        "    print(i + 10)"
      ],
      "metadata": {
        "colab": {
          "base_uri": "https://localhost:8080/"
        },
        "id": "6ttSLNtOwPbQ",
        "outputId": "4c018bd3-6ec1-4e03-cf19-9222ce0f85bc"
      },
      "execution_count": 2,
      "outputs": [
        {
          "output_type": "stream",
          "name": "stdout",
          "text": [
            "110\n",
            "210\n",
            "310\n"
          ]
        }
      ]
    },
    {
      "cell_type": "markdown",
      "source": [
        "---\n",
        "142."
      ],
      "metadata": {
        "id": "mjQRy0cJzJQW"
      }
    },
    {
      "cell_type": "code",
      "source": [
        "lst = ['김밥', '라면', '튀김']\n",
        "\n",
        "for i in lst:\n",
        "    print('오늘의 메뉴: ', i)"
      ],
      "metadata": {
        "colab": {
          "base_uri": "https://localhost:8080/"
        },
        "id": "Jd1o3t56zKuU",
        "outputId": "4e1d3fde-510c-4c18-be2e-93541536827a"
      },
      "execution_count": 3,
      "outputs": [
        {
          "output_type": "stream",
          "name": "stdout",
          "text": [
            "오늘의 메뉴:  김밥\n",
            "오늘의 메뉴:  라면\n",
            "오늘의 메뉴:  튀김\n"
          ]
        }
      ]
    },
    {
      "cell_type": "markdown",
      "source": [
        "---\n",
        "143."
      ],
      "metadata": {
        "id": "di9RP1XhzWES"
      }
    },
    {
      "cell_type": "code",
      "source": [
        "lst = ['SK하이닉스', '삼성전자', 'LG전자']\n",
        "\n",
        "for i in lst:\n",
        "    print(len(i))"
      ],
      "metadata": {
        "colab": {
          "base_uri": "https://localhost:8080/"
        },
        "id": "MtHdSW1hzXxk",
        "outputId": "52f7cdb9-e0b2-464b-cdc4-4f5dbd8cccaf"
      },
      "execution_count": 4,
      "outputs": [
        {
          "output_type": "stream",
          "name": "stdout",
          "text": [
            "6\n",
            "4\n",
            "4\n"
          ]
        }
      ]
    },
    {
      "cell_type": "markdown",
      "source": [
        "---\n",
        "144."
      ],
      "metadata": {
        "id": "p7VsXBOZzgdg"
      }
    },
    {
      "cell_type": "code",
      "source": [
        "lst = ['dog', 'cat', 'parrot']\n",
        "\n",
        "for i in lst:\n",
        "    print(f'{i}', len(i))"
      ],
      "metadata": {
        "colab": {
          "base_uri": "https://localhost:8080/"
        },
        "id": "MLN8Fwy4ziGE",
        "outputId": "7f2042d9-d13a-4f52-aba7-5ec9bab26876"
      },
      "execution_count": 5,
      "outputs": [
        {
          "output_type": "stream",
          "name": "stdout",
          "text": [
            "dog 3\n",
            "cat 3\n",
            "parrot 6\n"
          ]
        }
      ]
    },
    {
      "cell_type": "markdown",
      "source": [
        "---\n",
        "145."
      ],
      "metadata": {
        "id": "s1UYnxEGztKl"
      }
    },
    {
      "cell_type": "code",
      "source": [
        "lst = ['dog', 'cat', 'parrot']\n",
        "\n",
        "for i in lst:\n",
        "    print(i[0])"
      ],
      "metadata": {
        "colab": {
          "base_uri": "https://localhost:8080/"
        },
        "id": "BaB_J2C5zwz7",
        "outputId": "c0e2181e-1cc7-4c0e-c966-73f27551c520"
      },
      "execution_count": 8,
      "outputs": [
        {
          "output_type": "stream",
          "name": "stdout",
          "text": [
            "d\n",
            "c\n",
            "p\n"
          ]
        }
      ]
    },
    {
      "cell_type": "markdown",
      "source": [
        "---\n",
        "146."
      ],
      "metadata": {
        "id": "BmrkjTz5z5LU"
      }
    },
    {
      "cell_type": "code",
      "source": [
        "lst = [1,2,3]\n",
        "\n",
        "for i in lst:\n",
        "    print(3, 'x', i)"
      ],
      "metadata": {
        "colab": {
          "base_uri": "https://localhost:8080/"
        },
        "id": "P6VwPMKE0DHr",
        "outputId": "6aa19546-296e-46a0-fe41-6da34befe0af"
      },
      "execution_count": 9,
      "outputs": [
        {
          "output_type": "stream",
          "name": "stdout",
          "text": [
            "3 x 1\n",
            "3 x 2\n",
            "3 x 3\n"
          ]
        }
      ]
    },
    {
      "cell_type": "markdown",
      "source": [
        "---\n",
        "147."
      ],
      "metadata": {
        "id": "NEUXf3pW0NXs"
      }
    },
    {
      "cell_type": "code",
      "source": [
        "lst = [1,2,3]\n",
        "\n",
        "for i in lst:\n",
        "    print(3, 'x', i, '=', 3 * i)"
      ],
      "metadata": {
        "colab": {
          "base_uri": "https://localhost:8080/"
        },
        "id": "ACFCBJI50PJI",
        "outputId": "04d6f834-ab46-41be-e07e-8f8f4621f4dd"
      },
      "execution_count": 11,
      "outputs": [
        {
          "output_type": "stream",
          "name": "stdout",
          "text": [
            "3 x 1 = 3\n",
            "3 x 2 = 6\n",
            "3 x 3 = 9\n"
          ]
        }
      ]
    },
    {
      "cell_type": "code",
      "source": [
        "# \n",
        "lst = [1,2,3]\n",
        "for i in lst:\n",
        "    print(f'3 x {i} = {i * 3}')"
      ],
      "metadata": {
        "colab": {
          "base_uri": "https://localhost:8080/"
        },
        "id": "uQlEk2IW4Yr3",
        "outputId": "a8b00d0c-97c8-4110-dd5a-538b7ff74228"
      },
      "execution_count": 49,
      "outputs": [
        {
          "output_type": "stream",
          "name": "stdout",
          "text": [
            "3 x 1 = 3\n",
            "3 x 2 = 6\n",
            "3 x 3 = 9\n"
          ]
        }
      ]
    },
    {
      "cell_type": "code",
      "source": [
        "#\n",
        "lst = [1,2,3]\n",
        "for i in lst:\n",
        "    print('3 x {} = {}'.format(i, 3 * i))"
      ],
      "metadata": {
        "colab": {
          "base_uri": "https://localhost:8080/"
        },
        "id": "46Pj5QeZ4pU6",
        "outputId": "971d078a-5d1e-43e6-d875-8ac565bdb5b7"
      },
      "execution_count": 50,
      "outputs": [
        {
          "output_type": "stream",
          "name": "stdout",
          "text": [
            "3 x 1 = 3\n",
            "3 x 2 = 6\n",
            "3 x 3 = 9\n"
          ]
        }
      ]
    },
    {
      "cell_type": "markdown",
      "source": [
        "---\n",
        "★ 148.\n",
        "- slicing"
      ],
      "metadata": {
        "id": "iqTuqAIe0c3R"
      }
    },
    {
      "cell_type": "code",
      "source": [
        "lst = ['가', '나', '다', '라']\n",
        "\n",
        "for i in range(1,4):\n",
        "    print(lst[i])"
      ],
      "metadata": {
        "colab": {
          "base_uri": "https://localhost:8080/"
        },
        "id": "T_3mBjOD0hZq",
        "outputId": "8deb8ff1-76bb-41a7-a5af-47a2679d13e6"
      },
      "execution_count": 18,
      "outputs": [
        {
          "output_type": "stream",
          "name": "stdout",
          "text": [
            "나\n",
            "다\n",
            "라\n"
          ]
        }
      ]
    },
    {
      "cell_type": "code",
      "source": [
        "#\n",
        "lst = ['가','나','다','라']\n",
        "\n",
        "for i in lst[1:]:\n",
        "    print(i)"
      ],
      "metadata": {
        "colab": {
          "base_uri": "https://localhost:8080/"
        },
        "id": "wl2m4Wxe450b",
        "outputId": "2057ef56-d01f-4a02-d9ea-61bccc70ef0e"
      },
      "execution_count": 51,
      "outputs": [
        {
          "output_type": "stream",
          "name": "stdout",
          "text": [
            "나\n",
            "다\n",
            "라\n"
          ]
        }
      ]
    },
    {
      "cell_type": "markdown",
      "source": [
        "---\n",
        "★ 149.\n",
        "- list slicing[start:end:step]"
      ],
      "metadata": {
        "id": "fDPvW9040ppC"
      }
    },
    {
      "cell_type": "code",
      "source": [
        "lst = ['가','나','다','라']\n",
        "\n",
        "for i in range(0,4,2):\n",
        "    print(lst[i])"
      ],
      "metadata": {
        "colab": {
          "base_uri": "https://localhost:8080/"
        },
        "id": "SkDFPn0V1RsC",
        "outputId": "a2b0cd1f-9fc5-4cd3-af1a-10c90bcc19c3"
      },
      "execution_count": 19,
      "outputs": [
        {
          "output_type": "stream",
          "name": "stdout",
          "text": [
            "가\n",
            "다\n"
          ]
        }
      ]
    },
    {
      "cell_type": "code",
      "source": [
        "#\n",
        "lst = ['가','나','다','라']\n",
        "\n",
        "for i in lst[::2]:\n",
        "    print(i)"
      ],
      "metadata": {
        "colab": {
          "base_uri": "https://localhost:8080/"
        },
        "id": "wX9hkhz45NHw",
        "outputId": "0aaab56c-4f9a-406d-f320-9e260bd0628d"
      },
      "execution_count": 52,
      "outputs": [
        {
          "output_type": "stream",
          "name": "stdout",
          "text": [
            "가\n",
            "다\n"
          ]
        }
      ]
    },
    {
      "cell_type": "markdown",
      "source": [
        "---\n",
        "★ 150.\n",
        "- slicing"
      ],
      "metadata": {
        "id": "O7HrG8Kt1Z_q"
      }
    },
    {
      "cell_type": "code",
      "source": [
        "lst = ['가','나','다','라']\n",
        "lst.sort(reverse=True)\n",
        "\n",
        "for i in lst:\n",
        "    print(i)"
      ],
      "metadata": {
        "colab": {
          "base_uri": "https://localhost:8080/"
        },
        "id": "P8GnaNBk1cyh",
        "outputId": "321e6c7b-8417-4704-f977-095533c5d9d7"
      },
      "execution_count": 48,
      "outputs": [
        {
          "output_type": "stream",
          "name": "stdout",
          "text": [
            "라\n",
            "다\n",
            "나\n",
            "가\n"
          ]
        }
      ]
    },
    {
      "cell_type": "code",
      "source": [
        "#\n",
        "lst = ['가','나','다','라']\n",
        "\n",
        "for i in lst[::-1]:\n",
        "    print(i)"
      ],
      "metadata": {
        "colab": {
          "base_uri": "https://localhost:8080/"
        },
        "id": "6eFcCZNg5ltS",
        "outputId": "38d12b31-1930-4afe-9b74-13871c56ab0f"
      },
      "execution_count": 53,
      "outputs": [
        {
          "output_type": "stream",
          "name": "stdout",
          "text": [
            "라\n",
            "다\n",
            "나\n",
            "가\n"
          ]
        }
      ]
    }
  ]
}