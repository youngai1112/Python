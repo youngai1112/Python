{
  "nbformat": 4,
  "nbformat_minor": 0,
  "metadata": {
    "colab": {
      "name": "파이썬300제_101~110",
      "provenance": [],
      "collapsed_sections": []
    },
    "kernelspec": {
      "name": "python3",
      "display_name": "Python 3"
    },
    "language_info": {
      "name": "python"
    }
  },
  "cells": [
    {
      "cell_type": "markdown",
      "source": [
        "---\n",
        "101."
      ],
      "metadata": {
        "id": "cNkistvX5D-O"
      }
    },
    {
      "cell_type": "code",
      "source": [
        "# bool type"
      ],
      "metadata": {
        "id": "lPRB0mMC5IrN"
      },
      "execution_count": 1,
      "outputs": []
    },
    {
      "cell_type": "markdown",
      "source": [
        "---\n",
        "102."
      ],
      "metadata": {
        "id": "fKtnApoX5Pce"
      }
    },
    {
      "cell_type": "code",
      "source": [
        "print(3 == 5)   # False"
      ],
      "metadata": {
        "colab": {
          "base_uri": "https://localhost:8080/"
        },
        "id": "EmjtipV35Qic",
        "outputId": "65a98e28-8949-413c-e8a3-e0db382f27b8"
      },
      "execution_count": 2,
      "outputs": [
        {
          "output_type": "stream",
          "name": "stdout",
          "text": [
            "False\n"
          ]
        }
      ]
    },
    {
      "cell_type": "markdown",
      "source": [
        "---\n",
        "103."
      ],
      "metadata": {
        "id": "QB2tZn1D5Tpv"
      }
    },
    {
      "cell_type": "code",
      "source": [
        "print(3 < 5)    # True"
      ],
      "metadata": {
        "colab": {
          "base_uri": "https://localhost:8080/"
        },
        "id": "jO1Xhght5Va3",
        "outputId": "b2132a5e-0f13-49bd-8a39-d93ce170da80"
      },
      "execution_count": 3,
      "outputs": [
        {
          "output_type": "stream",
          "name": "stdout",
          "text": [
            "True\n"
          ]
        }
      ]
    },
    {
      "cell_type": "markdown",
      "source": [
        "---\n",
        "104."
      ],
      "metadata": {
        "id": "XKclMpPs5ZLd"
      }
    },
    {
      "cell_type": "code",
      "source": [
        "x = 4\n",
        "print(1 < x < 5)    # True"
      ],
      "metadata": {
        "colab": {
          "base_uri": "https://localhost:8080/"
        },
        "id": "qQ41hlbw5abG",
        "outputId": "6ace8834-5dba-4d72-8a08-8dc300b6df8e"
      },
      "execution_count": 4,
      "outputs": [
        {
          "output_type": "stream",
          "name": "stdout",
          "text": [
            "True\n"
          ]
        }
      ]
    },
    {
      "cell_type": "markdown",
      "source": [
        "---\n",
        "105."
      ],
      "metadata": {
        "id": "mKBYwOck5hD4"
      }
    },
    {
      "cell_type": "code",
      "source": [
        "print((3 == 3) and (4 != 3))    # True"
      ],
      "metadata": {
        "colab": {
          "base_uri": "https://localhost:8080/"
        },
        "id": "jxkb6dfU5iVO",
        "outputId": "75574831-5691-48bc-fddc-7d7cd24e9b5f"
      },
      "execution_count": 5,
      "outputs": [
        {
          "output_type": "stream",
          "name": "stdout",
          "text": [
            "True\n"
          ]
        }
      ]
    },
    {
      "cell_type": "markdown",
      "source": [
        "---\n",
        "106."
      ],
      "metadata": {
        "id": "UjhNhVY65okc"
      }
    },
    {
      "cell_type": "code",
      "source": [
        "print(3 => 4)   # print(3 >= 4)가 맞는 표현"
      ],
      "metadata": {
        "colab": {
          "base_uri": "https://localhost:8080/",
          "height": 139
        },
        "id": "wkoCymP95qPM",
        "outputId": "ec23acf7-3a3d-40fc-c741-87d81ee61b2d"
      },
      "execution_count": 6,
      "outputs": [
        {
          "output_type": "error",
          "ename": "SyntaxError",
          "evalue": "ignored",
          "traceback": [
            "\u001b[0;36m  File \u001b[0;32m\"<ipython-input-6-c9406692b4b3>\"\u001b[0;36m, line \u001b[0;32m1\u001b[0m\n\u001b[0;31m    print(3 => 4)   # print(3 >= 4)가 맞는 표현\u001b[0m\n\u001b[0m             ^\u001b[0m\n\u001b[0;31mSyntaxError\u001b[0m\u001b[0;31m:\u001b[0m invalid syntax\n"
          ]
        }
      ]
    },
    {
      "cell_type": "markdown",
      "source": [
        "---\n",
        "107."
      ],
      "metadata": {
        "id": "h7U5mgyt5wwJ"
      }
    },
    {
      "cell_type": "code",
      "source": [
        "if 4 < 3:\n",
        "    print(\"Hello world\")    # 아무 것도 출력하지 않는다"
      ],
      "metadata": {
        "id": "Xts-qdTd5zAv"
      },
      "execution_count": 7,
      "outputs": []
    },
    {
      "cell_type": "markdown",
      "source": [
        "---\n",
        "108."
      ],
      "metadata": {
        "id": "8_Ti4y3D56BL"
      }
    },
    {
      "cell_type": "code",
      "source": [
        "if 4 < 3:\n",
        "    print('Hello world.')\n",
        "else:\n",
        "    print('Hi, there')     # Hi, there"
      ],
      "metadata": {
        "colab": {
          "base_uri": "https://localhost:8080/"
        },
        "id": "XxAHo22g59HA",
        "outputId": "0a445f75-bcab-4737-f322-4306a384e2be"
      },
      "execution_count": 9,
      "outputs": [
        {
          "output_type": "stream",
          "name": "stdout",
          "text": [
            "Hi, there\n"
          ]
        }
      ]
    },
    {
      "cell_type": "markdown",
      "source": [
        "---\n",
        "109."
      ],
      "metadata": {
        "id": "NAqjXYJ06HsS"
      }
    },
    {
      "cell_type": "code",
      "source": [
        "if True:\n",
        "    print('1')\n",
        "    print('2')\n",
        "else:\n",
        "    print('3')\n",
        "print('4')      # 4"
      ],
      "metadata": {
        "colab": {
          "base_uri": "https://localhost:8080/"
        },
        "id": "ddd0WMl36KvT",
        "outputId": "51e29985-dfc2-423d-b0ff-9f06e90d9ce2"
      },
      "execution_count": 10,
      "outputs": [
        {
          "output_type": "stream",
          "name": "stdout",
          "text": [
            "1\n",
            "2\n",
            "4\n"
          ]
        }
      ]
    },
    {
      "cell_type": "markdown",
      "source": [
        "---\n",
        "110."
      ],
      "metadata": {
        "id": "-cryWdKO6Tg2"
      }
    },
    {
      "cell_type": "code",
      "source": [
        "if True:\n",
        "    if False:\n",
        "        print('1')\n",
        "        print('2')\n",
        "    else:\n",
        "        print('3')\n",
        "else:\n",
        "    print('4')\n",
        "print('5')      # 3 5"
      ],
      "metadata": {
        "colab": {
          "base_uri": "https://localhost:8080/"
        },
        "id": "YsaS8JvQ6XjD",
        "outputId": "6cb58eae-80ff-434c-f250-a3394cc44fb7"
      },
      "execution_count": 11,
      "outputs": [
        {
          "output_type": "stream",
          "name": "stdout",
          "text": [
            "3\n",
            "5\n"
          ]
        }
      ]
    }
  ]
}