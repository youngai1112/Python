{
  "nbformat": 4,
  "nbformat_minor": 0,
  "metadata": {
    "colab": {
      "name": "파이썬300제_131~140",
      "provenance": [],
      "collapsed_sections": []
    },
    "kernelspec": {
      "name": "python3",
      "display_name": "Python 3"
    },
    "language_info": {
      "name": "python"
    }
  },
  "cells": [
    {
      "cell_type": "markdown",
      "source": [
        "---\n",
        "131."
      ],
      "metadata": {
        "id": "DffCnR54qpA3"
      }
    },
    {
      "cell_type": "code",
      "source": [
        "과일 = ['사과', '귤', '수박']\n",
        "for 변수 in 과일:\n",
        "    print(변수)     # 사과\\n귤\\n수박"
      ],
      "metadata": {
        "colab": {
          "base_uri": "https://localhost:8080/"
        },
        "id": "kDZOUwMoqwYh",
        "outputId": "8b210475-5c34-4ae7-aabc-c254fcbf2876"
      },
      "execution_count": 1,
      "outputs": [
        {
          "output_type": "stream",
          "name": "stdout",
          "text": [
            "사과\n",
            "귤\n",
            "수박\n"
          ]
        }
      ]
    },
    {
      "cell_type": "markdown",
      "source": [
        "---\n",
        "132."
      ],
      "metadata": {
        "id": "lTLZNQH-q-2q"
      }
    },
    {
      "cell_type": "code",
      "source": [
        "과일 = ['사과', '귤', '수박']\n",
        "for 변수 in 과일:\n",
        "    print('#####')  # #####\\n#####\\n#####"
      ],
      "metadata": {
        "colab": {
          "base_uri": "https://localhost:8080/"
        },
        "id": "yi_67stYrBvr",
        "outputId": "0b79ef3e-7b96-4434-8bd4-22bcaa5dd3b0"
      },
      "execution_count": 2,
      "outputs": [
        {
          "output_type": "stream",
          "name": "stdout",
          "text": [
            "#####\n",
            "#####\n",
            "#####\n"
          ]
        }
      ]
    },
    {
      "cell_type": "markdown",
      "source": [
        "---\n",
        "133."
      ],
      "metadata": {
        "id": "AV3rmCdwrS8T"
      }
    },
    {
      "cell_type": "code",
      "source": [
        "'''\n",
        "for 변수 in ['A', 'B', 'C']:\n",
        "    print(변수)\n",
        "'''\n",
        "\n",
        "lst = ['A', 'B', 'C']\n",
        "for i in lst:\n",
        "    print(i)"
      ],
      "metadata": {
        "colab": {
          "base_uri": "https://localhost:8080/"
        },
        "id": "GbZFiS31rVBG",
        "outputId": "ce72b90f-30ab-400f-84de-e1d0091b3f9e"
      },
      "execution_count": 3,
      "outputs": [
        {
          "output_type": "stream",
          "name": "stdout",
          "text": [
            "A\n",
            "B\n",
            "C\n"
          ]
        }
      ]
    },
    {
      "cell_type": "code",
      "source": [
        "# \n",
        "print('A')\n",
        "print('B')\n",
        "print('C')"
      ],
      "metadata": {
        "colab": {
          "base_uri": "https://localhost:8080/"
        },
        "id": "5xkmqharrmvi",
        "outputId": "8ec1c342-f0d5-4340-dd10-ebfbacc4a99a"
      },
      "execution_count": 4,
      "outputs": [
        {
          "output_type": "stream",
          "name": "stdout",
          "text": [
            "A\n",
            "B\n",
            "C\n"
          ]
        }
      ]
    },
    {
      "cell_type": "markdown",
      "source": [
        "---\n",
        "134."
      ],
      "metadata": {
        "id": "dy2tOUjHrwuC"
      }
    },
    {
      "cell_type": "code",
      "source": [
        "'''\n",
        "for 변수 in ['A','B','C']:\n",
        "    print('출력:', 변수)\n",
        "'''\n",
        "\n",
        "print('출력:','A')\n",
        "print('출력:','B')\n",
        "print('출력:','C')"
      ],
      "metadata": {
        "colab": {
          "base_uri": "https://localhost:8080/"
        },
        "id": "--1xRuM9ryYH",
        "outputId": "3db367ce-0ad3-45fd-9e4c-2bfe22637579"
      },
      "execution_count": 5,
      "outputs": [
        {
          "output_type": "stream",
          "name": "stdout",
          "text": [
            "출력: A\n",
            "출력: B\n",
            "출력: C\n"
          ]
        }
      ]
    },
    {
      "cell_type": "markdown",
      "source": [
        "---\n",
        "135."
      ],
      "metadata": {
        "id": "OMeFGw8isGoP"
      }
    },
    {
      "cell_type": "code",
      "source": [
        "'''\n",
        "for 변수 in ['A','B','C']:\n",
        "    b = 변수.lower()\n",
        "    print('변환:', b)\n",
        "'''\n",
        "\n",
        "print('변환:', 'A'.lower())\n",
        "print('변환:', 'B'.lower())\n",
        "print('변환:', 'C'.lower())"
      ],
      "metadata": {
        "colab": {
          "base_uri": "https://localhost:8080/"
        },
        "id": "biBelIm_sKru",
        "outputId": "3a61f9ec-f788-4f37-f298-1684d9708224"
      },
      "execution_count": 7,
      "outputs": [
        {
          "output_type": "stream",
          "name": "stdout",
          "text": [
            "변환: a\n",
            "변환: b\n",
            "변환: c\n"
          ]
        }
      ]
    },
    {
      "cell_type": "markdown",
      "source": [
        "---\n",
        "136."
      ],
      "metadata": {
        "id": "LV1sOnQpskcR"
      }
    },
    {
      "cell_type": "code",
      "source": [
        "for i in range(10,31,10):\n",
        "    print(i)"
      ],
      "metadata": {
        "colab": {
          "base_uri": "https://localhost:8080/"
        },
        "id": "GqQZJYnFsmqq",
        "outputId": "924b7e7b-cebb-45fb-cb69-88357b4566ba"
      },
      "execution_count": 8,
      "outputs": [
        {
          "output_type": "stream",
          "name": "stdout",
          "text": [
            "10\n",
            "20\n",
            "30\n"
          ]
        }
      ]
    },
    {
      "cell_type": "markdown",
      "source": [
        "---\n",
        "137."
      ],
      "metadata": {
        "id": "slfdE4Qrstz3"
      }
    },
    {
      "cell_type": "code",
      "source": [
        "for i in range(10,31,10):\n",
        "    print(i)"
      ],
      "metadata": {
        "colab": {
          "base_uri": "https://localhost:8080/"
        },
        "id": "3RNNuFa-svnJ",
        "outputId": "6926c796-4cd9-49ce-e902-fe95d1c6ada3"
      },
      "execution_count": 9,
      "outputs": [
        {
          "output_type": "stream",
          "name": "stdout",
          "text": [
            "10\n",
            "20\n",
            "30\n"
          ]
        }
      ]
    },
    {
      "cell_type": "markdown",
      "source": [
        "---\n",
        "138."
      ],
      "metadata": {
        "id": "-zqfc-D-s3Us"
      }
    },
    {
      "cell_type": "code",
      "source": [
        "for i in range(10,31,10):\n",
        "    print(i)\n",
        "    print('-------')"
      ],
      "metadata": {
        "colab": {
          "base_uri": "https://localhost:8080/"
        },
        "id": "u77JAamIs45Z",
        "outputId": "78991068-b845-4a5d-a27c-b24cbfe74f4f"
      },
      "execution_count": 10,
      "outputs": [
        {
          "output_type": "stream",
          "name": "stdout",
          "text": [
            "10\n",
            "-------\n",
            "20\n",
            "-------\n",
            "30\n",
            "-------\n"
          ]
        }
      ]
    },
    {
      "cell_type": "markdown",
      "source": [
        "---\n",
        "139."
      ],
      "metadata": {
        "id": "qhuEiSy4tALF"
      }
    },
    {
      "cell_type": "code",
      "source": [
        "a = [10,20,30]\n",
        "\n",
        "for i in a:\n",
        "    print('++++')\n",
        "    print(a[0])\n",
        "    print(a[1])\n",
        "    print(a[2])\n",
        "    break"
      ],
      "metadata": {
        "colab": {
          "base_uri": "https://localhost:8080/"
        },
        "id": "eaw2cvKctDYg",
        "outputId": "cada360e-d394-48c4-b7d3-6bfa1c721bbc"
      },
      "execution_count": 27,
      "outputs": [
        {
          "output_type": "stream",
          "name": "stdout",
          "text": [
            "++++\n",
            "10\n",
            "20\n",
            "30\n"
          ]
        }
      ]
    },
    {
      "cell_type": "code",
      "source": [
        "#\n",
        "print('#####')\n",
        "for i in [10,20,30]:\n",
        "    print(i)"
      ],
      "metadata": {
        "colab": {
          "base_uri": "https://localhost:8080/"
        },
        "id": "aJltFnZrvjNy",
        "outputId": "75b6e501-d8c8-4911-8f2b-b7575498cf8e"
      },
      "execution_count": 28,
      "outputs": [
        {
          "output_type": "stream",
          "name": "stdout",
          "text": [
            "#####\n",
            "10\n",
            "20\n",
            "30\n"
          ]
        }
      ]
    },
    {
      "cell_type": "markdown",
      "source": [
        "---\n",
        "140."
      ],
      "metadata": {
        "id": "Oopbkr_qtQ_y"
      }
    },
    {
      "cell_type": "code",
      "source": [
        "for i in range(4):\n",
        "    print('-------')"
      ],
      "metadata": {
        "colab": {
          "base_uri": "https://localhost:8080/"
        },
        "id": "pGICCjlit-0r",
        "outputId": "f87c5f21-802c-4c80-9f4e-ec24f8a65f1e"
      },
      "execution_count": 17,
      "outputs": [
        {
          "output_type": "stream",
          "name": "stdout",
          "text": [
            "-------\n",
            "-------\n",
            "-------\n",
            "-------\n"
          ]
        }
      ]
    }
  ]
}