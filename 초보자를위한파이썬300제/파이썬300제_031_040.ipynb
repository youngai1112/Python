{
  "nbformat": 4,
  "nbformat_minor": 0,
  "metadata": {
    "colab": {
      "name": "파이썬300제_031~040",
      "provenance": [],
      "collapsed_sections": []
    },
    "kernelspec": {
      "name": "python3",
      "display_name": "Python 3"
    },
    "language_info": {
      "name": "python"
    }
  },
  "cells": [
    {
      "cell_type": "markdown",
      "source": [
        "---\n",
        "31."
      ],
      "metadata": {
        "id": "rIGX9nH2eRlI"
      }
    },
    {
      "cell_type": "code",
      "source": [
        "a = \"3\"\n",
        "b = \"4\"\n",
        "print(a + b)    # 3 4"
      ],
      "metadata": {
        "colab": {
          "base_uri": "https://localhost:8080/"
        },
        "id": "dR93o332eYgd",
        "outputId": "617220d0-4af2-419c-fa78-d2cbbb6f75de"
      },
      "execution_count": null,
      "outputs": [
        {
          "output_type": "stream",
          "name": "stdout",
          "text": [
            "34\n"
          ]
        }
      ]
    },
    {
      "cell_type": "markdown",
      "source": [
        "---\n",
        "32."
      ],
      "metadata": {
        "id": "xeiolCHlegij"
      }
    },
    {
      "cell_type": "code",
      "source": [
        "print(\"HI\" * 3)     # HIHIHI"
      ],
      "metadata": {
        "colab": {
          "base_uri": "https://localhost:8080/"
        },
        "id": "uc4NBfuveiz-",
        "outputId": "ec109e1e-0730-4f74-aedf-6c8546414029"
      },
      "execution_count": null,
      "outputs": [
        {
          "output_type": "stream",
          "name": "stdout",
          "text": [
            "HIHIHI\n"
          ]
        }
      ]
    },
    {
      "cell_type": "markdown",
      "source": [
        "---\n",
        "33."
      ],
      "metadata": {
        "id": "35tRTPA3eqG6"
      }
    },
    {
      "cell_type": "code",
      "source": [
        "print('-' * 80)"
      ],
      "metadata": {
        "colab": {
          "base_uri": "https://localhost:8080/"
        },
        "id": "XZMurVbResOv",
        "outputId": "30b44661-ba3e-4ef7-90a9-4d904696ea62"
      },
      "execution_count": null,
      "outputs": [
        {
          "output_type": "stream",
          "name": "stdout",
          "text": [
            "--------------------------------------------------------------------------------\n"
          ]
        }
      ]
    },
    {
      "cell_type": "markdown",
      "source": [
        "---\n",
        "34."
      ],
      "metadata": {
        "id": "MGqkwfR1ewHs"
      }
    },
    {
      "cell_type": "code",
      "source": [
        "t1 = 'python'\n",
        "t2 = 'java'\n",
        "print( (t1 + ' '+ t2 + ' ') * 4)"
      ],
      "metadata": {
        "colab": {
          "base_uri": "https://localhost:8080/"
        },
        "id": "1ev4gJudeyJO",
        "outputId": "343caad6-c487-4147-a178-907994ef40af"
      },
      "execution_count": null,
      "outputs": [
        {
          "output_type": "stream",
          "name": "stdout",
          "text": [
            "python java python java python java python java \n"
          ]
        }
      ]
    },
    {
      "cell_type": "code",
      "source": [
        "# \n",
        "t3 = t1 + ' ' + t2 + ' '\n",
        "print(t3 * 4)"
      ],
      "metadata": {
        "colab": {
          "base_uri": "https://localhost:8080/"
        },
        "id": "qhUt8rajkmEm",
        "outputId": "6644efa7-dd10-4581-c3e7-5ba954ee0c8c"
      },
      "execution_count": null,
      "outputs": [
        {
          "output_type": "stream",
          "name": "stdout",
          "text": [
            "python java python java python java python java \n"
          ]
        }
      ]
    },
    {
      "cell_type": "markdown",
      "source": [
        "---\n",
        "35."
      ],
      "metadata": {
        "id": "iLeur8iGe_4Z"
      }
    },
    {
      "cell_type": "code",
      "source": [
        "# % formatting\n",
        "name1 = '김민수'\n",
        "age1 = 10\n",
        "name2 = '이철희'\n",
        "age2 = 13"
      ],
      "metadata": {
        "id": "2Ri53Fm3fQrS"
      },
      "execution_count": null,
      "outputs": []
    },
    {
      "cell_type": "code",
      "source": [
        "# print 포맷팅에서 %s는 문자열 데이터 타입의 값을 %d는 정수형 데이터 타입 값의 출력\n",
        "name1 = \"김민수\" \n",
        "age1 = 10\n",
        "name2 = \"이철희\"\n",
        "age2 = 13\n",
        "print(\"이름: %s 나이: %d\" % (name1, age1))\n",
        "print(\"이름: %s 나이: %d\" % (name2, age2))"
      ],
      "metadata": {
        "colab": {
          "base_uri": "https://localhost:8080/"
        },
        "id": "jovlCu5qkyZm",
        "outputId": "40800a70-1516-423c-a864-65915e66815f"
      },
      "execution_count": null,
      "outputs": [
        {
          "output_type": "stream",
          "name": "stdout",
          "text": [
            "이름: 김민수 나이: 10\n",
            "이름: 이철희 나이: 13\n"
          ]
        }
      ]
    },
    {
      "cell_type": "markdown",
      "source": [
        "---\n",
        "36."
      ],
      "metadata": {
        "id": "FZXL8Nyvf7U7"
      }
    },
    {
      "cell_type": "code",
      "source": [
        "# format()\n",
        "'이름: {0} 나이: {1} 이름: {2} 나이: {3}'.format('김민수', 10, '이철희', 13)"
      ],
      "metadata": {
        "colab": {
          "base_uri": "https://localhost:8080/",
          "height": 35
        },
        "id": "lblxjs8Of9Do",
        "outputId": "a51d6dc1-9f91-4179-fb08-58ae979019bb"
      },
      "execution_count": null,
      "outputs": [
        {
          "output_type": "execute_result",
          "data": {
            "application/vnd.google.colaboratory.intrinsic+json": {
              "type": "string"
            },
            "text/plain": [
              "'이름: 김민수 나이: 10 이름: 이철희 나이: 13'"
            ]
          },
          "metadata": {},
          "execution_count": 20
        }
      ]
    },
    {
      "cell_type": "code",
      "source": [
        "# 문자열의 포맷 메서드는 타입과 상관없이 값이 출력될 위치에 { }를 적어주면 된다.\n",
        "print(\"이름: {} 나이: {}\".format(name1, age1))\n",
        "print(\"이름: {} 나이: {}\".format(name2, age2))"
      ],
      "metadata": {
        "colab": {
          "base_uri": "https://localhost:8080/"
        },
        "id": "zunSctXQk7je",
        "outputId": "e9b75fde-d9bf-43a7-e28d-443c956f95c6"
      },
      "execution_count": null,
      "outputs": [
        {
          "output_type": "stream",
          "name": "stdout",
          "text": [
            "이름: 김민수 나이: 10\n",
            "이름: 이철희 나이: 13\n"
          ]
        }
      ]
    },
    {
      "cell_type": "markdown",
      "source": [
        "---\n",
        "37."
      ],
      "metadata": {
        "id": "DLRIkHl4f-A9"
      }
    },
    {
      "cell_type": "code",
      "source": [
        "# f-string\n",
        "f'이름: {name1} 나이: {age1} 이름: {name2} 나이: {age2}'"
      ],
      "metadata": {
        "colab": {
          "base_uri": "https://localhost:8080/",
          "height": 35
        },
        "id": "0R5ANJxxf_UQ",
        "outputId": "39ede09f-89d3-4e3b-f814-0ce0a352ae8e"
      },
      "execution_count": null,
      "outputs": [
        {
          "output_type": "execute_result",
          "data": {
            "application/vnd.google.colaboratory.intrinsic+json": {
              "type": "string"
            },
            "text/plain": [
              "'이름: 김민수 나이: 10\\n.join(이름: 이철희 나이: 13)'"
            ]
          },
          "metadata": {},
          "execution_count": 23
        }
      ]
    },
    {
      "cell_type": "code",
      "source": [
        "# \n",
        "print(f'이름: {name1} 나이: {age1}')\n",
        "print(f'이름: {name2} 나이: {age2}')"
      ],
      "metadata": {
        "colab": {
          "base_uri": "https://localhost:8080/"
        },
        "id": "w8SdRk5ElMPp",
        "outputId": "4a709164-2c8a-4501-9389-1cb982ca60b0"
      },
      "execution_count": null,
      "outputs": [
        {
          "output_type": "stream",
          "name": "stdout",
          "text": [
            "이름: 김민수 나이: 10\n",
            "이름: 이철희 나이: 13\n"
          ]
        }
      ]
    },
    {
      "cell_type": "markdown",
      "source": [
        "---\n",
        "38."
      ],
      "metadata": {
        "id": "qZAdcTM_jTES"
      }
    },
    {
      "cell_type": "code",
      "source": [
        "상장주식수 = \"5,969,782,550\"\n",
        "int(상장주식수.replace(',',''))"
      ],
      "metadata": {
        "colab": {
          "base_uri": "https://localhost:8080/"
        },
        "id": "PqT-HfgGj31C",
        "outputId": "5d1e8028-7998-4b7a-84ab-311a16a3a0b6"
      },
      "execution_count": null,
      "outputs": [
        {
          "output_type": "execute_result",
          "data": {
            "text/plain": [
              "5969782550"
            ]
          },
          "metadata": {},
          "execution_count": 24
        }
      ]
    },
    {
      "cell_type": "code",
      "source": [
        "# \n",
        "상장주식수 = \"5,969,782,550\"\n",
        "컴마제거 = 상장주식수.replace(\",\", \"\")\n",
        "타입변환 = int(컴마제거)\n",
        "print(타입변환, type(타입변환))"
      ],
      "metadata": {
        "colab": {
          "base_uri": "https://localhost:8080/"
        },
        "id": "4-hxa8w4ldV3",
        "outputId": "0074e3da-601c-4f73-9814-583195fbef30"
      },
      "execution_count": null,
      "outputs": [
        {
          "output_type": "stream",
          "name": "stdout",
          "text": [
            "5969782550 <class 'int'>\n"
          ]
        }
      ]
    },
    {
      "cell_type": "markdown",
      "source": [
        "---\n",
        "39."
      ],
      "metadata": {
        "id": "57TaH6PXj_tR"
      }
    },
    {
      "cell_type": "code",
      "source": [
        "분기 = \"2020/03(E) (IFRS연결)\"\n",
        "분기.split( )[0].split('(')[0]"
      ],
      "metadata": {
        "colab": {
          "base_uri": "https://localhost:8080/",
          "height": 35
        },
        "id": "WR93rMaskB9X",
        "outputId": "ade8e68b-4835-4be1-b5dc-9b462bab5331"
      },
      "execution_count": null,
      "outputs": [
        {
          "output_type": "execute_result",
          "data": {
            "application/vnd.google.colaboratory.intrinsic+json": {
              "type": "string"
            },
            "text/plain": [
              "'2020/03'"
            ]
          },
          "metadata": {},
          "execution_count": 28
        }
      ]
    },
    {
      "cell_type": "code",
      "source": [
        "# 문자열 슬라이싱\n",
        "분기[:7]"
      ],
      "metadata": {
        "colab": {
          "base_uri": "https://localhost:8080/",
          "height": 35
        },
        "id": "sq7fTGtxljLO",
        "outputId": "d99c4680-e41a-4d57-a606-48605e3da524"
      },
      "execution_count": null,
      "outputs": [
        {
          "output_type": "execute_result",
          "data": {
            "application/vnd.google.colaboratory.intrinsic+json": {
              "type": "string"
            },
            "text/plain": [
              "'2020/03'"
            ]
          },
          "metadata": {},
          "execution_count": 35
        }
      ]
    },
    {
      "cell_type": "markdown",
      "source": [
        "---\n",
        "40."
      ],
      "metadata": {
        "id": "K-ZbsBcmkOYf"
      }
    },
    {
      "cell_type": "code",
      "source": [
        "data = \"   삼성전자    \"\n",
        "data.split()[0]"
      ],
      "metadata": {
        "colab": {
          "base_uri": "https://localhost:8080/",
          "height": 35
        },
        "id": "wNHe9MZlkYJA",
        "outputId": "8beea58b-ae52-4b66-8588-c664188eaece"
      },
      "execution_count": null,
      "outputs": [
        {
          "output_type": "execute_result",
          "data": {
            "application/vnd.google.colaboratory.intrinsic+json": {
              "type": "string"
            },
            "text/plain": [
              "'삼성전자'"
            ]
          },
          "metadata": {},
          "execution_count": 37
        }
      ]
    },
    {
      "cell_type": "code",
      "source": [
        "# strip()\n",
        "data.strip()"
      ],
      "metadata": {
        "colab": {
          "base_uri": "https://localhost:8080/",
          "height": 35
        },
        "id": "LIpR4BP8lraf",
        "outputId": "5a0cb413-aca3-4aef-e3b2-4406dc251587"
      },
      "execution_count": null,
      "outputs": [
        {
          "output_type": "execute_result",
          "data": {
            "application/vnd.google.colaboratory.intrinsic+json": {
              "type": "string"
            },
            "text/plain": [
              "'삼성전자'"
            ]
          },
          "metadata": {},
          "execution_count": 36
        }
      ]
    }
  ]
}