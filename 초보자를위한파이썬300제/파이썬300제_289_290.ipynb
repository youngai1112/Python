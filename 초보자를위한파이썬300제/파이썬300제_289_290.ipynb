{
  "nbformat": 4,
  "nbformat_minor": 0,
  "metadata": {
    "colab": {
      "name": "파이썬300제_289~290",
      "provenance": [],
      "collapsed_sections": []
    },
    "kernelspec": {
      "name": "python3",
      "display_name": "Python 3"
    },
    "language_info": {
      "name": "python"
    }
  },
  "cells": [
    {
      "cell_type": "markdown",
      "source": [
        "---\n",
        "289."
      ],
      "metadata": {
        "id": "jAxWa9t0B5pD"
      }
    },
    {
      "cell_type": "code",
      "source": [
        "class 부모:\n",
        "  def __init__(self):\n",
        "    print(\"부모생성\")\n",
        "\n",
        "class 자식(부모):\n",
        "  def __init__(self):\n",
        "    print(\"자식생성\")\n",
        "\n",
        "나 = 자식()     # 자식생성"
      ],
      "metadata": {
        "colab": {
          "base_uri": "https://localhost:8080/"
        },
        "id": "7aYzYhDPB_BV",
        "outputId": "e7a4453a-a65d-4dea-ba98-6a3a5cd2d61d"
      },
      "execution_count": 1,
      "outputs": [
        {
          "output_type": "stream",
          "name": "stdout",
          "text": [
            "자식생성\n"
          ]
        }
      ]
    },
    {
      "cell_type": "markdown",
      "source": [
        "---\n",
        "290."
      ],
      "metadata": {
        "id": "SLWh968wCLS9"
      }
    },
    {
      "cell_type": "code",
      "source": [
        "class 부모:\n",
        "  def __init__(self):\n",
        "    print(\"부모생성\")\n",
        "\n",
        "class 자식(부모):\n",
        "  def __init__(self):\n",
        "    print(\"자식생성\")\n",
        "    super().__init__()\n",
        "\n",
        "나 = 자식()     # 부모생성"
      ],
      "metadata": {
        "colab": {
          "base_uri": "https://localhost:8080/"
        },
        "id": "0bxoww3cCMPr",
        "outputId": "d450cd86-74a3-456f-f4a1-29b44711fd8a"
      },
      "execution_count": 2,
      "outputs": [
        {
          "output_type": "stream",
          "name": "stdout",
          "text": [
            "자식생성\n",
            "부모생성\n"
          ]
        }
      ]
    },
    {
      "cell_type": "code",
      "source": [
        "#  \n",
        "# 자식생성\n",
        "# 부모생성"
      ],
      "metadata": {
        "id": "4KUTIlCHCVxz"
      },
      "execution_count": null,
      "outputs": []
    }
  ]
}