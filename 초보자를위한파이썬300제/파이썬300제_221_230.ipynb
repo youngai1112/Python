{
  "nbformat": 4,
  "nbformat_minor": 0,
  "metadata": {
    "colab": {
      "name": "파이썬300제_221~230",
      "provenance": []
    },
    "kernelspec": {
      "name": "python3",
      "display_name": "Python 3"
    },
    "language_info": {
      "name": "python"
    }
  },
  "cells": [
    {
      "cell_type": "markdown",
      "source": [
        "---\n",
        "221."
      ],
      "metadata": {
        "id": "-b2RqsvSfmn-"
      }
    },
    {
      "cell_type": "code",
      "source": [
        "def print_reverse(string):\n",
        "    print(string[::-1])"
      ],
      "metadata": {
        "id": "Oi9suGU5fqrZ"
      },
      "execution_count": 2,
      "outputs": []
    },
    {
      "cell_type": "markdown",
      "source": [
        "---\n",
        "222."
      ],
      "metadata": {
        "id": "WVwOD7Qxf2Et"
      }
    },
    {
      "cell_type": "code",
      "source": [
        "def print_score(score):\n",
        "    sum = 0\n",
        "    \n",
        "    for i in score:\n",
        "        sum += i\n",
        "    print(sum / len(score))"
      ],
      "metadata": {
        "id": "Zp6lmE_0f3mZ"
      },
      "execution_count": 125,
      "outputs": []
    },
    {
      "cell_type": "code",
      "source": [
        "def print_score(score_list):\n",
        "    print(sum(score_list) / len(score_list))"
      ],
      "metadata": {
        "id": "TJi9B_a4hCBe"
      },
      "execution_count": 126,
      "outputs": []
    },
    {
      "cell_type": "markdown",
      "source": [
        "---\n",
        "223."
      ],
      "metadata": {
        "id": "cqaH299-gGYg"
      }
    },
    {
      "cell_type": "code",
      "source": [
        "def print_even(num):\n",
        "    for i in num:\n",
        "        if i % 2 == 0:\n",
        "            print(i)"
      ],
      "metadata": {
        "id": "bhMJPN3Ggqzj"
      },
      "execution_count": 15,
      "outputs": []
    },
    {
      "cell_type": "markdown",
      "source": [
        "---\n",
        "★ 224.\n",
        "- dict.keys()\n"
      ],
      "metadata": {
        "id": "2Z4j63jNhNbJ"
      }
    },
    {
      "cell_type": "code",
      "source": [
        "def print_keys(dic):\n",
        "    for key in dic:\n",
        "        print(key)"
      ],
      "metadata": {
        "id": "pIdZcUkRhRNE"
      },
      "execution_count": 22,
      "outputs": []
    },
    {
      "cell_type": "code",
      "source": [
        "#\n",
        "def print_keys(dic):\n",
        "    for keys in dic.keys():\n",
        "        print(keys)"
      ],
      "metadata": {
        "id": "ybDugOD-hTjH"
      },
      "execution_count": 127,
      "outputs": []
    },
    {
      "cell_type": "code",
      "source": [
        "print_keys ({\"이름\":\"김말똥\", \"나이\":30, \"성별\":0})"
      ],
      "metadata": {
        "colab": {
          "base_uri": "https://localhost:8080/"
        },
        "id": "sV3_RunBh5F8",
        "outputId": "912c2fb4-d1ab-4503-d556-be482731d1e2"
      },
      "execution_count": 128,
      "outputs": [
        {
          "output_type": "stream",
          "name": "stdout",
          "text": [
            "이름\n",
            "나이\n",
            "성별\n"
          ]
        }
      ]
    },
    {
      "cell_type": "markdown",
      "source": [
        "---\n",
        "225."
      ],
      "metadata": {
        "id": "gfSWCCh5h6b2"
      }
    },
    {
      "cell_type": "code",
      "source": [
        "def print_value_by_key(dic, date):\n",
        "    print(dic[date])\n"
      ],
      "metadata": {
        "id": "usHb4ThdiovQ"
      },
      "execution_count": 32,
      "outputs": []
    },
    {
      "cell_type": "code",
      "source": [
        "my_dict = {\"10/26\" : [100, 130, 100, 100],\n",
        "           \"10/27\" : [10, 12, 10, 11]}\n",
        "\n",
        "print_value_by_key(my_dict, \"10/27\")"
      ],
      "metadata": {
        "colab": {
          "base_uri": "https://localhost:8080/"
        },
        "id": "zeHEla1bjF76",
        "outputId": "fe4c4fe5-5865-48d2-e839-c79876ed0ead"
      },
      "execution_count": 34,
      "outputs": [
        {
          "output_type": "stream",
          "name": "stdout",
          "text": [
            "[10, 12, 10, 11]\n"
          ]
        }
      ]
    },
    {
      "cell_type": "markdown",
      "source": [
        "---\n",
        "226."
      ],
      "metadata": {
        "id": "u2EeqpTcjNKz"
      }
    },
    {
      "cell_type": "code",
      "source": [
        "def print_5xn(string):\n",
        "    print(string[:5])\n",
        "    print(string[5:10])"
      ],
      "metadata": {
        "id": "NT6rl93Okes1"
      },
      "execution_count": 56,
      "outputs": []
    },
    {
      "cell_type": "code",
      "source": [
        "# \n",
        "def print_5xn(line):\n",
        "    chunk_num = int(len(line) / 5)\n",
        "    for x in range(chunk_num + 1):\n",
        "        print(line[x * 5: x * 5 + 5])"
      ],
      "metadata": {
        "id": "1KSQw4DBhrcG"
      },
      "execution_count": 129,
      "outputs": []
    },
    {
      "cell_type": "code",
      "source": [
        "print_5xn(\"아이엠어보이유알어걸\")"
      ],
      "metadata": {
        "colab": {
          "base_uri": "https://localhost:8080/"
        },
        "id": "-3fuXo-8k9BF",
        "outputId": "7e1ffae2-ad6c-4c56-c444-90089fffe882"
      },
      "execution_count": 130,
      "outputs": [
        {
          "output_type": "stream",
          "name": "stdout",
          "text": [
            "아이엠어보\n",
            "이유알어걸\n",
            "\n"
          ]
        }
      ]
    },
    {
      "cell_type": "markdown",
      "source": [
        "---\n",
        "227."
      ],
      "metadata": {
        "id": "zigSNj3qk-ZC"
      }
    },
    {
      "cell_type": "code",
      "source": [
        "def printmxn(string, num):\n",
        "    number = int(len(string) / num)\n",
        "\n",
        "    for i in number:\n",
        "        print(string[i * 0 : i * 0 + num])"
      ],
      "metadata": {
        "id": "_AyE4DSKmjFF"
      },
      "execution_count": 143,
      "outputs": []
    },
    {
      "cell_type": "code",
      "source": [
        "#\n",
        "def print_mxn(line,num):\n",
        "    chunk_num = int(len(line) / num)\n",
        "    for i in range(chunk_num+1):\n",
        "        print(line[i * num : i * num + num])"
      ],
      "metadata": {
        "id": "40k6R7-pjaAl"
      },
      "execution_count": 145,
      "outputs": []
    },
    {
      "cell_type": "code",
      "source": [
        "print_mxn(\"아이엠어보이유알어걸\", 3)"
      ],
      "metadata": {
        "colab": {
          "base_uri": "https://localhost:8080/"
        },
        "id": "OdNbbbcARcW0",
        "outputId": "54c02b07-bba3-4e7d-b0f5-5fa427e03221"
      },
      "execution_count": 146,
      "outputs": [
        {
          "output_type": "stream",
          "name": "stdout",
          "text": [
            "아이엠\n",
            "어보이\n",
            "유알어\n",
            "걸\n"
          ]
        }
      ]
    },
    {
      "cell_type": "markdown",
      "source": [
        "---\n",
        "228."
      ],
      "metadata": {
        "id": "KS9D5X_0f4-4"
      }
    },
    {
      "cell_type": "code",
      "source": [
        "def calc_monthly_salary(annual_salary):\n",
        "    print(int(annual_salary / 12))"
      ],
      "metadata": {
        "id": "dJi319CPRjDb"
      },
      "execution_count": 121,
      "outputs": []
    },
    {
      "cell_type": "code",
      "source": [
        "calc_monthly_salary(12000000)"
      ],
      "metadata": {
        "colab": {
          "base_uri": "https://localhost:8080/"
        },
        "id": "WIKeNILdgPEd",
        "outputId": "1d2f6cd0-ac4b-4b8b-ccc3-0a9a3a24a9ab"
      },
      "execution_count": 122,
      "outputs": [
        {
          "output_type": "stream",
          "name": "stdout",
          "text": [
            "1000000\n"
          ]
        }
      ]
    },
    {
      "cell_type": "markdown",
      "source": [
        "---\n",
        "229."
      ],
      "metadata": {
        "id": "IHvfCvAkgQ68"
      }
    },
    {
      "cell_type": "code",
      "source": [
        "def my_print(a, b):\n",
        "    print('왼쪽:', a)\n",
        "    print('오른쪽:',b)\n",
        "\n",
        "my_print(a=100, b=200)  # 왼쪽: 100, 오른쪽:200"
      ],
      "metadata": {
        "colab": {
          "base_uri": "https://localhost:8080/"
        },
        "id": "jmVRqXBBgXYG",
        "outputId": "5489855a-4d9c-4a7f-892e-39def5c4bd91"
      },
      "execution_count": 123,
      "outputs": [
        {
          "output_type": "stream",
          "name": "stdout",
          "text": [
            "왼쪽: 100\n",
            "오른쪽: 200\n"
          ]
        }
      ]
    },
    {
      "cell_type": "markdown",
      "source": [
        "---\n",
        "230."
      ],
      "metadata": {
        "id": "FWNNtZP7gnN7"
      }
    },
    {
      "cell_type": "code",
      "source": [
        "def my_print(a,b):\n",
        "    print('왼쪽:', a)\n",
        "    print('오른쪽:', b)\n",
        "\n",
        "my_print(b=100, a=200)  # 왼쪽: 200, 오른쪽: 100"
      ],
      "metadata": {
        "colab": {
          "base_uri": "https://localhost:8080/"
        },
        "id": "dKVUlFFwgozR",
        "outputId": "810f3982-57cf-4965-c292-132fbb39ff61"
      },
      "execution_count": 124,
      "outputs": [
        {
          "output_type": "stream",
          "name": "stdout",
          "text": [
            "왼쪽: 200\n",
            "오른쪽: 100\n"
          ]
        }
      ]
    }
  ]
}