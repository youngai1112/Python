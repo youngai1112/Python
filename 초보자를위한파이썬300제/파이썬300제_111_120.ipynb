{
  "nbformat": 4,
  "nbformat_minor": 0,
  "metadata": {
    "colab": {
      "name": "파이썬300제_111~120",
      "provenance": [],
      "collapsed_sections": []
    },
    "kernelspec": {
      "name": "python3",
      "display_name": "Python 3"
    },
    "language_info": {
      "name": "python"
    }
  },
  "cells": [
    {
      "cell_type": "markdown",
      "source": [
        "---\n",
        "111."
      ],
      "metadata": {
        "id": "egVdsGjM7nrL"
      }
    },
    {
      "cell_type": "code",
      "source": [
        "text = input()\n",
        "print(text *2)"
      ],
      "metadata": {
        "colab": {
          "base_uri": "https://localhost:8080/"
        },
        "id": "Vyo9cmF877tS",
        "outputId": "1d58a198-2b9f-456b-ed01-91350b52d050"
      },
      "execution_count": 2,
      "outputs": [
        {
          "output_type": "stream",
          "name": "stdout",
          "text": [
            "안녕하세요\n",
            "안녕하세요안녕하세요\n"
          ]
        }
      ]
    },
    {
      "cell_type": "markdown",
      "source": [
        "---\n",
        "112."
      ],
      "metadata": {
        "id": "Oyr_hOO58FZw"
      }
    },
    {
      "cell_type": "code",
      "source": [
        "num = input('숫자를 입력하세요: ')\n",
        "print(int(num) + 10)"
      ],
      "metadata": {
        "colab": {
          "base_uri": "https://localhost:8080/"
        },
        "id": "zt6OJEXV8IVn",
        "outputId": "e5e3fbaa-31af-4867-a87a-ea7876daf8d0"
      },
      "execution_count": 4,
      "outputs": [
        {
          "output_type": "stream",
          "name": "stdout",
          "text": [
            "숫자를 입력하세요: 30\n",
            "40\n"
          ]
        }
      ]
    },
    {
      "cell_type": "markdown",
      "source": [
        "---\n",
        "113."
      ],
      "metadata": {
        "id": "HrFQ2voQ8cdh"
      }
    },
    {
      "cell_type": "code",
      "source": [
        "num = input()\n",
        "print(\"짝수\" if int(num) % 2 == 0 else \"홀수\")"
      ],
      "metadata": {
        "colab": {
          "base_uri": "https://localhost:8080/"
        },
        "id": "nO551W1Y8knY",
        "outputId": "cfd5ecb7-77f5-41c1-ebaa-353f6e76b936"
      },
      "execution_count": 6,
      "outputs": [
        {
          "output_type": "stream",
          "name": "stdout",
          "text": [
            "25\n",
            "홀수\n"
          ]
        }
      ]
    },
    {
      "cell_type": "markdown",
      "source": [
        "---\n",
        "114."
      ],
      "metadata": {
        "id": "76ZY3J5y9Efj"
      }
    },
    {
      "cell_type": "code",
      "source": [
        "num = input()\n",
        "print(255 if int(num) + 20 > 255 else int(num) + 20)"
      ],
      "metadata": {
        "colab": {
          "base_uri": "https://localhost:8080/"
        },
        "id": "opeNEl0o9IcZ",
        "outputId": "b0bcb592-6c0a-4f54-bdf6-3b5283ea53cd"
      },
      "execution_count": 10,
      "outputs": [
        {
          "output_type": "stream",
          "name": "stdout",
          "text": [
            "245\n",
            "255\n"
          ]
        }
      ]
    },
    {
      "cell_type": "markdown",
      "source": [
        "---\n",
        "115."
      ],
      "metadata": {
        "id": "tehpA5o49d4U"
      }
    },
    {
      "cell_type": "code",
      "source": [
        "num = input()\n",
        "print(0 if int(num) - 20 <= 0 else 255 if int(num) - 20 >= 255 else int(num) - 20)"
      ],
      "metadata": {
        "colab": {
          "base_uri": "https://localhost:8080/"
        },
        "id": "ikZHVOAX9mcn",
        "outputId": "bd7768a6-0f45-473f-d4ce-2156cdf3d48c"
      },
      "execution_count": 24,
      "outputs": [
        {
          "output_type": "stream",
          "name": "stdout",
          "text": [
            "50\n",
            "30\n"
          ]
        }
      ]
    },
    {
      "cell_type": "markdown",
      "source": [
        "---\n",
        "116."
      ],
      "metadata": {
        "id": "y01vs-34_mQK"
      }
    },
    {
      "cell_type": "code",
      "source": [
        "time = input('현재시간:')"
      ],
      "metadata": {
        "colab": {
          "base_uri": "https://localhost:8080/"
        },
        "id": "Lg5036FtAei_",
        "outputId": "5741f59f-a968-4801-ecd6-47cf2a6913aa"
      },
      "execution_count": 29,
      "outputs": [
        {
          "name": "stdout",
          "output_type": "stream",
          "text": [
            "현재시간:24\n"
          ]
        }
      ]
    },
    {
      "cell_type": "code",
      "source": [
        "#\n",
        "time = input('현재시간:')\n",
        "if time[-2:] == '00':\n",
        "    print('정각입니다')\n",
        "else:\n",
        "    print('정각이 아닙니다')"
      ],
      "metadata": {
        "colab": {
          "base_uri": "https://localhost:8080/"
        },
        "id": "ZgFMjjgQEd1s",
        "outputId": "f79ff155-9b6c-46a0-ce3b-091123529f3f"
      },
      "execution_count": 42,
      "outputs": [
        {
          "output_type": "stream",
          "name": "stdout",
          "text": [
            "현재시간:13:00\n",
            "정각입니다\n"
          ]
        }
      ]
    },
    {
      "cell_type": "markdown",
      "source": [
        "---\n",
        "117."
      ],
      "metadata": {
        "id": "tUvi8gkwCNrA"
      }
    },
    {
      "cell_type": "code",
      "source": [
        "fruit = ['사과', '포도', '홍시']\n",
        "favorite = input('좋아하는 과일은?')\n",
        "\n",
        "print('정답입니다' if favorite in fruit else '오답입니다')"
      ],
      "metadata": {
        "colab": {
          "base_uri": "https://localhost:8080/"
        },
        "id": "UvX2ln8sBKKo",
        "outputId": "4a39c1a7-e1e6-4503-c467-a0f107e61dad"
      },
      "execution_count": 34,
      "outputs": [
        {
          "output_type": "stream",
          "name": "stdout",
          "text": [
            "좋아하는 과일은?바나나\n",
            "오답입니다\n"
          ]
        }
      ]
    },
    {
      "cell_type": "markdown",
      "source": [
        "---\n",
        "118."
      ],
      "metadata": {
        "id": "fKQIFOqwCp08"
      }
    },
    {
      "cell_type": "code",
      "source": [
        "warn_investment_list = [\"Microsoft\", \"Google\", \"Naver\", \"Kakao\", \"SAMSUNG\", \"LG\"]\n",
        "warn = input()\n",
        "\n",
        "print('투자 경고 종목입니다' if warn in warn_investment_list else '투자 경고 종목이 아닙니다')"
      ],
      "metadata": {
        "colab": {
          "base_uri": "https://localhost:8080/"
        },
        "id": "5nSx3zaQC2zQ",
        "outputId": "b31bf7c2-dfe3-46b1-d11a-1bd50c70a692"
      },
      "execution_count": 36,
      "outputs": [
        {
          "output_type": "stream",
          "name": "stdout",
          "text": [
            "Apple\n",
            "투자 경고 종목이 아닙니다\n"
          ]
        }
      ]
    },
    {
      "cell_type": "markdown",
      "source": [
        "---\n",
        "119."
      ],
      "metadata": {
        "id": "PK0_Xo5qDJGU"
      }
    },
    {
      "cell_type": "code",
      "source": [
        "fruit = {'봄':'딸기', '여름':'토마토', '가을':'사과'}\n",
        "season = input('제가좋아하는계절은: ')\n",
        "\n",
        "print('정답입니다' if season in fruit.keys() else '오답입니다')"
      ],
      "metadata": {
        "colab": {
          "base_uri": "https://localhost:8080/"
        },
        "id": "aKQLVdRbDSAf",
        "outputId": "08a845c4-8e35-4726-868e-63efcbc9dd97"
      },
      "execution_count": 38,
      "outputs": [
        {
          "output_type": "stream",
          "name": "stdout",
          "text": [
            "제가좋아하는계절은: 겨울\n",
            "오답입니다\n"
          ]
        }
      ]
    },
    {
      "cell_type": "markdown",
      "source": [
        "---\n",
        "120."
      ],
      "metadata": {
        "id": "2K0iNH3rDw6P"
      }
    },
    {
      "cell_type": "code",
      "source": [
        "fruit = {'봄':'딸기', '여름':'토마토', '가을':'사과'}\n",
        "like = input('좋아하는 과일은?')\n",
        "\n",
        "print('정답입니다' if like in fruit.values() else '오답입니다')"
      ],
      "metadata": {
        "colab": {
          "base_uri": "https://localhost:8080/"
        },
        "id": "4dzxCPQyD1IV",
        "outputId": "f97a55d8-1480-4971-9788-8f3f3186c946"
      },
      "execution_count": 40,
      "outputs": [
        {
          "output_type": "stream",
          "name": "stdout",
          "text": [
            "좋아하는 과일은?천혜향\n",
            "오답입니다\n"
          ]
        }
      ]
    }
  ]
}