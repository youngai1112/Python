{
  "nbformat": 4,
  "nbformat_minor": 0,
  "metadata": {
    "colab": {
      "name": "파이썬300제_051~060",
      "provenance": [],
      "collapsed_sections": []
    },
    "kernelspec": {
      "name": "python3",
      "display_name": "Python 3"
    },
    "language_info": {
      "name": "python"
    }
  },
  "cells": [
    {
      "cell_type": "markdown",
      "source": [
        "---\n",
        "51."
      ],
      "metadata": {
        "id": "1PgrOh9Np0Jr"
      }
    },
    {
      "cell_type": "code",
      "source": [
        "movie_rank = ['닥터 스트레인지', '스플릿', '럭키']\n",
        "print(movie_rank)"
      ],
      "metadata": {
        "colab": {
          "base_uri": "https://localhost:8080/"
        },
        "id": "NZWQz25cp8j-",
        "outputId": "7ed6a1b5-c760-4098-94f4-2bbd2a97adfd"
      },
      "execution_count": null,
      "outputs": [
        {
          "output_type": "stream",
          "name": "stdout",
          "text": [
            "['닥터 스트레인지', '스플릿', '럭키']\n"
          ]
        }
      ]
    },
    {
      "cell_type": "markdown",
      "source": [
        "---\n",
        "52."
      ],
      "metadata": {
        "id": "N57a75ydqLVU"
      }
    },
    {
      "cell_type": "code",
      "source": [
        "movie_rank.append('배트맨')\n",
        "print(movie_rank)"
      ],
      "metadata": {
        "colab": {
          "base_uri": "https://localhost:8080/"
        },
        "id": "zsUn5KjcqTd4",
        "outputId": "1858fd84-c893-41e6-d546-318062237992"
      },
      "execution_count": null,
      "outputs": [
        {
          "output_type": "stream",
          "name": "stdout",
          "text": [
            "['닥터 스트레인지', '스플릿', '럭키', '배트맨']\n"
          ]
        }
      ]
    },
    {
      "cell_type": "markdown",
      "source": [
        "---\n",
        "53."
      ],
      "metadata": {
        "id": "OaA67eBfqi39"
      }
    },
    {
      "cell_type": "code",
      "source": [
        "movie_rank = ['닥터 스트레인지', '스플릿', '럭키', '배트맨']\n",
        "movie_rank.insert(1, '슈퍼맨')\n",
        "movie_rank"
      ],
      "metadata": {
        "colab": {
          "base_uri": "https://localhost:8080/"
        },
        "id": "A7VCVty_qwOZ",
        "outputId": "caa107bc-c5d2-4a3d-8b80-95404d69d9a0"
      },
      "execution_count": null,
      "outputs": [
        {
          "output_type": "execute_result",
          "data": {
            "text/plain": [
              "['닥터 스트레인지', '슈퍼맨', '스플릿', '럭키', '배트맨']"
            ]
          },
          "metadata": {},
          "execution_count": 21
        }
      ]
    },
    {
      "cell_type": "markdown",
      "source": [
        "---\n",
        "54."
      ],
      "metadata": {
        "id": "NyBLCpdDq7qL"
      }
    },
    {
      "cell_type": "code",
      "source": [
        "movie_rank = ['닥터 스트레인지', '슈퍼맨', '스플릿', '럭키', '배트맨']\n",
        "del movie_rank[3]\n",
        "movie_rank"
      ],
      "metadata": {
        "colab": {
          "base_uri": "https://localhost:8080/"
        },
        "id": "ZzQAr-sEsZu1",
        "outputId": "391b1ead-af87-441d-e8eb-0c6e0304b772"
      },
      "execution_count": null,
      "outputs": [
        {
          "output_type": "execute_result",
          "data": {
            "text/plain": [
              "['닥터 스트레인지', '슈퍼맨', '스플릿', '배트맨']"
            ]
          },
          "metadata": {},
          "execution_count": 27
        }
      ]
    },
    {
      "cell_type": "markdown",
      "source": [
        "---\n",
        "55."
      ],
      "metadata": {
        "id": "ZWCvu6xysEk_"
      }
    },
    {
      "cell_type": "code",
      "source": [
        "movie_rank = ['닥터 스트레인지', '슈퍼맨', '스플릿', '럭키', '배트맨']\n",
        "movie_rank.remove('스플릿')\n",
        "movie_rank.remove('배트맨')\n",
        "movie_rank"
      ],
      "metadata": {
        "colab": {
          "base_uri": "https://localhost:8080/"
        },
        "id": "yIYqtYRhrPx8",
        "outputId": "ec6dcd57-ad58-44ea-f25d-722b52664f47"
      },
      "execution_count": null,
      "outputs": [
        {
          "output_type": "execute_result",
          "data": {
            "text/plain": [
              "['닥터 스트레인지', '슈퍼맨', '럭키']"
            ]
          },
          "metadata": {},
          "execution_count": 25
        }
      ]
    },
    {
      "cell_type": "code",
      "source": [
        "# del을 이용하여 리스트에서 원소를 삭제할 수 있다. 리스트에서 어떤 값을 삭제하면 남은 값들은 새로 인덱싱.\n",
        "#   여러 값을 삭제할 때는 어떤 값이 먼저 삭제된 후 남은 원소들에 대해서 순서를 새로 고려한 후 삭제해야 한다.\n",
        "movie_rank = ['닥터 스트레인지', '슈퍼맨', '스플릿', '배트맨']\n",
        "del movie_rank[2]\n",
        "del movie_rank[2]\n",
        "print(movie_rank)"
      ],
      "metadata": {
        "colab": {
          "base_uri": "https://localhost:8080/"
        },
        "id": "mbjPVb-juJzU",
        "outputId": "30b51375-c14f-42c9-cd5e-3ef343edf43c"
      },
      "execution_count": null,
      "outputs": [
        {
          "output_type": "stream",
          "name": "stdout",
          "text": [
            "['닥터 스트레인지', '슈퍼맨']\n"
          ]
        }
      ]
    },
    {
      "cell_type": "markdown",
      "source": [
        "---\n",
        "56."
      ],
      "metadata": {
        "id": "1tVeaX9RssjU"
      }
    },
    {
      "cell_type": "code",
      "source": [
        "lang1 = [\"C\", \"C++\", \"JAVA\"]\n",
        "lang2 = [\"Python\", \"Go\", \"C#\"]\n",
        "langs = lang1 + lang2\n",
        "print(langs)"
      ],
      "metadata": {
        "colab": {
          "base_uri": "https://localhost:8080/"
        },
        "id": "qH2YwDZrsuMs",
        "outputId": "1cad0a18-3e49-49c5-8312-f92f85a580c1"
      },
      "execution_count": null,
      "outputs": [
        {
          "output_type": "stream",
          "name": "stdout",
          "text": [
            "['C', 'C++', 'JAVA', 'Python', 'Go', 'C#']\n"
          ]
        }
      ]
    },
    {
      "cell_type": "markdown",
      "source": [
        "---\n",
        "57."
      ],
      "metadata": {
        "id": "Jpf4BE0os95W"
      }
    },
    {
      "cell_type": "code",
      "source": [
        "nums = [1, 2, 3, 4, 5, 6, 7]\n",
        "print(min(nums))\n",
        "print(max(nums))"
      ],
      "metadata": {
        "colab": {
          "base_uri": "https://localhost:8080/"
        },
        "id": "DhrcoRbYtBRz",
        "outputId": "1dd6754c-4b2f-4c4a-99b4-1826eb1edf72"
      },
      "execution_count": null,
      "outputs": [
        {
          "output_type": "stream",
          "name": "stdout",
          "text": [
            "1\n",
            "7\n"
          ]
        }
      ]
    },
    {
      "cell_type": "code",
      "source": [
        "# \n",
        "nums = [1, 2, 3, 4, 5, 6, 7]\n",
        "print(\"max: \", max(nums))\n",
        "print(\"min: \", min(nums))"
      ],
      "metadata": {
        "colab": {
          "base_uri": "https://localhost:8080/"
        },
        "id": "wlfZJdsVucGc",
        "outputId": "ed30093c-a482-49b3-96e6-b8caf0a6811d"
      },
      "execution_count": null,
      "outputs": [
        {
          "output_type": "stream",
          "name": "stdout",
          "text": [
            "max:  7\n",
            "min:  1\n"
          ]
        }
      ]
    },
    {
      "cell_type": "markdown",
      "source": [
        "---\n",
        "58."
      ],
      "metadata": {
        "id": "rR1dYHaUtJ9B"
      }
    },
    {
      "cell_type": "code",
      "source": [
        "nums = [1, 2, 3, 4, 5]\n",
        "sum(nums)"
      ],
      "metadata": {
        "colab": {
          "base_uri": "https://localhost:8080/"
        },
        "id": "GOXlgTNjtM51",
        "outputId": "21286c2e-1df9-4d12-fa49-e03a816194f7"
      },
      "execution_count": null,
      "outputs": [
        {
          "output_type": "execute_result",
          "data": {
            "text/plain": [
              "15"
            ]
          },
          "metadata": {},
          "execution_count": 30
        }
      ]
    },
    {
      "cell_type": "markdown",
      "source": [
        "---\n",
        "59."
      ],
      "metadata": {
        "id": "NdiG51jJtRfG"
      }
    },
    {
      "cell_type": "code",
      "source": [
        "cook = [\"피자\", \"김밥\", \"만두\", \"양념치킨\", \"족발\", \"피자\", \"김치만두\", \"쫄면\", \"소시지\", \"라면\", \"팥빙수\", \"김치전\"]\n",
        "len(cook)"
      ],
      "metadata": {
        "colab": {
          "base_uri": "https://localhost:8080/"
        },
        "id": "MBedN5WgtTau",
        "outputId": "66421e5e-2e73-4a3a-9dd8-4cbbe189d3a8"
      },
      "execution_count": null,
      "outputs": [
        {
          "output_type": "execute_result",
          "data": {
            "text/plain": [
              "12"
            ]
          },
          "metadata": {},
          "execution_count": 36
        }
      ]
    },
    {
      "cell_type": "markdown",
      "source": [
        "---\n",
        "60."
      ],
      "metadata": {
        "id": "selM3whvtXYn"
      }
    },
    {
      "cell_type": "code",
      "source": [
        "nums = [1, 2, 3, 4, 5]\n",
        "sum(nums) / len(nums)"
      ],
      "metadata": {
        "colab": {
          "base_uri": "https://localhost:8080/"
        },
        "id": "JioapcTutqT5",
        "outputId": "16ae19bd-258d-4957-d796-a7aa27783d6a"
      },
      "execution_count": null,
      "outputs": [
        {
          "output_type": "execute_result",
          "data": {
            "text/plain": [
              "3.0"
            ]
          },
          "metadata": {},
          "execution_count": 40
        }
      ]
    }
  ]
}