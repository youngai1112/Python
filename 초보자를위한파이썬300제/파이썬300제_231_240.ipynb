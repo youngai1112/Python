{
  "nbformat": 4,
  "nbformat_minor": 0,
  "metadata": {
    "colab": {
      "name": "파이썬300제_231~240",
      "provenance": [],
      "collapsed_sections": []
    },
    "kernelspec": {
      "name": "python3",
      "display_name": "Python 3"
    },
    "language_info": {
      "name": "python"
    }
  },
  "cells": [
    {
      "cell_type": "markdown",
      "source": [
        "---\n",
        "231."
      ],
      "metadata": {
        "id": "A4lYqlDMlj0T"
      }
    },
    {
      "cell_type": "code",
      "source": [
        "def n_plus_1(n):\n",
        "    result = n + 1\n",
        "\n",
        "n_plus_1(3)\n",
        "print(result)   # 4"
      ],
      "metadata": {
        "colab": {
          "base_uri": "https://localhost:8080/",
          "height": 212
        },
        "id": "tpMkeEYnlnar",
        "outputId": "3a7fe7df-48ec-457e-acfe-c861919c606e"
      },
      "execution_count": 1,
      "outputs": [
        {
          "output_type": "error",
          "ename": "NameError",
          "evalue": "ignored",
          "traceback": [
            "\u001b[0;31m---------------------------------------------------------------------------\u001b[0m",
            "\u001b[0;31mNameError\u001b[0m                                 Traceback (most recent call last)",
            "\u001b[0;32m<ipython-input-1-ae5b33f579b8>\u001b[0m in \u001b[0;36m<module>\u001b[0;34m()\u001b[0m\n\u001b[1;32m      3\u001b[0m \u001b[0;34m\u001b[0m\u001b[0m\n\u001b[1;32m      4\u001b[0m \u001b[0mn_plus_1\u001b[0m\u001b[0;34m(\u001b[0m\u001b[0;36m3\u001b[0m\u001b[0;34m)\u001b[0m\u001b[0;34m\u001b[0m\u001b[0;34m\u001b[0m\u001b[0m\n\u001b[0;32m----> 5\u001b[0;31m \u001b[0mprint\u001b[0m\u001b[0;34m(\u001b[0m\u001b[0mresult\u001b[0m\u001b[0;34m)\u001b[0m   \u001b[0;31m# 4\u001b[0m\u001b[0;34m\u001b[0m\u001b[0;34m\u001b[0m\u001b[0m\n\u001b[0m",
            "\u001b[0;31mNameError\u001b[0m: name 'result' is not defined"
          ]
        }
      ]
    },
    {
      "cell_type": "code",
      "source": [
        "# 함수 내부에서 사용한 변수는 함수 밖에서 접근이 불가능하다. \n",
        "# 함수 내부에서 계산한 값을 전달하기 위해서는 return을 사용"
      ],
      "metadata": {
        "id": "MwQNzutAqKnt"
      },
      "execution_count": null,
      "outputs": []
    },
    {
      "cell_type": "markdown",
      "source": [
        "---\n",
        "★ 232.\n",
        "- return\n"
      ],
      "metadata": {
        "id": "WD9odO_vlyzH"
      }
    },
    {
      "cell_type": "code",
      "source": [
        "def make_url(url):\n",
        "    print(f'www.{url}.com')\n",
        "\n",
        "make_url('naver')"
      ],
      "metadata": {
        "colab": {
          "base_uri": "https://localhost:8080/"
        },
        "id": "YNzrNudql0pj",
        "outputId": "edaf83d6-b657-4f51-8f81-a38c8dba4cb0"
      },
      "execution_count": 4,
      "outputs": [
        {
          "output_type": "stream",
          "name": "stdout",
          "text": [
            "www.naver.com\n"
          ]
        }
      ]
    },
    {
      "cell_type": "code",
      "source": [
        "#\n",
        "def make_url(url):\n",
        "    return f'www.{url}.com'\n",
        "\n",
        "make_url('daum')"
      ],
      "metadata": {
        "colab": {
          "base_uri": "https://localhost:8080/",
          "height": 36
        },
        "id": "_FJT7XpfqbRO",
        "outputId": "cf61b971-6f92-4348-c45e-f1dedc6e7c00"
      },
      "execution_count": 20,
      "outputs": [
        {
          "output_type": "execute_result",
          "data": {
            "application/vnd.google.colaboratory.intrinsic+json": {
              "type": "string"
            },
            "text/plain": [
              "'www.daum.com'"
            ]
          },
          "metadata": {},
          "execution_count": 20
        }
      ]
    },
    {
      "cell_type": "markdown",
      "source": [
        "---\n",
        "★ 233.\n",
        "- 비어있는 리스트 함수 안에서 정의하기"
      ],
      "metadata": {
        "id": "SPC88TWdmHlt"
      }
    },
    {
      "cell_type": "code",
      "source": [
        "lst = []\n",
        "\n",
        "def make_list(string_list):\n",
        "    for i in string_list:\n",
        "        lst.append(i)\n",
        "    print(lst)\n",
        "\n",
        "make_list(\"abcd\")"
      ],
      "metadata": {
        "colab": {
          "base_uri": "https://localhost:8080/"
        },
        "id": "6mw3S6HbmPWE",
        "outputId": "d96788cf-50f1-48da-ad50-4180c707f02f"
      },
      "execution_count": 8,
      "outputs": [
        {
          "output_type": "stream",
          "name": "stdout",
          "text": [
            "['a', 'b', 'c', 'd']\n"
          ]
        }
      ]
    },
    {
      "cell_type": "code",
      "source": [
        "# \n",
        "def make_list(string):\n",
        "    return list(string)"
      ],
      "metadata": {
        "id": "59ICdMgyqp6F"
      },
      "execution_count": 21,
      "outputs": []
    },
    {
      "cell_type": "markdown",
      "source": [
        "---\n",
        "★ 234.\n",
        "- 비어있는 리스트 함수 안에 정의\n",
        "- return"
      ],
      "metadata": {
        "id": "t8xITyw1mlKY"
      }
    },
    {
      "cell_type": "code",
      "source": [
        "lst = []\n",
        "\n",
        "def pickup_even(num_list):\n",
        "    for num in num_list:\n",
        "        if num % 2 == 0:\n",
        "            lst.append(num)\n",
        "    print(lst)\n",
        "\n",
        "pickup_even([3, 4, 5, 6, 7, 8])"
      ],
      "metadata": {
        "colab": {
          "base_uri": "https://localhost:8080/"
        },
        "id": "EX3JjROvnCAO",
        "outputId": "53e2850d-25d7-43fc-ad60-bc8edbddcad6"
      },
      "execution_count": 11,
      "outputs": [
        {
          "output_type": "stream",
          "name": "stdout",
          "text": [
            "[4, 6, 8]\n"
          ]
        }
      ]
    },
    {
      "cell_type": "code",
      "source": [
        "#\n",
        "def pickup_even(items):\n",
        "    result = []\n",
        "    for item in items:\n",
        "        if item % 2 == 0:\n",
        "            result.append(item)\n",
        "    return result"
      ],
      "metadata": {
        "id": "CUP5q1tqq73a"
      },
      "execution_count": 22,
      "outputs": []
    },
    {
      "cell_type": "markdown",
      "source": [
        "---\n",
        "★ 235.\n",
        "- replace()\n",
        "- return"
      ],
      "metadata": {
        "id": "BH-hC_runaye"
      }
    },
    {
      "cell_type": "code",
      "source": [
        "def convert_int(str_number):\n",
        "    print(int(''.join(str_number.split(','))))\n",
        "\n",
        "convert_int(\"1,234,567\")"
      ],
      "metadata": {
        "colab": {
          "base_uri": "https://localhost:8080/"
        },
        "id": "QRyNcuHungeL",
        "outputId": "5b058ff7-f50d-4eeb-c52a-856850af81d2"
      },
      "execution_count": 13,
      "outputs": [
        {
          "output_type": "stream",
          "name": "stdout",
          "text": [
            "1234567\n"
          ]
        }
      ]
    },
    {
      "cell_type": "code",
      "source": [
        "#\n",
        "def convert_int(string):\n",
        "    return int(string.replace(',',''))"
      ],
      "metadata": {
        "id": "InuGee5JsHJT"
      },
      "execution_count": 23,
      "outputs": []
    },
    {
      "cell_type": "markdown",
      "source": [
        "---\n",
        "236."
      ],
      "metadata": {
        "id": "OBR3VwFCn4SE"
      }
    },
    {
      "cell_type": "code",
      "source": [
        "def func(num):\n",
        "    return num + 4\n",
        "\n",
        "a = func(10)\n",
        "b = func(a)\n",
        "c = func(b)\n",
        "print(c)\n",
        "\n",
        "'''\n",
        "14\n",
        "18\n",
        "22\n",
        "22\n",
        "'''"
      ],
      "metadata": {
        "colab": {
          "base_uri": "https://localhost:8080/",
          "height": 54
        },
        "id": "7BIcCUz_oNh3",
        "outputId": "a724c4d7-abd4-4400-abbb-c68551d8b6bd"
      },
      "execution_count": 14,
      "outputs": [
        {
          "output_type": "stream",
          "name": "stdout",
          "text": [
            "22\n"
          ]
        },
        {
          "output_type": "execute_result",
          "data": {
            "application/vnd.google.colaboratory.intrinsic+json": {
              "type": "string"
            },
            "text/plain": [
              "'\\n14\\n18\\n22\\n22\\n'"
            ]
          },
          "metadata": {},
          "execution_count": 14
        }
      ]
    },
    {
      "cell_type": "code",
      "source": [
        "# 각각의 변수에 함수의 return 값이 바인딩(저장)됨"
      ],
      "metadata": {
        "id": "e5gOJcmOsUDU"
      },
      "execution_count": 24,
      "outputs": []
    },
    {
      "cell_type": "markdown",
      "source": [
        "---\n",
        "237."
      ],
      "metadata": {
        "id": "3eZDgYaRolxM"
      }
    },
    {
      "cell_type": "code",
      "source": [
        "def func(num):\n",
        "    return num + 4\n",
        "\n",
        "c = func(func(func(10)))\n",
        "print(c)    # 22"
      ],
      "metadata": {
        "colab": {
          "base_uri": "https://localhost:8080/"
        },
        "id": "IWWdJTsYoqK7",
        "outputId": "59109861-2b73-447c-ed2f-915a6ce739ec"
      },
      "execution_count": 15,
      "outputs": [
        {
          "output_type": "stream",
          "name": "stdout",
          "text": [
            "22\n"
          ]
        }
      ]
    },
    {
      "cell_type": "markdown",
      "source": [
        "---\n",
        "238."
      ],
      "metadata": {
        "id": "CZcCbV3co_KW"
      }
    },
    {
      "cell_type": "code",
      "source": [
        "def func1(num):\n",
        "    return num + 4\n",
        "\n",
        "def func2(num):\n",
        "    return num * 10\n",
        "\n",
        "a = func1(10)\n",
        "c = func2(a)\n",
        "print(c)    # 140"
      ],
      "metadata": {
        "colab": {
          "base_uri": "https://localhost:8080/"
        },
        "id": "eBdbe03SpAtB",
        "outputId": "1d7d395d-d20e-49d0-a636-0db4dc28e919"
      },
      "execution_count": 16,
      "outputs": [
        {
          "output_type": "stream",
          "name": "stdout",
          "text": [
            "140\n"
          ]
        }
      ]
    },
    {
      "cell_type": "markdown",
      "source": [
        "---\n",
        "239."
      ],
      "metadata": {
        "id": "V3F8_XrHpUsA"
      }
    },
    {
      "cell_type": "code",
      "source": [
        "def func1(num):\n",
        "    return num + 4\n",
        "\n",
        "def func2(num):\n",
        "    num = num + 2\n",
        "    return func1(num)\n",
        "\n",
        "c = func2(10)\n",
        "print(c)    # 16"
      ],
      "metadata": {
        "colab": {
          "base_uri": "https://localhost:8080/"
        },
        "id": "HmY2BvLVpWri",
        "outputId": "a134f9c1-c12c-464d-cec6-5211410f915e"
      },
      "execution_count": 17,
      "outputs": [
        {
          "output_type": "stream",
          "name": "stdout",
          "text": [
            "16\n"
          ]
        }
      ]
    },
    {
      "cell_type": "markdown",
      "source": [
        "---\n",
        "240."
      ],
      "metadata": {
        "id": "Bc3EsDMXpsuV"
      }
    },
    {
      "cell_type": "code",
      "source": [
        "def func0(num):\n",
        "    return num * 2\n",
        "\n",
        "def func1(num):\n",
        "    return func0(num + 2)\n",
        "\n",
        "def func2(num):\n",
        "    num = num + 10\n",
        "    return func1(num)\n",
        "\n",
        "c = func2(2)\n",
        "print(c)    # 28"
      ],
      "metadata": {
        "colab": {
          "base_uri": "https://localhost:8080/"
        },
        "id": "9wO1EXAmpug3",
        "outputId": "20d8b6a3-fc7d-4c9a-f368-bc8fc100fc79"
      },
      "execution_count": 18,
      "outputs": [
        {
          "output_type": "stream",
          "name": "stdout",
          "text": [
            "28\n"
          ]
        }
      ]
    }
  ]
}