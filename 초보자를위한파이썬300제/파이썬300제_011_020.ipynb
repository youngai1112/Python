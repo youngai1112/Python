{
  "nbformat": 4,
  "nbformat_minor": 0,
  "metadata": {
    "colab": {
      "name": "파이썬300제_011~020.ipynb",
      "provenance": [],
      "collapsed_sections": []
    },
    "kernelspec": {
      "name": "python3",
      "display_name": "Python 3"
    },
    "language_info": {
      "name": "python"
    }
  },
  "cells": [
    {
      "cell_type": "markdown",
      "source": [
        "---\n",
        "11.\n"
      ],
      "metadata": {
        "id": "AVgSODi6jGa6"
      }
    },
    {
      "cell_type": "code",
      "source": [
        "삼성전자 = 50000\n",
        "print(삼성전자 * 10)"
      ],
      "metadata": {
        "colab": {
          "base_uri": "https://localhost:8080/"
        },
        "id": "Lc9jSCHYjSNa",
        "outputId": "00c0ad9a-a40f-4ee0-8350-6288658f0ac5"
      },
      "execution_count": null,
      "outputs": [
        {
          "output_type": "stream",
          "name": "stdout",
          "text": [
            "500000\n"
          ]
        }
      ]
    },
    {
      "cell_type": "code",
      "source": [
        "# \n",
        "삼성전자 = 5000\n",
        "총평가금액 = 삼성전자 * 10\n",
        "print(총평가금액)"
      ],
      "metadata": {
        "colab": {
          "base_uri": "https://localhost:8080/"
        },
        "id": "da3WeLSlnWAo",
        "outputId": "7c489a30-2dfa-42fd-8ff6-20e02b64090f"
      },
      "execution_count": null,
      "outputs": [
        {
          "output_type": "stream",
          "name": "stdout",
          "text": [
            "50000\n"
          ]
        }
      ]
    },
    {
      "cell_type": "markdown",
      "source": [
        "---\n",
        "12."
      ],
      "metadata": {
        "id": "EgTC26lMjhyr"
      }
    },
    {
      "cell_type": "code",
      "source": [
        "a = '298조'\n",
        "b = '50,000원'\n",
        "c = 15.79\n",
        "print(a); print(b); print(c)"
      ],
      "metadata": {
        "colab": {
          "base_uri": "https://localhost:8080/"
        },
        "id": "ecPPcDeDjr40",
        "outputId": "6288f19b-85f7-4620-905d-ed231cb65a2e"
      },
      "execution_count": null,
      "outputs": [
        {
          "output_type": "stream",
          "name": "stdout",
          "text": [
            "298조\n",
            "50,000원\n",
            "15.79\n"
          ]
        }
      ]
    },
    {
      "cell_type": "code",
      "source": [
        "# \n",
        "시가총액 = 29800000000\n",
        "현재가 = 5000\n",
        "PER = 15.79\n",
        "print(시가총액, type(시가총액))\n",
        "print(현재가, type(현재가))\n",
        "print(PER, type(PER))"
      ],
      "metadata": {
        "colab": {
          "base_uri": "https://localhost:8080/"
        },
        "id": "PHFkY1TNnjNv",
        "outputId": "9e153d9c-644c-41ae-b6f2-140703b34c23"
      },
      "execution_count": null,
      "outputs": [
        {
          "output_type": "stream",
          "name": "stdout",
          "text": [
            "29800000000 <class 'int'>\n",
            "5000 <class 'int'>\n",
            "15.79 <class 'float'>\n"
          ]
        }
      ]
    },
    {
      "cell_type": "markdown",
      "source": [
        "---\n",
        "13."
      ],
      "metadata": {
        "id": "nQC_CD1OkWNZ"
      }
    },
    {
      "cell_type": "code",
      "source": [
        "s = 'hello'\n",
        "t = 'python'\n",
        "print(s, t, sep='! ')"
      ],
      "metadata": {
        "colab": {
          "base_uri": "https://localhost:8080/"
        },
        "id": "uL_m1d-FkfD7",
        "outputId": "49f12abe-9f02-477e-ce11-9f5e59b0a9d6"
      },
      "execution_count": null,
      "outputs": [
        {
          "output_type": "stream",
          "name": "stdout",
          "text": [
            "hello! python\n"
          ]
        }
      ]
    },
    {
      "cell_type": "code",
      "source": [
        "# \n",
        "print(s+'!', t)"
      ],
      "metadata": {
        "colab": {
          "base_uri": "https://localhost:8080/"
        },
        "id": "lyuPIEb1n7cr",
        "outputId": "c1cb295b-b528-496f-d246-1be82ca33f7c"
      },
      "execution_count": null,
      "outputs": [
        {
          "output_type": "stream",
          "name": "stdout",
          "text": [
            "hello! python\n"
          ]
        }
      ]
    },
    {
      "cell_type": "markdown",
      "source": [
        "---\n",
        "14."
      ],
      "metadata": {
        "id": "7EVYwuGCklQs"
      }
    },
    {
      "cell_type": "code",
      "source": [
        "print(2 + 2 * 3)    # 8"
      ],
      "metadata": {
        "colab": {
          "base_uri": "https://localhost:8080/"
        },
        "id": "XBYGxI76kv1M",
        "outputId": "b93ef834-512b-4123-b141-d80c7d1bf6c0"
      },
      "execution_count": null,
      "outputs": [
        {
          "output_type": "stream",
          "name": "stdout",
          "text": [
            "8\n"
          ]
        }
      ]
    },
    {
      "cell_type": "markdown",
      "source": [
        "---\n",
        "15."
      ],
      "metadata": {
        "id": "pU8Al8ONk1Fj"
      }
    },
    {
      "cell_type": "code",
      "source": [
        "a = '132'\n",
        "type(a)     # str"
      ],
      "metadata": {
        "colab": {
          "base_uri": "https://localhost:8080/"
        },
        "id": "25BnRKbKk3nH",
        "outputId": "46a13ebf-e9ac-46ae-a25b-d8defb736ae0"
      },
      "execution_count": null,
      "outputs": [
        {
          "output_type": "execute_result",
          "data": {
            "text/plain": [
              "str"
            ]
          },
          "metadata": {},
          "execution_count": 5
        }
      ]
    },
    {
      "cell_type": "markdown",
      "source": [
        "----\n",
        "16."
      ],
      "metadata": {
        "id": "bQrShuB5k9Mt"
      }
    },
    {
      "cell_type": "code",
      "source": [
        "num_str = '720'\n",
        "print(int(num_str))"
      ],
      "metadata": {
        "colab": {
          "base_uri": "https://localhost:8080/"
        },
        "id": "t1sLb0tWk_Ls",
        "outputId": "862787b3-bb6d-44e0-9d91-791b643e54fa"
      },
      "execution_count": null,
      "outputs": [
        {
          "output_type": "stream",
          "name": "stdout",
          "text": [
            "720\n"
          ]
        }
      ]
    },
    {
      "cell_type": "code",
      "source": [
        "# \n",
        "num_str = '720'\n",
        "num_int = int(num_str)\n",
        "print(num_int, type(num_int))"
      ],
      "metadata": {
        "colab": {
          "base_uri": "https://localhost:8080/"
        },
        "id": "7PhEJPiXokCB",
        "outputId": "634666d4-4a66-4843-befd-6bc9c673870f"
      },
      "execution_count": null,
      "outputs": [
        {
          "output_type": "stream",
          "name": "stdout",
          "text": [
            "720 <class 'int'>\n"
          ]
        }
      ]
    },
    {
      "cell_type": "markdown",
      "source": [
        "---\n",
        "17."
      ],
      "metadata": {
        "id": "LIJfJ2X9lFaB"
      }
    },
    {
      "cell_type": "code",
      "source": [
        "num = 100"
      ],
      "metadata": {
        "id": "glWgaPRUlHhE"
      },
      "execution_count": null,
      "outputs": []
    },
    {
      "cell_type": "code",
      "source": [
        "# \n",
        "result = str(num)\n",
        "print(result, type(result))"
      ],
      "metadata": {
        "colab": {
          "base_uri": "https://localhost:8080/"
        },
        "id": "xbcnVlp_o2bZ",
        "outputId": "27cf59b8-9ef1-41ec-aeb4-d735794c665b"
      },
      "execution_count": null,
      "outputs": [
        {
          "output_type": "stream",
          "name": "stdout",
          "text": [
            "100 <class 'str'>\n"
          ]
        }
      ]
    },
    {
      "cell_type": "markdown",
      "source": [
        "---\n",
        "18."
      ],
      "metadata": {
        "id": "bEI6RPK5mCNY"
      }
    },
    {
      "cell_type": "code",
      "source": [
        "a = '15.79'\n",
        "float(a)"
      ],
      "metadata": {
        "colab": {
          "base_uri": "https://localhost:8080/"
        },
        "id": "Hq6kXEuqmUJv",
        "outputId": "e9cef5e2-7d9d-4c72-ea39-7186d1f13989"
      },
      "execution_count": null,
      "outputs": [
        {
          "output_type": "execute_result",
          "data": {
            "text/plain": [
              "15.79"
            ]
          },
          "metadata": {},
          "execution_count": 27
        }
      ]
    },
    {
      "cell_type": "markdown",
      "source": [
        "---\n",
        "19."
      ],
      "metadata": {
        "id": "TDByXNYKmXhT"
      }
    },
    {
      "cell_type": "code",
      "source": [
        "year = '2020'\n",
        "year = int(year)"
      ],
      "metadata": {
        "id": "Gs1ifal5mi5Z"
      },
      "execution_count": null,
      "outputs": []
    },
    {
      "cell_type": "code",
      "source": [
        "print(year-2, year-1, year)"
      ],
      "metadata": {
        "colab": {
          "base_uri": "https://localhost:8080/"
        },
        "id": "jdpG5HItmppq",
        "outputId": "3d96b961-83ea-441f-c113-df4f53e710f7"
      },
      "execution_count": null,
      "outputs": [
        {
          "output_type": "stream",
          "name": "stdout",
          "text": [
            "2018 2019 2020\n"
          ]
        }
      ]
    },
    {
      "cell_type": "code",
      "source": [
        "# \n",
        "print(int(year)-3)\n",
        "print(int(year)-2)\n",
        "print(int(year)-1)"
      ],
      "metadata": {
        "colab": {
          "base_uri": "https://localhost:8080/"
        },
        "id": "tpKqHB9fpR2g",
        "outputId": "91a3259e-02ac-4d77-f523-4ee8bacebf65"
      },
      "execution_count": null,
      "outputs": [
        {
          "output_type": "stream",
          "name": "stdout",
          "text": [
            "2017\n",
            "2018\n",
            "2019\n"
          ]
        }
      ]
    },
    {
      "cell_type": "markdown",
      "source": [
        "---\n",
        "20."
      ],
      "metadata": {
        "id": "QIezsaFXmwBm"
      }
    },
    {
      "cell_type": "code",
      "source": [
        "price = 48584 * 36\n",
        "print(price)"
      ],
      "metadata": {
        "colab": {
          "base_uri": "https://localhost:8080/"
        },
        "id": "dcyWpS9xnCSR",
        "outputId": "7803dd0a-0c55-43d4-a84c-2e80bcf84b99"
      },
      "execution_count": null,
      "outputs": [
        {
          "output_type": "stream",
          "name": "stdout",
          "text": [
            "1749024\n"
          ]
        }
      ]
    },
    {
      "cell_type": "code",
      "source": [
        "# \n",
        "월 = 48584\n",
        "총금액 = 월 * 36\n",
        "print(총금액)"
      ],
      "metadata": {
        "colab": {
          "base_uri": "https://localhost:8080/"
        },
        "id": "6t3itCaWpbMg",
        "outputId": "c01d5bfa-4f7e-4071-a5aa-6df4a0f94d09"
      },
      "execution_count": null,
      "outputs": [
        {
          "output_type": "stream",
          "name": "stdout",
          "text": [
            "1749024\n"
          ]
        }
      ]
    }
  ]
}