{
  "nbformat": 4,
  "nbformat_minor": 0,
  "metadata": {
    "colab": {
      "name": "파이썬300제_121~130",
      "provenance": [],
      "collapsed_sections": []
    },
    "kernelspec": {
      "name": "python3",
      "display_name": "Python 3"
    },
    "language_info": {
      "name": "python"
    }
  },
  "cells": [
    {
      "cell_type": "markdown",
      "source": [
        "---\n",
        "121."
      ],
      "metadata": {
        "id": "uof2kKX0OqKg"
      }
    },
    {
      "cell_type": "code",
      "source": [
        "text = input()\n",
        "\n",
        "print(text.upper() if text.islower() == True else text.lower())"
      ],
      "metadata": {
        "colab": {
          "base_uri": "https://localhost:8080/"
        },
        "id": "kIo5_IlNOuJq",
        "outputId": "a6780131-8ba0-47d2-e778-2c4d3295d9fe"
      },
      "execution_count": null,
      "outputs": [
        {
          "output_type": "stream",
          "name": "stdout",
          "text": [
            "q\n",
            "Q\n"
          ]
        }
      ]
    },
    {
      "cell_type": "markdown",
      "source": [
        "---\n",
        "122."
      ],
      "metadata": {
        "id": "bGXchijbPDUY"
      }
    },
    {
      "cell_type": "code",
      "source": [
        "test = int(input())\n",
        "\n",
        "if test >= 81:\n",
        "    print('score is A')\n",
        "elif test >= 61:\n",
        "    print('score is B')\n",
        "elif test >= 41:\n",
        "    print('score is C')\n",
        "elif test >= 21:\n",
        "    print('score is D')\n",
        "else:\n",
        "    print('score is F')"
      ],
      "metadata": {
        "colab": {
          "base_uri": "https://localhost:8080/"
        },
        "id": "8vyEWAu6PE8b",
        "outputId": "e5609124-fc21-45f5-93e8-c39eb1cc24fe"
      },
      "execution_count": null,
      "outputs": [
        {
          "output_type": "stream",
          "name": "stdout",
          "text": [
            "78\n",
            "score is B\n"
          ]
        }
      ]
    },
    {
      "cell_type": "code",
      "source": [
        "# \n",
        "score = input('score:')\n",
        "score = int(score)\n",
        "\n",
        "if 81 <= score <= 100:\n",
        "    print('grade is A')\n",
        "elif 61 <= score <= 80:\n",
        "    print('grade is B')\n",
        "elif 41 <= score <= 60:\n",
        "    print('grade is C')\n",
        "elif 21 <= score <= 40:\n",
        "    print('grade is D')\n",
        "else:\n",
        "    print('grade is E')"
      ],
      "metadata": {
        "colab": {
          "base_uri": "https://localhost:8080/"
        },
        "id": "OscdkMwNkX_G",
        "outputId": "931f4230-1fc6-417e-b782-c30a0bfaec5f"
      },
      "execution_count": 21,
      "outputs": [
        {
          "output_type": "stream",
          "name": "stdout",
          "text": [
            "score:50\n",
            "grade is C\n"
          ]
        }
      ]
    },
    {
      "cell_type": "markdown",
      "source": [
        "---\n",
        "★ 123.\n",
        "- dict, split, unpacking"
      ],
      "metadata": {
        "id": "vuPOTb-IUE4Z"
      }
    },
    {
      "cell_type": "code",
      "source": [
        "test = input()\n",
        "\n",
        "if test.split()[-1] == '달러':\n",
        "    print(str(int(test.split()[0]) * 1167), '원') \n",
        "elif test.split()[-1] == '엔':\n",
        "    print(str(int(test.split()[0]) * 1.096), '원')\n",
        "elif test.split()[-1] == '유로':\n",
        "    print(str(int(test.split()[0]) * 1268), '원')\n",
        "elif test.split()[-1] == '위안':\n",
        "    print(str(int(test.split()[0]) * 171), '원')"
      ],
      "metadata": {
        "id": "DjhXy5sUWObJ",
        "colab": {
          "base_uri": "https://localhost:8080/"
        },
        "outputId": "10aab64f-2e9c-4705-bf56-6793c40f3fa5"
      },
      "execution_count": null,
      "outputs": [
        {
          "output_type": "stream",
          "name": "stdout",
          "text": [
            "100 유로\n",
            "126800 원\n"
          ]
        }
      ]
    },
    {
      "cell_type": "code",
      "source": [
        "# \n",
        "currency = {'달러': 1167,\n",
        "            '엔': 1.096,\n",
        "            '유로': 1268,\n",
        "            '위안': 171}\n",
        "user = input('입력: ')\n",
        "num, cur = user.split()\n",
        "print(float(num) * currency[cur], \"원\")"
      ],
      "metadata": {
        "colab": {
          "base_uri": "https://localhost:8080/"
        },
        "id": "_7n5KJsQk5U2",
        "outputId": "e93f1233-f393-46db-af95-1765e4226126"
      },
      "execution_count": 22,
      "outputs": [
        {
          "output_type": "stream",
          "name": "stdout",
          "text": [
            "입력: 1000 달러\n",
            "1167000.0 원\n"
          ]
        }
      ]
    },
    {
      "cell_type": "markdown",
      "source": [
        "---\n",
        "124."
      ],
      "metadata": {
        "id": "wbEv-Xsrm00z"
      }
    },
    {
      "cell_type": "code",
      "source": [
        "a = int(input('input number1:'))\n",
        "b = int(input('input number2:'))\n",
        "c = int(input('input number3:'))\n",
        "\n",
        "print(max(a,b,c))"
      ],
      "metadata": {
        "colab": {
          "base_uri": "https://localhost:8080/"
        },
        "id": "dgcole2snRct",
        "outputId": "4a011f28-acaa-4171-ced2-b51f46de856a"
      },
      "execution_count": null,
      "outputs": [
        {
          "output_type": "stream",
          "name": "stdout",
          "text": [
            "input number1:5\n",
            "input number2:7\n",
            "input number3:10\n",
            "10\n"
          ]
        }
      ]
    },
    {
      "cell_type": "code",
      "source": [
        "# \n",
        "num1 = input(\"input number1: \")\n",
        "num2 = input(\"input number2: \")\n",
        "num3 = input(\"input number3: \")\n",
        "num1 = int(num1)\n",
        "num2 = int(num2)\n",
        "num3 = int(num3)\n",
        "\n",
        "if num1 >= num2 and num1 >= num3:\n",
        "    print(num1)\n",
        "elif num2 >= num1 and num2 >= num3:\n",
        "    print(num2)\n",
        "else:\n",
        "    print(num3)"
      ],
      "metadata": {
        "colab": {
          "base_uri": "https://localhost:8080/"
        },
        "id": "7nWCl836m8q9",
        "outputId": "c3447df8-bf97-4eed-e884-0aac7f8e86ad"
      },
      "execution_count": 28,
      "outputs": [
        {
          "output_type": "stream",
          "name": "stdout",
          "text": [
            "input number1: 5\n",
            "input number2: 8\n",
            "input number3: 99\n",
            "99\n"
          ]
        }
      ]
    },
    {
      "cell_type": "markdown",
      "source": [
        "---\n",
        "★ 125.\n",
        "- f-string"
      ],
      "metadata": {
        "id": "99sCwT4En-60"
      }
    },
    {
      "cell_type": "code",
      "source": [
        "test = input()\n",
        "\n",
        "if test.split('-')[0] == '011':\n",
        "    print('당신은 SKT 사용자입니다.')\n",
        "elif test.split('-')[0] == '016':\n",
        "    print('당신은 KT 사용자입니다.')\n",
        "elif test.split('-')[0] == '019':\n",
        "    print('당신은 LGU 사용자입니다.')\n",
        "else :\n",
        "    print('당신은 알수없음 사용자입니다.')\n"
      ],
      "metadata": {
        "colab": {
          "base_uri": "https://localhost:8080/"
        },
        "id": "qoturgTdqn9b",
        "outputId": "3d3a3e22-7701-47a1-de24-07cece5d710f"
      },
      "execution_count": null,
      "outputs": [
        {
          "output_type": "stream",
          "name": "stdout",
          "text": [
            "016-6565-454\n",
            "당신은 KT 사용자입니다.\n"
          ]
        }
      ]
    },
    {
      "cell_type": "code",
      "source": [
        "# \n",
        "number = input(\"휴대전화 번호 입력: \")\n",
        "num = number.split(\"-\")[0]\n",
        "if num == \"011\":\n",
        "    com = \"SKT\"\n",
        "elif num == \"016\":\n",
        "    com = \"KT\"\n",
        "elif num == \"019\":\n",
        "    com = \"LGU\"\n",
        "else:\n",
        "    com = \"알수없음\"\n",
        "print(f\"당신은 {com} 사용자입니다.\")"
      ],
      "metadata": {
        "colab": {
          "base_uri": "https://localhost:8080/"
        },
        "id": "tkadECuVnJLh",
        "outputId": "349d9925-23e7-428b-fb2f-152fe4ee430f"
      },
      "execution_count": 29,
      "outputs": [
        {
          "output_type": "stream",
          "name": "stdout",
          "text": [
            "휴대전화 번호 입력: 010-888-555\n",
            "당신은 알수없음 사용자입니다.\n"
          ]
        }
      ]
    },
    {
      "cell_type": "markdown",
      "source": [
        "---\n",
        "126."
      ],
      "metadata": {
        "id": "j7d3lGCJrd4r"
      }
    },
    {
      "cell_type": "code",
      "source": [
        "test = int(input('우편번호:').split()[-1][2])\n",
        "\n",
        "if test in range(0,3):\n",
        "    print('강북구')\n",
        "elif test in range(3,6):\n",
        "    print('도봉구')\n",
        "elif test in range(6,9):\n",
        "    print('노원구')"
      ],
      "metadata": {
        "colab": {
          "base_uri": "https://localhost:8080/"
        },
        "id": "vLGiAhGbwOGn",
        "outputId": "27e2c5cd-b805-440b-c0d8-1853e4020059"
      },
      "execution_count": null,
      "outputs": [
        {
          "output_type": "stream",
          "name": "stdout",
          "text": [
            "우편번호:01355\n",
            "도봉구\n"
          ]
        }
      ]
    },
    {
      "cell_type": "code",
      "source": [
        "# \n",
        "우편번호 = input(\"우편번호: \")\n",
        "우편번호 = 우편번호[:3]\n",
        "if 우편번호 in [\"010\", \"011\", \"012\"]:\n",
        "    print(\"강북구\")\n",
        "elif 우편번호 in [\"014\", \"015\", \"016\"]:\n",
        "    print(\"도봉구\")\n",
        "else:\n",
        "    print(\"노원구\")"
      ],
      "metadata": {
        "colab": {
          "base_uri": "https://localhost:8080/"
        },
        "id": "UL4ppouLn5Nj",
        "outputId": "35c3529c-fd05-48ff-ecc0-dd75553374fc"
      },
      "execution_count": 31,
      "outputs": [
        {
          "output_type": "stream",
          "name": "stdout",
          "text": [
            "우편번호: 01857\n",
            "노원구\n"
          ]
        }
      ]
    },
    {
      "cell_type": "markdown",
      "source": [
        "---\n",
        "127."
      ],
      "metadata": {
        "id": "G1zO_Eafv2qa"
      }
    },
    {
      "cell_type": "code",
      "source": [
        "test = int(input('주민등록번호:').split('-')[-1][0])\n",
        "\n",
        "if test in range(1,4,2):\n",
        "    print('남자')\n",
        "elif test in range(2,5,2):\n",
        "    print('여자')"
      ],
      "metadata": {
        "colab": {
          "base_uri": "https://localhost:8080/"
        },
        "id": "1PBxncR1zB50",
        "outputId": "09e2e758-c6a8-4f87-a960-bcffac005354"
      },
      "execution_count": null,
      "outputs": [
        {
          "output_type": "stream",
          "name": "stdout",
          "text": [
            "주민등록번호:811111-3789456\n",
            "남자\n"
          ]
        }
      ]
    },
    {
      "cell_type": "code",
      "source": [
        "# \n",
        "주민번호 = input(\"주민등록번호: \")\n",
        "주민번호 = 주민번호.split(\"-\")[1]\n",
        "if 주민번호[0] == \"1\" or 주민번호[0] == \"3\":\n",
        "    print(\"남자\")\n",
        "else:\n",
        "    print(\"여자\")"
      ],
      "metadata": {
        "colab": {
          "base_uri": "https://localhost:8080/"
        },
        "id": "Y845atsaoGGh",
        "outputId": "fed774c2-9cec-4210-c865-a88c6b0d650c"
      },
      "execution_count": 32,
      "outputs": [
        {
          "output_type": "stream",
          "name": "stdout",
          "text": [
            "주민등록번호: 7894564-1237894\n",
            "남자\n"
          ]
        }
      ]
    },
    {
      "cell_type": "markdown",
      "source": [
        "---\n",
        "★ 128.\n",
        "- slicing"
      ],
      "metadata": {
        "id": "fFN3MI-3znRY"
      }
    },
    {
      "cell_type": "code",
      "source": [
        "test = input('주민등록번호:').split('-')[-1][:2]\n",
        "\n",
        "if test in ['00','01','02','03','04','05','06']:\n",
        "    print('서울 입니다')\n",
        "elif test in ['09','10','11','12']:\n",
        "    print('서울이 아닙니다.')"
      ],
      "metadata": {
        "colab": {
          "base_uri": "https://localhost:8080/"
        },
        "id": "ozFuFPTL0Y7G",
        "outputId": "20af86ce-888e-4d1c-b517-42f6f8d616df"
      },
      "execution_count": null,
      "outputs": [
        {
          "output_type": "stream",
          "name": "stdout",
          "text": [
            "주민등록번호:4567891-12874512\n",
            "서울이 아닙니다.\n"
          ]
        }
      ]
    },
    {
      "cell_type": "code",
      "source": [
        "# \n",
        "주민번호 = input(\"주민등록번호: \")\n",
        "뒷자리 = 주민번호.split(\"-\")[1]\n",
        "if 0 <= int(뒷자리[1:3]) <= 8:\n",
        "    print(\"서울입니다.\")\n",
        "else:\n",
        "    print(\"서울이 아닙니다.\")"
      ],
      "metadata": {
        "colab": {
          "base_uri": "https://localhost:8080/"
        },
        "id": "mW5HeoJ8oM_4",
        "outputId": "bdf9313e-df7e-405f-cf64-b1ec4baef68e"
      },
      "execution_count": 33,
      "outputs": [
        {
          "output_type": "stream",
          "name": "stdout",
          "text": [
            "주민등록번호: 789452-2784561\n",
            "서울이 아닙니다.\n"
          ]
        }
      ]
    },
    {
      "cell_type": "markdown",
      "source": [
        "---\n",
        "★ 129.\n",
        "- 변수"
      ],
      "metadata": {
        "id": "VZo_JMr50PC4"
      }
    },
    {
      "cell_type": "code",
      "source": [
        "a = input('주민등록번호:').split('-')\n",
        "\n",
        "''' 1.              # for i in range(0,8)\n",
        "int(a[0][0]) + 2    # int(a[0][i]) + (i+2)\n",
        "int(a[0][1]) + 3       \n",
        "int(a[0][2]) + 4\n",
        "int(a[0][3]) + 5\n",
        "int(a[0][4]) + 6\n",
        "int(a[0][5]) + 7\n",
        "int(a[0][6]) + 8\n",
        "int(a[0][7]) + 9    \n",
        "...                 # for i in range(0,3)\n",
        "int(a[0][8]) + 2    # int(a[0][i+8]) + (i+2) \n",
        "int(a[0][9]) + 3\n",
        "int(a[0][10]) + 4\n",
        "int(a[0][11]) + 5\n",
        "'''\n",
        "\n",
        "''' 2. \n",
        "sum() % 11 == 11 - int(a[0][12])    \n",
        "print('유효한 주민등록번호입니다.')\n",
        "\n",
        "sum() % 11 != 11 - int(a[0][12])    \n",
        "print('유효하지 않은 주민등록번호입니다.')\n",
        "\n",
        "11 - 나머지 = int(a[0][12]) ---> 나머지 = 11 - int(a[0][12])\n",
        "'''\n",
        "\n",
        "print(a, type(a))"
      ],
      "metadata": {
        "id": "T88lBabY1akO",
        "colab": {
          "base_uri": "https://localhost:8080/"
        },
        "outputId": "cb125744-032b-42fb-baca-f2a22d7c4635"
      },
      "execution_count": 13,
      "outputs": [
        {
          "output_type": "stream",
          "name": "stdout",
          "text": [
            "주민등록번호:11111111-4444444\n",
            "['11111111', '4444444'] <class 'list'>\n"
          ]
        }
      ]
    },
    {
      "cell_type": "code",
      "source": [
        "# \n",
        "num = input(\"주민등록번호: \")\n",
        "계산1 = int(num[0]) * 2 + int(num[1]) * 3 + int(num[2]) * 4 + int(num[3]) * 5 + int(num[4]) * 6 + \\\n",
        "        int(num[5]) * 7 + int(num[7]) * 8 + int(num[8]) * 9 + int(num[9]) * 2 + int(num[10])* 3 + \\\n",
        "        int(num[11])* 4 + int(num[12]) * 5\n",
        "계산2 = 11 - (계산1 % 11)\n",
        "계산3 = str(계산2)\n",
        "\n",
        "if num[-1] == 계산3[-1]:\n",
        "    print(\"유효한 주민등록번호입니다.\")\n",
        "else:\n",
        "    print(\"유효하지 않은 주민등록번호입니다.\")"
      ],
      "metadata": {
        "colab": {
          "base_uri": "https://localhost:8080/"
        },
        "id": "PwIqWGI6opmF",
        "outputId": "edaf885f-7cca-4076-a52c-ae748ac0ff12"
      },
      "execution_count": 34,
      "outputs": [
        {
          "output_type": "stream",
          "name": "stdout",
          "text": [
            "주민등록번호: 911112-1444444\n",
            "유효한 주민등록번호입니다.\n"
          ]
        }
      ]
    },
    {
      "cell_type": "markdown",
      "source": [
        "---\n",
        "★ 130.\n",
        "- request, 변수\n"
      ],
      "metadata": {
        "id": "GyvnD2KM7G5u"
      }
    },
    {
      "cell_type": "code",
      "source": [
        "import requests\n",
        "btc = requests.get(\"https://api.bithumb.com/public/ticker/\").json()['data']"
      ],
      "metadata": {
        "id": "EXSc0tHyh0yr"
      },
      "execution_count": 14,
      "outputs": []
    },
    {
      "cell_type": "code",
      "source": [
        "btc"
      ],
      "metadata": {
        "colab": {
          "base_uri": "https://localhost:8080/"
        },
        "id": "N5f5lp9wi4B2",
        "outputId": "ab0245c0-69d9-45f3-dc23-5e8e13db485c"
      },
      "execution_count": 17,
      "outputs": [
        {
          "output_type": "execute_result",
          "data": {
            "text/plain": [
              "{'acc_trade_value': '65101689070.8446',\n",
              " 'acc_trade_value_24H': '85444786788.2237',\n",
              " 'closing_price': '46628000',\n",
              " 'date': '1643454890250',\n",
              " 'fluctate_24H': '1073000',\n",
              " 'fluctate_rate_24H': '2.36',\n",
              " 'max_price': '46999000',\n",
              " 'min_price': '45513000',\n",
              " 'opening_price': '45689000',\n",
              " 'prev_closing_price': '45687000',\n",
              " 'units_traded': '1402.73943323',\n",
              " 'units_traded_24H': '1850.16865892'}"
            ]
          },
          "metadata": {},
          "execution_count": 17
        }
      ]
    },
    {
      "cell_type": "code",
      "source": [
        "if int(btc['opening_price']) + int(btc['max_price']) - int(btc['min_price']) > int(btc['max_price']):\n",
        "    print('상승장')\n",
        "else:\n",
        "    print('하락장')    "
      ],
      "metadata": {
        "colab": {
          "base_uri": "https://localhost:8080/"
        },
        "id": "j3RExHQri_g9",
        "outputId": "468ab916-a457-4967-b34a-c9d09b9dd82a"
      },
      "execution_count": 19,
      "outputs": [
        {
          "output_type": "stream",
          "name": "stdout",
          "text": [
            "상승장\n"
          ]
        }
      ]
    },
    {
      "cell_type": "code",
      "source": [
        "#\n",
        "import requests\n",
        "btc = requests.get(\"https://api.bithumb.com/public/ticker/\").json()['data']\n",
        "\n",
        "변동폭 = float(btc['max_price']) - float(btc['min_price'])\n",
        "시가 = float(btc['opening_price'])\n",
        "최고가 = float(btc['max_price'])\n",
        "\n",
        "if (시가+변동폭) > 최고가:\n",
        "    print(\"상승장\")\n",
        "else:\n",
        "    print(\"하락장\")"
      ],
      "metadata": {
        "colab": {
          "base_uri": "https://localhost:8080/"
        },
        "id": "DEVGp0JFpFcN",
        "outputId": "578caa93-20a6-4b26-9868-1d9a9dc732f8"
      },
      "execution_count": 35,
      "outputs": [
        {
          "output_type": "stream",
          "name": "stdout",
          "text": [
            "상승장\n"
          ]
        }
      ]
    }
  ]
}