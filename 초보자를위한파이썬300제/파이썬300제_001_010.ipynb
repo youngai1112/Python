{
  "nbformat": 4,
  "nbformat_minor": 0,
  "metadata": {
    "colab": {
      "name": "파이썬300제_001~010 ",
      "provenance": [],
      "collapsed_sections": []
    },
    "kernelspec": {
      "name": "python3",
      "display_name": "Python 3"
    },
    "language_info": {
      "name": "python"
    }
  },
  "cells": [
    {
      "cell_type": "markdown",
      "source": [
        "---\n",
        "1."
      ],
      "metadata": {
        "id": "eDmM-SFYf-pG"
      }
    },
    {
      "cell_type": "code",
      "source": [
        "print('Hello World')"
      ],
      "metadata": {
        "colab": {
          "base_uri": "https://localhost:8080/"
        },
        "id": "ck0de2SYgCou",
        "outputId": "4adbd2ee-d4cf-4ad3-ef8b-683ff83e7ba7"
      },
      "execution_count": null,
      "outputs": [
        {
          "output_type": "stream",
          "name": "stdout",
          "text": [
            "Hello World\n"
          ]
        }
      ]
    },
    {
      "cell_type": "markdown",
      "source": [
        "---\n",
        "2."
      ],
      "metadata": {
        "id": "bR_Rp5y2gFdi"
      }
    },
    {
      "cell_type": "code",
      "source": [
        "print(\"Mary's cosmetics\")"
      ],
      "metadata": {
        "colab": {
          "base_uri": "https://localhost:8080/"
        },
        "id": "MpaXyFHogLsH",
        "outputId": "b7d1e512-53e3-446b-c010-4bb16683252d"
      },
      "execution_count": null,
      "outputs": [
        {
          "output_type": "stream",
          "name": "stdout",
          "text": [
            "Mary's cosmetics\n"
          ]
        }
      ]
    },
    {
      "cell_type": "markdown",
      "source": [
        "---\n",
        "3."
      ],
      "metadata": {
        "id": "JlnUz1AOgPwE"
      }
    },
    {
      "cell_type": "code",
      "source": [
        "print('신씨가 소리질렀다. \"도둑이야\"')"
      ],
      "metadata": {
        "colab": {
          "base_uri": "https://localhost:8080/"
        },
        "id": "yoTRGUNqgRx-",
        "outputId": "247d9650-2af2-4f3d-aedc-e50660c8fb3e"
      },
      "execution_count": null,
      "outputs": [
        {
          "output_type": "stream",
          "name": "stdout",
          "text": [
            "신씨가 소리질렀다. \"도둑이야\"\n"
          ]
        }
      ]
    },
    {
      "cell_type": "markdown",
      "source": [
        "---\n",
        "4."
      ],
      "metadata": {
        "id": "hD8E15oegWj7"
      }
    },
    {
      "cell_type": "code",
      "source": [
        "print('\"C:\\Windows\"')"
      ],
      "metadata": {
        "colab": {
          "base_uri": "https://localhost:8080/"
        },
        "id": "ZU-1hDoVgYbO",
        "outputId": "d5e1bb56-b873-41f8-f8d5-3d32ea2414d6"
      },
      "execution_count": null,
      "outputs": [
        {
          "output_type": "stream",
          "name": "stdout",
          "text": [
            "\"C:\\Windows\"\n"
          ]
        }
      ]
    },
    {
      "cell_type": "markdown",
      "source": [
        "---\n",
        "5."
      ],
      "metadata": {
        "id": "WWmVVDH4geMF"
      }
    },
    {
      "cell_type": "code",
      "source": [
        "print(\"안녕하세요.\\n만나서\\t\\t반갑습니다.\")"
      ],
      "metadata": {
        "colab": {
          "base_uri": "https://localhost:8080/"
        },
        "id": "iPYOMD6Agoif",
        "outputId": "321d6722-6428-4b46-8ffd-2da31f9c445b"
      },
      "execution_count": null,
      "outputs": [
        {
          "output_type": "stream",
          "name": "stdout",
          "text": [
            "안녕하세요.\n",
            "만나서\t\t반갑습니다.\n"
          ]
        }
      ]
    },
    {
      "cell_type": "markdown",
      "source": [
        "- `\\n`: 줄바꿈\n",
        "- `\\t`: 띄어쓰기"
      ],
      "metadata": {
        "id": "e64q-R7wg3J-"
      }
    },
    {
      "cell_type": "markdown",
      "source": [
        "---\n",
        "6."
      ],
      "metadata": {
        "id": "184ljnrEhFif"
      }
    },
    {
      "cell_type": "code",
      "source": [
        "print(\"오늘은\", \"일요일\")   # 오늘은일요일"
      ],
      "metadata": {
        "colab": {
          "base_uri": "https://localhost:8080/"
        },
        "id": "g19w_CUIhG_w",
        "outputId": "760ff835-7eb1-4e6b-ef1e-472afa2fba5e"
      },
      "execution_count": null,
      "outputs": [
        {
          "output_type": "stream",
          "name": "stdout",
          "text": [
            "오늘은 일요일\n"
          ]
        }
      ]
    },
    {
      "cell_type": "markdown",
      "source": [
        "---\n",
        "7."
      ],
      "metadata": {
        "id": "rel9By0ghQcd"
      }
    },
    {
      "cell_type": "code",
      "source": [
        "print('naver;kakao;sk;samsung')"
      ],
      "metadata": {
        "colab": {
          "base_uri": "https://localhost:8080/"
        },
        "id": "n2-3w0G3hUgH",
        "outputId": "6b8a6cae-45d7-4b89-d72a-f4dd30f203c9"
      },
      "execution_count": null,
      "outputs": [
        {
          "output_type": "stream",
          "name": "stdout",
          "text": [
            "naver;kakao;sk;samsung\n"
          ]
        }
      ]
    },
    {
      "cell_type": "code",
      "source": [
        "# \n",
        "print('naver','kakao','sk','samsung',sep=';')"
      ],
      "metadata": {
        "colab": {
          "base_uri": "https://localhost:8080/"
        },
        "id": "gsTegn8BiNGJ",
        "outputId": "67684b0a-562e-474b-c3e5-f6d7cdd5efed"
      },
      "execution_count": null,
      "outputs": [
        {
          "output_type": "stream",
          "name": "stdout",
          "text": [
            "naver;kakao;sk;samsung\n"
          ]
        }
      ]
    },
    {
      "cell_type": "markdown",
      "source": [
        "---\n",
        "8."
      ],
      "metadata": {
        "id": "Otg46lAahc5D"
      }
    },
    {
      "cell_type": "code",
      "source": [
        "print('naver/kakao/sk/samsung')"
      ],
      "metadata": {
        "colab": {
          "base_uri": "https://localhost:8080/"
        },
        "id": "_NVnxtTBhohv",
        "outputId": "ac584aa3-e746-4d93-a370-83a073ed4a57"
      },
      "execution_count": null,
      "outputs": [
        {
          "output_type": "stream",
          "name": "stdout",
          "text": [
            "naver/kakao/sk/samsung\n"
          ]
        }
      ]
    },
    {
      "cell_type": "code",
      "source": [
        "# \n",
        "print('naver','kakao','sk','samsung',sep='/')"
      ],
      "metadata": {
        "colab": {
          "base_uri": "https://localhost:8080/"
        },
        "id": "ZrUT86HeiVro",
        "outputId": "dd12f587-6123-4f9c-b743-e8d6a1e16011"
      },
      "execution_count": null,
      "outputs": [
        {
          "output_type": "stream",
          "name": "stdout",
          "text": [
            "naver/kakao/sk/samsung\n"
          ]
        }
      ]
    },
    {
      "cell_type": "markdown",
      "source": [
        "---\n",
        "9."
      ],
      "metadata": {
        "id": "dMXAazxkhsZE"
      }
    },
    {
      "cell_type": "code",
      "source": [
        "print('first', 'second')"
      ],
      "metadata": {
        "colab": {
          "base_uri": "https://localhost:8080/"
        },
        "id": "Tva4acmJhvbq",
        "outputId": "27f11d3a-2ca9-4630-943c-547bc162942e"
      },
      "execution_count": null,
      "outputs": [
        {
          "output_type": "stream",
          "name": "stdout",
          "text": [
            "first second\n"
          ]
        }
      ]
    },
    {
      "cell_type": "code",
      "source": [
        "# \n",
        "print('first', end=''); print('second')"
      ],
      "metadata": {
        "colab": {
          "base_uri": "https://localhost:8080/"
        },
        "id": "boWSWKtyie87",
        "outputId": "cc9172ef-84e7-43ef-dedf-4b4ad3125332"
      },
      "execution_count": null,
      "outputs": [
        {
          "output_type": "stream",
          "name": "stdout",
          "text": [
            "firstsecond\n"
          ]
        }
      ]
    },
    {
      "cell_type": "markdown",
      "source": [
        "---\n",
        "10."
      ],
      "metadata": {
        "id": "4VrxS17_iCM_"
      }
    },
    {
      "cell_type": "code",
      "source": [
        "print(5/3)"
      ],
      "metadata": {
        "colab": {
          "base_uri": "https://localhost:8080/"
        },
        "id": "M-5nCcxuh-AC",
        "outputId": "5592f693-b9ec-459a-8569-ce45cb01edbf"
      },
      "execution_count": null,
      "outputs": [
        {
          "output_type": "stream",
          "name": "stdout",
          "text": [
            "1.6666666666666667\n"
          ]
        }
      ]
    }
  ]
}