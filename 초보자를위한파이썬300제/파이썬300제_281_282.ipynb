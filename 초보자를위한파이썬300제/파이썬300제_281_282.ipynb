{
  "nbformat": 4,
  "nbformat_minor": 0,
  "metadata": {
    "colab": {
      "name": "파이썬300제_281~282",
      "provenance": [],
      "collapsed_sections": []
    },
    "kernelspec": {
      "name": "python3",
      "display_name": "Python 3"
    },
    "language_info": {
      "name": "python"
    }
  },
  "cells": [
    {
      "cell_type": "markdown",
      "source": [
        "---\n",
        "281."
      ],
      "metadata": {
        "id": "E8qnB2DWF7bJ"
      }
    },
    {
      "cell_type": "code",
      "source": [
        "class Car:\n",
        "    def __init__(self, tire, price):\n",
        "        self.tire = tire\n",
        "        self.price = price\n",
        "\n",
        "car = Car(2, 1000)\n",
        "print(car.tire)\n",
        "print(car.price)"
      ],
      "metadata": {
        "colab": {
          "base_uri": "https://localhost:8080/"
        },
        "id": "ZdBB53tGGGYW",
        "outputId": "034db95f-78cd-41d3-bb8f-c8df42b4c550"
      },
      "execution_count": 2,
      "outputs": [
        {
          "output_type": "stream",
          "name": "stdout",
          "text": [
            "2\n",
            "1000\n"
          ]
        }
      ]
    },
    {
      "cell_type": "markdown",
      "source": [
        "---\n",
        "282."
      ],
      "metadata": {
        "id": "TIu9XWbwGvxV"
      }
    },
    {
      "cell_type": "code",
      "source": [
        "class Bicycle(Car):\n",
        "    def __init__(self):"
      ],
      "metadata": {
        "colab": {
          "base_uri": "https://localhost:8080/",
          "height": 137
        },
        "id": "Bx3VQoSnGxmp",
        "outputId": "d0544e48-eefb-43d1-d7df-1e5909b663ac"
      },
      "execution_count": 6,
      "outputs": [
        {
          "output_type": "error",
          "ename": "SyntaxError",
          "evalue": "ignored",
          "traceback": [
            "\u001b[0;36m  File \u001b[0;32m\"<ipython-input-6-8087a6a4d0a9>\"\u001b[0;36m, line \u001b[0;32m2\u001b[0m\n\u001b[0;31m    def __init__(self):\u001b[0m\n\u001b[0m                       ^\u001b[0m\n\u001b[0;31mSyntaxError\u001b[0m\u001b[0;31m:\u001b[0m unexpected EOF while parsing\n"
          ]
        }
      ]
    },
    {
      "cell_type": "code",
      "source": [
        "#\n",
        "class Bicycle(Car):\n",
        "    pass"
      ],
      "metadata": {
        "id": "Wh3OxkDiHcf4"
      },
      "execution_count": 7,
      "outputs": []
    },
    {
      "cell_type": "markdown",
      "source": [
        ""
      ],
      "metadata": {
        "id": "nhl_uapFHKNv"
      }
    }
  ]
}