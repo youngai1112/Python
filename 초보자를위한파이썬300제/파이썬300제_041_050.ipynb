{
  "nbformat": 4,
  "nbformat_minor": 0,
  "metadata": {
    "colab": {
      "name": "파이썬300제_041~050",
      "provenance": [],
      "collapsed_sections": []
    },
    "kernelspec": {
      "name": "python3",
      "display_name": "Python 3"
    },
    "language_info": {
      "name": "python"
    }
  },
  "cells": [
    {
      "cell_type": "markdown",
      "source": [
        "---\n",
        "41."
      ],
      "metadata": {
        "id": "wjvjiIIzmK3s"
      }
    },
    {
      "cell_type": "code",
      "source": [
        "ticker = \"btc_krw\"\n",
        "ticker.upper()"
      ],
      "metadata": {
        "colab": {
          "base_uri": "https://localhost:8080/",
          "height": 35
        },
        "id": "BYUe-ktzmRW0",
        "outputId": "464e817f-49d5-4efd-9067-3a02c198ca41"
      },
      "execution_count": null,
      "outputs": [
        {
          "output_type": "execute_result",
          "data": {
            "application/vnd.google.colaboratory.intrinsic+json": {
              "type": "string"
            },
            "text/plain": [
              "'BTC_KRW'"
            ]
          },
          "metadata": {},
          "execution_count": 1
        }
      ]
    },
    {
      "cell_type": "markdown",
      "source": [
        "---\n",
        "42."
      ],
      "metadata": {
        "id": "GSvt9BUdmWCg"
      }
    },
    {
      "cell_type": "code",
      "source": [
        "ticker = \"BTC_KRW\"\n",
        "ticker.lower()"
      ],
      "metadata": {
        "colab": {
          "base_uri": "https://localhost:8080/",
          "height": 35
        },
        "id": "CLWoCEuzmhFi",
        "outputId": "c07fb749-380e-4ec6-ce00-0f846f2984fa"
      },
      "execution_count": null,
      "outputs": [
        {
          "output_type": "execute_result",
          "data": {
            "application/vnd.google.colaboratory.intrinsic+json": {
              "type": "string"
            },
            "text/plain": [
              "'btc_krw'"
            ]
          },
          "metadata": {},
          "execution_count": 2
        }
      ]
    },
    {
      "cell_type": "markdown",
      "source": [
        "---\n",
        "43."
      ],
      "metadata": {
        "id": "UBHmH5jRmwVH"
      }
    },
    {
      "cell_type": "code",
      "source": [
        "h = 'hello'\n",
        "h.capitalize()"
      ],
      "metadata": {
        "colab": {
          "base_uri": "https://localhost:8080/",
          "height": 35
        },
        "id": "33o1ZTAumxj1",
        "outputId": "3c24cdf4-85e0-4517-8c25-07175582f7ef"
      },
      "execution_count": null,
      "outputs": [
        {
          "output_type": "execute_result",
          "data": {
            "application/vnd.google.colaboratory.intrinsic+json": {
              "type": "string"
            },
            "text/plain": [
              "'Hello'"
            ]
          },
          "metadata": {},
          "execution_count": 4
        }
      ]
    },
    {
      "cell_type": "markdown",
      "source": [
        "---\n",
        "44."
      ],
      "metadata": {
        "id": "07Sml3Q8m5kz"
      }
    },
    {
      "cell_type": "code",
      "source": [
        "file_name = \"보고서.xlsx\"\n",
        "file_name.endswith('xlsx')"
      ],
      "metadata": {
        "colab": {
          "base_uri": "https://localhost:8080/"
        },
        "id": "ldDNCOO7nDZf",
        "outputId": "31198ba6-a505-4c8c-d559-1e774f71cc92"
      },
      "execution_count": null,
      "outputs": [
        {
          "output_type": "execute_result",
          "data": {
            "text/plain": [
              "True"
            ]
          },
          "metadata": {},
          "execution_count": 5
        }
      ]
    },
    {
      "cell_type": "markdown",
      "source": [
        "---\n",
        "45."
      ],
      "metadata": {
        "id": "ZNGbLpxbnNFS"
      }
    },
    {
      "cell_type": "code",
      "source": [
        "file_name = \"보고서.xlsx\"\n",
        "file_name.endswith('xlsx' or 'xls')"
      ],
      "metadata": {
        "colab": {
          "base_uri": "https://localhost:8080/"
        },
        "id": "qJeveZGnnRI7",
        "outputId": "04c10bc3-1a54-432a-8474-753f9c42a17b"
      },
      "execution_count": null,
      "outputs": [
        {
          "output_type": "execute_result",
          "data": {
            "text/plain": [
              "True"
            ]
          },
          "metadata": {},
          "execution_count": 7
        }
      ]
    },
    {
      "cell_type": "code",
      "source": [
        "# \n",
        "file_name = \"보고서.xlsx\"\n",
        "file_name.endswith(('xlsx', 'xls'))"
      ],
      "metadata": {
        "colab": {
          "base_uri": "https://localhost:8080/"
        },
        "id": "TMyFVLeTpcgt",
        "outputId": "148698dc-c3b6-4457-9960-022b463b4ea5"
      },
      "execution_count": null,
      "outputs": [
        {
          "output_type": "execute_result",
          "data": {
            "text/plain": [
              "True"
            ]
          },
          "metadata": {},
          "execution_count": 15
        }
      ]
    },
    {
      "cell_type": "markdown",
      "source": [
        "---\n",
        "46."
      ],
      "metadata": {
        "id": "NeRyk-GbnZ62"
      }
    },
    {
      "cell_type": "code",
      "source": [
        "file_name = \"2020_보고서.xlsx\"\n",
        "file_name.startswith('2020')"
      ],
      "metadata": {
        "colab": {
          "base_uri": "https://localhost:8080/"
        },
        "id": "F29dj7AMnfKg",
        "outputId": "9b3b0304-9bb9-463a-fd6d-e14aa1d729c7"
      },
      "execution_count": null,
      "outputs": [
        {
          "output_type": "execute_result",
          "data": {
            "text/plain": [
              "True"
            ]
          },
          "metadata": {},
          "execution_count": 8
        }
      ]
    },
    {
      "cell_type": "markdown",
      "source": [
        "---\n",
        "47."
      ],
      "metadata": {
        "id": "zcXyhyP2oyHy"
      }
    },
    {
      "cell_type": "code",
      "source": [
        "a = \"hello world\"\n",
        "a.split()"
      ],
      "metadata": {
        "colab": {
          "base_uri": "https://localhost:8080/"
        },
        "id": "42l6pZd7ozuL",
        "outputId": "f7875caa-c815-49e1-ae02-559015454503"
      },
      "execution_count": null,
      "outputs": [
        {
          "output_type": "execute_result",
          "data": {
            "text/plain": [
              "['hello', 'world']"
            ]
          },
          "metadata": {},
          "execution_count": 9
        }
      ]
    },
    {
      "cell_type": "markdown",
      "source": [
        "---\n",
        "48."
      ],
      "metadata": {
        "id": "6l6ebbypo4lZ"
      }
    },
    {
      "cell_type": "code",
      "source": [
        "ticker = \"btc_krw\"\n",
        "ticker.split('_')"
      ],
      "metadata": {
        "colab": {
          "base_uri": "https://localhost:8080/"
        },
        "id": "oLz0GvKfo6mw",
        "outputId": "2df4d4e4-1011-4141-8932-443183bf6288"
      },
      "execution_count": null,
      "outputs": [
        {
          "output_type": "execute_result",
          "data": {
            "text/plain": [
              "['btc', 'krw']"
            ]
          },
          "metadata": {},
          "execution_count": 11
        }
      ]
    },
    {
      "cell_type": "markdown",
      "source": [
        "---\n",
        "49."
      ],
      "metadata": {
        "id": "Jw0INqXSpAXw"
      }
    },
    {
      "cell_type": "code",
      "source": [
        "date = \"2020-05-01\"\n",
        "date.split('-')"
      ],
      "metadata": {
        "colab": {
          "base_uri": "https://localhost:8080/"
        },
        "id": "Vd4ETHRtpHIH",
        "outputId": "66c981a4-d334-4572-c926-a4771865e338"
      },
      "execution_count": null,
      "outputs": [
        {
          "output_type": "execute_result",
          "data": {
            "text/plain": [
              "['2020', '05', '01']"
            ]
          },
          "metadata": {},
          "execution_count": 12
        }
      ]
    },
    {
      "cell_type": "markdown",
      "source": [
        "---\n",
        "50."
      ],
      "metadata": {
        "id": "akD68oRrpKBu"
      }
    },
    {
      "cell_type": "code",
      "source": [
        "data = \"039490     \"\n",
        "data.rstrip()"
      ],
      "metadata": {
        "colab": {
          "base_uri": "https://localhost:8080/",
          "height": 35
        },
        "id": "hQgCDaSHpMMf",
        "outputId": "35f06f54-89ea-45d7-e794-ba131d70ada5"
      },
      "execution_count": null,
      "outputs": [
        {
          "output_type": "execute_result",
          "data": {
            "application/vnd.google.colaboratory.intrinsic+json": {
              "type": "string"
            },
            "text/plain": [
              "'039490'"
            ]
          },
          "metadata": {},
          "execution_count": 13
        }
      ]
    }
  ]
}