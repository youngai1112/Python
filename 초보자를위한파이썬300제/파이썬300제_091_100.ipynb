{
  "nbformat": 4,
  "nbformat_minor": 0,
  "metadata": {
    "colab": {
      "name": "파이썬300제_091~100",
      "provenance": [],
      "collapsed_sections": []
    },
    "kernelspec": {
      "name": "python3",
      "display_name": "Python 3"
    },
    "language_info": {
      "name": "python"
    }
  },
  "cells": [
    {
      "cell_type": "markdown",
      "source": [
        "---\n",
        "91."
      ],
      "metadata": {
        "id": "XpJhSncO0VCQ"
      }
    },
    {
      "cell_type": "code",
      "source": [
        "inventory = {'메로나':[300,20], '비비빅':[400,3], '죠스바':[250,100]}\n",
        "print(inventory)"
      ],
      "metadata": {
        "colab": {
          "base_uri": "https://localhost:8080/"
        },
        "id": "iYEZX2kb0ZkB",
        "outputId": "ddbe1611-7bb0-4fee-d030-1aa234db613b"
      },
      "execution_count": 2,
      "outputs": [
        {
          "output_type": "stream",
          "name": "stdout",
          "text": [
            "{'메로나': [300, 20], '비비빅': [400, 3], '죠스바': [250, 100]}\n"
          ]
        }
      ]
    },
    {
      "cell_type": "markdown",
      "source": [
        "---\n",
        "92."
      ],
      "metadata": {
        "id": "JRgItBqX0jw9"
      }
    },
    {
      "cell_type": "code",
      "source": [
        "inventory = {\"메로나\": [300, 20],\n",
        "              \"비비빅\": [400, 3],\n",
        "              \"죠스바\": [250, 100]}\n",
        "print(inventory['메로나'][0], '원')"
      ],
      "metadata": {
        "colab": {
          "base_uri": "https://localhost:8080/"
        },
        "id": "TpXx6pyf0pGd",
        "outputId": "0289c788-a6f5-492c-d1f8-8756ed22d878"
      },
      "execution_count": 3,
      "outputs": [
        {
          "output_type": "stream",
          "name": "stdout",
          "text": [
            "300 원\n"
          ]
        }
      ]
    },
    {
      "cell_type": "markdown",
      "source": [
        "---\n",
        "93."
      ],
      "metadata": {
        "id": "wfyX3UWs00i5"
      }
    },
    {
      "cell_type": "code",
      "source": [
        "inventory = {\"메로나\": [300, 20],\n",
        "              \"비비빅\": [400, 3],\n",
        "              \"죠스바\": [250, 100]}\n",
        "\n",
        "print(inventory['메로나'][1], '개')"
      ],
      "metadata": {
        "colab": {
          "base_uri": "https://localhost:8080/"
        },
        "id": "zTMkDOH102Vr",
        "outputId": "9fc8c077-9d6c-4251-a329-ec9e8495546a"
      },
      "execution_count": 4,
      "outputs": [
        {
          "output_type": "stream",
          "name": "stdout",
          "text": [
            "20 개\n"
          ]
        }
      ]
    },
    {
      "cell_type": "markdown",
      "source": [
        "---\n",
        "94."
      ],
      "metadata": {
        "id": "LEnmsE3V0-wQ"
      }
    },
    {
      "cell_type": "code",
      "source": [
        "inventory = {\"메로나\": [300, 20],\n",
        "              \"비비빅\": [400, 3],\n",
        "              \"죠스바\": [250, 100]}\n",
        "\n",
        "inventory['월드콘'] = [500,7]\n",
        "print(inventory)"
      ],
      "metadata": {
        "colab": {
          "base_uri": "https://localhost:8080/"
        },
        "id": "-j4geGJv1Ak0",
        "outputId": "82a87bff-5437-4a8c-f52d-6ee20ff64fde"
      },
      "execution_count": 7,
      "outputs": [
        {
          "output_type": "stream",
          "name": "stdout",
          "text": [
            "{'메로나': [300, 20], '비비빅': [400, 3], '죠스바': [250, 100], '월드콘': [500, 7]}\n"
          ]
        }
      ]
    },
    {
      "cell_type": "markdown",
      "source": [
        "---\n",
        "95."
      ],
      "metadata": {
        "id": "BvrsMQ6_1Jck"
      }
    },
    {
      "cell_type": "code",
      "source": [
        "icecream = {'탱크보이': 1200, '폴라포': 1200, '빵빠레': 1800, '월드콘': 1500, '메로나': 1000}\n",
        "\n",
        "icecream.keys()"
      ],
      "metadata": {
        "colab": {
          "base_uri": "https://localhost:8080/"
        },
        "id": "jgbNeU051VOJ",
        "outputId": "4646fd6f-2391-4ffc-897a-3a6fde23edf9"
      },
      "execution_count": 8,
      "outputs": [
        {
          "output_type": "execute_result",
          "data": {
            "text/plain": [
              "dict_keys(['탱크보이', '폴라포', '빵빠레', '월드콘', '메로나'])"
            ]
          },
          "metadata": {},
          "execution_count": 8
        }
      ]
    },
    {
      "cell_type": "code",
      "source": [
        "# \n",
        "ice = list(icecream.keys())\n",
        "print(ice)"
      ],
      "metadata": {
        "colab": {
          "base_uri": "https://localhost:8080/"
        },
        "id": "H9OTx6Cn2txM",
        "outputId": "f4ef3f41-0814-40a9-886d-6071ea54281b"
      },
      "execution_count": 17,
      "outputs": [
        {
          "output_type": "stream",
          "name": "stdout",
          "text": [
            "['탱크보이', '폴라포', '빵빠레', '월드콘', '메로나', '팥빙수', '아맛나']\n"
          ]
        }
      ]
    },
    {
      "cell_type": "markdown",
      "source": [
        "---\n",
        "96."
      ],
      "metadata": {
        "id": "mQzoQA7C1Yh4"
      }
    },
    {
      "cell_type": "code",
      "source": [
        "icecream = {'탱크보이': 1200, '폴라포': 1200, '빵빠레': 1800, '월드콘': 1500, '메로나': 1000}\n",
        "\n",
        "icecream.values()"
      ],
      "metadata": {
        "colab": {
          "base_uri": "https://localhost:8080/"
        },
        "id": "LOT6HJTM1ae4",
        "outputId": "d7c7ae11-ca13-4b31-bbe0-7b2e0afe2a32"
      },
      "execution_count": 9,
      "outputs": [
        {
          "output_type": "execute_result",
          "data": {
            "text/plain": [
              "dict_values([1200, 1200, 1800, 1500, 1000])"
            ]
          },
          "metadata": {},
          "execution_count": 9
        }
      ]
    },
    {
      "cell_type": "code",
      "source": [
        "# \n",
        "price = list(icecream.values())\n",
        "print(price)"
      ],
      "metadata": {
        "colab": {
          "base_uri": "https://localhost:8080/"
        },
        "id": "2pj341ZL3C0q",
        "outputId": "bfe95b59-0992-4a37-f1dc-285bfae996d0"
      },
      "execution_count": 18,
      "outputs": [
        {
          "output_type": "stream",
          "name": "stdout",
          "text": [
            "[1200, 1200, 1800, 1500, 1000, 2700, 1000]\n"
          ]
        }
      ]
    },
    {
      "cell_type": "markdown",
      "source": [
        "---\n",
        "97."
      ],
      "metadata": {
        "id": "zC3Y6bdL1eU2"
      }
    },
    {
      "cell_type": "code",
      "source": [
        "icecream = {'탱크보이': 1200, '폴라포': 1200, '빵빠레': 1800, '월드콘': 1500, '메로나': 1000}\n",
        "\n",
        "print(sum(icecream.values()))"
      ],
      "metadata": {
        "colab": {
          "base_uri": "https://localhost:8080/"
        },
        "id": "wUcBPPl-1gxf",
        "outputId": "d49355da-ddf0-4480-c13b-eeded1f25e2a"
      },
      "execution_count": 10,
      "outputs": [
        {
          "output_type": "stream",
          "name": "stdout",
          "text": [
            "6700\n"
          ]
        }
      ]
    },
    {
      "cell_type": "markdown",
      "source": [
        "---\n",
        "98."
      ],
      "metadata": {
        "id": "QZEfzuAZ1nwy"
      }
    },
    {
      "cell_type": "code",
      "source": [
        "icecream = {'탱크보이': 1200, '폴라포': 1200, '빵빠레': 1800, '월드콘': 1500, '메로나': 1000}\n",
        "new_product = {'팥빙수':2700, '아맛나':1000}\n",
        "\n",
        "icecream.update(new_product)\n",
        "print(icecream)"
      ],
      "metadata": {
        "colab": {
          "base_uri": "https://localhost:8080/"
        },
        "id": "wr13n6Pl1pTS",
        "outputId": "788613e8-c819-4b1b-bd64-02d71ea6b8fe"
      },
      "execution_count": 11,
      "outputs": [
        {
          "output_type": "stream",
          "name": "stdout",
          "text": [
            "{'탱크보이': 1200, '폴라포': 1200, '빵빠레': 1800, '월드콘': 1500, '메로나': 1000, '팥빙수': 2700, '아맛나': 1000}\n"
          ]
        }
      ]
    },
    {
      "cell_type": "markdown",
      "source": [
        "---\n",
        "99."
      ],
      "metadata": {
        "id": "Z-Lbh0YN12FY"
      }
    },
    {
      "cell_type": "code",
      "source": [
        "keys = (\"apple\", \"pear\", \"peach\")\n",
        "vals = (300, 250, 400)\n",
        "\n",
        "result = dict(zip(keys,vals))\n",
        "print(result)"
      ],
      "metadata": {
        "colab": {
          "base_uri": "https://localhost:8080/"
        },
        "id": "JQn0iRhU15rs",
        "outputId": "9cb2abdc-1a58-4391-a579-cf82a783218b"
      },
      "execution_count": 13,
      "outputs": [
        {
          "output_type": "stream",
          "name": "stdout",
          "text": [
            "{'apple': 300, 'pear': 250, 'peach': 400}\n"
          ]
        }
      ]
    },
    {
      "cell_type": "markdown",
      "source": [
        "---\n",
        "100."
      ],
      "metadata": {
        "id": "JwbSV9U32H1H"
      }
    },
    {
      "cell_type": "code",
      "source": [
        "date = ['09/05', '09/06', '09/07', '09/08', '09/09']\n",
        "close_price = [10500, 10300, 10100, 10800, 11000]\n",
        "\n",
        "close_table = dict(zip(date, close_price))\n",
        "print(close_table)"
      ],
      "metadata": {
        "colab": {
          "base_uri": "https://localhost:8080/"
        },
        "id": "jsLMVvGe2YED",
        "outputId": "fb47d91f-e396-4b04-86d4-1a5a0229e1ea"
      },
      "execution_count": 14,
      "outputs": [
        {
          "output_type": "stream",
          "name": "stdout",
          "text": [
            "{'09/05': 10500, '09/06': 10300, '09/07': 10100, '09/08': 10800, '09/09': 11000}\n"
          ]
        }
      ]
    }
  ]
}