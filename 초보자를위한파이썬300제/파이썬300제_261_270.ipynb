{
  "nbformat": 4,
  "nbformat_minor": 0,
  "metadata": {
    "colab": {
      "name": "파이썬300제_261~270",
      "provenance": [],
      "collapsed_sections": []
    },
    "kernelspec": {
      "name": "python3",
      "display_name": "Python 3"
    },
    "language_info": {
      "name": "python"
    }
  },
  "cells": [
    {
      "cell_type": "markdown",
      "source": [
        "---\n",
        "261."
      ],
      "metadata": {
        "id": "5V6hhiuXRepw"
      }
    },
    {
      "cell_type": "code",
      "source": [
        "class Stock:\n",
        "    pass"
      ],
      "metadata": {
        "id": "vZ3ikW-ZRkWP"
      },
      "execution_count": 2,
      "outputs": []
    },
    {
      "cell_type": "markdown",
      "source": [
        "---\n",
        "262."
      ],
      "metadata": {
        "id": "1ZS081vHRndk"
      }
    },
    {
      "cell_type": "code",
      "source": [
        "class Stock:\n",
        "    def __init__(self, name, code):\n",
        "        self.name = name\n",
        "        self.code = code\n",
        "\n",
        "samsung = Stock('삼성전자', '005930')"
      ],
      "metadata": {
        "id": "BEk7orikRoex"
      },
      "execution_count": 3,
      "outputs": []
    },
    {
      "cell_type": "markdown",
      "source": [
        "---\n",
        "263."
      ],
      "metadata": {
        "id": "cS9RVqzpR42M"
      }
    },
    {
      "cell_type": "code",
      "source": [
        "class Stock:\n",
        "    def __init__(self, name, code):\n",
        "        self.name = name\n",
        "        self.code = code\n",
        "\n",
        "    def set_name(self, name):\n",
        "        self.name = name\n",
        "\n",
        "a = Stock(None, None)\n",
        "a.set_name('삼성전자')"
      ],
      "metadata": {
        "id": "sQ81y28WR7cT"
      },
      "execution_count": 40,
      "outputs": []
    },
    {
      "cell_type": "code",
      "source": [
        "#\n",
        "print(a.name)"
      ],
      "metadata": {
        "colab": {
          "base_uri": "https://localhost:8080/"
        },
        "id": "BAXRxT-GWldp",
        "outputId": "0b808a18-0e09-438e-8b7d-e18de3ba1587"
      },
      "execution_count": 41,
      "outputs": [
        {
          "output_type": "stream",
          "name": "stdout",
          "text": [
            "삼성전자\n"
          ]
        }
      ]
    },
    {
      "cell_type": "markdown",
      "source": [
        "---\n",
        "264."
      ],
      "metadata": {
        "id": "hoq5mfYZSKDq"
      }
    },
    {
      "cell_type": "code",
      "source": [
        "class Stock:\n",
        "    def __init__(self, name, code):\n",
        "        self.name = name\n",
        "        self.code = code\n",
        "\n",
        "    def set_name(self, name):\n",
        "        self.name = name\n",
        "\n",
        "    def set_code(self, code):\n",
        "        self.code = code\n",
        "\n",
        "a = Stock(None, None)\n",
        "a.set_code('005930')"
      ],
      "metadata": {
        "id": "TxfUqNOdSLMj"
      },
      "execution_count": 43,
      "outputs": []
    },
    {
      "cell_type": "code",
      "source": [
        "#\n",
        "print(a.code)"
      ],
      "metadata": {
        "colab": {
          "base_uri": "https://localhost:8080/"
        },
        "id": "O5QYCTiYWqX1",
        "outputId": "3bc523a6-3303-4f10-e26a-bd2355c42783"
      },
      "execution_count": 44,
      "outputs": [
        {
          "output_type": "stream",
          "name": "stdout",
          "text": [
            "005930\n"
          ]
        }
      ]
    },
    {
      "cell_type": "markdown",
      "source": [
        "---\n",
        "265."
      ],
      "metadata": {
        "id": "-E3kK1VXSVjr"
      }
    },
    {
      "cell_type": "code",
      "source": [
        "class Stock:\n",
        "    def __init__(self, name, code):\n",
        "        self.name = name\n",
        "        self.code = code\n",
        "\n",
        "    def set_name(self, name):\n",
        "        self.name = name\n",
        "\n",
        "    def set_code(self, code):\n",
        "        self.code = code\n",
        "\n",
        "    def get_name(self, name):\n",
        "        return self.name\n",
        "\n",
        "    def get_code(self, code):\n",
        "        return self.code\n",
        "\n",
        "samsung = Stock('삼성전자', '005930')"
      ],
      "metadata": {
        "id": "49XELdhASXqM"
      },
      "execution_count": 45,
      "outputs": []
    },
    {
      "cell_type": "code",
      "source": [
        "print(samsung.get_name('삼성전자'))\n",
        "print(samsung.get_code('005930'))"
      ],
      "metadata": {
        "colab": {
          "base_uri": "https://localhost:8080/"
        },
        "id": "lDIvNpwVTL2B",
        "outputId": "0a6538f0-5a8f-46f7-8361-b7eced0ef080"
      },
      "execution_count": 24,
      "outputs": [
        {
          "output_type": "stream",
          "name": "stdout",
          "text": [
            "삼성전자\n",
            "005930\n"
          ]
        }
      ]
    },
    {
      "cell_type": "code",
      "source": [
        "#\n",
        "class Stock:\n",
        "    def __init__(self, name, code):\n",
        "        self.name = name\n",
        "        self.code = code\n",
        "\n",
        "    def set_name(self, name):\n",
        "        self.name = name\n",
        "\n",
        "    def set_code(self, code):\n",
        "        self.code = code\n",
        "\n",
        "    def get_name(self):\n",
        "        return self.name\n",
        "\n",
        "    def get_code(self):\n",
        "        return self.code\n",
        "\n",
        "samsung = Stock(\"삼성전자\", \"005930\")\n",
        "print(samsung.name)\n",
        "print(samsung.code)\n",
        "print(samsung.get_name())\n",
        "print(samsung.get_code())"
      ],
      "metadata": {
        "colab": {
          "base_uri": "https://localhost:8080/"
        },
        "id": "sDTVANZxW0o8",
        "outputId": "dcef39d9-42e4-4a52-bda8-a5bf3248e820"
      },
      "execution_count": 51,
      "outputs": [
        {
          "output_type": "stream",
          "name": "stdout",
          "text": [
            "삼성전자\n",
            "005930\n",
            "삼성전자\n",
            "005930\n"
          ]
        }
      ]
    },
    {
      "cell_type": "markdown",
      "source": [
        "---\n",
        "266."
      ],
      "metadata": {
        "id": "PhOzptDLTuZC"
      }
    },
    {
      "cell_type": "code",
      "source": [
        "class Stock:\n",
        "    def __init__(self, name, code, PER, PBR, rate):\n",
        "        self.name = name\n",
        "        self.code = code\n",
        "        self.PER = float(PER)\n",
        "        self.PBR = float(PBR) \n",
        "        self.rate = float(rate)\n",
        "\n",
        "    def set_name(self, name):\n",
        "        self.name = name\n",
        "\n",
        "    def set_code(self, code):\n",
        "        self.code = code\n",
        "\n",
        "    def get_name(self, name):\n",
        "        return self.name\n",
        "\n",
        "    def get_code(self, code):\n",
        "        return self.code"
      ],
      "metadata": {
        "id": "sz2R0wmFT9rT"
      },
      "execution_count": 25,
      "outputs": []
    },
    {
      "cell_type": "code",
      "source": [
        "#\n",
        "class Stock:\n",
        "    def __init__(self, name, code, per, pbr, 배당수익률):\n",
        "        self.name = name\n",
        "        self.code = code\n",
        "        self.per = per\n",
        "        self.pbr = pbr\n",
        "        self.배당수익률 = 배당수익률\n",
        "\n",
        "    def set_name(self, name):\n",
        "        self.name = name\n",
        "\n",
        "    def set_code(self, code):\n",
        "        self.code = code\n",
        "\n",
        "    def get_name(self):\n",
        "        return self.name\n",
        "\n",
        "    def get_code(self):\n",
        "        return self.code"
      ],
      "metadata": {
        "id": "9zXlHOzdXcYd"
      },
      "execution_count": 52,
      "outputs": []
    },
    {
      "cell_type": "markdown",
      "source": [
        "---\n",
        "267."
      ],
      "metadata": {
        "id": "-wkI0IBYUUQY"
      }
    },
    {
      "cell_type": "code",
      "source": [
        "s = Stock('삼성전자', '005930', 15.79, 1.33, 2.83)\n",
        "s.PER"
      ],
      "metadata": {
        "colab": {
          "base_uri": "https://localhost:8080/"
        },
        "id": "4GyDUPgHUWzd",
        "outputId": "6f7cf15b-7834-4fa1-c29f-db23e427ef48"
      },
      "execution_count": 32,
      "outputs": [
        {
          "output_type": "execute_result",
          "data": {
            "text/plain": [
              "15.79"
            ]
          },
          "metadata": {},
          "execution_count": 32
        }
      ]
    },
    {
      "cell_type": "markdown",
      "source": [
        "---\n",
        "268."
      ],
      "metadata": {
        "id": "_Ws0d200Ue8T"
      }
    },
    {
      "cell_type": "code",
      "source": [
        "class Stock:\n",
        "    def __init__(self, name, code, PER, PBR, rate):\n",
        "        self.name = name\n",
        "        self.code = code\n",
        "        self.PER = float(PER)\n",
        "        self.PBR = float(PBR) \n",
        "        self.rate = float(rate)\n",
        "\n",
        "    def set_name(self, name):\n",
        "        self.name = name\n",
        "\n",
        "    def set_code(self, code):\n",
        "        self.code = code\n",
        "\n",
        "    def get_name(self, name):\n",
        "        return self.name\n",
        "\n",
        "    def get_code(self, code):\n",
        "        return self.code\n",
        "\n",
        "    def set_per(self, PER):\n",
        "        return PER\n",
        "\n",
        "    def set_pbr(self, PBR):\n",
        "        return PBR\n",
        "    \n",
        "    def set_dividend(self, rate):\n",
        "        return rate"
      ],
      "metadata": {
        "id": "MIduRHvIUhLl"
      },
      "execution_count": 30,
      "outputs": []
    },
    {
      "cell_type": "code",
      "source": [
        "#\n",
        "class Stock:\n",
        "    def __init__(self, name, code, per, pbr, dividend):\n",
        "        self.name = name\n",
        "        self.code = code\n",
        "        self.per = per\n",
        "        self.pbr = pbr\n",
        "        self.dividend = dividend\n",
        "\n",
        "    def set_name(self, name):\n",
        "        self.name = name\n",
        "\n",
        "    def set_code(self, code):\n",
        "        self.code = code\n",
        "\n",
        "    def get_name(self):\n",
        "        return self.name\n",
        "\n",
        "    def get_code(self):\n",
        "        return self.code\n",
        "\n",
        "    def set_per(self, per):\n",
        "        self.per = per\n",
        "\n",
        "    def set_pbr(self, pbr):\n",
        "        self.pbr = pbr\n",
        "\n",
        "    def set_dividend(self, dividend):\n",
        "        self.dividend = dividend"
      ],
      "metadata": {
        "id": "lFS2ylf1XizA"
      },
      "execution_count": 57,
      "outputs": []
    },
    {
      "cell_type": "markdown",
      "source": [
        "---\n",
        "269."
      ],
      "metadata": {
        "id": "5Yfxo2uuU02f"
      }
    },
    {
      "cell_type": "code",
      "source": [
        "s = Stock('삼성전자', '005930', 15.79, 1.33, 2.83)\n",
        "s.set_per(12.75)"
      ],
      "metadata": {
        "id": "w1E0zU-cU2b2"
      },
      "execution_count": 58,
      "outputs": []
    },
    {
      "cell_type": "code",
      "source": [
        "#\n",
        "print(s.per)"
      ],
      "metadata": {
        "colab": {
          "base_uri": "https://localhost:8080/"
        },
        "id": "2NLFR3LLXrNb",
        "outputId": "31d98427-8066-4416-dd7a-a608303e12f5"
      },
      "execution_count": 59,
      "outputs": [
        {
          "output_type": "stream",
          "name": "stdout",
          "text": [
            "12.75\n"
          ]
        }
      ]
    },
    {
      "cell_type": "markdown",
      "source": [
        "---\n",
        "270."
      ],
      "metadata": {
        "id": "_Hpy2W7NU_RZ"
      }
    },
    {
      "cell_type": "code",
      "source": [
        "stock1 = Stock('삼성전자', '005930', 15.79, 1.33, 2.83)\n",
        "stock2 = Stock('현대차', '005380', 8.70, 0.35, 4.27)\n",
        "stock3 = Stock('LG전자', '066570', 317.34, 0.69, 1.37)\n",
        "\n",
        "stock_list = []\n",
        "stock_list.append(stock1)\n",
        "stock_list.append(stock2)\n",
        "stock_list.append(stock3)"
      ],
      "metadata": {
        "id": "gq1GdEJ2VvlJ"
      },
      "execution_count": 37,
      "outputs": []
    },
    {
      "cell_type": "code",
      "source": [
        "for stock in stock_list: \n",
        "    print(stock.code)\n",
        "    print(stock.PER)"
      ],
      "metadata": {
        "colab": {
          "base_uri": "https://localhost:8080/"
        },
        "id": "Y5e1cqIVWO-5",
        "outputId": "435f1b04-d5f1-4142-ce7e-b3114d2a36d2"
      },
      "execution_count": 39,
      "outputs": [
        {
          "output_type": "stream",
          "name": "stdout",
          "text": [
            "005930\n",
            "15.79\n",
            "005380\n",
            "8.7\n",
            "066570\n",
            "317.34\n"
          ]
        }
      ]
    }
  ]
}