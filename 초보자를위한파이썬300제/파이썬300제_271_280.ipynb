{
  "nbformat": 4,
  "nbformat_minor": 0,
  "metadata": {
    "colab": {
      "name": "파이썬300제_271~280",
      "provenance": [],
      "collapsed_sections": []
    },
    "kernelspec": {
      "name": "python3",
      "display_name": "Python 3"
    },
    "language_info": {
      "name": "python"
    }
  },
  "cells": [
    {
      "cell_type": "markdown",
      "source": [
        "---\n",
        "271."
      ],
      "metadata": {
        "id": "zvg7WnkhYY-1"
      }
    },
    {
      "cell_type": "code",
      "source": [
        "class Account:\n",
        "    def __init__(self, name, number):\n",
        "        self.name = name\n",
        "        self.number = number\n",
        "\n",
        "bank = Account('SC은행', '111-11-111111')\n",
        "bank.name, bank.number"
      ],
      "metadata": {
        "colab": {
          "base_uri": "https://localhost:8080/"
        },
        "id": "j8NPqZzTYc6w",
        "outputId": "cdcbbd5c-d8af-4405-d975-11ab5d2ee7da"
      },
      "execution_count": null,
      "outputs": [
        {
          "output_type": "execute_result",
          "data": {
            "text/plain": [
              "('SC은행', '111-11-111111')"
            ]
          },
          "metadata": {},
          "execution_count": 2
        }
      ]
    },
    {
      "cell_type": "code",
      "source": [
        "#\n",
        "import random\n",
        "\n",
        "class Account:\n",
        "    def __init__(self, name, balance):\n",
        "        self.name = name\n",
        "        self.balance = balance\n",
        "        self.bank = \"SC은행\"\n",
        "        num1 = random.randint(0,999)\n",
        "        num2 = random.randint(0,99)\n",
        "        num3 = random.randint(0,999999)\n",
        "\n",
        "        num1 = str(num1).zfill(3)\n",
        "        num2 = str(num2).zfill(2)\n",
        "        num3 = str(num3).zfill(6)\n",
        "        self.account_number = num1 + '-' + num2 + '-' + num3\n",
        "\n",
        "kim = Account('김민수', 100)\n",
        "print(kim.name)\n",
        "print(kim.balance)\n",
        "print(kim.bank)\n",
        "print(kim.account_number)"
      ],
      "metadata": {
        "colab": {
          "base_uri": "https://localhost:8080/"
        },
        "id": "4NC2wL7BQ47o",
        "outputId": "92bfc82f-805f-4b95-b0df-c10919906ca2"
      },
      "execution_count": 3,
      "outputs": [
        {
          "output_type": "stream",
          "name": "stdout",
          "text": [
            "김민수\n",
            "100\n",
            "SC은행\n",
            "661-35-703410\n"
          ]
        }
      ]
    },
    {
      "cell_type": "markdown",
      "source": [
        "---\n",
        "272."
      ],
      "metadata": {
        "id": "4n7HQh_QYzIg"
      }
    },
    {
      "cell_type": "code",
      "source": [
        "class Account:\n",
        "    how_many = 0\n",
        "\n",
        "    def __init__(self, name, number):\n",
        "        self.name = name\n",
        "        self.number = number"
      ],
      "metadata": {
        "id": "Z3ILU2KMY0RY"
      },
      "execution_count": null,
      "outputs": []
    },
    {
      "cell_type": "code",
      "source": [
        "#\n",
        "import random \n",
        "\n",
        "class Account:\n",
        "    \n",
        "    account_count = 0\n",
        "\n",
        "    def __init__(self, name, balance):\n",
        "        self.name = name\n",
        "        self.balance = balance\n",
        "        self.bank = \"SC은행\"\n",
        "        \n",
        "        num1 = random.randint(0,999)\n",
        "        num2 = random.randint(0,99)\n",
        "        num3 = random.randint(0,999999)\n",
        "\n",
        "        num1 = str(num1).zfill(3)\n",
        "        num2 = str(num2).zfill(2)\n",
        "        num3 = str(num3).zfill(6)\n",
        "        self.account_number = num1 + '-' + num2 + '-' + num3\n",
        "\n",
        "        Account.account_count += 1\n",
        "\n",
        "kim = Account('김민수', 100)\n",
        "print(Account.account_count)\n",
        "lee = Account('이민수', 100)\n",
        "print(Account.account_count)"
      ],
      "metadata": {
        "colab": {
          "base_uri": "https://localhost:8080/"
        },
        "id": "v3a5L1qcShvK",
        "outputId": "630ce26e-fb6e-4b12-ee7f-cb60a055c184"
      },
      "execution_count": 6,
      "outputs": [
        {
          "output_type": "stream",
          "name": "stdout",
          "text": [
            "1\n",
            "2\n"
          ]
        }
      ]
    },
    {
      "cell_type": "markdown",
      "source": [
        "---\n",
        "273."
      ],
      "metadata": {
        "id": "xpvxNOq9ZhJe"
      }
    },
    {
      "cell_type": "code",
      "source": [
        "class Account:\n",
        "    how_many = 0\n",
        "\n",
        "    def __init__(self, name, number):\n",
        "        self.name = name\n",
        "        self.number = number\n",
        "\n",
        "    def get_account_num(self, how_many):\n",
        "        self.how_many = how_many"
      ],
      "metadata": {
        "id": "RxdQwjzPZzaC"
      },
      "execution_count": null,
      "outputs": []
    },
    {
      "cell_type": "code",
      "source": [
        "# \n",
        "import random\n",
        "\n",
        "class Account:\n",
        "\n",
        "    account_count = 0\n",
        "\n",
        "    def __init__(self, name, balance):\n",
        "        self.name = name\n",
        "        self.balance = balance\n",
        "        self.bank = \"SC은행\"\n",
        "\n",
        "        num1 = random.randint(0,99)\n",
        "        num2 = random.randint(0,999)\n",
        "        num3 = random.randint(0,999999)\n",
        "\n",
        "        num1 = str(num1).zfill(3)\n",
        "        num2 = str(num2).zfill(2)\n",
        "        num3 = str(num3).zfill(6)\n",
        "        self.account_number = num1 + '-' + num2 + '-' + num3\n",
        "        Account.account_count += 1\n",
        "\n",
        "    def get_account_num(cls):\n",
        "        print(cls.account_count)\n",
        "\n",
        "kim = Account('김민수', 100)\n",
        "lee = Account('이민수', 100)\n",
        "kim.get_account_num"
      ],
      "metadata": {
        "colab": {
          "base_uri": "https://localhost:8080/"
        },
        "id": "8xCDMolPUD1T",
        "outputId": "40a1f6b5-9f73-4b3e-be3c-57e839d4540d"
      },
      "execution_count": 7,
      "outputs": [
        {
          "output_type": "execute_result",
          "data": {
            "text/plain": [
              "<bound method Account.get_account_num of <__main__.Account object at 0x7f29ab38fd90>>"
            ]
          },
          "metadata": {},
          "execution_count": 7
        }
      ]
    },
    {
      "cell_type": "markdown",
      "source": [
        "---\n",
        "274."
      ],
      "metadata": {
        "id": "35G-CkMxvejZ"
      }
    },
    {
      "cell_type": "code",
      "source": [
        "class Account:\n",
        "    how_many = 0\n",
        "\n",
        "    def __init__(self, name, number):\n",
        "        self.name = name\n",
        "        self.number = number\n",
        "\n",
        "    def get_account_num(self, how_many):\n",
        "        self.how_many = how_many\n",
        "\n",
        "    def depostit(self, deposit):\n",
        "        self.deposit = deposit\n",
        "        if deposit >= 1:\n",
        "            True"
      ],
      "metadata": {
        "id": "z983BxAgvfrw"
      },
      "execution_count": null,
      "outputs": []
    },
    {
      "cell_type": "code",
      "source": [
        "#\n",
        "import random\n",
        "\n",
        "class Account:\n",
        "    \n",
        "    account_count = 0\n",
        "\n",
        "    def __init__(self, name, balance):\n",
        "        self.name = name\n",
        "        self.balance = balance\n",
        "        self.bank = \"SC은행\"\n",
        "\n",
        "        num1 = random.randint(0,999)\n",
        "        num2 = random.randint(0,99)\n",
        "        num3 = random.randint(0,999999)\n",
        "\n",
        "        num1 = str(num1).zfill(3)\n",
        "        num2 = str(num2).zfill(2)\n",
        "        num3 = str(num3).afill(6)\n",
        "        self.account_number = num1 + '-' + num2 + '-' + num3\n",
        "\n",
        "        Account.account_count += 1\n",
        "\n",
        "    def get_account_num(cls):\n",
        "        print(cls.account_count)\n",
        "\n",
        "    def deposit(self, amount):\n",
        "        if amount >= 1:\n",
        "            self.balance += amount\n",
        "\n"
      ],
      "metadata": {
        "id": "E3bQawgTVYtD"
      },
      "execution_count": 8,
      "outputs": []
    },
    {
      "cell_type": "markdown",
      "source": [
        "---\n",
        "275."
      ],
      "metadata": {
        "id": "gMK_O34sv8py"
      }
    },
    {
      "cell_type": "code",
      "source": [
        "class Account:\n",
        "    how_many = 0\n",
        "\n",
        "    def __init__(self, name, number):\n",
        "        self.name = name\n",
        "        self.number = number\n",
        "\n",
        "    def get_account_num(self, how_many):\n",
        "        self.how_many = how_many\n",
        "\n",
        "    def depostit(self, deposit):\n",
        "        self.deposit = deposit\n",
        "        if deposit >= 1:\n",
        "            True\n",
        "\n",
        "    def withdraw(self, withdraw):\n",
        "        self.withdraw = withdraw\n",
        "        if self.deposit >= self.withdraw:\n",
        "            True"
      ],
      "metadata": {
        "id": "qqDyZa8zv94l"
      },
      "execution_count": null,
      "outputs": []
    },
    {
      "cell_type": "code",
      "source": [
        "#\n",
        "import random\n",
        "\n",
        "class Account:\n",
        "\n",
        "    account_count = 0\n",
        "\n",
        "    def __init__(self, name, balance):\n",
        "        self.name = name\n",
        "        self.balance = balance\n",
        "        self.bank = \"SC은행\"\n",
        "\n",
        "        num1 = random.randint(0,999)\n",
        "        num2 = random.randint(0,99)\n",
        "        num3 = random.randint(0,999999)\n",
        "\n",
        "        num1 = str(num1).zfill(3)\n",
        "        num2 = str(num2).zfill(2)\n",
        "        num3 = str(num3).zfill(6)\n",
        "        self.account_number = num1 + '-' + num2 + '-' + num3\n",
        "        Account.account_count += 1\n",
        "\n",
        "    def get_account_num(cls):\n",
        "        print(cls.account_count)\n",
        "\n",
        "    def deposit(self,amount):\n",
        "        if amount >= 1:\n",
        "            self.balance += amount\n",
        "\n",
        "    def withdraw(self,amount):\n",
        "        if self.balance > amount:\n",
        "            self.balance -= amount\n",
        "\n",
        "k = Account('kim', 100)\n",
        "k.deposit(100)\n",
        "k.withdraw(90)\n",
        "print(k.balance)"
      ],
      "metadata": {
        "colab": {
          "base_uri": "https://localhost:8080/"
        },
        "id": "tawL9iwrW99R",
        "outputId": "b195a4ec-5f98-4f84-d48a-ccbf21c6072a"
      },
      "execution_count": 9,
      "outputs": [
        {
          "output_type": "stream",
          "name": "stdout",
          "text": [
            "110\n"
          ]
        }
      ]
    },
    {
      "cell_type": "markdown",
      "source": [
        "---\n",
        "276."
      ],
      "metadata": {
        "id": "GeJMQxyPwPRh"
      }
    },
    {
      "cell_type": "code",
      "source": [
        "class Account:\n",
        "    how_many = 0\n",
        "\n",
        "    def __init__(self, name, number):\n",
        "        self.name = name\n",
        "        self.number = number\n",
        "\n",
        "    def get_account_num(self, how_many):\n",
        "        self.how_many = how_many\n",
        "\n",
        "    def depostit(self, deposit):\n",
        "        self.deposit = deposit\n",
        "        if deposit >= 1:\n",
        "            True\n",
        "\n",
        "    def withdraw(self, withdraw):\n",
        "        self.withdraw = withdraw\n",
        "        if self.deposit >= self.withdraw:\n",
        "            True\n",
        "\n",
        "    def display_info(self, name, person, number, balance):\n",
        "        self.name = name\n",
        "        self.person = person\n",
        "        self.number = number\n",
        "        self.balance = balance\n",
        "\n",
        "        print(f'은행이름: {self.name}, 예금주: {self.person}, 계좌번호: {self.number}, 잔고: {self.balance:,}원')\n"
      ],
      "metadata": {
        "id": "BpJ67heFwQ2r"
      },
      "execution_count": null,
      "outputs": []
    },
    {
      "cell_type": "code",
      "source": [
        "#\n",
        "import random\n",
        "\n",
        "class Account:\n",
        "\n",
        "    account_count = 0\n",
        "\n",
        "    def __init__(self, name, balance):\n",
        "        self.name = name\n",
        "        self.balance = balance\n",
        "        self.bank = \"SC은행\"\n",
        "\n",
        "        num1 = random.randint(0,999)\n",
        "        num2 = random.randint(0,99)\n",
        "        num3 = random.randint(0,999999)\n",
        "\n",
        "        num1 = str(num1).zfill(3)\n",
        "        num2 = str(num2).zfill(2)\n",
        "        num3 = str(num3).zfill(6)\n",
        "        self.account_number = num1 + '-' + num2 + '-' + num3\n",
        "        Account.account_count += 1\n",
        "\n",
        "    def get_account_num(cls):\n",
        "        print(cls.account_count)\n",
        "\n",
        "    def deposit(self, amount):\n",
        "        if amount >= 1:\n",
        "            self.balance += amount\n",
        "\n",
        "    def withdraw(self, amount):\n",
        "        if self.balance > amount:\n",
        "            self.balance -= amount\n",
        "\n",
        "    def display_info(self):\n",
        "        print(f'은행이름: {self.bank}\\n예금주: {self.name}\\n계좌번호: {self.account_number}\\n잔고:{self.balance}')\n",
        "\n",
        "p = Account('파이썬', 10000)\n",
        "p.display_info()"
      ],
      "metadata": {
        "colab": {
          "base_uri": "https://localhost:8080/"
        },
        "id": "bheDhZxQYu3o",
        "outputId": "1c87008a-9d8c-4e59-81e7-c442f761b74b"
      },
      "execution_count": 20,
      "outputs": [
        {
          "output_type": "stream",
          "name": "stdout",
          "text": [
            "은행이름: SC은행\n",
            "예금주: 파이썬\n",
            "계좌번호: 555-78-121109\n",
            "잔고:10000\n"
          ]
        }
      ]
    },
    {
      "cell_type": "markdown",
      "source": [
        "---\n",
        "277."
      ],
      "metadata": {
        "id": "QX61EZqRx7yh"
      }
    },
    {
      "cell_type": "code",
      "source": [
        "import random\n",
        "\n",
        "class Account:\n",
        "\n",
        "    account_count = 0\n",
        "\n",
        "    def __init__(self, name, balance):\n",
        "        self.name = name\n",
        "        self.balance = balance\n",
        "        self.bank = \"SC은행\"\n",
        "\n",
        "        num1 = random.randint(0,999)\n",
        "        num2 = random.randint(0,99) \n",
        "        num3 = random.randint(0,999999)\n",
        "\n",
        "        num1 = str(num1).zfill(3)\n",
        "        num2 = str(num2).zfill(2)\n",
        "        num3 = str(num3).zfill(6)\n",
        "        self.bank_account = num1 + '-' + num2 + '-' + num3\n",
        "        Account.acount_count += 1\n",
        "\n",
        "    def get_account_num(cls):\n",
        "        print(cls.account_count)\n",
        "\n",
        "    def deposit(self, amount):\n",
        "        if amount >= 1:\n",
        "            self.balance += amount\n",
        "\n",
        "        if Account.account_count = 5:\n",
        "            self.balance += self.balance * 1/100\n",
        "    def withdraw(self, amount):\n",
        "        if self.balance >= amount:\n",
        "            self.balance -= amount\n",
        "\n",
        "    def display_info(self):\n",
        "        print(f'은행이름:{self.bank}\\n예금주명:{self.name}\\n계좌번호:{self.account_number}\\n잔고:{self.balance}')\n",
        "\n"
      ],
      "metadata": {
        "id": "pmNweMTMx_1t"
      },
      "execution_count": null,
      "outputs": []
    },
    {
      "cell_type": "code",
      "source": [
        "import random\n",
        "\n",
        "class Account:\n",
        "\n",
        "    account_count = 0\n",
        "\n",
        "    def __init__(self, name, balance):\n",
        "\n",
        "        self.deposit_count = 0\n",
        "\n",
        "        self.name = name\n",
        "        self.balance = balance\n",
        "        self.bank = \"SC은행\"\n",
        "\n",
        "        num1 = random.randint(0,999)\n",
        "        num2 = random.randint(0,99) \n",
        "        num3 = random.randint(0,999999)\n",
        "\n",
        "        num1 = str(num1).zfill(3)\n",
        "        num2 = str(num2).zfill(2)\n",
        "        num3 = str(num3).zfill(6)\n",
        "        self.bank_account = num1 + '-' + num2 + '-' + num3\n",
        "        Account.account_count += 1\n",
        "\n",
        "    def get_account_num(cls):\n",
        "        print(cls.account_count)\n",
        "\n",
        "    def deposit(self, amount):\n",
        "        if amount >= 1:\n",
        "            self.balance += amount\n",
        "\n",
        "            self.deposit_count += 1\n",
        "        if self.deposit_count % 5 == 0:\n",
        "            self.balance = (self.balance + 1.01)\n",
        "\n",
        "    def withdraw(self, amount):\n",
        "        if self.balance >= amount:\n",
        "            self.balance -= amount\n",
        "\n",
        "    def display_info(self):\n",
        "        print(f'은행이름:{self.bank}\\n예금주명:{self.name}\\n계좌번호:{self.account_number}\\n잔고:{self.balance}')\n",
        "\n",
        "\n",
        "p = Account(\"파이썬\", 10000)\n",
        "p.deposit(10000)\n",
        "p.deposit(10000)\n",
        "p.deposit(10000)\n",
        "p.deposit(5000)\n",
        "p.deposit(5000)\n",
        "print(p.balance)"
      ],
      "metadata": {
        "colab": {
          "base_uri": "https://localhost:8080/"
        },
        "id": "Wftd_jrjiPTg",
        "outputId": "d2094173-e633-43fa-feff-d9e187c9cb90"
      },
      "execution_count": 22,
      "outputs": [
        {
          "output_type": "stream",
          "name": "stdout",
          "text": [
            "50001.01\n"
          ]
        }
      ]
    },
    {
      "cell_type": "markdown",
      "source": [
        "---\n",
        "278."
      ],
      "metadata": {
        "id": "sT9IcH4Hiwiq"
      }
    },
    {
      "cell_type": "code",
      "source": [
        "kim = Account('김땡땡', 100000)\n",
        "lee = Account('이땡땡', 20000000)\n",
        "park = Account('박땡땡', 5000000)\n",
        "\n",
        "lst = []\n",
        "lst.append(kim)\n",
        "lst.append(lee)\n",
        "lst.append(park)"
      ],
      "metadata": {
        "id": "3XU6idcPi59g"
      },
      "execution_count": 28,
      "outputs": []
    },
    {
      "cell_type": "code",
      "source": [
        "lst"
      ],
      "metadata": {
        "colab": {
          "base_uri": "https://localhost:8080/"
        },
        "id": "c-S66zDLjdQz",
        "outputId": "5482c7b2-4b26-4513-8147-92516c997c8e"
      },
      "execution_count": 29,
      "outputs": [
        {
          "output_type": "execute_result",
          "data": {
            "text/plain": [
              "[<__main__.Account at 0x7f29a94d4390>,\n",
              " <__main__.Account at 0x7f29a94d4b50>,\n",
              " <__main__.Account at 0x7f29a956b110>]"
            ]
          },
          "metadata": {},
          "execution_count": 29
        }
      ]
    },
    {
      "cell_type": "markdown",
      "source": [
        "---\n",
        "279."
      ],
      "metadata": {
        "id": "MYoCAZwUjemS"
      }
    },
    {
      "cell_type": "code",
      "source": [
        "for i in lst:\n",
        "    if i.balance >= 1000000:\n",
        "        print(i.name)"
      ],
      "metadata": {
        "colab": {
          "base_uri": "https://localhost:8080/"
        },
        "id": "Lt9mJsBkjhUo",
        "outputId": "d1088ddc-c296-47fd-e394-de5fb7c415a1"
      },
      "execution_count": 31,
      "outputs": [
        {
          "output_type": "stream",
          "name": "stdout",
          "text": [
            "이땡땡\n",
            "박땡땡\n"
          ]
        }
      ]
    },
    {
      "cell_type": "markdown",
      "source": [
        "---\n",
        "280."
      ],
      "metadata": {
        "id": "W6ZhgqlLkPUo"
      }
    },
    {
      "cell_type": "code",
      "source": [
        "import random\n",
        "\n",
        "class Account:\n",
        "\n",
        "    account_count = 0\n",
        "\n",
        "    def __init__(self, name, balance):\n",
        "        self.balance_count = 0\n",
        "\n",
        "        self.name = name\n",
        "        self.balance = balance\n",
        "        self.bank = bank\n",
        "\n",
        "        num1 = random.randint(0,999)\n",
        "        num2 = random.randint(0,99)\n",
        "        num3 = random.randint(0,999999)\n",
        "\n",
        "        num1 = str(num1).zfill(3)\n",
        "        num2 = str(num2).zfill(2)\n",
        "        num3 = str(num3).zfill(6)\n",
        "        self.account_number = num1 + '-' + num2 + '-' + num3\n",
        "\n",
        "        Account.account_count += 1\n",
        "\n",
        "    def get_account_num(cls):\n",
        "        print(cls.account_count)\n",
        "\n",
        "    def deposit(self, amount):\n",
        "        if amount >= 1:\n",
        "            self.balance += amount\n",
        "\n",
        "            Account.account_count += 1\n",
        "\n",
        "        if Account.account_count == 5:\n",
        "            self.deposit_count = (self.deposit_count * 1.01)\n",
        "\n",
        "    def withdraw(self, amount):\n",
        "        if self.balance >= amount:\n",
        "            self.balance -= amount\n",
        "\n",
        "    def display_info(self):\n",
        "        print(f'은행명:{self.bank}\\n예금주명:{self.name}\\n계좌번호:{self.account_number}\\n잔고:{self.balance}')\n",
        "\n",
        "    def deposit_history(self):\n",
        "        print(Account.deposit())\n",
        "\n",
        "    def withdraw_history(self):\n",
        "        print(Account.withdraw())"
      ],
      "metadata": {
        "id": "PnfDAekWkdY2"
      },
      "execution_count": null,
      "outputs": []
    },
    {
      "cell_type": "code",
      "source": [
        "#\n",
        "import random\n",
        "\n",
        "class Account:\n",
        "\n",
        "    account_count = 0\n",
        "\n",
        "    def __init__(self, name, balance):\n",
        "        self.deposit_count = 0\n",
        "        self.deposit_log = []\n",
        "        self.withdraw_log = []\n",
        "\n",
        "\n",
        "        self.name = name\n",
        "        self.balance = balance\n",
        "        self.bank = \"SC은행\"\n",
        "\n",
        "        num1 = random.randint(0,999)\n",
        "        num2 = random.randint(0,99)\n",
        "        num3 = random.randint(0,999999)\n",
        "\n",
        "        num1 = str(num1).zfill(3)\n",
        "        num2 = str(num2).zfill(2)\n",
        "        num3 = str(num3).zfill(6)\n",
        "        self.account_number = num1 + '-' + num2 + '-' + num3\n",
        "\n",
        "        Account.account_count += 1\n",
        "\n",
        "    def get_account_num(cls):\n",
        "        print(cls.account_count)\n",
        "\n",
        "    def deposit(self, amount):\n",
        "        if amount >= 1:\n",
        "            self.deposit_log.append(amount)\n",
        "            self.balance += amount\n",
        "\n",
        "            self.deposit_count += 1\n",
        "        if self.deposit_count % 5 == 0:\n",
        "            self.balance = (self.balance * 1.01)\n",
        "\n",
        "    def withdraw(self, amount):\n",
        "        if self.balance >= amount:\n",
        "            self.withdraw_log.append(amount)\n",
        "            self.balance -= amount\n",
        "\n",
        "    def display_info(self):\n",
        "        print(f'은행명:{self.bank}\\n예금주명:{self.name}\\n계좌번호:{self.account_number}\\n잔고:{self.balance}')\n",
        "\n",
        "    def withdraw_history(self):\n",
        "        for amount in self.withdraw_log: \n",
        "            print(amount)\n",
        "    \n",
        "    def deposit_history(self):\n",
        "        for amount in self.deposit_log:\n",
        "            print(amount)\n",
        "\n",
        "k = Account(\"Kim\", 1000)\n",
        "k.deposit(100)\n",
        "k.deposit(200)\n",
        "k.deposit(300)\n",
        "k.deposit_history()\n",
        "\n",
        "k.withdraw(100)\n",
        "k.withdraw(200)\n",
        "k.withdraw_history()"
      ],
      "metadata": {
        "colab": {
          "base_uri": "https://localhost:8080/"
        },
        "id": "G62vjWz3muxw",
        "outputId": "d738ebee-2358-496e-8a58-c2a95288daee"
      },
      "execution_count": 34,
      "outputs": [
        {
          "output_type": "stream",
          "name": "stdout",
          "text": [
            "100\n",
            "200\n",
            "300\n",
            "100\n",
            "200\n"
          ]
        }
      ]
    }
  ]
}