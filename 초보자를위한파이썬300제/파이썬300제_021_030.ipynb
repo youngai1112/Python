{
  "nbformat": 4,
  "nbformat_minor": 0,
  "metadata": {
    "colab": {
      "name": "파이썬300제_021~030",
      "provenance": [],
      "collapsed_sections": []
    },
    "kernelspec": {
      "name": "python3",
      "display_name": "Python 3"
    },
    "language_info": {
      "name": "python"
    }
  },
  "cells": [
    {
      "cell_type": "markdown",
      "source": [
        "---\n",
        "21."
      ],
      "metadata": {
        "id": "5oGmZpjFpln1"
      }
    },
    {
      "cell_type": "code",
      "source": [
        "letters = 'python'\n",
        "print(letters[0], letters[2])"
      ],
      "metadata": {
        "colab": {
          "base_uri": "https://localhost:8080/"
        },
        "id": "-EZ_DWIhpp74",
        "outputId": "78e11d3f-09e7-410a-dd10-8c1d08fd7c46"
      },
      "execution_count": null,
      "outputs": [
        {
          "output_type": "stream",
          "name": "stdout",
          "text": [
            "p t\n"
          ]
        }
      ]
    },
    {
      "cell_type": "markdown",
      "source": [
        "---\n",
        "22."
      ],
      "metadata": {
        "id": "Cid-WcdLp597"
      }
    },
    {
      "cell_type": "code",
      "source": [
        "license_plate = \"24가 2210\"\n",
        "print(license_plate[4:])"
      ],
      "metadata": {
        "colab": {
          "base_uri": "https://localhost:8080/"
        },
        "id": "W1ztNYy3WM2n",
        "outputId": "055eb322-3026-4d23-e559-b72a91bff3af"
      },
      "execution_count": null,
      "outputs": [
        {
          "output_type": "stream",
          "name": "stdout",
          "text": [
            "2210\n"
          ]
        }
      ]
    },
    {
      "cell_type": "code",
      "source": [
        "# \n",
        "print(license_plate[-4:])"
      ],
      "metadata": {
        "colab": {
          "base_uri": "https://localhost:8080/"
        },
        "id": "cDvPjTowbFhC",
        "outputId": "dd9e5b0a-6762-4ca0-c93d-72d385a7c5bf"
      },
      "execution_count": null,
      "outputs": [
        {
          "output_type": "stream",
          "name": "stdout",
          "text": [
            "2210\n"
          ]
        }
      ]
    },
    {
      "cell_type": "markdown",
      "source": [
        "---\n",
        "23."
      ],
      "metadata": {
        "id": "e_lDjOcpWV27"
      }
    },
    {
      "cell_type": "code",
      "source": [
        "string = \"홀짝홀짝홀짝\"\n",
        "print(string[::2])"
      ],
      "metadata": {
        "colab": {
          "base_uri": "https://localhost:8080/"
        },
        "id": "QcN31F-9Wf4z",
        "outputId": "1b2c10fb-f630-44b0-c925-017f3eb4bc11"
      },
      "execution_count": null,
      "outputs": [
        {
          "output_type": "stream",
          "name": "stdout",
          "text": [
            "홀홀홀\n"
          ]
        }
      ]
    },
    {
      "cell_type": "markdown",
      "source": [
        "---\n",
        "24."
      ],
      "metadata": {
        "id": "sIChq5ifWrkd"
      }
    },
    {
      "cell_type": "code",
      "source": [
        "string = \"PYTHON\"\n",
        "print(string[::-1])"
      ],
      "metadata": {
        "colab": {
          "base_uri": "https://localhost:8080/"
        },
        "id": "OUxZyylaWtP3",
        "outputId": "d26cfeb6-8e6e-45af-abc4-14d895e0cde8"
      },
      "execution_count": null,
      "outputs": [
        {
          "output_type": "stream",
          "name": "stdout",
          "text": [
            "NOHTYP\n"
          ]
        }
      ]
    },
    {
      "cell_type": "markdown",
      "source": [
        "---\n",
        "25."
      ],
      "metadata": {
        "id": "rEDJ0Fa2WzdA"
      }
    },
    {
      "cell_type": "code",
      "source": [
        "phone_number = \"010-1111-3333\"\n",
        "phone_number.replace('-', ' ')"
      ],
      "metadata": {
        "colab": {
          "base_uri": "https://localhost:8080/",
          "height": 35
        },
        "id": "E5nINsbmW1g8",
        "outputId": "0b145abd-aab7-4a0e-ad36-0edb610d697f"
      },
      "execution_count": null,
      "outputs": [
        {
          "output_type": "execute_result",
          "data": {
            "application/vnd.google.colaboratory.intrinsic+json": {
              "type": "string"
            },
            "text/plain": [
              "'010 1111 3333'"
            ]
          },
          "metadata": {},
          "execution_count": 20
        }
      ]
    },
    {
      "cell_type": "markdown",
      "source": [
        "---\n",
        "26."
      ],
      "metadata": {
        "id": "pZNjWdrIW-jl"
      }
    },
    {
      "cell_type": "code",
      "source": [
        "\" \".join(phone_number.split('-')).replace(\" \",\"\")"
      ],
      "metadata": {
        "colab": {
          "base_uri": "https://localhost:8080/",
          "height": 35
        },
        "id": "h6dGMOXJXBRc",
        "outputId": "49cdc0e7-fcd4-4133-dea2-23a708bfbeac"
      },
      "execution_count": null,
      "outputs": [
        {
          "output_type": "execute_result",
          "data": {
            "application/vnd.google.colaboratory.intrinsic+json": {
              "type": "string"
            },
            "text/plain": [
              "'01011113333'"
            ]
          },
          "metadata": {},
          "execution_count": 23
        }
      ]
    },
    {
      "cell_type": "code",
      "source": [
        "# \n",
        "phone_number = '010-1111-2222'\n",
        "phone_number1 = phone_number.replace('-','')\n",
        "print(phone_number1)"
      ],
      "metadata": {
        "colab": {
          "base_uri": "https://localhost:8080/"
        },
        "id": "Xm5i6h-QbWHg",
        "outputId": "266fd165-8564-4726-c9a5-b8bdfec951dc"
      },
      "execution_count": null,
      "outputs": [
        {
          "output_type": "stream",
          "name": "stdout",
          "text": [
            "01011112222\n"
          ]
        }
      ]
    },
    {
      "cell_type": "markdown",
      "source": [
        "---\n",
        "27."
      ],
      "metadata": {
        "id": "LhqKFICAXKM8"
      }
    },
    {
      "cell_type": "code",
      "source": [
        "url = \"http://sharebook.kr\"\n",
        "print(url[-2:])"
      ],
      "metadata": {
        "colab": {
          "base_uri": "https://localhost:8080/"
        },
        "id": "o-vYfZnAXRVu",
        "outputId": "8ef56614-eccb-41bd-c241-2a7e1ed71f39"
      },
      "execution_count": null,
      "outputs": [
        {
          "output_type": "stream",
          "name": "stdout",
          "text": [
            "kr\n"
          ]
        }
      ]
    },
    {
      "cell_type": "code",
      "source": [
        "# \n",
        "url_split = url.split('.')\n",
        "print(url_split[-1])"
      ],
      "metadata": {
        "colab": {
          "base_uri": "https://localhost:8080/"
        },
        "id": "dTjjyR3qbmVg",
        "outputId": "8873fbb4-23b9-4ca9-c0ae-9ab9c9ebb6f5"
      },
      "execution_count": null,
      "outputs": [
        {
          "output_type": "stream",
          "name": "stdout",
          "text": [
            "kr\n"
          ]
        }
      ]
    },
    {
      "cell_type": "markdown",
      "source": [
        "---\n",
        "28."
      ],
      "metadata": {
        "id": "TelNmMJfXlG-"
      }
    },
    {
      "cell_type": "markdown",
      "source": [
        "- 문자열은 수정이 불가능한 자료구조\n",
        "    - 참고: https://pybasall.tistory.com/51\n",
        "    <br></br>\n",
        "    1) 리스트로 변환하여 수정\n",
        "\n",
        "    2) replace 메소드 사용\n"
      ],
      "metadata": {
        "id": "A--yJJEiZpsx"
      }
    },
    {
      "cell_type": "code",
      "source": [
        "lang = 'python'\n",
        "lang[0] = 'P'\n",
        "print(lang)     # Python"
      ],
      "metadata": {
        "colab": {
          "base_uri": "https://localhost:8080/",
          "height": 211
        },
        "id": "fynGeTI7ZM4H",
        "outputId": "3585b11a-7c99-4976-d5f3-a1ff43e5b490"
      },
      "execution_count": null,
      "outputs": [
        {
          "output_type": "error",
          "ename": "TypeError",
          "evalue": "ignored",
          "traceback": [
            "\u001b[0;31m---------------------------------------------------------------------------\u001b[0m",
            "\u001b[0;31mTypeError\u001b[0m                                 Traceback (most recent call last)",
            "\u001b[0;32m<ipython-input-27-d90c4b703082>\u001b[0m in \u001b[0;36m<module>\u001b[0;34m()\u001b[0m\n\u001b[1;32m      1\u001b[0m \u001b[0mlang\u001b[0m \u001b[0;34m=\u001b[0m \u001b[0;34m'python'\u001b[0m\u001b[0;34m\u001b[0m\u001b[0;34m\u001b[0m\u001b[0m\n\u001b[0;32m----> 2\u001b[0;31m \u001b[0mlang\u001b[0m\u001b[0;34m[\u001b[0m\u001b[0;36m0\u001b[0m\u001b[0;34m]\u001b[0m \u001b[0;34m=\u001b[0m \u001b[0;34m'P'\u001b[0m\u001b[0;34m\u001b[0m\u001b[0;34m\u001b[0m\u001b[0m\n\u001b[0m\u001b[1;32m      3\u001b[0m \u001b[0mprint\u001b[0m\u001b[0;34m(\u001b[0m\u001b[0mlang\u001b[0m\u001b[0;34m)\u001b[0m     \u001b[0;31m# Python\u001b[0m\u001b[0;34m\u001b[0m\u001b[0;34m\u001b[0m\u001b[0m\n",
            "\u001b[0;31mTypeError\u001b[0m: 'str' object does not support item assignment"
          ]
        }
      ]
    },
    {
      "cell_type": "code",
      "source": [
        "# 예상한대로 변환시키는 방법\n",
        "lang2 = list(lang)\n",
        "lang2[0] = 'P'\n",
        "\"\".join(lang2)"
      ],
      "metadata": {
        "colab": {
          "base_uri": "https://localhost:8080/",
          "height": 35
        },
        "id": "9-9PG3fKZVzx",
        "outputId": "d9ba788d-5839-45c6-d309-bf68c40e3502"
      },
      "execution_count": null,
      "outputs": [
        {
          "output_type": "execute_result",
          "data": {
            "application/vnd.google.colaboratory.intrinsic+json": {
              "type": "string"
            },
            "text/plain": [
              "'Python'"
            ]
          },
          "metadata": {},
          "execution_count": 30
        }
      ]
    },
    {
      "cell_type": "markdown",
      "source": [
        "---\n",
        "29."
      ],
      "metadata": {
        "id": "J07vtmiEaUsU"
      }
    },
    {
      "cell_type": "code",
      "source": [
        "string = 'abcdfe2a354a32a'\n",
        "string.replace('a', 'A')"
      ],
      "metadata": {
        "colab": {
          "base_uri": "https://localhost:8080/",
          "height": 35
        },
        "id": "2-uxTdwBaj1m",
        "outputId": "a2b0ab4c-cba5-4949-e598-f08949f54127"
      },
      "execution_count": null,
      "outputs": [
        {
          "output_type": "execute_result",
          "data": {
            "application/vnd.google.colaboratory.intrinsic+json": {
              "type": "string"
            },
            "text/plain": [
              "'Abcdfe2A354A32A'"
            ]
          },
          "metadata": {},
          "execution_count": 32
        }
      ]
    },
    {
      "cell_type": "markdown",
      "source": [
        "---\n",
        "30."
      ],
      "metadata": {
        "id": "ZJErpKZwapo4"
      }
    },
    {
      "cell_type": "markdown",
      "source": [
        "- 문자열은 변경할 수 없는 자료형. \n",
        "- replace 메서드를 사용하면 원본은 그대로 둔채로 변경된 새로운 문자열 객체를 리턴해준다."
      ],
      "metadata": {
        "id": "jGVwQ2r0dEF4"
      }
    },
    {
      "cell_type": "code",
      "source": [
        "string = 'abcd'\n",
        "string.replace('b', 'B')\n",
        "print(string)       # aBcd"
      ],
      "metadata": {
        "colab": {
          "base_uri": "https://localhost:8080/"
        },
        "id": "V1KFFgbsavSp",
        "outputId": "c510bccb-9758-40e8-f038-af2e96d54c08"
      },
      "execution_count": null,
      "outputs": [
        {
          "output_type": "stream",
          "name": "stdout",
          "text": [
            "abcd\n"
          ]
        }
      ]
    },
    {
      "cell_type": "code",
      "source": [
        "# 예상한대로 변환시키는 방법 1\n",
        "string.replace('b','B')"
      ],
      "metadata": {
        "colab": {
          "base_uri": "https://localhost:8080/",
          "height": 35
        },
        "id": "SVwT9-VLa3y4",
        "outputId": "477e653c-706b-454d-b6cf-f977a0007605"
      },
      "execution_count": null,
      "outputs": [
        {
          "output_type": "execute_result",
          "data": {
            "application/vnd.google.colaboratory.intrinsic+json": {
              "type": "string"
            },
            "text/plain": [
              "'aBcd'"
            ]
          },
          "metadata": {},
          "execution_count": 38
        }
      ]
    },
    {
      "cell_type": "code",
      "source": [
        "# 예상한대로 변환시키는 방법 2\n",
        "string2 = list(string)\n",
        "string2[1] = 'B'\n",
        "''.join(string2)"
      ],
      "metadata": {
        "colab": {
          "base_uri": "https://localhost:8080/",
          "height": 35
        },
        "id": "TWCZD9itcKmX",
        "outputId": "626c132c-3833-4328-bfa3-1b7e46ccd2c4"
      },
      "execution_count": null,
      "outputs": [
        {
          "output_type": "execute_result",
          "data": {
            "application/vnd.google.colaboratory.intrinsic+json": {
              "type": "string"
            },
            "text/plain": [
              "'aBcd'"
            ]
          },
          "metadata": {},
          "execution_count": 42
        }
      ]
    },
    {
      "cell_type": "markdown",
      "source": [
        "--- \n",
        "정리\n",
        "\n",
        "- list는 replace() 메소드를 사용할 수 없다\n",
        "\n",
        "- 문자열을 수정하고 싶다면, \n",
        "    - 리스트로 변환시킨 후에 인덱싱을 사용하여 수정하고, \"\".join(list명)을 사용해서 출력해보자\n"
      ],
      "metadata": {
        "id": "kwmvd2uRdYYn"
      }
    }
  ]
}