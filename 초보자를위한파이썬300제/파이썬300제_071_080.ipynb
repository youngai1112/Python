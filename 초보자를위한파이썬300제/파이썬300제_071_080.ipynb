{
  "cells": [
    {
      "cell_type": "markdown",
      "metadata": {
        "id": "0YHiFR80x4RZ"
      },
      "source": [
        "---\n",
        "71."
      ]
    },
    {
      "cell_type": "code",
      "execution_count": null,
      "metadata": {
        "colab": {
          "base_uri": "https://localhost:8080/"
        },
        "id": "PXWJIvvyxwPk",
        "outputId": "79781a66-7591-4b7b-fa82-fca30eb5cf27"
      },
      "outputs": [
        {
          "name": "stdout",
          "output_type": "stream",
          "text": [
            "()\n"
          ]
        }
      ],
      "source": [
        "my_variable = ()\n",
        "print(my_variable)"
      ]
    },
    {
      "cell_type": "markdown",
      "metadata": {
        "id": "JkGKut5Dx3BQ"
      },
      "source": [
        "---\n",
        "72."
      ]
    },
    {
      "cell_type": "code",
      "execution_count": null,
      "metadata": {
        "colab": {
          "base_uri": "https://localhost:8080/"
        },
        "id": "P2ZtqFK-yABJ",
        "outputId": "0281e235-79ad-4e76-92b4-a0f3ff159e19"
      },
      "outputs": [
        {
          "name": "stdout",
          "output_type": "stream",
          "text": [
            "('닥터 스트레인지', '스플릿', '럭키')\n"
          ]
        }
      ],
      "source": [
        "movie_rank = ('닥터 스트레인지', '스플릿', '럭키')\n",
        "print(movie_rank)"
      ]
    },
    {
      "cell_type": "markdown",
      "metadata": {
        "id": "PINDssYxyHs_"
      },
      "source": [
        "---\n",
        "73."
      ]
    },
    {
      "cell_type": "code",
      "execution_count": null,
      "metadata": {
        "colab": {
          "base_uri": "https://localhost:8080/"
        },
        "id": "uSv8TJPIyN0f",
        "outputId": "37ed9386-6f8d-4644-fcbe-62bb3a50f282"
      },
      "outputs": [
        {
          "name": "stdout",
          "output_type": "stream",
          "text": [
            "1\n"
          ]
        }
      ],
      "source": [
        "tup = (1)\n",
        "print(tup)"
      ]
    },
    {
      "cell_type": "markdown",
      "metadata": {
        "id": "vaRmap18yR7Y"
      },
      "source": [
        "---\n",
        "74."
      ]
    },
    {
      "cell_type": "code",
      "execution_count": null,
      "metadata": {
        "colab": {
          "base_uri": "https://localhost:8080/"
        },
        "id": "HLq9FYOlyTou",
        "outputId": "72301e1e-cb57-468e-c855-7a4b2b6b52ae"
      },
      "outputs": [
        {
          "ename": "TypeError",
          "evalue": "ignored",
          "output_type": "error",
          "traceback": [
            "\u001b[0;31m---------------------------------------------------------------------------\u001b[0m",
            "\u001b[0;31mTypeError\u001b[0m                                 Traceback (most recent call last)",
            "\u001b[0;32m<ipython-input-5-30ae5ed3acb9>\u001b[0m in \u001b[0;36m<module>\u001b[0;34m()\u001b[0m\n\u001b[1;32m      1\u001b[0m \u001b[0mt\u001b[0m \u001b[0;34m=\u001b[0m \u001b[0;34m(\u001b[0m\u001b[0;36m1\u001b[0m\u001b[0;34m,\u001b[0m \u001b[0;36m2\u001b[0m\u001b[0;34m,\u001b[0m \u001b[0;36m3\u001b[0m\u001b[0;34m)\u001b[0m\u001b[0;34m\u001b[0m\u001b[0;34m\u001b[0m\u001b[0m\n\u001b[0;32m----> 2\u001b[0;31m \u001b[0mt\u001b[0m\u001b[0;34m[\u001b[0m\u001b[0;36m0\u001b[0m\u001b[0;34m]\u001b[0m \u001b[0;34m=\u001b[0m \u001b[0;34m'a'\u001b[0m\u001b[0;34m\u001b[0m\u001b[0;34m\u001b[0m\u001b[0m\n\u001b[0m",
            "\u001b[0;31mTypeError\u001b[0m: 'tuple' object does not support item assignment"
          ]
        }
      ],
      "source": [
        "t = (1, 2, 3)\n",
        "t[0] = 'a'      # 튜플은 변경이 불가능한 컬렉션이다."
      ]
    },
    {
      "cell_type": "markdown",
      "metadata": {
        "id": "ec0Z20T9yd-0"
      },
      "source": [
        "---\n",
        "75."
      ]
    },
    {
      "cell_type": "code",
      "execution_count": null,
      "metadata": {
        "id": "4PNx85e7yf1v"
      },
      "outputs": [],
      "source": [
        "t = 1, 2, 3, 4      # tuple"
      ]
    },
    {
      "cell_type": "markdown",
      "metadata": {
        "id": "ODgUyICiyk-X"
      },
      "source": [
        "---\n",
        "76."
      ]
    },
    {
      "cell_type": "code",
      "execution_count": null,
      "metadata": {
        "colab": {
          "base_uri": "https://localhost:8080/",
          "height": 193
        },
        "id": "n4HRgG_TyoRz",
        "outputId": "55feb911-906f-4efe-897b-58a59597e135"
      },
      "outputs": [
        {
          "ename": "AttributeError",
          "evalue": "ignored",
          "output_type": "error",
          "traceback": [
            "\u001b[0;31m---------------------------------------------------------------------------\u001b[0m",
            "\u001b[0;31mAttributeError\u001b[0m                            Traceback (most recent call last)",
            "\u001b[0;32m<ipython-input-7-813dd2f49f21>\u001b[0m in \u001b[0;36m<module>\u001b[0;34m()\u001b[0m\n\u001b[1;32m      1\u001b[0m \u001b[0mt\u001b[0m \u001b[0;34m=\u001b[0m \u001b[0;34m(\u001b[0m\u001b[0;34m'a'\u001b[0m\u001b[0;34m,\u001b[0m \u001b[0;34m'b'\u001b[0m\u001b[0;34m,\u001b[0m \u001b[0;34m'c'\u001b[0m\u001b[0;34m)\u001b[0m     \u001b[0;31m# 수정 불가능!\u001b[0m\u001b[0;34m\u001b[0m\u001b[0;34m\u001b[0m\u001b[0m\n\u001b[0;32m----> 2\u001b[0;31m \u001b[0mt\u001b[0m\u001b[0;34m.\u001b[0m\u001b[0mreplace\u001b[0m\u001b[0;34m(\u001b[0m\u001b[0;34m'a'\u001b[0m\u001b[0;34m,\u001b[0m \u001b[0;34m'A'\u001b[0m\u001b[0;34m)\u001b[0m\u001b[0;34m\u001b[0m\u001b[0;34m\u001b[0m\u001b[0m\n\u001b[0m",
            "\u001b[0;31mAttributeError\u001b[0m: 'tuple' object has no attribute 'replace'"
          ]
        }
      ],
      "source": [
        "t = ('a', 'b', 'c')     # 수정 불가능!\n",
        "t.replace('a', 'A')"
      ]
    },
    {
      "cell_type": "markdown",
      "metadata": {
        "id": "PEWgFUC9y2gK"
      },
      "source": [
        "---\n",
        "77."
      ]
    },
    {
      "cell_type": "code",
      "execution_count": null,
      "metadata": {
        "colab": {
          "base_uri": "https://localhost:8080/"
        },
        "id": "LPUL8eMFy4dQ",
        "outputId": "2364611f-815d-4463-96c8-b5a00bfc9d2d"
      },
      "outputs": [
        {
          "name": "stdout",
          "output_type": "stream",
          "text": [
            "['삼성전자', 'LG전자', 'SK Hynix']\n"
          ]
        }
      ],
      "source": [
        "interest = ('삼성전자', 'LG전자', 'SK Hynix')\n",
        "print(list(interest))"
      ]
    },
    {
      "cell_type": "markdown",
      "metadata": {
        "id": "8VNgc2-ky-ow"
      },
      "source": [
        "---\n",
        "78."
      ]
    },
    {
      "cell_type": "code",
      "execution_count": null,
      "metadata": {
        "colab": {
          "base_uri": "https://localhost:8080/"
        },
        "id": "NuI3gL4pzAJa",
        "outputId": "6967177f-e631-4478-aa48-3f934bd6f571"
      },
      "outputs": [
        {
          "name": "stdout",
          "output_type": "stream",
          "text": [
            "('삼성전자', 'LG전자', 'SK Hynix')\n"
          ]
        }
      ],
      "source": [
        "interest = ['삼성전자', 'LG전자', 'SK Hynix']\n",
        "print(tuple(interest))"
      ]
    },
    {
      "cell_type": "markdown",
      "metadata": {
        "id": "DB2dTRx_zES6"
      },
      "source": [
        "---\n",
        "79."
      ]
    },
    {
      "cell_type": "code",
      "execution_count": null,
      "metadata": {
        "colab": {
          "base_uri": "https://localhost:8080/"
        },
        "id": "2JV4qt9EzGfy",
        "outputId": "d8ebe83a-2d72-465d-e917-df006380e383"
      },
      "outputs": [
        {
          "name": "stdout",
          "output_type": "stream",
          "text": [
            "apple banana cake\n"
          ]
        }
      ],
      "source": [
        "temp = ('apple', 'banana', 'cake')\n",
        "a, b, c = temp\n",
        "print(a, b, c)      # apple banana cake"
      ]
    },
    {
      "cell_type": "markdown",
      "metadata": {
        "id": "8BJRY1VezNvq"
      },
      "source": [
        "---\n",
        "80."
      ]
    },
    {
      "cell_type": "code",
      "execution_count": 4,
      "metadata": {
        "colab": {
          "base_uri": "https://localhost:8080/"
        },
        "id": "Y-_hcmYBzPrB",
        "outputId": "111019ac-584e-47c0-d559-4cae9fb08b2b"
      },
      "outputs": [
        {
          "name": "stdout",
          "output_type": "stream",
          "text": [
            "(1, 3, 5, 7, 9, 11, 13, 15, 17, 19, 21, 23, 25, 27, 29, 31, 33, 35, 37, 39, 41, 43, 45, 47, 49, 51, 53, 55, 57, 59, 61, 63, 65, 67, 69, 71, 73, 75, 77, 79, 81, 83, 85, 87, 89, 91, 93, 95, 97)\n"
          ]
        }
      ],
      "source": [
        "a = tuple(range(1,99,2))\n",
        "print(a)"
      ]
    },
    {
      "cell_type": "code",
      "execution_count": 5,
      "metadata": {
        "colab": {
          "base_uri": "https://localhost:8080/"
        },
        "id": "EFfvZ-LHzX--",
        "outputId": "21a88f2f-38ff-4d15-b187-28fbe3166de6"
      },
      "outputs": [
        {
          "name": "stdout",
          "output_type": "stream",
          "text": [
            "(2, 4, 6, 8, 10, 12, 14, 16, 18, 20, 22, 24, 26, 28, 30, 32, 34, 36, 38, 40, 42, 44, 46, 48, 50, 52, 54, 56, 58, 60, 62, 64, 66, 68, 70, 72, 74, 76, 78, 80, 82, 84, 86, 88, 90, 92, 94, 96, 98)\n"
          ]
        }
      ],
      "source": [
        "# 짝수 구하기\n",
        "data = tuple(range(2,100,2))\n",
        "print(data)"
      ]
    },
    {
      "cell_type": "code",
      "execution_count": null,
      "metadata": {
        "id": "e59VaCynuxIv"
      },
      "outputs": [],
      "source": []
    }
  ],
  "metadata": {
    "colab": {
      "collapsed_sections": [],
      "name": "파이썬300제_071~080",
      "provenance": []
    },
    "kernelspec": {
      "display_name": "Python 3",
      "name": "python3"
    },
    "language_info": {
      "name": "python"
    }
  },
  "nbformat": 4,
  "nbformat_minor": 0
}
