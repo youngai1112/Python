{
  "nbformat": 4,
  "nbformat_minor": 0,
  "metadata": {
    "colab": {
      "name": "파이썬300제_181~190",
      "provenance": [],
      "collapsed_sections": []
    },
    "kernelspec": {
      "name": "python3",
      "display_name": "Python 3"
    },
    "language_info": {
      "name": "python"
    }
  },
  "cells": [
    {
      "cell_type": "markdown",
      "source": [
        "---\n",
        "181."
      ],
      "metadata": {
        "id": "VtX84EEzOwR1"
      }
    },
    {
      "cell_type": "code",
      "source": [
        "a = ['101호','102호']\n",
        "b = ['201호','202호']\n",
        "c = ['301호','302호']\n",
        "apart = [a, b, c]\n",
        "print(apart)"
      ],
      "metadata": {
        "colab": {
          "base_uri": "https://localhost:8080/"
        },
        "id": "e79x1QShO0Iz",
        "outputId": "3e96cc29-f2bd-4e07-f523-28b6a4f23b05"
      },
      "execution_count": 2,
      "outputs": [
        {
          "output_type": "stream",
          "name": "stdout",
          "text": [
            "[['101호', '102호'], ['201호', '202호'], ['301호', '302호']]\n"
          ]
        }
      ]
    },
    {
      "cell_type": "markdown",
      "source": [
        "---\n",
        "182."
      ],
      "metadata": {
        "id": "vQVLSf6BPHMN"
      }
    },
    {
      "cell_type": "code",
      "source": [
        "a = [100, 200, 300]\n",
        "b = [80, 210, 330]\n",
        "stock = [a, b]\n",
        "print(stock)"
      ],
      "metadata": {
        "colab": {
          "base_uri": "https://localhost:8080/"
        },
        "id": "CBDXqqM1PI0N",
        "outputId": "7e27838f-cc51-4d92-d2ac-4822426d076b"
      },
      "execution_count": 3,
      "outputs": [
        {
          "output_type": "stream",
          "name": "stdout",
          "text": [
            "[[100, 200, 300], [80, 210, 330]]\n"
          ]
        }
      ]
    },
    {
      "cell_type": "code",
      "source": [
        "#\n",
        "stock = [ [\"시가\", 100, 200, 300], [\"종가\", 80, 210, 330] ]"
      ],
      "metadata": {
        "id": "PGndolqUTsFD"
      },
      "execution_count": 26,
      "outputs": []
    },
    {
      "cell_type": "markdown",
      "source": [
        "---\n",
        "183."
      ],
      "metadata": {
        "id": "BTEzF9umPVdC"
      }
    },
    {
      "cell_type": "code",
      "source": [
        "stock = {'시가': [100, 200, 300], \n",
        "       '종가': [80, 210, 330]}\n",
        "print(stock)"
      ],
      "metadata": {
        "colab": {
          "base_uri": "https://localhost:8080/"
        },
        "id": "AYn3qG05PXeO",
        "outputId": "f1b2f0f1-439b-4c0a-81c1-ce5d6462dde5"
      },
      "execution_count": 6,
      "outputs": [
        {
          "output_type": "stream",
          "name": "stdout",
          "text": [
            "{'시가': [100, 200, 300], '종가': [80, 210, 330]}\n"
          ]
        }
      ]
    },
    {
      "cell_type": "markdown",
      "source": [
        "---\n",
        "184."
      ],
      "metadata": {
        "id": "tBlygdG7PtJi"
      }
    },
    {
      "cell_type": "code",
      "source": [
        "stock = {'10/10': [80, 110, 70, 90],\n",
        "         '10/11': [210, 230, 190, 200]}\n",
        "print(stock)"
      ],
      "metadata": {
        "colab": {
          "base_uri": "https://localhost:8080/"
        },
        "id": "GLafPsI2Pzfr",
        "outputId": "c8f07381-7628-41d7-a581-8912bf9fc6a3"
      },
      "execution_count": 7,
      "outputs": [
        {
          "output_type": "stream",
          "name": "stdout",
          "text": [
            "{'10/10': [80, 110, 70, 90], '10/11': [210, 230, 190, 200]}\n"
          ]
        }
      ]
    },
    {
      "cell_type": "markdown",
      "source": [
        "---\n",
        "185."
      ],
      "metadata": {
        "id": "ySbc7cXVRgqh"
      }
    },
    {
      "cell_type": "code",
      "source": [
        "apart = [ [101,102], \n",
        "         [201,202],\n",
        "         [301,302] ]\n",
        "\n",
        "for i in range(3):\n",
        "    for j in range(2):\n",
        "        print(str(apart[i][j]), '호')"
      ],
      "metadata": {
        "colab": {
          "base_uri": "https://localhost:8080/"
        },
        "id": "CCB7SiCoQC-b",
        "outputId": "8fb2dbaf-dd45-42b6-df7c-062c59f22a5e"
      },
      "execution_count": 14,
      "outputs": [
        {
          "output_type": "stream",
          "name": "stdout",
          "text": [
            "101 호\n",
            "102 호\n",
            "201 호\n",
            "202 호\n",
            "301 호\n",
            "302 호\n"
          ]
        }
      ]
    },
    {
      "cell_type": "code",
      "source": [
        "#\n",
        "for row in apart:\n",
        "    for col in row:\n",
        "        print(col, '호')"
      ],
      "metadata": {
        "colab": {
          "base_uri": "https://localhost:8080/"
        },
        "id": "2_BFLZkGT3Ec",
        "outputId": "7d8f67f4-43f3-45e0-991b-265431df0365"
      },
      "execution_count": 27,
      "outputs": [
        {
          "output_type": "stream",
          "name": "stdout",
          "text": [
            "101 호\n",
            "102 호\n",
            "201 호\n",
            "202 호\n",
            "301 호\n",
            "302 호\n"
          ]
        }
      ]
    },
    {
      "cell_type": "markdown",
      "source": [
        "---\n",
        "186."
      ],
      "metadata": {
        "id": "PTkec6gmQgLd"
      }
    },
    {
      "cell_type": "code",
      "source": [
        "apart = [ [101,102], \n",
        "         [201,202],\n",
        "         [301,302] ]\n",
        "\n",
        "for i in range(2,-1,-1):\n",
        "    for j in range(2):\n",
        "        print(str(apart[i][j]), '호')"
      ],
      "metadata": {
        "colab": {
          "base_uri": "https://localhost:8080/"
        },
        "id": "sFMZtsq4RjiQ",
        "outputId": "018c95d6-1458-4a9d-ccdd-5474e9186c59"
      },
      "execution_count": 18,
      "outputs": [
        {
          "output_type": "stream",
          "name": "stdout",
          "text": [
            "301 호\n",
            "302 호\n",
            "201 호\n",
            "202 호\n",
            "101 호\n",
            "102 호\n"
          ]
        }
      ]
    },
    {
      "cell_type": "code",
      "source": [
        "# \n",
        "for row in apart[::-1]:\n",
        "    for col in row:\n",
        "        print(col, '호')"
      ],
      "metadata": {
        "colab": {
          "base_uri": "https://localhost:8080/"
        },
        "id": "w28sZgO6UF9Z",
        "outputId": "3254254f-33b8-47e6-df7a-bc522ee423db"
      },
      "execution_count": 28,
      "outputs": [
        {
          "output_type": "stream",
          "name": "stdout",
          "text": [
            "301 호\n",
            "302 호\n",
            "201 호\n",
            "202 호\n",
            "101 호\n",
            "102 호\n"
          ]
        }
      ]
    },
    {
      "cell_type": "markdown",
      "source": [
        "---\n",
        "187."
      ],
      "metadata": {
        "id": "mbSf0IfPR_xX"
      }
    },
    {
      "cell_type": "code",
      "source": [
        "apart = [ [101,102], \n",
        "         [201,202],\n",
        "         [301,302] ]\n",
        "\n",
        "for i in range(2,-1,-1):\n",
        "    for j in range(1,-1,-1):\n",
        "        print(str(apart[i][j]), '호')"
      ],
      "metadata": {
        "colab": {
          "base_uri": "https://localhost:8080/"
        },
        "id": "Cs4wcsFWSQe8",
        "outputId": "00a383cb-b98e-4361-e93b-6a4c774f68fa"
      },
      "execution_count": 19,
      "outputs": [
        {
          "output_type": "stream",
          "name": "stdout",
          "text": [
            "302 호\n",
            "301 호\n",
            "202 호\n",
            "201 호\n",
            "102 호\n",
            "101 호\n"
          ]
        }
      ]
    },
    {
      "cell_type": "code",
      "source": [
        "# \n",
        "for row in apart[::-1]:\n",
        "    for col in row[::-1]:\n",
        "        print(col, '호')"
      ],
      "metadata": {
        "colab": {
          "base_uri": "https://localhost:8080/"
        },
        "id": "r1SsNtWEUQP0",
        "outputId": "a7eb1d8c-bc7a-4cb3-d320-4e6142e612dd"
      },
      "execution_count": 29,
      "outputs": [
        {
          "output_type": "stream",
          "name": "stdout",
          "text": [
            "302 호\n",
            "301 호\n",
            "202 호\n",
            "201 호\n",
            "102 호\n",
            "101 호\n"
          ]
        }
      ]
    },
    {
      "cell_type": "markdown",
      "source": [
        "---\n",
        "188."
      ],
      "metadata": {
        "id": "W1kotu28ScrK"
      }
    },
    {
      "cell_type": "code",
      "source": [
        "apart = [ [101,102], \n",
        "         [201,202],\n",
        "         [301,302] ]\n",
        "\n",
        "for i in range(3):\n",
        "    for j in range(2):\n",
        "        print(str(apart[i][j]), '호')\n",
        "        print('-----')"
      ],
      "metadata": {
        "colab": {
          "base_uri": "https://localhost:8080/"
        },
        "id": "dU1fknCoSgX3",
        "outputId": "2f32427f-939c-4116-eab7-e5182e9f47c4"
      },
      "execution_count": 20,
      "outputs": [
        {
          "output_type": "stream",
          "name": "stdout",
          "text": [
            "101 호\n",
            "-----\n",
            "102 호\n",
            "-----\n",
            "201 호\n",
            "-----\n",
            "202 호\n",
            "-----\n",
            "301 호\n",
            "-----\n",
            "302 호\n",
            "-----\n"
          ]
        }
      ]
    },
    {
      "cell_type": "code",
      "source": [
        "#\n",
        "for row in apart:\n",
        "    for col in row:\n",
        "        print(col, '호')\n",
        "        print('-----')"
      ],
      "metadata": {
        "colab": {
          "base_uri": "https://localhost:8080/"
        },
        "id": "Dj_AMwqoUdI6",
        "outputId": "6a19462d-0d63-4d8d-c678-dbc49ea81762"
      },
      "execution_count": 30,
      "outputs": [
        {
          "output_type": "stream",
          "name": "stdout",
          "text": [
            "101 호\n",
            "-----\n",
            "102 호\n",
            "-----\n",
            "201 호\n",
            "-----\n",
            "202 호\n",
            "-----\n",
            "301 호\n",
            "-----\n",
            "302 호\n",
            "-----\n"
          ]
        }
      ]
    },
    {
      "cell_type": "markdown",
      "source": [
        "---\n",
        "189."
      ],
      "metadata": {
        "id": "rCEjR_a0SvyL"
      }
    },
    {
      "cell_type": "code",
      "source": [
        "apart = [ [101,102], \n",
        "         [201,202],\n",
        "         [301,302] ]\n",
        "\n",
        "for i in range(3):\n",
        "    for j in range(1):\n",
        "        print(str(apart[i][j]), '호')\n",
        "        print(str(apart[i][j+1]), '호')\n",
        "        print('-----')"
      ],
      "metadata": {
        "colab": {
          "base_uri": "https://localhost:8080/"
        },
        "id": "PrAvmA88SxnF",
        "outputId": "e20946b4-7507-4470-c17d-6ca775970621"
      },
      "execution_count": 23,
      "outputs": [
        {
          "output_type": "stream",
          "name": "stdout",
          "text": [
            "101 호\n",
            "102 호\n",
            "-----\n",
            "201 호\n",
            "202 호\n",
            "-----\n",
            "301 호\n",
            "302 호\n",
            "-----\n"
          ]
        }
      ]
    },
    {
      "cell_type": "code",
      "source": [
        "#\n",
        "for row in apart:\n",
        "    for col in row:\n",
        "        print(col, '호')\n",
        "    print('-----')"
      ],
      "metadata": {
        "colab": {
          "base_uri": "https://localhost:8080/"
        },
        "id": "EDxaIFXvUnxG",
        "outputId": "2f08c0bd-c2bf-4fa0-ca18-8b5d5f7adb0c"
      },
      "execution_count": 31,
      "outputs": [
        {
          "output_type": "stream",
          "name": "stdout",
          "text": [
            "101 호\n",
            "102 호\n",
            "-----\n",
            "201 호\n",
            "202 호\n",
            "-----\n",
            "301 호\n",
            "302 호\n",
            "-----\n"
          ]
        }
      ]
    },
    {
      "cell_type": "markdown",
      "source": [
        "---\n",
        "190."
      ],
      "metadata": {
        "id": "stvLN7HLTExk"
      }
    },
    {
      "cell_type": "code",
      "source": [
        "apart = [ [101,102], \n",
        "         [201,202],\n",
        "         [301,302] ]\n",
        "\n",
        "for i in range(3):\n",
        "    for j in range(2):\n",
        "        print(str(apart[i][j]), '호')\n",
        "print('-----')"
      ],
      "metadata": {
        "colab": {
          "base_uri": "https://localhost:8080/"
        },
        "id": "ghXLhYN_TSSz",
        "outputId": "e099b0f6-25ce-40e7-e0b9-1c216b2e57e4"
      },
      "execution_count": 25,
      "outputs": [
        {
          "output_type": "stream",
          "name": "stdout",
          "text": [
            "101 호\n",
            "102 호\n",
            "201 호\n",
            "202 호\n",
            "301 호\n",
            "302 호\n",
            "-----\n"
          ]
        }
      ]
    },
    {
      "cell_type": "code",
      "source": [
        "#\n",
        "for row in apart:\n",
        "    for col in row:\n",
        "        print(col, '호')\n",
        "print('-----')"
      ],
      "metadata": {
        "colab": {
          "base_uri": "https://localhost:8080/"
        },
        "id": "9qOPODmFU2Rr",
        "outputId": "0f88d6ac-cc24-46b2-f3b4-d041ca710711"
      },
      "execution_count": 32,
      "outputs": [
        {
          "output_type": "stream",
          "name": "stdout",
          "text": [
            "101 호\n",
            "102 호\n",
            "201 호\n",
            "202 호\n",
            "301 호\n",
            "302 호\n",
            "-----\n"
          ]
        }
      ]
    }
  ]
}