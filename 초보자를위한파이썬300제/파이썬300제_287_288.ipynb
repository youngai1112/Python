{
  "nbformat": 4,
  "nbformat_minor": 0,
  "metadata": {
    "colab": {
      "name": "파이썬300제_287~288",
      "provenance": [],
      "collapsed_sections": []
    },
    "kernelspec": {
      "name": "python3",
      "display_name": "Python 3"
    },
    "language_info": {
      "name": "python"
    }
  },
  "cells": [
    {
      "cell_type": "markdown",
      "source": [
        "---\n",
        "287."
      ],
      "metadata": {
        "id": "qjUhxVT5pSPA"
      }
    },
    {
      "cell_type": "code",
      "source": [
        "class Car:\n",
        "    def __init__(self, tire, price):\n",
        "        self.tire = tire\n",
        "        self.price = price\n",
        "\n",
        "    def 정보(self):\n",
        "        print(\"바퀴수\", self.tire)\n",
        "        print(\"가격\", self.price)\n",
        "\n",
        "class Automobile(Car):\n",
        "    def __init__(self, tire, price):\n",
        "        super().__init__(tire, price)\n",
        "\n",
        "class Bicycle(Car):\n",
        "    def __init__(self, tire, price, carchain):\n",
        "        super().__init__(tire, price)\n",
        "        self.carchain = carchain\n",
        "\n",
        "    def info(self):\n",
        "        print(f'바퀴수:{self.tire}\\n가격:{self.price}\\n구동계:{self.carchain}')\n",
        "\n",
        "\n",
        "a = Bicycle(2, 100, \"시마노\")\n",
        "a.info()"
      ],
      "metadata": {
        "colab": {
          "base_uri": "https://localhost:8080/"
        },
        "id": "VVJKZoL2pZBC",
        "outputId": "f09a17c8-c89e-4f91-f132-c73fc0622eba"
      },
      "execution_count": 4,
      "outputs": [
        {
          "output_type": "stream",
          "name": "stdout",
          "text": [
            "바퀴수:2\n",
            "가격:100\n",
            "구동계:시마노\n"
          ]
        }
      ]
    },
    {
      "cell_type": "code",
      "source": [
        "#\n",
        "class 차:\n",
        "    def __init__(self, 바퀴, 가격):\n",
        "        self.바퀴 = 바퀴\n",
        "        self.가격 = 가격\n",
        "\n",
        "    def 정보(self):\n",
        "        print(\"바퀴수 \", self.바퀴)\n",
        "        print(\"가격 \", self.가격)\n",
        "\n",
        "class 자동차(차):\n",
        "    def __init__(self, 바퀴, 가격):\n",
        "        super().__init__(바퀴, 가격)\n",
        "\n",
        "class 자전차(차):\n",
        "    def __init__(self, 바퀴, 가격, 구동계):\n",
        "        super().__init__(바퀴, 가격)\n",
        "        self.구동계 = 구동계\n",
        "\n",
        "    def 정보(self):\n",
        "        super().정보()\n",
        "        print(\"구동계 \", self.구동계)\n",
        "\n",
        "bicycle = 자전차(2, 100, \"시마노\")\n",
        "bicycle.정보()"
      ],
      "metadata": {
        "colab": {
          "base_uri": "https://localhost:8080/"
        },
        "id": "AKl_Ksd2rI9H",
        "outputId": "0c97f47e-6438-4ef7-9c73-dc5b4743c619"
      },
      "execution_count": 6,
      "outputs": [
        {
          "output_type": "stream",
          "name": "stdout",
          "text": [
            "바퀴수  2\n",
            "가격  100\n",
            "구동계  시마노\n"
          ]
        }
      ]
    },
    {
      "cell_type": "markdown",
      "source": [
        "---\n",
        "288."
      ],
      "metadata": {
        "id": "WYYZVy_9qeCC"
      }
    },
    {
      "cell_type": "code",
      "source": [
        "class Parent:\n",
        "  def call(self):\n",
        "    print(\"부모호출\")\n",
        "\n",
        "class Son(Parent):\n",
        "  def call(self):\n",
        "    print(\"자식호출\")\n",
        "\n",
        "me = Son()\n",
        "me.call()   # \"자식호출\""
      ],
      "metadata": {
        "colab": {
          "base_uri": "https://localhost:8080/"
        },
        "id": "NWgk9ASKqgU7",
        "outputId": "6d465de0-6c03-4932-f8e8-f3e41803f952"
      },
      "execution_count": 5,
      "outputs": [
        {
          "output_type": "stream",
          "name": "stdout",
          "text": [
            "자식호출\n"
          ]
        }
      ]
    },
    {
      "cell_type": "code",
      "source": [
        ""
      ],
      "metadata": {
        "id": "tHHH4qheq_Ha"
      },
      "execution_count": null,
      "outputs": []
    }
  ]
}