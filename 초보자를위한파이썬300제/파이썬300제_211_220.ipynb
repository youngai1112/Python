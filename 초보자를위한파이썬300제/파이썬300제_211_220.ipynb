{
  "nbformat": 4,
  "nbformat_minor": 0,
  "metadata": {
    "colab": {
      "name": "파이썬300제_211~220",
      "provenance": [],
      "collapsed_sections": []
    },
    "kernelspec": {
      "name": "python3",
      "display_name": "Python 3"
    },
    "language_info": {
      "name": "python"
    }
  },
  "cells": [
    {
      "cell_type": "markdown",
      "source": [
        "---\n",
        "211."
      ],
      "metadata": {
        "id": "Xy5xho7Qapog"
      }
    },
    {
      "cell_type": "code",
      "source": [
        "def 함수(문자열):\n",
        "    print(문자열)\n",
        "\n",
        "함수('안녕')\n",
        "함수('Hi')  \n",
        "\n",
        "'''\n",
        "안녕\n",
        "Hi\n",
        "'''"
      ],
      "metadata": {
        "colab": {
          "base_uri": "https://localhost:8080/",
          "height": 73
        },
        "id": "W5dxdBC8axE3",
        "outputId": "f2ffbe4d-e45e-4b0e-bf85-7e484629383c"
      },
      "execution_count": 1,
      "outputs": [
        {
          "output_type": "stream",
          "name": "stdout",
          "text": [
            "안녕\n",
            "Hi\n"
          ]
        },
        {
          "output_type": "execute_result",
          "data": {
            "application/vnd.google.colaboratory.intrinsic+json": {
              "type": "string"
            },
            "text/plain": [
              "'\\n안녕\\nHi\\n'"
            ]
          },
          "metadata": {},
          "execution_count": 1
        }
      ]
    },
    {
      "cell_type": "markdown",
      "source": [
        "---\n",
        "212."
      ],
      "metadata": {
        "id": "WKZrlrxia7uN"
      }
    },
    {
      "cell_type": "code",
      "source": [
        "def func(a,b):\n",
        "    print(a + b)\n",
        "\n",
        "func(3, 4)\n",
        "func(7, 8)\n",
        "\n",
        "'''\n",
        "7\n",
        "15\n",
        "'''"
      ],
      "metadata": {
        "colab": {
          "base_uri": "https://localhost:8080/",
          "height": 73
        },
        "id": "3_GHIXETa9ds",
        "outputId": "c06a2ef9-3365-4eee-902e-fcf6e38fc4b4"
      },
      "execution_count": 2,
      "outputs": [
        {
          "output_type": "stream",
          "name": "stdout",
          "text": [
            "7\n",
            "15\n"
          ]
        },
        {
          "output_type": "execute_result",
          "data": {
            "application/vnd.google.colaboratory.intrinsic+json": {
              "type": "string"
            },
            "text/plain": [
              "'\\n7\\n15\\n'"
            ]
          },
          "metadata": {},
          "execution_count": 2
        }
      ]
    },
    {
      "cell_type": "markdown",
      "source": [
        "---\n",
        "213."
      ],
      "metadata": {
        "id": "Oh09MPnfbJoo"
      }
    },
    {
      "cell_type": "code",
      "source": [
        "def func(string):\n",
        "    print(string)\n",
        "\n",
        "func()      # 함수에서 정의한 argument가 호출할때는 없어서"
      ],
      "metadata": {
        "colab": {
          "base_uri": "https://localhost:8080/",
          "height": 212
        },
        "id": "n8CcUk9TbMZ9",
        "outputId": "ad8cdefa-844e-454f-f252-8c0c8bc5f05d"
      },
      "execution_count": 3,
      "outputs": [
        {
          "output_type": "error",
          "ename": "TypeError",
          "evalue": "ignored",
          "traceback": [
            "\u001b[0;31m---------------------------------------------------------------------------\u001b[0m",
            "\u001b[0;31mTypeError\u001b[0m                                 Traceback (most recent call last)",
            "\u001b[0;32m<ipython-input-3-637c30cc1ada>\u001b[0m in \u001b[0;36m<module>\u001b[0;34m()\u001b[0m\n\u001b[1;32m      2\u001b[0m     \u001b[0mprint\u001b[0m\u001b[0;34m(\u001b[0m\u001b[0mstring\u001b[0m\u001b[0;34m)\u001b[0m\u001b[0;34m\u001b[0m\u001b[0;34m\u001b[0m\u001b[0m\n\u001b[1;32m      3\u001b[0m \u001b[0;34m\u001b[0m\u001b[0m\n\u001b[0;32m----> 4\u001b[0;31m \u001b[0mfunc\u001b[0m\u001b[0;34m(\u001b[0m\u001b[0;34m)\u001b[0m\u001b[0;34m\u001b[0m\u001b[0;34m\u001b[0m\u001b[0m\n\u001b[0m",
            "\u001b[0;31mTypeError\u001b[0m: func() missing 1 required positional argument: 'string'"
          ]
        }
      ]
    },
    {
      "cell_type": "code",
      "source": [
        "# 함수의 정의와 다르게 함수를 호출하고 있다. \n",
        "# 함수를 호출할 때 하나의 파라미터를 입력해야 한다."
      ],
      "metadata": {
        "id": "TGiMyGHdd70U"
      },
      "execution_count": 17,
      "outputs": []
    },
    {
      "cell_type": "markdown",
      "source": [
        "---\n",
        "214."
      ],
      "metadata": {
        "id": "yGO011W6bWWb"
      }
    },
    {
      "cell_type": "code",
      "source": [
        "def func(a,b):\n",
        "    print(a+b)\n",
        "\n",
        "func('안녕', 3)  # 같은 데이터 형식끼리만 더할 수 있음"
      ],
      "metadata": {
        "colab": {
          "base_uri": "https://localhost:8080/",
          "height": 323
        },
        "id": "qX5w-gwLbm4X",
        "outputId": "fefa97f4-0f34-4655-b678-f69f62cbda2a"
      },
      "execution_count": 4,
      "outputs": [
        {
          "output_type": "error",
          "ename": "TypeError",
          "evalue": "ignored",
          "traceback": [
            "\u001b[0;31m---------------------------------------------------------------------------\u001b[0m",
            "\u001b[0;31mTypeError\u001b[0m                                 Traceback (most recent call last)",
            "\u001b[0;32m<ipython-input-4-33d52f3944d6>\u001b[0m in \u001b[0;36m<module>\u001b[0;34m()\u001b[0m\n\u001b[1;32m      2\u001b[0m     \u001b[0mprint\u001b[0m\u001b[0;34m(\u001b[0m\u001b[0ma\u001b[0m\u001b[0;34m+\u001b[0m\u001b[0mb\u001b[0m\u001b[0;34m)\u001b[0m\u001b[0;34m\u001b[0m\u001b[0;34m\u001b[0m\u001b[0m\n\u001b[1;32m      3\u001b[0m \u001b[0;34m\u001b[0m\u001b[0m\n\u001b[0;32m----> 4\u001b[0;31m \u001b[0mfunc\u001b[0m\u001b[0;34m(\u001b[0m\u001b[0;34m'안녕'\u001b[0m\u001b[0;34m,\u001b[0m\u001b[0;36m3\u001b[0m\u001b[0;34m)\u001b[0m\u001b[0;34m\u001b[0m\u001b[0;34m\u001b[0m\u001b[0m\n\u001b[0m",
            "\u001b[0;32m<ipython-input-4-33d52f3944d6>\u001b[0m in \u001b[0;36mfunc\u001b[0;34m(a, b)\u001b[0m\n\u001b[1;32m      1\u001b[0m \u001b[0;32mdef\u001b[0m \u001b[0mfunc\u001b[0m\u001b[0;34m(\u001b[0m\u001b[0ma\u001b[0m\u001b[0;34m,\u001b[0m\u001b[0mb\u001b[0m\u001b[0;34m)\u001b[0m\u001b[0;34m:\u001b[0m\u001b[0;34m\u001b[0m\u001b[0;34m\u001b[0m\u001b[0m\n\u001b[0;32m----> 2\u001b[0;31m     \u001b[0mprint\u001b[0m\u001b[0;34m(\u001b[0m\u001b[0ma\u001b[0m\u001b[0;34m+\u001b[0m\u001b[0mb\u001b[0m\u001b[0;34m)\u001b[0m\u001b[0;34m\u001b[0m\u001b[0;34m\u001b[0m\u001b[0m\n\u001b[0m\u001b[1;32m      3\u001b[0m \u001b[0;34m\u001b[0m\u001b[0m\n\u001b[1;32m      4\u001b[0m \u001b[0mfunc\u001b[0m\u001b[0;34m(\u001b[0m\u001b[0;34m'안녕'\u001b[0m\u001b[0;34m,\u001b[0m\u001b[0;36m3\u001b[0m\u001b[0;34m)\u001b[0m\u001b[0;34m\u001b[0m\u001b[0;34m\u001b[0m\u001b[0m\n",
            "\u001b[0;31mTypeError\u001b[0m: can only concatenate str (not \"int\") to str"
          ]
        }
      ]
    },
    {
      "cell_type": "markdown",
      "source": [
        "---\n",
        "215."
      ],
      "metadata": {
        "id": "9W7EyDkLbtCO"
      }
    },
    {
      "cell_type": "code",
      "source": [
        "def print_with_smile(a):\n",
        "    print(a + ':D')"
      ],
      "metadata": {
        "id": "gybMeIqVb3Si"
      },
      "execution_count": 7,
      "outputs": []
    },
    {
      "cell_type": "markdown",
      "source": [
        "---\n",
        "216."
      ],
      "metadata": {
        "id": "ysXiXdpqcFgj"
      }
    },
    {
      "cell_type": "code",
      "source": [
        "print_with_smile('안녕하세요')"
      ],
      "metadata": {
        "colab": {
          "base_uri": "https://localhost:8080/"
        },
        "id": "ITzX48D1cM6k",
        "outputId": "c9e72bf7-e586-42c1-f726-8869df9c66bd"
      },
      "execution_count": 8,
      "outputs": [
        {
          "output_type": "stream",
          "name": "stdout",
          "text": [
            "안녕하세요:D\n"
          ]
        }
      ]
    },
    {
      "cell_type": "markdown",
      "source": [
        "---\n",
        "217."
      ],
      "metadata": {
        "id": "hQemwKMtcU1A"
      }
    },
    {
      "cell_type": "code",
      "source": [
        "def print_upper_price(a):\n",
        "    print(a * 30/100)"
      ],
      "metadata": {
        "id": "leSq6qF8cWw4"
      },
      "execution_count": 9,
      "outputs": []
    },
    {
      "cell_type": "code",
      "source": [
        "#\n",
        "def print_upper_price(price):\n",
        "    print(price * 1.3)"
      ],
      "metadata": {
        "id": "oOdeJOQ0eLV4"
      },
      "execution_count": 18,
      "outputs": []
    },
    {
      "cell_type": "markdown",
      "source": [
        "---\n",
        "218."
      ],
      "metadata": {
        "id": "nmYCxfIncfum"
      }
    },
    {
      "cell_type": "code",
      "source": [
        "def print_sum(c, d):\n",
        "    print(c + d)"
      ],
      "metadata": {
        "id": "yI97-zF2ch98"
      },
      "execution_count": 11,
      "outputs": []
    },
    {
      "cell_type": "markdown",
      "source": [
        "---\n",
        "219."
      ],
      "metadata": {
        "id": "X3slHTNYcnNb"
      }
    },
    {
      "cell_type": "code",
      "source": [
        "def print_arithmatic_operation(e, f):\n",
        "    print(f'{e} + {f} = {e + f}')\n",
        "    print(f'{e} - {f} = {e - f}')\n",
        "    print(f'{e} * {f} = {e * f}')\n",
        "    print(f'{e} / {f} = {e / f}')"
      ],
      "metadata": {
        "id": "zRm3VQnLct_A"
      },
      "execution_count": 16,
      "outputs": []
    },
    {
      "cell_type": "markdown",
      "source": [
        "---\n",
        "220."
      ],
      "metadata": {
        "id": "7HtXGMqddHSM"
      }
    },
    {
      "cell_type": "code",
      "source": [
        "def print_max(g, h, i):\n",
        "    if g > h and g > i:\n",
        "        print(g)\n",
        "    elif h > i and h > g:\n",
        "        print(h)\n",
        "    else:\n",
        "        print(i)"
      ],
      "metadata": {
        "id": "WJE9KbMTdJw9"
      },
      "execution_count": 14,
      "outputs": []
    },
    {
      "cell_type": "code",
      "source": [
        "#\n",
        "def print_max(a,b,c):\n",
        "    max_val = 0\n",
        "    if a > max_val:\n",
        "        max_val = a\n",
        "    if b > max_val:\n",
        "        max_val = b\n",
        "    if c > max_val:\n",
        "        max_val = c\n",
        "    print(max_val)"
      ],
      "metadata": {
        "id": "wk3hlYfxeYVt"
      },
      "execution_count": 19,
      "outputs": []
    },
    {
      "cell_type": "code",
      "source": [
        "print_max(1,3,5)"
      ],
      "metadata": {
        "colab": {
          "base_uri": "https://localhost:8080/"
        },
        "id": "ImJeDJBBeuT2",
        "outputId": "464fd83b-6a66-4d9d-8e3b-5ee9cfd9d9f6"
      },
      "execution_count": 20,
      "outputs": [
        {
          "output_type": "stream",
          "name": "stdout",
          "text": [
            "5\n"
          ]
        }
      ]
    }
  ]
}