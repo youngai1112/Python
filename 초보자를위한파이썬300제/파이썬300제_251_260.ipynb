{
  "nbformat": 4,
  "nbformat_minor": 0,
  "metadata": {
    "colab": {
      "name": "파이썬300제_251~260",
      "provenance": [],
      "collapsed_sections": []
    },
    "kernelspec": {
      "name": "python3",
      "display_name": "Python 3"
    },
    "language_info": {
      "name": "python"
    }
  },
  "cells": [
    {
      "cell_type": "markdown",
      "source": [
        "---\n",
        "251."
      ],
      "metadata": {
        "id": "8iAZnIPCJ_bn"
      }
    },
    {
      "cell_type": "code",
      "source": [
        "# 클래스: 실현되지 않은 추상적인 것\n",
        "# 객체: 클래스를 구현하기 위해 만든 것\n",
        "# 인스턴스: 클래스와의 관계에서, 클래스의 인스턴스"
      ],
      "metadata": {
        "id": "mkKfutw2KEh-"
      },
      "execution_count": null,
      "outputs": []
    },
    {
      "cell_type": "code",
      "source": [
        ""
      ],
      "metadata": {
        "id": "nCuXYilSQm_q"
      },
      "execution_count": null,
      "outputs": []
    },
    {
      "cell_type": "markdown",
      "source": [
        "---\n",
        "252."
      ],
      "metadata": {
        "id": "DmuqxNPVKc5J"
      }
    },
    {
      "cell_type": "code",
      "source": [
        "class Human:\n",
        "    def __init__(self):\n",
        "        pass"
      ],
      "metadata": {
        "id": "VzTmXBCxKeHq"
      },
      "execution_count": 1,
      "outputs": []
    },
    {
      "cell_type": "code",
      "source": [
        "# \n",
        "class Human:\n",
        "    pass"
      ],
      "metadata": {
        "id": "PydCsTl_QpfZ"
      },
      "execution_count": null,
      "outputs": []
    },
    {
      "cell_type": "markdown",
      "source": [
        "---\n",
        "253."
      ],
      "metadata": {
        "id": "R-WwGU5VKk4p"
      }
    },
    {
      "cell_type": "code",
      "source": [
        "areum = Human()        "
      ],
      "metadata": {
        "id": "r6B3GIdCKmKf"
      },
      "execution_count": 2,
      "outputs": []
    },
    {
      "cell_type": "markdown",
      "source": [
        "---\n",
        "254."
      ],
      "metadata": {
        "id": "qDPhe6VzK0-6"
      }
    },
    {
      "cell_type": "code",
      "source": [
        "class Human:\n",
        "    def __init__(self):\n",
        "        print('응애응애')\n",
        "\n",
        "areum = Human()"
      ],
      "metadata": {
        "colab": {
          "base_uri": "https://localhost:8080/"
        },
        "id": "FajprGCRK2Oi",
        "outputId": "00ff4c93-af90-49d0-a7e7-ffd04026f81a"
      },
      "execution_count": 3,
      "outputs": [
        {
          "output_type": "stream",
          "name": "stdout",
          "text": [
            "응애응애\n"
          ]
        }
      ]
    },
    {
      "cell_type": "markdown",
      "source": [
        "---\n",
        "255."
      ],
      "metadata": {
        "id": "0SxGmFWPK-S3"
      }
    },
    {
      "cell_type": "code",
      "source": [
        "class Human:\n",
        "    def __init__(self, name, age, sex):\n",
        "        self.name = name\n",
        "        self.age = age\n",
        "        self.sex = sex\n",
        "\n",
        "areum = Human('아름', 25, '여자')"
      ],
      "metadata": {
        "id": "T4s7i9bbK_nd"
      },
      "execution_count": 5,
      "outputs": []
    },
    {
      "cell_type": "markdown",
      "source": [
        "---\n",
        "256."
      ],
      "metadata": {
        "id": "h8MLJY0yLTLY"
      }
    },
    {
      "cell_type": "code",
      "source": [
        "class Human:\n",
        "    def __init__(self, name, age, sex):\n",
        "        self.name = name\n",
        "        self.age = age\n",
        "        self.sex = sex\n",
        "\n",
        "        print(f'이름: {self.name}, 나이: {self.age}, 성별: {self.sex}')\n",
        "\n",
        "areum = Human('조아름', 25, '여자')\n",
        "areum.age"
      ],
      "metadata": {
        "colab": {
          "base_uri": "https://localhost:8080/"
        },
        "id": "r0ACTiduLfvK",
        "outputId": "f6156ff1-7e4f-460b-b0a6-112ec4896f8d"
      },
      "execution_count": 11,
      "outputs": [
        {
          "output_type": "stream",
          "name": "stdout",
          "text": [
            "이름: 조아름, 나이: 25, 성별: 여자\n"
          ]
        },
        {
          "output_type": "execute_result",
          "data": {
            "text/plain": [
              "25"
            ]
          },
          "metadata": {},
          "execution_count": 11
        }
      ]
    },
    {
      "cell_type": "markdown",
      "source": [
        "---\n",
        "257."
      ],
      "metadata": {
        "id": "FLJ_IGBiMCSq"
      }
    },
    {
      "cell_type": "code",
      "source": [
        "class Human:\n",
        "    def __init__(self, name, age, sex):\n",
        "        self.name = name\n",
        "        self.age = age\n",
        "        self.sex = sex\n",
        "\n",
        "        print(f'이름: {self.name}, 나이: {self.age}, 성별: {self.sex}')\n",
        "\n",
        "    def who(self):\n",
        "        print(f'이름: {self.name}, 나이: {self.age}, 성별: {self.sex}')\n",
        "\n",
        "areum.who()"
      ],
      "metadata": {
        "colab": {
          "base_uri": "https://localhost:8080/"
        },
        "id": "n3KGlJwdMH9c",
        "outputId": "157f587d-b5fa-44bf-f093-3635c460f42b"
      },
      "execution_count": 17,
      "outputs": [
        {
          "output_type": "stream",
          "name": "stdout",
          "text": [
            "이름: 조아름, 나이: 25, 성별: 여자\n"
          ]
        }
      ]
    },
    {
      "cell_type": "code",
      "source": [
        "#\n",
        "class Human:\n",
        "    def __init__(self, name, age, sex):\n",
        "        self.name = name\n",
        "        self.age = age\n",
        "        self.sex = sex\n",
        "\n",
        "    def who(self):\n",
        "        print(\"이름: {} 나이: {} 성별: {}\".format(self.name, self.age, self.sex))\n",
        "\n",
        "areum = Human(\"아름\", 25, \"여자\")\n",
        "areum.who()      # Human.who(areum)"
      ],
      "metadata": {
        "colab": {
          "base_uri": "https://localhost:8080/"
        },
        "id": "4YzxpfY9Q84-",
        "outputId": "b16d3389-90d0-466f-b03b-866c58c8fdb0"
      },
      "execution_count": 27,
      "outputs": [
        {
          "output_type": "stream",
          "name": "stdout",
          "text": [
            "이름: 아름 나이: 25 성별: 여자\n"
          ]
        }
      ]
    },
    {
      "cell_type": "markdown",
      "source": [
        "---\n",
        "258."
      ],
      "metadata": {
        "id": "cvIHSBQ-NOYQ"
      }
    },
    {
      "cell_type": "code",
      "source": [
        "class Human:\n",
        "    def __init__(self, name, age, sex):\n",
        "        self.name = name\n",
        "        self.age = age\n",
        "        self.sex = sex\n",
        "\n",
        "    def setInfo(self, name, age, sex):\n",
        "        print(f'이름: {name}, 나이: {age}, 성별: {sex}')\n",
        "\n",
        "areum = Human('모름', 0, '모름')\n",
        "areum.setInfo('아름', 25, '여자')"
      ],
      "metadata": {
        "colab": {
          "base_uri": "https://localhost:8080/"
        },
        "id": "fzGR2eXqOEWi",
        "outputId": "a2044100-d14d-4deb-b1be-6ab87d819827"
      },
      "execution_count": 18,
      "outputs": [
        {
          "output_type": "stream",
          "name": "stdout",
          "text": [
            "이름: 모름, 나이: 0, 성별: 모름\n",
            "이름: 아름, 나이: 25, 성별: 여자\n"
          ]
        }
      ]
    },
    {
      "cell_type": "code",
      "source": [
        "#\n",
        "class Human:\n",
        "    def __init__(self, name, age, sex):\n",
        "        self.name = name\n",
        "        self.age = age\n",
        "        self.sex = sex\n",
        "\n",
        "    def who(self):\n",
        "        print(\"이름: {} 나이: {} 성별: {}\".format(self.name, self.age, self.sex))\n",
        "\n",
        "    def setInfo(self, name, age, sex):\n",
        "        self.name = name\n",
        "        self.age = age\n",
        "        self.sex = sex\n",
        "\n",
        "\n",
        "areum = Human(\"불명\", \"미상\", \"모름\")\n",
        "areum.who()      # Human.who(areum)\n",
        "\n",
        "areum.setInfo(\"아름\", 25, \"여자\")\n",
        "areum.who()      # Human.who(areum)"
      ],
      "metadata": {
        "id": "lstBIbAaRGFd"
      },
      "execution_count": null,
      "outputs": []
    },
    {
      "cell_type": "markdown",
      "source": [
        "---\n",
        "259."
      ],
      "metadata": {
        "id": "oQHZYLa-OsSr"
      }
    },
    {
      "cell_type": "code",
      "source": [
        "class Human:\n",
        "    def __init__(self, name, age, sex):\n",
        "        self.name = name\n",
        "        self.age = age\n",
        "        self.sex = sex\n",
        "\n",
        "    def __del__(self):\n",
        "        print('나의 죽음을 알리지 말라')\n",
        "\n",
        "areum = Human('아름', 25, '여자')\n",
        "del areum"
      ],
      "metadata": {
        "colab": {
          "base_uri": "https://localhost:8080/"
        },
        "id": "gPBRa06lOuyO",
        "outputId": "4c978aa0-2aa7-4bd7-bbb3-197622c5df53"
      },
      "execution_count": 25,
      "outputs": [
        {
          "output_type": "stream",
          "name": "stdout",
          "text": [
            "나의 죽음을 알리지 말라\n"
          ]
        }
      ]
    },
    {
      "cell_type": "markdown",
      "source": [
        "---\n",
        "260."
      ],
      "metadata": {
        "id": "5_plvVorPeA2"
      }
    },
    {
      "cell_type": "code",
      "source": [
        "class OMG : \n",
        "    def print() :\n",
        "        print(\"Oh my god\")\n",
        "\n",
        ">>> >>> myStock = OMG()\n",
        ">>> myStock.print()\n",
        "TypeError Traceback (most recent call last)\n",
        "<ipython-input-233-c85c04535b22> in <module>()\n",
        "----> myStock.print()\n",
        "\n",
        "TypeError: print() takes 0 positional arguments but 1 was given"
      ],
      "metadata": {
        "id": "UfuQdOp-QR9R"
      },
      "execution_count": 26,
      "outputs": []
    }
  ]
}