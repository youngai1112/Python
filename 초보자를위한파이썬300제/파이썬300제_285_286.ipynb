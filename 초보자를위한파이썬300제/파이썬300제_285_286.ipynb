{
  "nbformat": 4,
  "nbformat_minor": 0,
  "metadata": {
    "colab": {
      "name": "파이썬300제_285~286",
      "provenance": [],
      "collapsed_sections": []
    },
    "kernelspec": {
      "name": "python3",
      "display_name": "Python 3"
    },
    "language_info": {
      "name": "python"
    }
  },
  "cells": [
    {
      "cell_type": "markdown",
      "source": [
        "---\n",
        "285."
      ],
      "metadata": {
        "id": "QWnuByX4U61u"
      }
    },
    {
      "cell_type": "code",
      "source": [
        "class Car:\n",
        "    def __init__(self, tire, price):\n",
        "        self.tire = tire\n",
        "        self.price = price\n",
        "\n",
        "class Automobile(Car):\n",
        "    def info(self):\n",
        "        print(f'바퀴수 {self.tire}\\n가격 {self.price}')\n",
        "\n",
        "car = Automobile(4,1000)\n",
        "car.info()"
      ],
      "metadata": {
        "colab": {
          "base_uri": "https://localhost:8080/"
        },
        "id": "XTjPtACTU_GY",
        "outputId": "74f4f250-e79e-4b4b-cb75-7552e8412886"
      },
      "execution_count": 9,
      "outputs": [
        {
          "output_type": "stream",
          "name": "stdout",
          "text": [
            "바퀴수 4\n",
            "가격 1000\n"
          ]
        }
      ]
    },
    {
      "cell_type": "code",
      "source": [
        "#\n",
        "class 차:\n",
        "    def __init__(self, 바퀴, 가격):\n",
        "        self.바퀴 = 바퀴\n",
        "        self.가격 = 가격\n",
        "\n",
        "\n",
        "class 자동차(차):\n",
        "    def __init__(self, 바퀴, 가격):\n",
        "        super().__init__(바퀴, 가격)\n",
        "\n",
        "    def 정보(self):\n",
        "        print(\"바퀴수 \", self.바퀴)\n",
        "        print(\"가격 \", self.가격)"
      ],
      "metadata": {
        "id": "XCvv4stuYWCk"
      },
      "execution_count": null,
      "outputs": []
    },
    {
      "cell_type": "markdown",
      "source": [
        "---\n",
        "286."
      ],
      "metadata": {
        "id": "YR2CtYfLVmGm"
      }
    },
    {
      "cell_type": "code",
      "source": [
        "class Car:\n",
        "    def __init__(self, tire, price):\n",
        "        self.tire = tire\n",
        "        self.price = price\n",
        "\n",
        "\n",
        "class Bicycle(Car):\n",
        "    def __init__(self, tire, price, carchain):\n",
        "        super().__init__(tire, price)\n",
        "        self.carchain = carchain\n",
        "\n",
        "    def info(self):\n",
        "        print(f'바퀴수 {self.tire}\\n가격 {self.price}')\n",
        "\n",
        "bicycle = Bicycle(2,100,\"시마노\")\n",
        "bicycle.info()"
      ],
      "metadata": {
        "colab": {
          "base_uri": "https://localhost:8080/"
        },
        "id": "Thr6bQY4Vn2y",
        "outputId": "7c5eb86d-8664-4a53-f850-6c868acbbd41"
      },
      "execution_count": 12,
      "outputs": [
        {
          "output_type": "stream",
          "name": "stdout",
          "text": [
            "바퀴수 2\n",
            "가격 100\n"
          ]
        }
      ]
    },
    {
      "cell_type": "code",
      "source": [
        "# \n",
        "\n",
        "class 차:\n",
        "    def __init__(self, 바퀴, 가격):\n",
        "        self.바퀴 = 바퀴\n",
        "        self.가격 = 가격\n",
        "\n",
        "    def 정보(self):\n",
        "        print(\"바퀴수 \", self.바퀴)\n",
        "        print(\"가격 \", self.가격)\n",
        "\n",
        "class 자동차(차):\n",
        "    def __init__(self, 바퀴, 가격):\n",
        "        super().__init__(바퀴, 가격)\n",
        "\n",
        "class 자전차(차):\n",
        "    def __init__(self, 바퀴, 가격, 구동계):\n",
        "        super().__init__(바퀴, 가격)\n",
        "        self.구동계 = 구동계\n",
        "\n",
        "bicycle = 자전차(2, 100, \"시마노\")\n",
        "bicycle.정보()\n"
      ],
      "metadata": {
        "colab": {
          "base_uri": "https://localhost:8080/"
        },
        "id": "-W2l81MjX__Q",
        "outputId": "6f27c17f-7fe5-41e4-f6bc-e0e438597358"
      },
      "execution_count": 13,
      "outputs": [
        {
          "output_type": "stream",
          "name": "stdout",
          "text": [
            "바퀴수  2\n",
            "가격  100\n"
          ]
        }
      ]
    },
    {
      "cell_type": "code",
      "source": [
        ""
      ],
      "metadata": {
        "id": "OiG7idqDYkdx"
      },
      "execution_count": null,
      "outputs": []
    }
  ]
}