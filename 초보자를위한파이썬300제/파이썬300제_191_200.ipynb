{
  "nbformat": 4,
  "nbformat_minor": 0,
  "metadata": {
    "colab": {
      "name": "파이썬300제_191~200",
      "provenance": [],
      "collapsed_sections": []
    },
    "kernelspec": {
      "name": "python3",
      "display_name": "Python 3"
    },
    "language_info": {
      "name": "python"
    }
  },
  "cells": [
    {
      "cell_type": "markdown",
      "source": [
        "---\n",
        "191."
      ],
      "metadata": {
        "id": "A9qh8xEoVOnG"
      }
    },
    {
      "cell_type": "code",
      "source": [
        "data = [\n",
        "    [ 2000,  3050,  2050,  1980],\n",
        "    [ 7500,  2050,  2050,  1980],\n",
        "    [15450, 15050, 15550, 14900]\n",
        "]\n",
        "\n",
        "for row in data:\n",
        "    for col in row:\n",
        "        print(col * (1 + 0.014/100))"
      ],
      "metadata": {
        "colab": {
          "base_uri": "https://localhost:8080/"
        },
        "id": "90DT94uYVm3K",
        "outputId": "ee595090-270d-45e7-e732-4b04ab3e2ec2"
      },
      "execution_count": 6,
      "outputs": [
        {
          "output_type": "stream",
          "name": "stdout",
          "text": [
            "2000.28\n",
            "3050.427\n",
            "2050.2870000000003\n",
            "1980.2772\n",
            "7501.05\n",
            "2050.2870000000003\n",
            "2050.2870000000003\n",
            "1980.2772\n",
            "15452.163\n",
            "15052.107\n",
            "15552.177\n",
            "14902.086000000001\n"
          ]
        }
      ]
    },
    {
      "cell_type": "markdown",
      "source": [
        "---\n",
        "192."
      ],
      "metadata": {
        "id": "SYcmQTP9V57N"
      }
    },
    {
      "cell_type": "code",
      "source": [
        "for row in data:\n",
        "    for col in row:\n",
        "        print(col * (1 + 0.014/100))\n",
        "    print('----')"
      ],
      "metadata": {
        "colab": {
          "base_uri": "https://localhost:8080/"
        },
        "id": "SDGhCYT8V7ev",
        "outputId": "c3757c06-abaa-43e0-8917-15367e0a43a1"
      },
      "execution_count": 9,
      "outputs": [
        {
          "output_type": "stream",
          "name": "stdout",
          "text": [
            "2000.28\n",
            "3050.427\n",
            "2050.2870000000003\n",
            "1980.2772\n",
            "----\n",
            "7501.05\n",
            "2050.2870000000003\n",
            "2050.2870000000003\n",
            "1980.2772\n",
            "----\n",
            "15452.163\n",
            "15052.107\n",
            "15552.177\n",
            "14902.086000000001\n",
            "----\n"
          ]
        }
      ]
    },
    {
      "cell_type": "markdown",
      "source": [
        "---\n",
        "193."
      ],
      "metadata": {
        "id": "Zp85Dv6jWn0n"
      }
    },
    {
      "cell_type": "code",
      "source": [
        "result = []\n",
        "\n",
        "for row in data:\n",
        "    for col in row:\n",
        "        result.append(col * (1 + 0.014/100))\n",
        "print(result)"
      ],
      "metadata": {
        "colab": {
          "base_uri": "https://localhost:8080/"
        },
        "id": "NFY46aY9WtQe",
        "outputId": "eddcac35-8ff4-4cb6-914e-65e478ac1e29"
      },
      "execution_count": 17,
      "outputs": [
        {
          "output_type": "stream",
          "name": "stdout",
          "text": [
            "[2000.28, 3050.427, 2050.2870000000003, 1980.2772, 7501.05, 2050.2870000000003, 2050.2870000000003, 1980.2772, 15452.163, 15052.107, 15552.177, 14902.086000000001]\n"
          ]
        }
      ]
    },
    {
      "cell_type": "markdown",
      "source": [
        "---\n",
        "★ 194.\n",
        "- 빈 리스트 활용"
      ],
      "metadata": {
        "id": "7-8SPpleXgtC"
      }
    },
    {
      "cell_type": "code",
      "source": [
        "result = []\n",
        "\n",
        "for row in data:\n",
        "    for col in row:\n",
        "        result.append(col * (1 + 0.014/100))\n",
        "print([result[0:4], result[4:8], result[8:]])"
      ],
      "metadata": {
        "colab": {
          "base_uri": "https://localhost:8080/"
        },
        "id": "cGNJW9jvX2sK",
        "outputId": "1380a7d3-24f6-403c-b6e7-47e280543523"
      },
      "execution_count": 53,
      "outputs": [
        {
          "output_type": "stream",
          "name": "stdout",
          "text": [
            "[[2000.28, 3050.427, 2050.2870000000003, 1980.2772], [7501.05, 2050.2870000000003, 2050.2870000000003, 1980.2772], [15452.163, 15052.107, 15552.177, 14902.086000000001]]\n"
          ]
        }
      ]
    },
    {
      "cell_type": "code",
      "source": [
        "#\n",
        "result = []\n",
        "for line in data:\n",
        "    sub = []\n",
        "    for column in line:\n",
        "        sub.append(column * 1.00014)\n",
        "    result.append(sub)\n",
        "print(result)"
      ],
      "metadata": {
        "colab": {
          "base_uri": "https://localhost:8080/"
        },
        "id": "z-TYLi5P46vA",
        "outputId": "5d301aca-ed6f-443f-e25c-944a1d947c93"
      },
      "execution_count": 117,
      "outputs": [
        {
          "output_type": "stream",
          "name": "stdout",
          "text": [
            "[[2000.28, 3050.427, 2050.2870000000003, 1980.2772], [7501.05, 2050.2870000000003, 2050.2870000000003, 1980.2772], [15452.163, 15052.107, 15552.177, 14902.086000000001]]\n"
          ]
        }
      ]
    },
    {
      "cell_type": "markdown",
      "source": [
        "---\n",
        "195."
      ],
      "metadata": {
        "id": "GH_di9HYYH26"
      }
    },
    {
      "cell_type": "code",
      "source": [
        "ohlc = [[\"open\", \"high\", \"low\", \"close\"],\n",
        "        [100, 110, 70, 100],\n",
        "        [200, 210, 180, 190],\n",
        "        [300, 310, 300, 310]]\n",
        "\n",
        "for row in ohlc[1:]:\n",
        "    for col in row[3:4]:\n",
        "        print(col)"
      ],
      "metadata": {
        "colab": {
          "base_uri": "https://localhost:8080/"
        },
        "id": "nPRWCTkzvRxn",
        "outputId": "663bf67a-deb1-4ec7-f544-feb01602af36"
      },
      "execution_count": 71,
      "outputs": [
        {
          "output_type": "stream",
          "name": "stdout",
          "text": [
            "100\n",
            "190\n",
            "310\n"
          ]
        }
      ]
    },
    {
      "cell_type": "code",
      "source": [
        "#\n",
        "for row in ohlc[1:]:\n",
        "    print(row[3])"
      ],
      "metadata": {
        "colab": {
          "base_uri": "https://localhost:8080/"
        },
        "id": "HnC4tYJd5Uvl",
        "outputId": "067d5247-a810-43d6-e8b4-682051e4b943"
      },
      "execution_count": 118,
      "outputs": [
        {
          "output_type": "stream",
          "name": "stdout",
          "text": [
            "100\n",
            "190\n",
            "310\n"
          ]
        }
      ]
    },
    {
      "cell_type": "markdown",
      "source": [
        "---\n",
        "196."
      ],
      "metadata": {
        "id": "PQxBBf4tvkMr"
      }
    },
    {
      "cell_type": "code",
      "source": [
        "ohlc = [[\"open\", \"high\", \"low\", \"close\"],\n",
        "        [100, 110, 70, 100],\n",
        "        [200, 210, 180, 190],\n",
        "        [300, 310, 300, 310]]\n",
        "\n",
        "for row in ohlc[1:]:\n",
        "    for col in row[3:4]:\n",
        "        if col >= 150:\n",
        "            print(col)            "
      ],
      "metadata": {
        "colab": {
          "base_uri": "https://localhost:8080/"
        },
        "id": "7-v6qU-Gvr9J",
        "outputId": "aff23deb-ae4e-4373-d69f-16b2945a3663"
      },
      "execution_count": 75,
      "outputs": [
        {
          "output_type": "stream",
          "name": "stdout",
          "text": [
            "190\n",
            "310\n"
          ]
        }
      ]
    },
    {
      "cell_type": "markdown",
      "source": [
        "---\n",
        "196."
      ],
      "metadata": {
        "id": "a8ScCb88y64p"
      }
    },
    {
      "cell_type": "code",
      "source": [
        "ohlc = [[\"open\", \"high\", \"low\", \"close\"],\n",
        "        [100, 110, 70, 100],\n",
        "        [200, 210, 180, 190],\n",
        "        [300, 310, 300, 310]]\n",
        "\n",
        "for row in ohlc[1:]:\n",
        "    if row[3] >= 150:\n",
        "        print(row[3])"
      ],
      "metadata": {
        "colab": {
          "base_uri": "https://localhost:8080/"
        },
        "id": "eBr2FSBezGrE",
        "outputId": "4443039f-b5d5-48d9-c569-86381af87b3d"
      },
      "execution_count": 84,
      "outputs": [
        {
          "output_type": "stream",
          "name": "stdout",
          "text": [
            "190\n",
            "310\n"
          ]
        }
      ]
    },
    {
      "cell_type": "code",
      "source": [
        "#\n",
        "for row in ohlc[1:]:\n",
        "    if (row[3] > 150):\n",
        "        print(row[3])"
      ],
      "metadata": {
        "colab": {
          "base_uri": "https://localhost:8080/"
        },
        "id": "dEKUoOeY5nSV",
        "outputId": "1a21cd82-19cc-4c78-9074-2bf0e63fb17f"
      },
      "execution_count": 120,
      "outputs": [
        {
          "output_type": "stream",
          "name": "stdout",
          "text": [
            "190\n",
            "310\n"
          ]
        }
      ]
    },
    {
      "cell_type": "markdown",
      "source": [
        "---\n",
        "197."
      ],
      "metadata": {
        "id": "EUfwOCl1zdLH"
      }
    },
    {
      "cell_type": "code",
      "source": [
        "ohlc = [[\"open\", \"high\", \"low\", \"close\"],\n",
        "        [100, 110, 70, 100],\n",
        "        [200, 210, 180, 190],\n",
        "        [300, 310, 300, 310]]\n",
        "\n",
        "for row in ohlc[1:]:\n",
        "    if row[-1] >= row[0]:\n",
        "        print(row[-1])"
      ],
      "metadata": {
        "colab": {
          "base_uri": "https://localhost:8080/"
        },
        "id": "tom_aXMa0n21",
        "outputId": "1779ac36-9e53-4de2-f8e5-493463bb7124"
      },
      "execution_count": 85,
      "outputs": [
        {
          "output_type": "stream",
          "name": "stdout",
          "text": [
            "100\n",
            "310\n"
          ]
        }
      ]
    },
    {
      "cell_type": "markdown",
      "source": [
        "---\n",
        "198."
      ],
      "metadata": {
        "id": "WixGcuVa0ycs"
      }
    },
    {
      "cell_type": "code",
      "source": [
        "ohlc = [[\"open\", \"high\", \"low\", \"close\"],\n",
        "        [100, 110, 70, 100],\n",
        "        [200, 210, 180, 190],\n",
        "        [300, 310, 300, 310]]\n",
        "\n",
        "volatility = []\n",
        "for row in ohlc[1:]:\n",
        "    vo = row[1] - row[2]\n",
        "    volatility.append(vo)\n",
        "print(volatility)"
      ],
      "metadata": {
        "colab": {
          "base_uri": "https://localhost:8080/"
        },
        "id": "3pS4veAN01Jx",
        "outputId": "562b6365-3734-4f1b-f911-17bba6574fdf"
      },
      "execution_count": 94,
      "outputs": [
        {
          "output_type": "stream",
          "name": "stdout",
          "text": [
            "[40, 30, 10]\n"
          ]
        }
      ]
    },
    {
      "cell_type": "code",
      "source": [
        "#\n",
        "volatility = []\n",
        "for row in ohlc[1:]:\n",
        "    volatility.append(row[1] - row[2])"
      ],
      "metadata": {
        "id": "2ITqkumG5xOk"
      },
      "execution_count": 121,
      "outputs": []
    },
    {
      "cell_type": "markdown",
      "source": [
        "---\n",
        "199."
      ],
      "metadata": {
        "id": "jlZxUJrS1H_M"
      }
    },
    {
      "cell_type": "code",
      "source": [
        "ohlc = [[\"open\", \"high\", \"low\", \"close\"],\n",
        "        [100, 110, 70, 100],\n",
        "        [200, 210, 180, 190],\n",
        "        [300, 310, 300, 310]]\n",
        "\n",
        "for row in ohlc[1:]:\n",
        "    if row[-1] > row[0]:\n",
        "        print(row[-1] - row[0])"
      ],
      "metadata": {
        "colab": {
          "base_uri": "https://localhost:8080/"
        },
        "id": "IjIEu4RQ133u",
        "outputId": "174fa889-861b-460f-b5c6-70f8b9461f00"
      },
      "execution_count": 96,
      "outputs": [
        {
          "output_type": "stream",
          "name": "stdout",
          "text": [
            "10\n"
          ]
        }
      ]
    },
    {
      "cell_type": "markdown",
      "source": [
        "---\n",
        "200."
      ],
      "metadata": {
        "id": "DTGRlm0H2Jv2"
      }
    },
    {
      "cell_type": "code",
      "source": [
        "ohlc = [[\"open\", \"high\", \"low\", \"close\"],\n",
        "        [100, 110, 70, 100],\n",
        "        [200, 210, 180, 190],\n",
        "        [300, 310, 300, 310]]\n",
        "\n",
        "sum = []\n",
        "plus = []\n",
        "for row in ohlc[1:]:\n",
        "    sum.append(row[-1] - row[0])\n",
        "print(sum[0] + sum[1] + sum[2])"
      ],
      "metadata": {
        "colab": {
          "base_uri": "https://localhost:8080/"
        },
        "id": "eN-GQKoh2OuP",
        "outputId": "22f0a640-67ce-421f-c5e1-fd6aac239365"
      },
      "execution_count": 116,
      "outputs": [
        {
          "output_type": "stream",
          "name": "stdout",
          "text": [
            "0\n"
          ]
        }
      ]
    },
    {
      "cell_type": "code",
      "source": [
        "#\n",
        "profit = 0\n",
        "for row in ohlc[1:]:\n",
        "    profit += (row[3] - row[0])"
      ],
      "metadata": {
        "id": "5Wybrs3Y59gq"
      },
      "execution_count": 122,
      "outputs": []
    }
  ]
}