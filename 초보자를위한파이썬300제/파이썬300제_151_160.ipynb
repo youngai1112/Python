{
  "nbformat": 4,
  "nbformat_minor": 0,
  "metadata": {
    "colab": {
      "name": "파이썬300제_151~160",
      "provenance": [],
      "collapsed_sections": []
    },
    "kernelspec": {
      "name": "python3",
      "display_name": "Python 3"
    },
    "language_info": {
      "name": "python"
    }
  },
  "cells": [
    {
      "cell_type": "markdown",
      "source": [
        "---\n",
        "151."
      ],
      "metadata": {
        "id": "2m_IacJheyuA"
      }
    },
    {
      "cell_type": "code",
      "source": [
        "lst = [3, -20, -3, 44]\n",
        "\n",
        "for i in lst:\n",
        "    if i < 0:\n",
        "        print(i)"
      ],
      "metadata": {
        "colab": {
          "base_uri": "https://localhost:8080/"
        },
        "id": "Ntg0r3Fae9QH",
        "outputId": "8caa15c1-5d21-4fe5-e489-7e73e572ecf5"
      },
      "execution_count": 1,
      "outputs": [
        {
          "output_type": "stream",
          "name": "stdout",
          "text": [
            "-20\n",
            "-3\n"
          ]
        }
      ]
    },
    {
      "cell_type": "markdown",
      "source": [
        "---\n",
        "152."
      ],
      "metadata": {
        "id": "SnKTXbwcfFdx"
      }
    },
    {
      "cell_type": "code",
      "source": [
        "lst = [3, 100, 23, 44]\n",
        "\n",
        "for i in lst:\n",
        "    if i % 3 == 0:\n",
        "        print(i)"
      ],
      "metadata": {
        "colab": {
          "base_uri": "https://localhost:8080/"
        },
        "id": "9hcLS9HHfHcc",
        "outputId": "795e7bd6-0acb-4753-9ebd-1299a9b3820b"
      },
      "execution_count": 2,
      "outputs": [
        {
          "output_type": "stream",
          "name": "stdout",
          "text": [
            "3\n"
          ]
        }
      ]
    },
    {
      "cell_type": "markdown",
      "source": [
        "---\n",
        "153."
      ],
      "metadata": {
        "id": "H5KccnkwfOSr"
      }
    },
    {
      "cell_type": "code",
      "source": [
        "lst = [13, 21, 12, 14, 30, 18]\n",
        "\n",
        "for i in lst:\n",
        "    if i <= 20 and i % 3 == 0:\n",
        "        print(i)"
      ],
      "metadata": {
        "colab": {
          "base_uri": "https://localhost:8080/"
        },
        "id": "eTfMEt5VfQGu",
        "outputId": "1184d010-f9ba-46f2-a4f5-0912b3371eae"
      },
      "execution_count": 3,
      "outputs": [
        {
          "output_type": "stream",
          "name": "stdout",
          "text": [
            "12\n",
            "18\n"
          ]
        }
      ]
    },
    {
      "cell_type": "markdown",
      "source": [
        "---\n",
        "154."
      ],
      "metadata": {
        "id": "E_7QoyxLfeeY"
      }
    },
    {
      "cell_type": "code",
      "source": [
        "lst = ['I', 'study', 'python', 'language', '!']\n",
        "\n",
        "for i in lst:\n",
        "    if len(i) >= 3:\n",
        "        print(i)"
      ],
      "metadata": {
        "colab": {
          "base_uri": "https://localhost:8080/"
        },
        "id": "JRVLEfBrfgKp",
        "outputId": "6f439bdb-78a7-4e58-be47-9ea495dd7e4a"
      },
      "execution_count": 4,
      "outputs": [
        {
          "output_type": "stream",
          "name": "stdout",
          "text": [
            "study\n",
            "python\n",
            "language\n"
          ]
        }
      ]
    },
    {
      "cell_type": "markdown",
      "source": [
        "---\n",
        "★ 155.\n",
        "- isupper()"
      ],
      "metadata": {
        "id": "ZaQSXcpyfu5s"
      }
    },
    {
      "cell_type": "code",
      "source": [
        "lst = ['A', 'b', 'c', 'D']\n",
        "\n",
        "for i in lst:\n",
        "    if i.isupper() == True:\n",
        "        print(i)"
      ],
      "metadata": {
        "colab": {
          "base_uri": "https://localhost:8080/"
        },
        "id": "pRcfgye_fwen",
        "outputId": "0337477d-dd3c-4e65-d504-d625292a16c5"
      },
      "execution_count": 6,
      "outputs": [
        {
          "output_type": "stream",
          "name": "stdout",
          "text": [
            "A\n",
            "D\n"
          ]
        }
      ]
    },
    {
      "cell_type": "code",
      "source": [
        "# i.isuppper() : 대문자 여부를 판별 ex. i.isupper() >> True면 대문자\n",
        "리스트 = [\"A\", \"b\", \"c\", \"D\"]\n",
        "for 변수 in 리스트:\n",
        "  if 변수.isupper():\n",
        "    print(변수)"
      ],
      "metadata": {
        "colab": {
          "base_uri": "https://localhost:8080/"
        },
        "id": "eFVCsjDSh7Qc",
        "outputId": "63bb912f-1a27-4634-933f-ae8caabcf71b"
      },
      "execution_count": 16,
      "outputs": [
        {
          "output_type": "stream",
          "name": "stdout",
          "text": [
            "A\n",
            "D\n"
          ]
        }
      ]
    },
    {
      "cell_type": "markdown",
      "source": [
        "---\n",
        "156."
      ],
      "metadata": {
        "id": "br7qifJnf7H_"
      }
    },
    {
      "cell_type": "code",
      "source": [
        "lst = ['A', 'b', 'c', 'D']\n",
        "\n",
        "for i in lst:\n",
        "    if i.islower() == True:\n",
        "        print(i)"
      ],
      "metadata": {
        "colab": {
          "base_uri": "https://localhost:8080/"
        },
        "id": "Sm_FKaJ3gCc_",
        "outputId": "98e84388-a87c-4bd8-de4f-651bd96a553b"
      },
      "execution_count": 7,
      "outputs": [
        {
          "output_type": "stream",
          "name": "stdout",
          "text": [
            "b\n",
            "c\n"
          ]
        }
      ]
    },
    {
      "cell_type": "code",
      "source": [
        "#\n",
        "리스트 = [\"A\", \"b\", \"c\", \"D\"]\n",
        "for 변수 in 리스트:\n",
        "  if not 변수.isupper():\n",
        "    print(변수)"
      ],
      "metadata": {
        "colab": {
          "base_uri": "https://localhost:8080/"
        },
        "id": "jXq-4wHqiK_R",
        "outputId": "69df34d2-9c15-4835-bb08-40a041c7d0a3"
      },
      "execution_count": 17,
      "outputs": [
        {
          "output_type": "stream",
          "name": "stdout",
          "text": [
            "b\n",
            "c\n"
          ]
        }
      ]
    },
    {
      "cell_type": "markdown",
      "source": [
        "---\n",
        "★ 157.\n",
        "- 문자열 이어붙이기\n"
      ],
      "metadata": {
        "id": "WFCiqgQRgJsZ"
      }
    },
    {
      "cell_type": "code",
      "source": [
        "lst = ['dog', 'cat', 'parrot']\n",
        "\n",
        "for i in lst:\n",
        "    print(i.capitalize())"
      ],
      "metadata": {
        "colab": {
          "base_uri": "https://localhost:8080/"
        },
        "id": "_iWuGsFfgLXP",
        "outputId": "974a2885-ffc0-4ed6-a273-c075668a645d"
      },
      "execution_count": 10,
      "outputs": [
        {
          "output_type": "stream",
          "name": "stdout",
          "text": [
            "Dog\n",
            "Cat\n",
            "Parrot\n"
          ]
        }
      ]
    },
    {
      "cell_type": "code",
      "source": [
        "#\n",
        "lst = ['dog', 'cat', 'parrot']\n",
        "\n",
        "for i in lst: \n",
        "    print(i[0].upper() + i[1:])"
      ],
      "metadata": {
        "colab": {
          "base_uri": "https://localhost:8080/"
        },
        "id": "OUvhHw5SieQ1",
        "outputId": "78f09d84-3bc4-4d70-d55e-4f690da3659d"
      },
      "execution_count": 18,
      "outputs": [
        {
          "output_type": "stream",
          "name": "stdout",
          "text": [
            "Dog\n",
            "Cat\n",
            "Parrot\n"
          ]
        }
      ]
    },
    {
      "cell_type": "markdown",
      "source": [
        "---\n",
        "158."
      ],
      "metadata": {
        "id": "XfVgwSwsgWSi"
      }
    },
    {
      "cell_type": "code",
      "source": [
        "lst = ['hello.py', 'ex01.py', 'intro.hwp']\n",
        "\n",
        "for i in lst:\n",
        "    print(i.split('.')[0])"
      ],
      "metadata": {
        "colab": {
          "base_uri": "https://localhost:8080/"
        },
        "id": "lLYzeX6Egr7M",
        "outputId": "315cc353-8eee-4e01-fbc5-087cea512f9c"
      },
      "execution_count": 11,
      "outputs": [
        {
          "output_type": "stream",
          "name": "stdout",
          "text": [
            "hello\n",
            "ex01\n",
            "intro\n"
          ]
        }
      ]
    },
    {
      "cell_type": "code",
      "source": [
        "# \n",
        "리스트 = ['hello.py', 'ex01.py', 'intro.hwp']\n",
        "for 변수 in 리스트:\n",
        "  split = 변수.split(\".\")\n",
        "  print(split[0])  "
      ],
      "metadata": {
        "colab": {
          "base_uri": "https://localhost:8080/"
        },
        "id": "AInGQSckiyJE",
        "outputId": "2239b7d3-6187-48f3-a3c7-cf9b64013618"
      },
      "execution_count": 19,
      "outputs": [
        {
          "output_type": "stream",
          "name": "stdout",
          "text": [
            "hello\n",
            "ex01\n",
            "intro\n"
          ]
        }
      ]
    },
    {
      "cell_type": "markdown",
      "source": [
        "---\n",
        "159."
      ],
      "metadata": {
        "id": "Imf4jFdbg42H"
      }
    },
    {
      "cell_type": "code",
      "source": [
        "lst = ['intra.h', 'intra.c', 'define.h', 'run.py']\n",
        "\n",
        "for i in lst:\n",
        "    if i.split('.')[1] == 'h':\n",
        "        print(i)"
      ],
      "metadata": {
        "colab": {
          "base_uri": "https://localhost:8080/"
        },
        "id": "KQXrnxRLg7A5",
        "outputId": "72a7623e-5afe-4203-93ae-8e24e73af95d"
      },
      "execution_count": 14,
      "outputs": [
        {
          "output_type": "stream",
          "name": "stdout",
          "text": [
            "intra.h\n",
            "define.h\n"
          ]
        }
      ]
    },
    {
      "cell_type": "markdown",
      "source": [
        "---\n",
        "★ 160.\n",
        "- 자주 쓰이는 구문은 변수 처리"
      ],
      "metadata": {
        "id": "Rdh9SmK0hXK0"
      }
    },
    {
      "cell_type": "code",
      "source": [
        "lst = ['intra.h', 'intra.c', 'define.h', 'run.py']\n",
        "\n",
        "for i in lst:\n",
        "    if i.split('.')[1] == 'h' or i.split('.')[1] == 'c':\n",
        "        print(i)"
      ],
      "metadata": {
        "colab": {
          "base_uri": "https://localhost:8080/"
        },
        "id": "WlUXRLIihafm",
        "outputId": "eaa89de0-10b1-4a3b-fb37-0dcdfb1ad581"
      },
      "execution_count": 15,
      "outputs": [
        {
          "output_type": "stream",
          "name": "stdout",
          "text": [
            "intra.h\n",
            "intra.c\n",
            "define.h\n"
          ]
        }
      ]
    },
    {
      "cell_type": "code",
      "source": [
        "#\n",
        "리스트 = ['intra.h', 'intra.c', 'define.h', 'run.py']\n",
        "for 변수 in 리스트:\n",
        "  split = 변수.split(\".\")\n",
        "  if (split[1] == \"h\") or (split[1] == \"c\"):\n",
        "    print(변수)"
      ],
      "metadata": {
        "colab": {
          "base_uri": "https://localhost:8080/"
        },
        "id": "OzrOskOVi9pB",
        "outputId": "634ae75d-8a4a-4363-d726-83d4ffc4c1bd"
      },
      "execution_count": 20,
      "outputs": [
        {
          "output_type": "stream",
          "name": "stdout",
          "text": [
            "intra.h\n",
            "intra.c\n",
            "define.h\n"
          ]
        }
      ]
    },
    {
      "cell_type": "code",
      "source": [
        ""
      ],
      "metadata": {
        "id": "7bxOlygzi_sR"
      },
      "execution_count": null,
      "outputs": []
    }
  ]
}