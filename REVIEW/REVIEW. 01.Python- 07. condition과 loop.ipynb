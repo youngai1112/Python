{
 "cells": [
  {
   "cell_type": "markdown",
   "id": "ceb68c52",
   "metadata": {},
   "source": [
    "# 1. 목차\n",
    "```\n",
    "- 제어문\n",
    "    - code context\n",
    "- 조건문\n",
    "- 반복문\n",
    "    - while \n",
    "        - 무한루프\n",
    "    - for\n",
    "        - zip 함수 사용하기\n",
    "        - range 함수 사용하기\n",
    "    - 중첩된 제어문\n",
    "    - 기타 제어문 사용 방법\n",
    "        - 삼항연산자\n",
    "        - 컴프리헨션\n",
    "```"
   ]
  },
  {
   "cell_type": "markdown",
   "id": "03baaa3c",
   "metadata": {},
   "source": [
    "# 2. 목차보고 개념 및 예문 떠올리기\n",
    "- 제어문 : ?\n",
    "- 조건문 : if, elif, else\n",
    "    ex. if [condition]:\n",
    "            [code context]\n",
    "        else:\n",
    "            [code context]\n",
    "- 반복문 : 조건이 성립될 때까지 무한 반복\n",
    "    - while : ~하는 동안\n",
    "    - for : ex. for 변수 in range(num)\n",
    "        - zip 함수 ==> 확인해보기\n",
    "        - range 함수 ==> 확인해보기\n",
    "    - 중첩된 제어문 : ?\n",
    "    - 기타 제어문\n",
    "        - 삼항연산자 : ?\n",
    "        - 컴프리헨션 : ?"
   ]
  },
  {
   "cell_type": "markdown",
   "id": "192600e4",
   "metadata": {},
   "source": [
    "## 2-1. 예문 작성으로 개념 확인해보기"
   ]
  },
  {
   "cell_type": "code",
   "execution_count": 6,
   "id": "5971f9aa",
   "metadata": {
    "scrolled": true
   },
   "outputs": [
    {
     "ename": "SyntaxError",
     "evalue": "invalid syntax (<ipython-input-6-bdbcf5c05921>, line 9)",
     "output_type": "error",
     "traceback": [
      "\u001b[1;36m  File \u001b[1;32m\"<ipython-input-6-bdbcf5c05921>\"\u001b[1;36m, line \u001b[1;32m9\u001b[0m\n\u001b[1;33m    elif:\u001b[0m\n\u001b[1;37m        ^\u001b[0m\n\u001b[1;31mSyntaxError\u001b[0m\u001b[1;31m:\u001b[0m invalid syntax\n"
     ]
    }
   ],
   "source": [
    "# ex. 만약 돈이 2만원 이상 있다면 \"뷔페\", 1만원 이상이면 \"구내식당\", 5000원 이상이면 \"편의점\"\n",
    "# SyntaxError: invalid syntax\n",
    "# 예상: 뷔페만 출력됨\n",
    "# else를 써야하는데, elif를 작성함\n",
    "money = 50000\n",
    "\n",
    "if money >= 20000:\n",
    "    print(\"뷔페\")\n",
    "if money >= 10000:\n",
    "    print(\"구내식당\")\n",
    "elif:\n",
    "    print(\"편의점\")"
   ]
  },
  {
   "cell_type": "code",
   "execution_count": 8,
   "id": "ef2740ef",
   "metadata": {},
   "outputs": [
    {
     "ename": "SyntaxError",
     "evalue": "invalid syntax (<ipython-input-8-79c3158fe035>, line 13)",
     "output_type": "error",
     "traceback": [
      "\u001b[1;36m  File \u001b[1;32m\"<ipython-input-8-79c3158fe035>\"\u001b[1;36m, line \u001b[1;32m13\u001b[0m\n\u001b[1;33m    else money <= 5000:\u001b[0m\n\u001b[1;37m         ^\u001b[0m\n\u001b[1;31mSyntaxError\u001b[0m\u001b[1;31m:\u001b[0m invalid syntax\n"
     ]
    }
   ],
   "source": [
    "# ex. 만약 돈이 2만원 이상 있다면 \"뷔페\", 2만원 이하이면 \"구내식당\", 5000원 이하이면 \"편의점\"\n",
    "    # 문제의 오류로 예상되어 문제 수정\n",
    "# SyntaxError: invalid syntax\n",
    "# 예상: 뷔페만 출력\n",
    "# else 뒤에는 조건이 붙지 않음\n",
    "\n",
    "money = 50000\n",
    "\n",
    "if money >= 20000:\n",
    "    print(\"뷔페\")\n",
    "if money <= 20000:\n",
    "    print(\"구내식당\")\n",
    "else money <= 5000:\n",
    "    print(\"편의점\")"
   ]
  },
  {
   "cell_type": "code",
   "execution_count": 9,
   "id": "01498403",
   "metadata": {},
   "outputs": [
    {
     "name": "stdout",
     "output_type": "stream",
     "text": [
      "뷔페\n",
      "편의점\n"
     ]
    }
   ],
   "source": [
    "# ex. 만약 돈이 2만원 이상 있다면 \"뷔페\", 2만원 이하이면 \"구내식당\", 5000원 이하이면 \"편의점\"\n",
    "# else를 쓴다면, else 다음에는 조건이 붙지 않는다.\n",
    "# 예상 : 뷔페만 출력\n",
    "# 독립된 조건문이 아니라, 2만원 이상은 뷔페, 2만원 이상이 아니라~ 니까 elif 써보기\n",
    "money = 50000\n",
    "\n",
    "if money >= 20000:\n",
    "    print(\"뷔페\")\n",
    "if money <= 20000:\n",
    "    print(\"구내식당\")\n",
    "else:\n",
    "    print(\"편의점\")"
   ]
  },
  {
   "cell_type": "code",
   "execution_count": 10,
   "id": "1114affe",
   "metadata": {},
   "outputs": [
    {
     "name": "stdout",
     "output_type": "stream",
     "text": [
      "뷔페\n"
     ]
    }
   ],
   "source": [
    "# ex. 만약 돈이 2만원 이상 있다면 \"뷔페\", 2만원 이하이면 \"구내식당\", 5000원 이하이면 \"편의점\"\n",
    "# 독립된 조건문이 아니라, 2만원 이상은 뷔페, 2만원 이상이 아니라~ 니까 elif 써보기\n",
    "money = 50000\n",
    "\n",
    "if money >= 20000:\n",
    "    print(\"뷔페\")\n",
    "elif money <= 20000:\n",
    "    print(\"구내식당\")\n",
    "else:\n",
    "    print(\"편의점\")"
   ]
  },
  {
   "cell_type": "code",
   "execution_count": 11,
   "id": "72a9644c",
   "metadata": {
    "scrolled": true
   },
   "outputs": [
    {
     "ename": "ValueError",
     "evalue": "invalid literal for int() with base 10: '퍼가요: '",
     "output_type": "error",
     "traceback": [
      "\u001b[1;31m---------------------------------------------------------------------------\u001b[0m",
      "\u001b[1;31mValueError\u001b[0m                                Traceback (most recent call last)",
      "\u001b[1;32m<ipython-input-11-6edddfb3bf8d>\u001b[0m in \u001b[0;36m<module>\u001b[1;34m\u001b[0m\n\u001b[0;32m      8\u001b[0m \u001b[1;33m\u001b[0m\u001b[0m\n\u001b[0;32m      9\u001b[0m \u001b[0mcard\u001b[0m \u001b[1;33m=\u001b[0m \u001b[1;36m50000\u001b[0m\u001b[1;33m\u001b[0m\u001b[1;33m\u001b[0m\u001b[0m\n\u001b[1;32m---> 10\u001b[1;33m \u001b[0mmoney\u001b[0m \u001b[1;33m=\u001b[0m \u001b[0minput\u001b[0m\u001b[1;33m(\u001b[0m\u001b[0mint\u001b[0m\u001b[1;33m(\u001b[0m\u001b[1;34m\"퍼가요: \"\u001b[0m\u001b[1;33m)\u001b[0m\u001b[1;33m)\u001b[0m\u001b[1;33m\u001b[0m\u001b[1;33m\u001b[0m\u001b[0m\n\u001b[0m\u001b[0;32m     11\u001b[0m \u001b[1;33m\u001b[0m\u001b[0m\n\u001b[0;32m     12\u001b[0m \u001b[1;32mif\u001b[0m \u001b[0mcard\u001b[0m \u001b[1;33m<\u001b[0m \u001b[0mmoney\u001b[0m\u001b[1;33m:\u001b[0m\u001b[1;33m\u001b[0m\u001b[1;33m\u001b[0m\u001b[0m\n",
      "\u001b[1;31mValueError\u001b[0m: invalid literal for int() with base 10: '퍼가요: '"
     ]
    }
   ],
   "source": [
    "# ex. 금액 입력, 인출금액 > 카드 잔액 -> \"잔액이 {}원 부족합니다. 다시 시도해주세요\"\n",
    "    # 인출금액 < 카드잔액 -> \"{}원이 이체되었습니다. 감사합니다.\"\n",
    "    # 끝나면 \"현재 남은 금액은 {}원 입니다\"\n",
    "    \n",
    "# 변수설정, input()사용 -> 파싱, format 사용, 카드 잔액 기본설정, case1의 경우 {인출-카드}\n",
    "# case 2의 경우, {인출금액}\n",
    "# 마지막 case의 경우, case1이라면 {카드 잔액} case2라면 {카드-인출금액}\n",
    "\n",
    "# 예상: input으로 입력창이 뜨고, 금액을 입력하면 조건에 맞게 출력\n",
    "# ValueError: invalid literal for int() with base 10: '퍼가요: '\n",
    "    # 파이썬 형변환 에러\n",
    "\n",
    "card = 50000\n",
    "money = input(int(\"퍼가요: \"))\n",
    "\n",
    "if card < money:\n",
    "    print(f\"잔액이 {money-card}원 부족합니다. 다시 시도해주세요\")\n",
    "else:\n",
    "    print(f\"{money}원이 이체되었습니다. 감사합니다.\")\n"
   ]
  },
  {
   "cell_type": "markdown",
   "id": "af3e6d6d",
   "metadata": {},
   "source": [
    "### ValueError: invalid literal for int() with base 10\n",
    "- 형변환 에러\n",
    "- 참고\n",
    "    - https://velog.io/@lemontech119/%ED%8C%8C%EC%9D%B4%EC%8D%AC-%EC%97%90%EB%9F%AC-ValueError-invalid-literal-for-int-with-base-10-173.5\n",
    "    - https://velog.io/@yeonu/%ED%8C%8C%EC%9D%B4%EC%8D%AC-%EC%97%90%EB%9F%AC-ValueError-invalid-literal-for-int-with-base-10\n",
    "- 파이썬 > 04.문자열 다루기 > Type Casting 참고"
   ]
  },
  {
   "cell_type": "code",
   "execution_count": 2,
   "id": "be406b15",
   "metadata": {},
   "outputs": [
    {
     "name": "stdout",
     "output_type": "stream",
     "text": [
      "(1, 'a')\n",
      "(2, 'b')\n",
      "(3, 'c')\n",
      "(4, 'd')\n"
     ]
    }
   ],
   "source": [
    "lst1 = [1, 2, 3, 4]\n",
    "lst2 = [\"a\", \"b\", \"c\", \"d\"]\n",
    "\n",
    "for item in zip(lst1, lst2):\n",
    "    print(item)"
   ]
  },
  {
   "cell_type": "code",
   "execution_count": 3,
   "id": "085bed5f",
   "metadata": {},
   "outputs": [
    {
     "ename": "NameError",
     "evalue": "name 'total' is not defined",
     "output_type": "error",
     "traceback": [
      "\u001b[1;31m---------------------------------------------------------------------------\u001b[0m",
      "\u001b[1;31mNameError\u001b[0m                                 Traceback (most recent call last)",
      "\u001b[1;32m<ipython-input-3-e3a080b7e3dd>\u001b[0m in \u001b[0;36m<module>\u001b[1;34m\u001b[0m\n\u001b[0;32m      2\u001b[0m \u001b[1;31m# 예상 했던 것은 1~10까지 순서대로 뽑아와서 더해주는 것\u001b[0m\u001b[1;33m\u001b[0m\u001b[1;33m\u001b[0m\u001b[1;33m\u001b[0m\u001b[0m\n\u001b[0;32m      3\u001b[0m \u001b[1;32mfor\u001b[0m \u001b[0mitem\u001b[0m \u001b[1;32min\u001b[0m \u001b[0mrange\u001b[0m\u001b[1;33m(\u001b[0m\u001b[1;36m1\u001b[0m\u001b[1;33m,\u001b[0m \u001b[1;36m11\u001b[0m\u001b[1;33m)\u001b[0m\u001b[1;33m:\u001b[0m\u001b[1;33m\u001b[0m\u001b[1;33m\u001b[0m\u001b[0m\n\u001b[1;32m----> 4\u001b[1;33m     \u001b[0mtotal\u001b[0m \u001b[1;33m+=\u001b[0m \u001b[0mitem\u001b[0m\u001b[1;33m\u001b[0m\u001b[1;33m\u001b[0m\u001b[0m\n\u001b[0m\u001b[0;32m      5\u001b[0m     \u001b[0mprint\u001b[0m\u001b[1;33m(\u001b[0m\u001b[0mtotal\u001b[0m\u001b[1;33m)\u001b[0m\u001b[1;33m\u001b[0m\u001b[1;33m\u001b[0m\u001b[0m\n",
      "\u001b[1;31mNameError\u001b[0m: name 'total' is not defined"
     ]
    }
   ],
   "source": [
    "# NameError: name 'total' is not defined\n",
    "# 예상: 1~10까지 순서대로 뽑아와서 더해주는 것\n",
    "\n",
    "for item in range(1, 11):\n",
    "    total += item\n",
    "    print(total)"
   ]
  },
  {
   "cell_type": "markdown",
   "id": "44f08c47",
   "metadata": {},
   "source": [
    "### NameError\n",
    "- 변수 선언 없이 변수를 사용하고자 할 때, 함수이름 잘못 설정, 명령어 잘못 입력\n",
    "- 참고\n",
    "    - https://blog.naver.com/PostView.naver?blogId=jkg57&logNo=222444699233&redirect=Dlog&widgetTypeCall=true&directAccess=false\n",
    "    - https://lcj8390.tistory.com/86\n",
    "- 파이썬 > 04. 문자열 다루기 > Parsing 참고"
   ]
  },
  {
   "cell_type": "markdown",
   "id": "50ca3901",
   "metadata": {},
   "source": [
    "### range함수 설명\n",
    "- 개념\n",
    "- for문과 사용\n",
    "- 참고\n",
    "    - https://wikidocs.net/3086\n",
    "    - https://withcoding.com/79\n",
    "    - https://ooyoung.tistory.com/31\n",
    "    - https://dojang.io/mod/page/view.php?id=2241\n",
    "    - https://devpouch.tistory.com/70"
   ]
  },
  {
   "cell_type": "markdown",
   "id": "459da267",
   "metadata": {},
   "source": [
    "# 3. 공부내용\n",
    "- 목차보고 개념 또는 예문 떠올려보기\n",
    "- 예문 만들어서 연습 -> 오류 부분 정리\n",
    "\n",
    "# 4. 해야할 것\n",
    "- 파이썬 > 07. : 개념 한 번 훑어보기\n",
    "    - 예문 정리 / 주석달기\n",
    "- 가장 기본적인 예문은 암기"
   ]
  },
  {
   "cell_type": "markdown",
   "id": "e4267539",
   "metadata": {},
   "source": [
    "## 4-1. 개념 확인, 예문 정리 및 주석 달기"
   ]
  },
  {
   "cell_type": "code",
   "execution_count": 2,
   "id": "0f4c4801",
   "metadata": {},
   "outputs": [
    {
     "name": "stdout",
     "output_type": "stream",
     "text": [
      "bye\n"
     ]
    }
   ],
   "source": [
    "a = 3\n",
    "b = 2\n",
    "\n",
    "if a < b: # bool 타입 데이터가 아니지만, 자동으로 설정 / 조건이 거짓 => code context 실행X  \n",
    "    print(\"hello\") \n",
    "    \n",
    "print(\"bye\")"
   ]
  },
  {
   "cell_type": "code",
   "execution_count": 3,
   "id": "f9cba86f",
   "metadata": {},
   "outputs": [
    {
     "name": "stdout",
     "output_type": "stream",
     "text": [
      "oo\n",
      "bye\n"
     ]
    }
   ],
   "source": [
    "lst1 = [1, 2]\n",
    "lst2 = []\n",
    "\n",
    "if lst1: # 조건이 참이면, code context 실행\n",
    "    print(\"oo\")\n",
    "    \n",
    "print(\"bye\")"
   ]
  },
  {
   "cell_type": "code",
   "execution_count": 4,
   "id": "8dcb90b6",
   "metadata": {},
   "outputs": [
    {
     "name": "stdout",
     "output_type": "stream",
     "text": [
      "hy\n"
     ]
    }
   ],
   "source": [
    "if lst2: # lst2는 비어있음으로 bool 타입 False\n",
    "    print(\"tt\") # code context 실행X\n",
    "    \n",
    "print(\"hy\") # code context 외 출력문은 실행O"
   ]
  },
  {
   "cell_type": "markdown",
   "id": "f4f53097",
   "metadata": {},
   "source": [
    "--------\n",
    "money = 10000 부터 예문 + 주석달기"
   ]
  },
  {
   "cell_type": "code",
   "execution_count": 2,
   "id": "b3f2b6e7",
   "metadata": {},
   "outputs": [
    {
     "name": "stdout",
     "output_type": "stream",
     "text": [
      "얼마 인출 할래??9000\n",
      "9000원이 인출되었습니다.\n",
      "현재 잔액은 1000원 입니다.\n"
     ]
    }
   ],
   "source": [
    "# 계좌에 10000원이 들어 있습니다.\n",
    "# 인출 금액을 입력 받습니다.\n",
    "# 인출 금액이 계좌에 있는 금액보다 크면 \"인출이 불가능합니다. {} 원의 잔액이 부족합니다.\" 출력\n",
    "# 인출 금액이 계좌에 있는 금액보다 작으면 \"{} 원이 인출 되었습니다.\" 출력\n",
    "# 마지막에 현재 계좌의 잔액을 출력 : \"현재 잔액은 {} 원 입니다.\" 출력\n",
    "\n",
    "money = int(input(\"얼마 인출 할래??\")) # input 입력 -> 문자열이므로 정수형으로 변경(파싱)\n",
    "account = 10000\n",
    "\n",
    "# 만약에 계좌에 있는 돈이 인출할 돈보다 작으면\n",
    "  # 인출 불가능\n",
    "if account < money: # 조건문 account<money가 참 -> code context 내용 실행, 아니라면 다음 조건 실행\n",
    "    print(f\"인출이 불가합니다. {money-account}원의 잔액이 부족합니다.\")\n",
    "else: # else 조건이 참이라면-> code context 내용 실행\n",
    "    account -= money # account = account - money\n",
    "    print(f\"{money}원이 인출되었습니다.\")\n",
    "\n",
    "print(f\"현재 잔액은 {account}원 입니다.\") # else 조건 실행시 -> code context내 account가 바깥에 있는 \n",
    "                                                # print함수에까지 영향을 줌"
   ]
  },
  {
   "cell_type": "code",
   "execution_count": 3,
   "id": "3fe199cd",
   "metadata": {},
   "outputs": [
    {
     "name": "stdout",
     "output_type": "stream",
     "text": [
      "3\n",
      "2\n",
      "1\n",
      "done\n"
     ]
    }
   ],
   "source": [
    "data = 3 # 데이터가 3일 때\n",
    "\n",
    "while data: # 3이라는 조건이 False가 될 때까지 구문의 코드르 실행한다. 즉, 3이 0이 될 때까지\n",
    "    print(data) # 3을 출력하고\n",
    "    data -= 1 # 3에서 1을 뺀다 -> 그리고 다시 while로 돌아가 2를 출력하고 1을 뺀다 \n",
    "                # 다시 while로 돌아가 1을 출력하고, 1을 뺀다 ==> data = 0\n",
    "    \n",
    "print(\"done\") # 0이 되었을 때(즉, 조건이 False이므로) 종료"
   ]
  },
  {
   "cell_type": "code",
   "execution_count": 4,
   "id": "22dd28e1",
   "metadata": {},
   "outputs": [
    {
     "data": {
      "text/plain": [
       "(False, True)"
      ]
     },
     "execution_count": 4,
     "metadata": {},
     "output_type": "execute_result"
    }
   ],
   "source": [
    "# 학생이 국어 80, 영어 90, 수학 100점\n",
    "# while문을 이용해서 총점과 평균을 출력\n",
    "    # while은 조건이 False가 될 때까지 code context 반복인데 어떻게 풀이하지?\n",
    "\n",
    "point_lst = [80, 90, 100] # 리스트 생성\n",
    "\n",
    "bool([]), bool([1, 2]) # 비어있는 리스트의 bool 값은 False, 채워져있는 리스트의 bool값은 True\n",
    "\n",
    "data = point_lst.copy() # data라는 변수(객체)는 point_lst를 복사한 것 == 백업\n",
    "                            # point_lst 자체를 변형시키지 않기위해 사용\n",
    "\n",
    "total, avg = 0, 0 # 문제에서 구하고자 하는 총점과 평균의 값은 0으로 지정해야 값이 제대로 들어간다.\n",
    "                    # while문과 print 함수에서 평균과 총점에 대해 말할 건데, \n",
    "                    # 변수를 지정하지 않고 냅다 써버리면, 오류가 나지 않을까?\n",
    "        \n",
    "while data:\n",
    "    score = data.pop() # pop 함수 설명 다시 찾아봐야겠다.\n",
    "    total += score # data에서 항목을 한 개씩 뽑아 더한다.\n",
    "    \n",
    "print(\"합계 : {}\".format(total)) # 항목들을 다 더한 값을 입력\n",
    "print(\"평균 : {}\".format(total / len(point_lst))) # 평균은 총 합 / 리스트 항목의 개수(len함수 사용)\n",
    "                                                    # 숫자로 나누면 안되는 걸까?"
   ]
  },
  {
   "cell_type": "markdown",
   "id": "87950fd6",
   "metadata": {},
   "source": [
    "### copy() 함수\n",
    "- 얕은 복사\n",
    "- 참고 \n",
    "    - https://pinkwink.kr/1234\n",
    "    - https://velog.io/@aonee/Python-%EC%9E%90%EB%A3%8C%ED%98%95%EC%9D%98-%EA%B0%92-%EC%A0%80%EC%9E%A5-%EB%B3%B5%EC%82%AC-copy\n",
    "    - http://seorenn.blogspot.com/2011/05/python-copy.html"
   ]
  },
  {
   "cell_type": "markdown",
   "id": "7128f1eb",
   "metadata": {},
   "source": [
    "### pop() 함수\n",
    "- 참고\n",
    "    - 리스트의 자료형 관련\n",
    "        - https://wikidocs.net/14#_11\n",
    "    - 파이썬 리스트 값 삭제 관련 함수들 차이점\n",
    "        - https://ponyozzang.tistory.com/587\n",
    "    - 리스트와 리스트 메소드\n",
    "        - https://velog.io/@falling_star3/%ED%8C%8C%EC%9D%B4%EC%8D%AC%EC%9D%98-%EB%A6%AC%EC%8A%A4%ED%8A%B8List%EC%99%80-%EA%B4%80%EB%A0%A8-%ED%95%A8%EC%88%98%EB%93%A4append-insert-remove-pop-extend#1-5-4-listpop---%EB%A6%AC%EC%8A%A4%ED%8A%B8-%EB%A7%A8-%EB%A7%88%EC%A7%80%EB%A7%89-%EA%B0%92-%EB%B0%98%ED%99%98-%ED%9B%84-%EC%82%AD%EC%A0%9C\n",
    "        "
   ]
  },
  {
   "cell_type": "markdown",
   "id": "433acea4",
   "metadata": {},
   "source": [
    "### len() 함수\n",
    "- 참고\n",
    "    - count()와 len()함수 차이점\n",
    "        - https://redcow77.tistory.com/357\n",
    "        - https://vision-ai.tistory.com/entry/%ED%8C%8C%EC%9D%B4%EC%8D%AC-%EB%A6%AC%EC%8A%A4%ED%8A%B8-count-%EC%99%80-len\n",
    "    - https://webisfree.com/2020-08-05/[python]-%EB%AC%B8%EC%9E%90%EC%97%B4-%EA%B8%B8%EC%9D%B4-%EA%B5%AC%ED%95%98%EA%B8%B0-len\n",
    "    - 내장함수 목록에서 len 참고\n",
    "        - https://wikidocs.net/32"
   ]
  },
  {
   "cell_type": "markdown",
   "id": "0647c782",
   "metadata": {},
   "source": [
    "### 파이썬에서 평균 구하는 방법\n",
    "- 참고\n",
    "    - https://blockdmask.tistory.com/559\n",
    "    - https://m.blog.naver.com/PostView.naver?isHttpsRedirect=true&blogId=minic3000&logNo=220974973058\n",
    "    - 산술 평균 계산 구하기\n",
    "        - https://wikidocs.net/83857"
   ]
  },
  {
   "cell_type": "code",
   "execution_count": null,
   "id": "11d2cd8d",
   "metadata": {},
   "outputs": [],
   "source": [
    "result = 1\n",
    "\n",
    "while result:\n",
    "    print(\"h\")\n",
    "    \n",
    "print(\"g\")"
   ]
  },
  {
   "cell_type": "code",
   "execution_count": 7,
   "id": "d718bf5f",
   "metadata": {},
   "outputs": [
    {
     "name": "stdout",
     "output_type": "stream",
     "text": [
      "input number:5\n",
      "input number:4\n",
      "input number:4566547\n",
      "input number:8745219746\n",
      "input number:77\n",
      "input number:8\n",
      "input number:-1\n",
      "총합: 8749786386\n"
     ]
    }
   ],
   "source": [
    "# 숫자를 계속 입력 받다가 -1이 입력되면 멈추기.\n",
    "# input을 이용해서 입력을 할 것\n",
    "# 이 입력이 -1이면 멈춘다.\n",
    "# number = input()\n",
    "# number != -1\n",
    "# 입력받은 숫자는 모두 더해주세요\n",
    "# total += number\n",
    "# 반복이 끝나면 더한 숫자를 출력\n",
    "\n",
    "number = None # number의 값이 설정되지 않아서 None을 입력\n",
    "total = 0 # 총합은 0에서부터 시작 ex. 0 + 1 = 1 이지만, + 1 = Error\n",
    "\n",
    "while number != -1: # numbet가 1이 아니라면 code context를 반복해라. False가 될때까지\n",
    "    number = input(\"input number:\") # \"input number: \"라는 입력값은 number라고 한다.\n",
    "    number = int(number) # 문자열 != 숫자, 정수형으로 변환시켜야 한다\n",
    "    \n",
    "    total += number # number에서 입력받은 값을 계속 더한다.\n",
    "    \n",
    "print(\"총합: {}\".format(total)) # while문 종료"
   ]
  },
  {
   "cell_type": "markdown",
   "id": "f64a5024",
   "metadata": {},
   "source": [
    "### None \n",
    "- 참고\n",
    "    - https://blog.naver.com/PostView.nhn?blogId=youndok&logNo=222085870181&categoryNo=39&parentCategoryNo=0&viewDate=&currentPage=1&postListTopCurrentPage=1&from=postView\n",
    "    - https://dojang.io/mod/page/view.php?id=1205\n",
    "    - https://codinglove.tistory.com/78"
   ]
  },
  {
   "cell_type": "code",
   "execution_count": 9,
   "id": "434b7616",
   "metadata": {},
   "outputs": [
    {
     "name": "stdout",
     "output_type": "stream",
     "text": [
      "apple\n",
      "----------\n",
      "1\n",
      "----------\n",
      "True\n",
      "----------\n",
      "5.66\n",
      "----------\n",
      "Bye\n"
     ]
    }
   ],
   "source": [
    "lst = [ \"apple\", 1, True, 5.66 ] # 리스트는 순회 가능한 컬렉션\n",
    "\n",
    "for item in lst: # lst 내부의 원소를 하나씩 뽑은 것 == item. item들을 다 뽑으면 종료\n",
    "    print(item)\n",
    "    print(\"----------\")\n",
    "    \n",
    "print(\"Bye\")    "
   ]
  },
  {
   "cell_type": "code",
   "execution_count": 12,
   "id": "616c3aa2",
   "metadata": {},
   "outputs": [
    {
     "name": "stdout",
     "output_type": "stream",
     "text": [
      "a\n",
      "========\n",
      "b\n",
      "========\n",
      "c\n",
      "========\n",
      "g\n",
      "========\n",
      "끝\n"
     ]
    }
   ],
   "source": [
    "set1 = {\"a\", \"a\", \"g\", \"b\", \"c\", \"g\"} # 집합 역시 순회 가능한 컬렉션\n",
    "\n",
    "for item in set1: # set1에서 item들을 하나씩 뽑는다. item을 다 뽑으면 종료\n",
    "    print(item) # item을 뽑는다.\n",
    "    print(\"========\") # \"======\" 출력하고, 아직 다 안뽑았으니 순서대로 뽑는다\n",
    "                        # 집합은 중복X => \"a\", \"b\", \"c\", \"g\"만 출력\n",
    "    \n",
    "print(\"끝\")"
   ]
  },
  {
   "cell_type": "code",
   "execution_count": 14,
   "id": "01c6771f",
   "metadata": {},
   "outputs": [
    {
     "name": "stdout",
     "output_type": "stream",
     "text": [
      "red의 순서는 1\n",
      "orange의 순서는 2\n",
      "yellow의 순서는 3\n"
     ]
    }
   ],
   "source": [
    "lst1 = [\"red\", \"orange\", \"yellow\"] # 컬렉션을 하나로 모아서 병렬로 순회하도록\n",
    "lst2 = [1, 2, 3]\n",
    "\n",
    "for color, num in zip(lst1, lst2):\n",
    "    print(f\"{color}의 순서는 {num}\")"
   ]
  },
  {
   "cell_type": "code",
   "execution_count": 15,
   "id": "970e86bc",
   "metadata": {},
   "outputs": [
    {
     "name": "stdout",
     "output_type": "stream",
     "text": [
      "1번은 빵\n",
      "2번은 밥\n",
      "3번은 과자\n"
     ]
    }
   ],
   "source": [
    "lst1 = [1, 2, 3, 4, 5] # 컬렉션의 크기가 다른 경우(항목의 개수) 크기가 작은 컬렉션이 기준\n",
    "lst2 = [\"빵\", \"밥\", \"과자\"]\n",
    "\n",
    "for num,food in zip(lst1, lst2):\n",
    "    print(f\"{num}번은 {food}\")"
   ]
  },
  {
   "cell_type": "code",
   "execution_count": 16,
   "id": "4c26349b",
   "metadata": {},
   "outputs": [
    {
     "data": {
      "text/plain": [
       "range(1, 11)"
      ]
     },
     "execution_count": 16,
     "metadata": {},
     "output_type": "execute_result"
    }
   ],
   "source": [
    "numbers = range(1, 11) # 1에서 10까지 범위를 numbers라고 한다.\n",
    "numbers"
   ]
  },
  {
   "cell_type": "code",
   "execution_count": 17,
   "id": "57f32217",
   "metadata": {},
   "outputs": [
    {
     "name": "stdout",
     "output_type": "stream",
     "text": [
      "[1, 2, 3, 4, 5, 6, 7, 8, 9, 10]\n"
     ]
    }
   ],
   "source": [
    "print(list(numbers)) # 1 ~ 10까지 범위를 리스트화 할 것 이다"
   ]
  },
  {
   "cell_type": "code",
   "execution_count": 20,
   "id": "01b322a2",
   "metadata": {},
   "outputs": [
    {
     "name": "stdout",
     "output_type": "stream",
     "text": [
      "55\n"
     ]
    }
   ],
   "source": [
    "total = 0 # 0 + 2 = 2, + 2는 성립하지 않는다.\n",
    "\n",
    "for num in range(1, 11): # 범위가 1 ~ 10 까지 인데, 여기서 하나씩 뽑아서\n",
    "    total += num # 더해줄 거야 => total이라고 부를거야\n",
    "    \n",
    "print(total)"
   ]
  },
  {
   "cell_type": "code",
   "execution_count": 21,
   "id": "f1139fef",
   "metadata": {},
   "outputs": [
    {
     "data": {
      "text/plain": [
       "[0, 1, 2, 3, 4, 5, 6, 7, 8]"
      ]
     },
     "execution_count": 21,
     "metadata": {},
     "output_type": "execute_result"
    }
   ],
   "source": [
    "list(range(9))"
   ]
  },
  {
   "cell_type": "code",
   "execution_count": 22,
   "id": "d07073e7",
   "metadata": {},
   "outputs": [
    {
     "data": {
      "text/plain": [
       "[2, 3, 4, 5, 6, 7, 8, 9, 10]"
      ]
     },
     "execution_count": 22,
     "metadata": {},
     "output_type": "execute_result"
    }
   ],
   "source": [
    "list(range(2, 11))"
   ]
  },
  {
   "cell_type": "code",
   "execution_count": 2,
   "id": "425b7f42",
   "metadata": {},
   "outputs": [
    {
     "name": "stdout",
     "output_type": "stream",
     "text": [
      "dict_keys(['국어', '수학', '영어'])\n",
      "dict_values([100, 80, 85])\n"
     ]
    }
   ],
   "source": [
    "# 학생의 국어, 영어, 수학 성적을 dict로 저장\n",
    "    # dict = {key : value} \n",
    "# 국어 : 100점\n",
    "# 수학 : 80점\n",
    "# 영어 : 85점\n",
    "    # format을 써야하지 않을까.\n",
    "# 이 학생의 각 성적을 출력\n",
    "    # for문 사용 -- 컬렉션 내 순회가 끝나면 종료되니까\n",
    "    # 해당 과목과 해당 점수를 각각 연결시키기 : zip사용\n",
    "# 출력 결과\n",
    "#   \"국어는 100점\"\n",
    "#   \"수학은 80점\"\n",
    "#   \"영어는 85점\"\n",
    "\n",
    "\n",
    "score = {             # dict 형식으로 저장\n",
    "    \"국어\" : 100,\n",
    "    \"수학\" : 80, \n",
    "    \"영어\" : 85\n",
    "}\n",
    "\n",
    "print(score.keys()) # dict의 저장된 key값만 확인\n",
    "print(score.values()) # dict의 저장된 value값만 확인"
   ]
  },
  {
   "cell_type": "code",
   "execution_count": 8,
   "id": "f9d3d993",
   "metadata": {},
   "outputs": [
    {
     "name": "stdout",
     "output_type": "stream",
     "text": [
      "국어는 {'국어': 100, '수학': 80, '영어': 85}점\n",
      "수학는 {'국어': 100, '수학': 80, '영어': 85}점\n",
      "영어는 {'국어': 100, '수학': 80, '영어': 85}점\n"
     ]
    }
   ],
   "source": [
    "# format 형식 두가지\n",
    "    # print(f\"{subject}는 {score}점\")\n",
    "    # print(\"{}는 {}점\".format(subject, score))\n",
    "    # 두 개가 같은데, 오류나 나서 확인해보니, \n",
    "    # print(f\"{subject}는 {score}점\")으로 변수 잘못 입력함\n",
    "    # 변수 확인 잘하기\n",
    "\n",
    "subjects = score.keys()\n",
    "points = score.values()\n",
    "\n",
    "for subject, point in zip(subjects, points):\n",
    "    print(f\"{subject}는 {score}점\") "
   ]
  },
  {
   "cell_type": "code",
   "execution_count": 9,
   "id": "290d46d5",
   "metadata": {},
   "outputs": [
    {
     "name": "stdout",
     "output_type": "stream",
     "text": [
      "국어는 100점\n",
      "수학는 80점\n",
      "영어는 85점\n"
     ]
    }
   ],
   "source": [
    "# dict의 key와 value 값만 추출해서 zip 형식으로 for문 작성\n",
    "subjects = score.keys()\n",
    "points = score.values()\n",
    "\n",
    "for subject, point in zip(subjects, points):\n",
    "    print(\"{}는 {}점\".format(subject, point))"
   ]
  },
  {
   "cell_type": "code",
   "execution_count": 11,
   "id": "fc49bf0c",
   "metadata": {},
   "outputs": [
    {
     "name": "stdout",
     "output_type": "stream",
     "text": [
      "국어는 100점\n",
      "수학는 80점\n",
      "영어는 85점\n"
     ]
    }
   ],
   "source": [
    "# dict의 key와 value 값만 추출해서 zip 형식으로 for문 작성\n",
    "subjects = score.keys()\n",
    "points = score.values()\n",
    "\n",
    "for subject, point in zip(subjects, points):\n",
    "    print(f\"{subject}는 {point}점\")"
   ]
  },
  {
   "cell_type": "code",
   "execution_count": 12,
   "id": "cf5efb1b",
   "metadata": {},
   "outputs": [
    {
     "data": {
      "text/plain": [
       "dict_items([('국어', 100), ('수학', 80), ('영어', 85)])"
      ]
     },
     "execution_count": 12,
     "metadata": {},
     "output_type": "execute_result"
    }
   ],
   "source": [
    "score.items() # score = {key1:value1, key2:value2}\n",
    "              # score.items() = [(key1, value1), (key2, value2)]\n",
    "              # tuple은 순서 변경X, 수정X"
   ]
  },
  {
   "cell_type": "code",
   "execution_count": 13,
   "id": "2a9aa984",
   "metadata": {
    "scrolled": false
   },
   "outputs": [
    {
     "name": "stdout",
     "output_type": "stream",
     "text": [
      "국어는 100점\n",
      "수학는 80점\n",
      "영어는 85점\n"
     ]
    }
   ],
   "source": [
    "# dict -> list \n",
    "for subject, point in score.items():\n",
    "    print(\"{}는 {}점\".format(subject, point))"
   ]
  },
  {
   "cell_type": "code",
   "execution_count": 14,
   "id": "36482ebf",
   "metadata": {},
   "outputs": [
    {
     "name": "stdout",
     "output_type": "stream",
     "text": [
      "Math Average : 85.0\n",
      "Science Average : 82.0\n"
     ]
    }
   ],
   "source": [
    "# 난이도 EASY, 각 과목의 평균 점수를 구하기\n",
    "    # 변수 정하기 : math의 합계, science의 합계\n",
    "        # 평균은 합계/len()이므로 합계를 변수로 정한다.\n",
    "scores = [{\"math\":80, \"science\":96}, {\"math\":90, \"science\":68}]\n",
    "\n",
    "math_sum, science_sum = 0, 0 # 합계 변수 0으로 설정\n",
    "\n",
    "for score in scores:\n",
    "    math_sum += score['math'] # math_sum은 score라는 list에 있는\n",
    "                                # \"math\"라는 key값의 value를 추출\n",
    "                                # value값이 여러개니까 +=를 사용\n",
    "    science_sum += score['science'] # science_sum은 score라는 list에 있는\n",
    "                                # \"science\"라는 key값의 value를 추출\n",
    "                                # value값이 여러개니까 +=를 사용\n",
    "    \n",
    "# 평균은 총합을 scores의 항목의 개수로 나누어 구하기    \n",
    "print(\"Math Average : {}\".format( math_sum / len(scores) ))\n",
    "print(\"Science Average : {}\".format(science_sum / len(scores) ))    "
   ]
  },
  {
   "cell_type": "code",
   "execution_count": 1,
   "id": "9b112ff7",
   "metadata": {},
   "outputs": [
    {
     "name": "stdout",
     "output_type": "stream",
     "text": [
      "몇 명의 점수를 입력 받으시겠습니까? 5\n",
      "Math Score: 80\n",
      "Science Score: 90\n",
      "Math Score: 76\n",
      "Science Score: 82\n",
      "Math Score: 55\n",
      "Science Score: 68\n",
      "Math Score: 91\n",
      "Science Score: 89\n",
      "Math Score: 63\n",
      "Science Score: 89\n",
      "Math Average: 73.0\n",
      "Science Average: 83.6\n"
     ]
    }
   ],
   "source": [
    "# 난이도 HARD\n",
    "# 몇 명의 점수를 입력 받으시겠습니까? : 3\n",
    "# math : 80\n",
    "# science : 90\n",
    "# math : 80\n",
    "# science : 90\n",
    "# math : 80\n",
    "# science : 90\n",
    "    # [{key1:value1}, {key2:value2}, {key3:value3}] 형식으로 나와야\n",
    "    # dict.keys(), dict.values(), dict.items() 사용해야 할 것 같다.\n",
    "    # 과목은 key값으로 추출, 점수는 value로 추출\n",
    "    # 하나의 key에 여러개의 value\n",
    "        \n",
    "# 점수 목록 : [ { math : 80, science : 90  },{ math : 80, science : 90  },{ math : 80, science : 90  }]\n",
    "# math의 평균 : ???점\n",
    "    # math 점수의 합을 구하고 len()로 나누기\n",
    "# science의 평균 : ???점  \n",
    "    # science 점수의 합을 구하고 len()로 나누기\n",
    "\n",
    "count = int(input(\"몇 명의 점수를 입력 받으시겠습니까? \"))\n",
    "    # 데이터를 입력받음 -> 문자열 -> int형으로 변환해야 연산 가능\n",
    "scores = [] # scores 목록은 for문을 돌려 채워진다. \n",
    "                # scores를 활용해야 하기 때문에, 변수로 미리 설정\n",
    "\n",
    "for i in range(count): # 입력받은 숫자 범위(인원수) 내에서 반복한다.\n",
    "    math_score = int(input(\"Math Score: \")) # 입력받은 숫자(점수)만큼 math_score 입력\n",
    "    science_score = int(input(\"Science Score: \")) # 입력받은 숫자(점수)만큼 science_score 입력\n",
    "    \n",
    "    score = {   # 입력받은 math_score와 science_score를 dict 형식으로 만들기\n",
    "        \"math\": math_score, # \"math\"는 입력받은 숫자(점수)\n",
    "        \"science\": science_score # \"science\"는 입력받은 숫자(점수)\n",
    "    }\n",
    "    \n",
    "    scores.append(score) # 비어있는 리스트인 scores 객체에 dict 객체인 score를 추가한다.\n",
    "                            # 입력받은 인원 수대로 입력. 만약 2명이라면, 1명의 점수입력(dict형식)이 끝나고\n",
    "                            # append함수로 scores 리스트에 저장\n",
    "                            # for문으로 돌아가 다른 1명의 점수(dict)형식을 입력해야 for문이 끝이 난다.\n",
    "                            # 조건에 맞게 데이터를 재구성해서 다룰 수 있게 만들어 둠\n",
    "math_sum, science_sum = 0, 0 # 입력받은 학생 수대로, 과목별 점수를 각 dict형식으로 저장했고\n",
    "                                # 여러개의 dict 형식 컬렉션을 리스트로 묶었다.\n",
    "                                # 과목별 총합에 대해 궁금하니, 이를 변수로 설정\n",
    "for score in scores: # 구하고자 하는 것은 과목별 평균 (총점을 len로 나누어야 함)\n",
    "                        # 나열된 정보들은 인원 수대로 입력한 과목별 점수\n",
    "                        # 단순하게 몇 명이 아니라, 수 백명의 입력값을 받았다면,\n",
    "                            # 일일히 더하는 것이 아니라, 정해진 인원수에서 한 개씩 골라\n",
    "                            # 더해주어야 한다. 반복적으로 연산이 필요할 때 사용해야\n",
    "    math_sum += score[\"math\"] # list 형식의 scores 객체에서, dict형식으로 받은 수학과 과학 점수가 있다.\n",
    "                                # dict에서 수학의 점수만 빼와서, 인원수 만큼 반복해서 더한다. \n",
    "    science_sum += score[\"science\"] # list 형식의 scores 객체에서, dict형식으로 받은 수학과 과학 점수가 있다.\n",
    "                                        # dict에서 과학의 점수만 빼와서, 인원수 만큼 반복해서 더한다.\n",
    "                                        # 여기까지 가공된 데이터를 원하는 조건에 맞추어 처리함\n",
    "            \n",
    "print('Math Average: {}'.format( math_sum / len(scores) )) # 일종의 시각화\n",
    "                                                            # 조건에 맞추어 데이터를 가공하고, 처리까지\n",
    "                                                            # 이제 원하는 형식으로 보여주기\n",
    "                                                            # 총합을 dict의 개수(인원수)로 나누면 평균\n",
    "print('Science Average: {}'.format( science_sum / len(scores) )) # 총합을 dict의 개수(인원수)로 나누기"
   ]
  },
  {
   "cell_type": "code",
   "execution_count": 2,
   "id": "a83c0db1",
   "metadata": {},
   "outputs": [
    {
     "name": "stdout",
     "output_type": "stream",
     "text": [
      "1 a\n",
      "1 b\n",
      "1 c\n",
      "2 a\n",
      "2 b\n",
      "2 c\n",
      "3 a\n",
      "3 b\n",
      "3 c\n"
     ]
    }
   ],
   "source": [
    "lst1 = [1, 2, 3]\n",
    "lst2 = [\"a\", \"b\", \"c\"]\n",
    "\n",
    "for item1 in lst1: # for문 안에 for문이 중첩된 케이스\n",
    "    for item2 in lst2: \n",
    "        print(item1, item2)\n",
    "# lst1의 1 -> lst2의 \"a\" -> 1, \"a\" 출력 => 데이터 일부만 출력 되었으니 다시 처음 for문으로 \n",
    "# lst1의 2 -> lst2의 \"b\" -> 2, \"b\" 출력 => 데이터 일부만 출력, 다시 처음 for문으로\n",
    "# lst1의 3 -> lst2의 \"c\" -> 3, \"c\" 출력 => for문 종료\n",
    "# 조금만 더 생각해보기. \n",
    "    # lst1 안에서 for문이 돌아가고 있으니, lst1의 첫번째 데이터와 lst2의 원소들이 하나씩 입력 받으면서\n",
    "        # 출력되어야 한다. \n",
    "        # zip함수와 개념이 혼동된 것 같다. zip은 병렬로 묶는 것이고, 지금하고 있는 것은 for문의 중첩이다."
   ]
  },
  {
   "cell_type": "code",
   "execution_count": 3,
   "id": "3c5e1572",
   "metadata": {},
   "outputs": [
    {
     "name": "stdout",
     "output_type": "stream",
     "text": [
      "1 a\n",
      "1 b\n",
      "1 c\n",
      "2 a\n",
      "2 b\n",
      "2 c\n",
      "3 a\n",
      "3 b\n",
      "3 c\n"
     ]
    }
   ],
   "source": [
    "lst1 = [1, 2, 3]\n",
    "lst2 = [\"a\", \"b\", \"c\"]\n",
    "\n",
    "for item1 in lst1: # for문 안에 for문이 중첩된 케이스\n",
    "    for item2 in lst2: \n",
    "        print(item1, item2)\n",
    "# lst1에서 1이 추출 -> lst2에서 \"a\"추출 -> 1 a 출력 => lst2 순회해야 함\n",
    "    # 맨 위에 있는 for문에 속한 두번째 for문이 전부 순회해야 lst1의 다음 원소로 넘어감. \n",
    "# lst1에서 2 추출 -> lst2에서 \"a\"추출 -> 2 a 출력 => lst2 순회해야 함\n",
    "    # 두 번째 for문이 전부 순회해야 lst1의 다음 원소로 넘어감\n",
    "# lst1에서 3 추출 -> lst2에서 \"a\"추출 -> 3 a 출력 => lst2 순회해야 함\n",
    "    # 두 번째 for문이 전부 순회해야 for문 종료\n",
    "    \n",
    "# 구슬 상자 안에, 또 다른 구슬 상자가 있다는 생각으로 접근했으나, 이 방법은 zip에 해당하는 것 같다.\n",
    "# 상자 안에 있는 뽑기를 하나 꺼내서, 그 뽑기 안에 또 다른 뽑기를 정해진 순서대로 연다는 \n",
    "    # 접근이 더 맞는 방법같다. "
   ]
  },
  {
   "cell_type": "markdown",
   "id": "293e0ed3",
   "metadata": {},
   "source": [
    "### items()\n",
    "- dict의 key와 value의 쌍 얻기\n",
    "- 참고\n",
    "    - https://devpouch.tistory.com/75\n",
    "    - dict 관련 함수\n",
    "        - https://m.blog.naver.com/PostView.naver?isHttpsRedirect=true&blogId=sw4r&logNo=221504133335\n",
    "        - https://withcoding.com/78\n",
    "        "
   ]
  },
  {
   "cell_type": "markdown",
   "id": "cf8cc0f3",
   "metadata": {},
   "source": [
    "### dict형식\n",
    "- 참고\n",
    "    - https://rekt77.tistory.com/88\n",
    "    - https://ledgku.tistory.com/49\n",
    "    - https://blockdmask.tistory.com/450\n",
    "    - http://www.flowdas.com/thinkpython/11-dictionaries/\n",
    "    - https://www.codingfactory.net/10084"
   ]
  },
  {
   "cell_type": "markdown",
   "id": "ffcd62a4",
   "metadata": {},
   "source": [
    "### 변수설정\n",
    "- 참고\n",
    "    - https://bigdaheta.tistory.com/4\n",
    "    - https://gwansimm.tistory.com/30\n",
    "    - https://magpie-and-tiger.tistory.com/58\n",
    "    - https://myinfrabox.tistory.com/172"
   ]
  },
  {
   "cell_type": "code",
   "execution_count": 2,
   "id": "05207c3b",
   "metadata": {},
   "outputs": [
    {
     "ename": "SyntaxError",
     "evalue": "invalid syntax (<ipython-input-2-3ccbc95d125c>, line 2)",
     "output_type": "error",
     "traceback": [
      "\u001b[1;36m  File \u001b[1;32m\"<ipython-input-2-3ccbc95d125c>\"\u001b[1;36m, line \u001b[1;32m2\u001b[0m\n\u001b[1;33m    for dan inrange(2, 10):\u001b[0m\n\u001b[1;37m            ^\u001b[0m\n\u001b[1;31mSyntaxError\u001b[0m\u001b[1;31m:\u001b[0m invalid syntax\n"
     ]
    }
   ],
   "source": [
    "# 구구단\n",
    "    # 띄어쓰기 주의\n",
    "for dan inrange(2, 10):\n",
    "    print(\"=====\", dan, \"단 =====\")\n",
    "    \n",
    "    for time in range(1, 10):\n",
    "        print(f\"{dan} x {time} = {dan*time}\")\n",
    "        \n",
    "    print()"
   ]
  },
  {
   "cell_type": "code",
   "execution_count": 3,
   "id": "c1c5c5ab",
   "metadata": {},
   "outputs": [
    {
     "name": "stdout",
     "output_type": "stream",
     "text": [
      "===== 2 단 =====\n",
      "2 x 1 = 2\n",
      "2 x 2 = 4\n",
      "2 x 3 = 6\n",
      "2 x 4 = 8\n",
      "2 x 5 = 10\n",
      "2 x 6 = 12\n",
      "2 x 7 = 14\n",
      "2 x 8 = 16\n",
      "2 x 9 = 18\n",
      "\n",
      "===== 3 단 =====\n",
      "3 x 1 = 3\n",
      "3 x 2 = 6\n",
      "3 x 3 = 9\n",
      "3 x 4 = 12\n",
      "3 x 5 = 15\n",
      "3 x 6 = 18\n",
      "3 x 7 = 21\n",
      "3 x 8 = 24\n",
      "3 x 9 = 27\n",
      "\n",
      "===== 4 단 =====\n",
      "4 x 1 = 4\n",
      "4 x 2 = 8\n",
      "4 x 3 = 12\n",
      "4 x 4 = 16\n",
      "4 x 5 = 20\n",
      "4 x 6 = 24\n",
      "4 x 7 = 28\n",
      "4 x 8 = 32\n",
      "4 x 9 = 36\n",
      "\n",
      "===== 5 단 =====\n",
      "5 x 1 = 5\n",
      "5 x 2 = 10\n",
      "5 x 3 = 15\n",
      "5 x 4 = 20\n",
      "5 x 5 = 25\n",
      "5 x 6 = 30\n",
      "5 x 7 = 35\n",
      "5 x 8 = 40\n",
      "5 x 9 = 45\n",
      "\n",
      "===== 6 단 =====\n",
      "6 x 1 = 6\n",
      "6 x 2 = 12\n",
      "6 x 3 = 18\n",
      "6 x 4 = 24\n",
      "6 x 5 = 30\n",
      "6 x 6 = 36\n",
      "6 x 7 = 42\n",
      "6 x 8 = 48\n",
      "6 x 9 = 54\n",
      "\n",
      "===== 7 단 =====\n",
      "7 x 1 = 7\n",
      "7 x 2 = 14\n",
      "7 x 3 = 21\n",
      "7 x 4 = 28\n",
      "7 x 5 = 35\n",
      "7 x 6 = 42\n",
      "7 x 7 = 49\n",
      "7 x 8 = 56\n",
      "7 x 9 = 63\n",
      "\n",
      "===== 8 단 =====\n",
      "8 x 1 = 8\n",
      "8 x 2 = 16\n",
      "8 x 3 = 24\n",
      "8 x 4 = 32\n",
      "8 x 5 = 40\n",
      "8 x 6 = 48\n",
      "8 x 7 = 56\n",
      "8 x 8 = 64\n",
      "8 x 9 = 72\n",
      "\n",
      "===== 9 단 =====\n",
      "9 x 1 = 9\n",
      "9 x 2 = 18\n",
      "9 x 3 = 27\n",
      "9 x 4 = 36\n",
      "9 x 5 = 45\n",
      "9 x 6 = 54\n",
      "9 x 7 = 63\n",
      "9 x 8 = 72\n",
      "9 x 9 = 81\n",
      "\n"
     ]
    }
   ],
   "source": [
    "# 구구단\n",
    "for dan in range(2, 10): # =====2단=====이 출력되면, 중첩된 제어문(2x1=2 ~ 2x9=18)을 실행 \n",
    "                            # -> =====3단===== 중첩된 제어문(3x1=3 ~ 3x9=27)을 실행 => 9단까지 반복\n",
    "    print(\"=====\", dan, \"단 =====\")\n",
    "    \n",
    "    for time in range(1, 10):\n",
    "        print(f\"{dan} x {time} = {dan*time}\")\n",
    "        \n",
    "    print() # 중첩되어 있는 제어문이 종료될 때, 한 줄을 비워두고 첫 번째 제어문으로 돌아간다."
   ]
  },
  {
   "cell_type": "code",
   "execution_count": 4,
   "id": "0580e26e",
   "metadata": {},
   "outputs": [
    {
     "name": "stdout",
     "output_type": "stream",
     "text": [
      "===== 2 단 =====\n",
      "2 x 1 = 2\n",
      "2 x 2 = 4\n",
      "2 x 3 = 6\n",
      "2 x 4 = 8\n",
      "2 x 5 = 10\n",
      "2 x 6 = 12\n",
      "2 x 7 = 14\n",
      "2 x 8 = 16\n",
      "2 x 9 = 18\n",
      "===== 3 단 =====\n",
      "3 x 1 = 3\n",
      "3 x 2 = 6\n",
      "3 x 3 = 9\n",
      "3 x 4 = 12\n",
      "3 x 5 = 15\n",
      "3 x 6 = 18\n",
      "3 x 7 = 21\n",
      "3 x 8 = 24\n",
      "3 x 9 = 27\n",
      "===== 4 단 =====\n",
      "4 x 1 = 4\n",
      "4 x 2 = 8\n",
      "4 x 3 = 12\n",
      "4 x 4 = 16\n",
      "4 x 5 = 20\n",
      "4 x 6 = 24\n",
      "4 x 7 = 28\n",
      "4 x 8 = 32\n",
      "4 x 9 = 36\n",
      "===== 5 단 =====\n",
      "5 x 1 = 5\n",
      "5 x 2 = 10\n",
      "5 x 3 = 15\n",
      "5 x 4 = 20\n",
      "5 x 5 = 25\n",
      "5 x 6 = 30\n",
      "5 x 7 = 35\n",
      "5 x 8 = 40\n",
      "5 x 9 = 45\n",
      "===== 6 단 =====\n",
      "6 x 1 = 6\n",
      "6 x 2 = 12\n",
      "6 x 3 = 18\n",
      "6 x 4 = 24\n",
      "6 x 5 = 30\n",
      "6 x 6 = 36\n",
      "6 x 7 = 42\n",
      "6 x 8 = 48\n",
      "6 x 9 = 54\n",
      "===== 7 단 =====\n",
      "7 x 1 = 7\n",
      "7 x 2 = 14\n",
      "7 x 3 = 21\n",
      "7 x 4 = 28\n",
      "7 x 5 = 35\n",
      "7 x 6 = 42\n",
      "7 x 7 = 49\n",
      "7 x 8 = 56\n",
      "7 x 9 = 63\n",
      "===== 8 단 =====\n",
      "8 x 1 = 8\n",
      "8 x 2 = 16\n",
      "8 x 3 = 24\n",
      "8 x 4 = 32\n",
      "8 x 5 = 40\n",
      "8 x 6 = 48\n",
      "8 x 7 = 56\n",
      "8 x 8 = 64\n",
      "8 x 9 = 72\n",
      "===== 9 단 =====\n",
      "9 x 1 = 9\n",
      "9 x 2 = 18\n",
      "9 x 3 = 27\n",
      "9 x 4 = 36\n",
      "9 x 5 = 45\n",
      "9 x 6 = 54\n",
      "9 x 7 = 63\n",
      "9 x 8 = 72\n",
      "9 x 9 = 81\n"
     ]
    }
   ],
   "source": [
    "# 구구단\n",
    "for dan in range(2, 10): # =====2단=====이 출력되면, 중첩된 제어문(2x1=2 ~ 2x9=18)을 실행 \n",
    "                            # -> =====3단===== 중첩된 제어문(3x1=3 ~ 3x9=27)을 실행 => 9단까지 반복\n",
    "    print(\"=====\", dan, \"단 =====\")\n",
    "    \n",
    "    for time in range(1, 10):\n",
    "        print(f\"{dan} x {time} = {dan*time}\")\n",
    "        \n",
    "    # print()가 없다면? "
   ]
  },
  {
   "cell_type": "code",
   "execution_count": 5,
   "id": "d8c8992a",
   "metadata": {},
   "outputs": [
    {
     "name": "stdout",
     "output_type": "stream",
     "text": [
      "1 -> 홀수\n",
      "2 -> 짝수\n",
      "3 -> 홀수\n",
      "4 -> 짝수\n",
      "5 -> 홀수\n",
      "6 -> 짝수\n",
      "7 -> 홀수\n",
      "8 -> 짝수\n",
      "9 -> 홀수\n",
      "10 -> 짝수\n",
      "11 -> 홀수\n",
      "12 -> 짝수\n",
      "13 -> 홀수\n",
      "14 -> 짝수\n",
      "15 -> 홀수\n",
      "16 -> 짝수\n",
      "17 -> 홀수\n",
      "18 -> 짝수\n",
      "19 -> 홀수\n",
      "20 -> 짝수\n",
      "21 -> 홀수\n",
      "22 -> 짝수\n",
      "23 -> 홀수\n",
      "24 -> 짝수\n",
      "25 -> 홀수\n",
      "26 -> 짝수\n",
      "27 -> 홀수\n",
      "28 -> 짝수\n",
      "29 -> 홀수\n",
      "30 -> 짝수\n",
      "31 -> 홀수\n",
      "32 -> 짝수\n",
      "33 -> 홀수\n",
      "34 -> 짝수\n",
      "35 -> 홀수\n",
      "36 -> 짝수\n",
      "37 -> 홀수\n",
      "38 -> 짝수\n",
      "39 -> 홀수\n",
      "40 -> 짝수\n",
      "41 -> 홀수\n",
      "42 -> 짝수\n",
      "43 -> 홀수\n",
      "44 -> 짝수\n",
      "45 -> 홀수\n",
      "46 -> 짝수\n",
      "47 -> 홀수\n",
      "48 -> 짝수\n",
      "49 -> 홀수\n",
      "50 -> 짝수\n"
     ]
    }
   ],
   "source": [
    "# 홀짝 검출기\n",
    "numbers = range(1, 51) # 1 ~ 50까지의 범위를 numbers라는 변수로 지정한다.\n",
    "\n",
    "for num in numbers: # 1 ~ 50까지의 범위에서 변수 num을 뽑는다.\n",
    "    \n",
    "    # 어떤 정수(num)을 2로 나눴을 때 나머지가 1이면 홀수\n",
    "    if num % 2 == 1 : # num을 2로 나눈 나머지가 1이면 \"홀수\" 출력\n",
    "        print(f\"{num} -> 홀수\")\n",
    "    else: # num을 2로 나눈 나머지가 1이 아니면, 즉 조건이 a가 아니면 b이기 때문에 else 사용\n",
    "        print(f\"{num} -> 짝수\")"
   ]
  },
  {
   "cell_type": "code",
   "execution_count": 15,
   "id": "ebb11fa5",
   "metadata": {},
   "outputs": [
    {
     "name": "stdout",
     "output_type": "stream",
     "text": [
      "====2 단====\n",
      "2 x 1 = 2\n",
      "2 x 2 = 4\n",
      "2 x 3 = 6\n",
      "2 x 4 = 8\n",
      "2 x 5 = 10\n",
      "2 x 6 = 12\n",
      "2 x 7 = 14\n",
      "2 x 8 = 16\n",
      "2 x 9 = 18\n",
      "====3 단====\n",
      "3 곱하기 1은(는) 3\n",
      "3 곱하기 2은(는) 6\n",
      "3 곱하기 3은(는) 9\n",
      "3 곱하기 4은(는) 12\n",
      "3 곱하기 5은(는) 15\n",
      "3 곱하기 6은(는) 18\n",
      "3 곱하기 7은(는) 21\n",
      "3 곱하기 8은(는) 24\n",
      "3 곱하기 9은(는) 27\n",
      "====4 단====\n",
      "4 x 1 = 4\n",
      "4 x 2 = 8\n",
      "4 x 3 = 12\n",
      "4 x 4 = 16\n",
      "4 x 5 = 20\n",
      "4 x 6 = 24\n",
      "4 x 7 = 28\n",
      "4 x 8 = 32\n",
      "4 x 9 = 36\n",
      "====5 단====\n",
      "5 곱하기 1은(는) 5\n",
      "5 곱하기 2은(는) 10\n",
      "5 곱하기 3은(는) 15\n",
      "5 곱하기 4은(는) 20\n",
      "5 곱하기 5은(는) 25\n",
      "5 곱하기 6은(는) 30\n",
      "5 곱하기 7은(는) 35\n",
      "5 곱하기 8은(는) 40\n",
      "5 곱하기 9은(는) 45\n",
      "====6 단====\n",
      "6 x 1 = 6\n",
      "6 x 2 = 12\n",
      "6 x 3 = 18\n",
      "6 x 4 = 24\n",
      "6 x 5 = 30\n",
      "6 x 6 = 36\n",
      "6 x 7 = 42\n",
      "6 x 8 = 48\n",
      "6 x 9 = 54\n",
      "====7 단====\n",
      "7 곱하기 1은(는) 7\n",
      "7 곱하기 2은(는) 14\n",
      "7 곱하기 3은(는) 21\n",
      "7 곱하기 4은(는) 28\n",
      "7 곱하기 5은(는) 35\n",
      "7 곱하기 6은(는) 42\n",
      "7 곱하기 7은(는) 49\n",
      "7 곱하기 8은(는) 56\n",
      "7 곱하기 9은(는) 63\n",
      "====8 단====\n",
      "8 x 1 = 8\n",
      "8 x 2 = 16\n",
      "8 x 3 = 24\n",
      "8 x 4 = 32\n",
      "8 x 5 = 40\n",
      "8 x 6 = 48\n",
      "8 x 7 = 56\n",
      "8 x 8 = 64\n",
      "8 x 9 = 72\n",
      "====9 단====\n",
      "9 곱하기 1은(는) 9\n",
      "9 곱하기 2은(는) 18\n",
      "9 곱하기 3은(는) 27\n",
      "9 곱하기 4은(는) 36\n",
      "9 곱하기 5은(는) 45\n",
      "9 곱하기 6은(는) 54\n",
      "9 곱하기 7은(는) 63\n",
      "9 곱하기 8은(는) 72\n",
      "9 곱하기 9은(는) 81\n"
     ]
    }
   ],
   "source": [
    "# 구구단 문제 1\n",
    "# 구구단 ver.2 난이도 ★★☆☆☆\n",
    "# 홀수 단은 ~~ 곱하기 ~~ 는 ~~\n",
    "# 짝수 단은 ~~ x ~~ = ~~\n",
    "# 3단이면 3 곱하기 1는 3\n",
    "# 4단이면 4 x 1 = 4\n",
    "\n",
    "# 의미가 있는 코드는 변수로 만들어 놓고 사용하자!\n",
    "dans = range(2, 10) # 2 ~ 9까지의 범위를 dans라는 변수에 집어넣는다.\n",
    "times = range(1, 10) # 1 ~9까지의 범위를 times라는 변수에 집어넣는다.\n",
    "\n",
    "for dan in dans: # dans의 범위 내의 숫자를 하나씩 순서대로 뽑을 건데, dan이라고 할 것이다. \n",
    "    print(f\"===={dan} 단====\") # ====2 단==== 출력, 중첩된 for문이 끝나면 3으로 넘어감\n",
    "    \n",
    "    for time in times: # times의 범위 내의 숫자를 하나씩 순서대로 뽑을 건데, time이라고 할 것이다.\n",
    "        if dan % 2 == 0: # dan이라는 변수를 2로 나눈 나머지가 0이라면, 즉 짝수라면\n",
    "            print(f\"{dan} x {time} = { dan*time }\") # 2x1 = 2 ~ 2x9 = 18 출력\n",
    "                                                        # 이 조건을 충족했다면 아래 조건은 pass하고\n",
    "                                                        # 위의 조건으로 넘어감\n",
    "        else: # dan이라는 변수를 2로 나눈 나머지가 0이 아니라면, 즉 홀수라면\n",
    "            print(f\"{dan} 곱하기 {time}은(는) { dan*time }\") # 3 곱하기 1은 3 ~ 3 곱하기 9는 27 출력\n",
    "                                                             # 위의 조건으로 넘어감\n",
    "                                                             # 위 조건의 범위가 끝날 때까지 \n",
    "                                                                # 중첩된 제어문을 반복한다."
   ]
  },
  {
   "cell_type": "code",
   "execution_count": 21,
   "id": "9faf4fda",
   "metadata": {},
   "outputs": [
    {
     "name": "stdout",
     "output_type": "stream",
     "text": [
      "2 x 1 = 2\t3 x 1 = 3\t4 x 1 = 4\t5 x 1 = 5\t6 x 1 = 6\t7 x 1 = 7\t8 x 1 = 8\t9 x 1 = 9\t\n",
      "2 x 2 = 4\t3 x 2 = 6\t4 x 2 = 8\t5 x 2 = 10\t6 x 2 = 12\t7 x 2 = 14\t8 x 2 = 16\t9 x 2 = 18\t\n",
      "2 x 3 = 6\t3 x 3 = 9\t4 x 3 = 12\t5 x 3 = 15\t6 x 3 = 18\t7 x 3 = 21\t8 x 3 = 24\t9 x 3 = 27\t\n",
      "2 x 4 = 8\t3 x 4 = 12\t4 x 4 = 16\t5 x 4 = 20\t6 x 4 = 24\t7 x 4 = 28\t8 x 4 = 32\t9 x 4 = 36\t\n",
      "2 x 5 = 10\t3 x 5 = 15\t4 x 5 = 20\t5 x 5 = 25\t6 x 5 = 30\t7 x 5 = 35\t8 x 5 = 40\t9 x 5 = 45\t\n",
      "2 x 6 = 12\t3 x 6 = 18\t4 x 6 = 24\t5 x 6 = 30\t6 x 6 = 36\t7 x 6 = 42\t8 x 6 = 48\t9 x 6 = 54\t\n",
      "2 x 7 = 14\t3 x 7 = 21\t4 x 7 = 28\t5 x 7 = 35\t6 x 7 = 42\t7 x 7 = 49\t8 x 7 = 56\t9 x 7 = 63\t\n",
      "2 x 8 = 16\t3 x 8 = 24\t4 x 8 = 32\t5 x 8 = 40\t6 x 8 = 48\t7 x 8 = 56\t8 x 8 = 64\t9 x 8 = 72\t\n",
      "2 x 9 = 18\t3 x 9 = 27\t4 x 9 = 36\t5 x 9 = 45\t6 x 9 = 54\t7 x 9 = 63\t8 x 9 = 72\t9 x 9 = 81\t\n"
     ]
    }
   ],
   "source": [
    "# 구구단 문제 2\n",
    "# 가로 구구단 출력하기\n",
    "# 2*1=1 3*1=3 4*1=4 .....\n",
    "# 2*2=4 3*2=6 4*2=8 .....\n",
    "\n",
    "dans = range(2, 10) # 2 ~ 9까지의 범위를 dans라는 변수에 집어넣는다.\n",
    "times = range(1, 10) # 1 ~ 9까지의 범위를 times라는 변수에 집어넣는다.\n",
    "\n",
    "for time in times: # 코드는 위에서 아래로 진행된다. \n",
    "                        # 우선은 가로 진행방향에서 변하고 있는 것, 변하지 않는 것 살피기\n",
    "                        # 가로구구단에서 dan은 바뀌지만, time은 바뀌지 않는다.\n",
    "                        # 중첩된 제어문을 사용하되, time을 기준으로 시작하기\n",
    "    for dan in dans: # dan은 위에서 아래방향으로 진행된다.\n",
    "        print(f\"{dan} x {time} = {dan * time}\", end=\"\\t\") # 2x1=2 ~ 9x1=9를 출력하되, dan이 끝날때마다\n",
    "                                                            # 옆으로 이동한다\n",
    "    print() # 첫 번째 for문이 끝날때, 줄을 바꿀 것이다. "
   ]
  },
  {
   "cell_type": "code",
   "execution_count": 23,
   "id": "1d095ab6",
   "metadata": {},
   "outputs": [
    {
     "ename": "NameError",
     "evalue": "name 'rang' is not defined",
     "output_type": "error",
     "traceback": [
      "\u001b[1;31m---------------------------------------------------------------------------\u001b[0m",
      "\u001b[1;31mNameError\u001b[0m                                 Traceback (most recent call last)",
      "\u001b[1;32m<ipython-input-23-909af4ada1b6>\u001b[0m in \u001b[0;36m<module>\u001b[1;34m\u001b[0m\n\u001b[0;32m     12\u001b[0m     \u001b[1;31m# end=\"\\t\"이용해서 옆으로 이동\u001b[0m\u001b[1;33m\u001b[0m\u001b[1;33m\u001b[0m\u001b[1;33m\u001b[0m\u001b[0m\n\u001b[0;32m     13\u001b[0m \u001b[1;33m\u001b[0m\u001b[0m\n\u001b[1;32m---> 14\u001b[1;33m \u001b[0mdans\u001b[0m \u001b[1;33m=\u001b[0m \u001b[0mrang\u001b[0m\u001b[1;33m(\u001b[0m\u001b[1;36m2\u001b[0m\u001b[1;33m,\u001b[0m \u001b[1;36m10\u001b[0m\u001b[1;33m)\u001b[0m\u001b[1;33m\u001b[0m\u001b[1;33m\u001b[0m\u001b[0m\n\u001b[0m\u001b[0;32m     15\u001b[0m \u001b[0mtimes\u001b[0m \u001b[1;33m=\u001b[0m \u001b[0mrange\u001b[0m\u001b[1;33m(\u001b[0m\u001b[1;36m1\u001b[0m\u001b[1;33m,\u001b[0m \u001b[1;36m10\u001b[0m\u001b[1;33m)\u001b[0m\u001b[1;33m\u001b[0m\u001b[1;33m\u001b[0m\u001b[0m\n\u001b[0;32m     16\u001b[0m \u001b[1;33m\u001b[0m\u001b[0m\n",
      "\u001b[1;31mNameError\u001b[0m: name 'rang' is not defined"
     ]
    }
   ],
   "source": [
    "# 구구단 문제3\n",
    "# 격자 구구단 출력하기\n",
    "# 2단   3단   4단\n",
    "# ...   ...   ...\n",
    "# 5단   6단   7단\n",
    "# ...   ...   ...\n",
    "# 8단   9단\n",
    "# ...   ...\n",
    "    # 가로 진행방향: 처음 for문에 해당 (dan기준으로)\n",
    "        # dan % 3 == 1 이면 print()이용해서 줄바꾸기? 아니면 \\n이용해서 줄바꾸기?\n",
    "    # 세로 진행방향: 중첩된 for문에 해당(time기준으로)\n",
    "    # end=\"\\t\"이용해서 옆으로 이동\n",
    "    \n",
    "dans = rang(2, 10)\n",
    "times = range(1, 10)\n",
    "\n",
    "h_num = 3 # 가로로 표시할 숫자의 개수\n",
    "\n",
    "for idx in range(0, len(dans), h_num):\n",
    "    now_dan = dans[idx : idx + h_num]\n",
    "    \n",
    "    for dan in now_dan:\n",
    "        print(f\"{dan} 단\", end='\\t')\n",
    "    print()\n",
    "    \n",
    "    for time in times:\n",
    "        for dan in now_dan:\n",
    "            print(f\"{dan} x {time} = {dan * time}\", end=\"\\t\")\n",
    "        print()\n",
    "        \n",
    "    print()"
   ]
  },
  {
   "cell_type": "code",
   "execution_count": 24,
   "id": "f7d46296",
   "metadata": {
    "scrolled": true
   },
   "outputs": [
    {
     "name": "stdout",
     "output_type": "stream",
     "text": [
      "2 단\t3 단\t4 단\t\n",
      "2 x 1 = 2\t3 x 1 = 3\t4 x 1 = 4\t\n",
      "2 x 2 = 4\t3 x 2 = 6\t4 x 2 = 8\t\n",
      "2 x 3 = 6\t3 x 3 = 9\t4 x 3 = 12\t\n",
      "2 x 4 = 8\t3 x 4 = 12\t4 x 4 = 16\t\n",
      "2 x 5 = 10\t3 x 5 = 15\t4 x 5 = 20\t\n",
      "2 x 6 = 12\t3 x 6 = 18\t4 x 6 = 24\t\n",
      "2 x 7 = 14\t3 x 7 = 21\t4 x 7 = 28\t\n",
      "2 x 8 = 16\t3 x 8 = 24\t4 x 8 = 32\t\n",
      "2 x 9 = 18\t3 x 9 = 27\t4 x 9 = 36\t\n",
      "\n",
      "5 단\t6 단\t7 단\t\n",
      "5 x 1 = 5\t6 x 1 = 6\t7 x 1 = 7\t\n",
      "5 x 2 = 10\t6 x 2 = 12\t7 x 2 = 14\t\n",
      "5 x 3 = 15\t6 x 3 = 18\t7 x 3 = 21\t\n",
      "5 x 4 = 20\t6 x 4 = 24\t7 x 4 = 28\t\n",
      "5 x 5 = 25\t6 x 5 = 30\t7 x 5 = 35\t\n",
      "5 x 6 = 30\t6 x 6 = 36\t7 x 6 = 42\t\n",
      "5 x 7 = 35\t6 x 7 = 42\t7 x 7 = 49\t\n",
      "5 x 8 = 40\t6 x 8 = 48\t7 x 8 = 56\t\n",
      "5 x 9 = 45\t6 x 9 = 54\t7 x 9 = 63\t\n",
      "\n",
      "8 단\t9 단\t\n",
      "8 x 1 = 8\t9 x 1 = 9\t\n",
      "8 x 2 = 16\t9 x 2 = 18\t\n",
      "8 x 3 = 24\t9 x 3 = 27\t\n",
      "8 x 4 = 32\t9 x 4 = 36\t\n",
      "8 x 5 = 40\t9 x 5 = 45\t\n",
      "8 x 6 = 48\t9 x 6 = 54\t\n",
      "8 x 7 = 56\t9 x 7 = 63\t\n",
      "8 x 8 = 64\t9 x 8 = 72\t\n",
      "8 x 9 = 72\t9 x 9 = 81\t\n",
      "\n"
     ]
    }
   ],
   "source": [
    "# 구구단 문제3\n",
    "# 격자 구구단 출력하기\n",
    "# 2단   3단   4단\n",
    "# ...   ...   ...\n",
    "# 5단   6단   7단\n",
    "# ...   ...   ...\n",
    "# 8단   9단\n",
    "# ...   ...\n",
    "    # 가로 진행방향: 처음 for문에 해당 (dan기준으로)\n",
    "        # dan % 3 == 1 이면 print()이용해서 줄바꾸기? 아니면 \\n이용해서 줄바꾸기?\n",
    "    # 세로 진행방향: 중첩된 for문에 해당(time기준으로)\n",
    "    # end=\"\\t\"이용해서 옆으로 이동\n",
    "    # 오타주의\n",
    "    \n",
    "dans = range(2, 10)\n",
    "times = range(1, 10)\n",
    "\n",
    "h_num = 3 # 가로로 표시할 숫자의 개수\n",
    "\n",
    "for idx in range(0, len(dans), h_num):\n",
    "    now_dan = dans[idx : idx + h_num]\n",
    "    \n",
    "    for dan in now_dan:\n",
    "        print(f\"{dan} 단\", end='\\t') # <= \\t * 2 해야 \n",
    "    print()\n",
    "    \n",
    "    for time in times:\n",
    "        for dan in now_dan:\n",
    "            print(f\"{dan} x {time} = {dan * time}\", end=\"\\t\")\n",
    "        print()\n",
    "        \n",
    "    print()"
   ]
  },
  {
   "cell_type": "code",
   "execution_count": 25,
   "id": "7142e380",
   "metadata": {},
   "outputs": [
    {
     "name": "stdout",
     "output_type": "stream",
     "text": [
      "2 단\t\t3 단\t\t4 단\t\t\n",
      "2 x 1 = 2\t3 x 1 = 3\t4 x 1 = 4\t\n",
      "2 x 2 = 4\t3 x 2 = 6\t4 x 2 = 8\t\n",
      "2 x 3 = 6\t3 x 3 = 9\t4 x 3 = 12\t\n",
      "2 x 4 = 8\t3 x 4 = 12\t4 x 4 = 16\t\n",
      "2 x 5 = 10\t3 x 5 = 15\t4 x 5 = 20\t\n",
      "2 x 6 = 12\t3 x 6 = 18\t4 x 6 = 24\t\n",
      "2 x 7 = 14\t3 x 7 = 21\t4 x 7 = 28\t\n",
      "2 x 8 = 16\t3 x 8 = 24\t4 x 8 = 32\t\n",
      "2 x 9 = 18\t3 x 9 = 27\t4 x 9 = 36\t\n",
      "\n",
      "5 단\t\t6 단\t\t7 단\t\t\n",
      "5 x 1 = 5\t6 x 1 = 6\t7 x 1 = 7\t\n",
      "5 x 2 = 10\t6 x 2 = 12\t7 x 2 = 14\t\n",
      "5 x 3 = 15\t6 x 3 = 18\t7 x 3 = 21\t\n",
      "5 x 4 = 20\t6 x 4 = 24\t7 x 4 = 28\t\n",
      "5 x 5 = 25\t6 x 5 = 30\t7 x 5 = 35\t\n",
      "5 x 6 = 30\t6 x 6 = 36\t7 x 6 = 42\t\n",
      "5 x 7 = 35\t6 x 7 = 42\t7 x 7 = 49\t\n",
      "5 x 8 = 40\t6 x 8 = 48\t7 x 8 = 56\t\n",
      "5 x 9 = 45\t6 x 9 = 54\t7 x 9 = 63\t\n",
      "\n",
      "8 단\t\t9 단\t\t\n",
      "8 x 1 = 8\t9 x 1 = 9\t\n",
      "8 x 2 = 16\t9 x 2 = 18\t\n",
      "8 x 3 = 24\t9 x 3 = 27\t\n",
      "8 x 4 = 32\t9 x 4 = 36\t\n",
      "8 x 5 = 40\t9 x 5 = 45\t\n",
      "8 x 6 = 48\t9 x 6 = 54\t\n",
      "8 x 7 = 56\t9 x 7 = 63\t\n",
      "8 x 8 = 64\t9 x 8 = 72\t\n",
      "8 x 9 = 72\t9 x 9 = 81\t\n",
      "\n"
     ]
    }
   ],
   "source": [
    "# 구구단 문제3\n",
    "# 격자 구구단 출력하기\n",
    "# 2단   3단   4단\n",
    "# ...   ...   ...\n",
    "# 5단   6단   7단\n",
    "# ...   ...   ...\n",
    "# 8단   9단\n",
    "# ...   ...\n",
    "    # 가로 진행방향: 처음 for문에 해당 (dan기준으로)\n",
    "        # dan % 3 == 1 이면 print()이용해서 줄바꾸기? 아니면 \\n이용해서 줄바꾸기?\n",
    "    # 세로 진행방향: 중첩된 for문에 해당(time기준으로)\n",
    "    # end=\"\\t\"이용해서 옆으로 이동\n",
    "    # 오타주의\n",
    "    \n",
    "dans = range(2, 10) # 2 ~ 9까지의 범위를 dans라는 변수에 집어넣음\n",
    "times = range(1, 10) # 1 ~ 9까지의 범위를 times라는 변수에 집어넣음\n",
    "\n",
    "h_num = 3 # 가로로 표시할 숫자의 개수\n",
    "            # 내가 생각했던 방법은 3개 단위로 줄바꿈이 발생해서, 중첩된 for문에 dan%3==1, end='\\n'사용\n",
    "            # 변수를 설정해서, for문의 주인공으로 만들어주는 방법이 있었다. \n",
    "            # 이 부분은 생각하지 못했던 부분으로, 이전 구구단 문제에서 \n",
    "                # 의미가 있는 코드는 변수로 만들어 놓고 사용하자는 내용을 살펴볼 필요가 있어 보인다. \n",
    "                # 객체지향과 관련? => 만들어둔 변수가 자체적으로 작동할 수 있도록 할 수 있게 만드는 것?\n",
    "\n",
    "for idx in range(0, len(dans), h_num): # 0부터 8(dans의 개수), 3씩 건너뛰는 범위에서 변수 idx를 하나씩 뽑기\n",
    "                                            # range(start,end,step) 개념을 활용\n",
    "                                            # 0 ~ 7까지 3개씩 건너뛰면서 => 0, 3, 6\n",
    "    now_dan = dans[idx : idx + h_num] # 2 ~ 9 범위중, 0에서 0+3 (2번째 까지) => 2,3,4단\n",
    "                                        #             3에서 3+3(5번째 까지) => 5,6,7단\n",
    "                                        #             6에서 6+3(8번째 까지) => 8,9단\n",
    "\n",
    "    for dan in now_dan: # 2, 3, 4의 변수 dan을 한 개씩 뽑아\n",
    "        print(f\"{dan} 단\", end='\\t\\t') # 제목 만들기\n",
    "                                            # \"2단\" 출력\n",
    "    print() # now_dan이 끝날때마다 줄 바꾸기(2,3,4 -> \\n 5,6,7 -> \\n 8,9)\n",
    "    \n",
    "    for time in times: # 1 ~ 9까지의 범위에서 변수 time를 뽑는다.\n",
    "        for dan in now_dan: # now_dan이라는 변수는 2 ~ 9 범위중, 0에서 0+3 (2번째 까지) => 2,3,4단\n",
    "                            #                                    3에서 3+3 (5번째 까지) => 5,6,7단\n",
    "                            #                                    6에서 6+3 (8번째 까지) => 8,9단\n",
    "                            # now_dan이라는 묶음내에서 dan은 고정, time은 변함\n",
    "                                # time이 끝나면 3단 3x1=3 -> 4단 4x1=4 형식으로 바뀜\n",
    "            print(f\"{dan} x {time} = {dan * time}\", end=\"\\t\") \n",
    "        print()\n",
    "        \n",
    "    print()"
   ]
  },
  {
   "cell_type": "markdown",
   "id": "19c700f4",
   "metadata": {},
   "source": [
    "### if, elif, else\n",
    "- else는 앞에 작성한 조건문이 참이 아닐 때 작성\n",
    "- 참고\n",
    "    - https://wikidocs.net/57\n",
    "    - https://wikidocs.net/3083\n",
    "    - https://blockdmask.tistory.com/372\n",
    "    - https://data-make.tistory.com/98"
   ]
  },
  {
   "cell_type": "code",
   "execution_count": 8,
   "id": "0534b9b2",
   "metadata": {},
   "outputs": [
    {
     "name": "stdout",
     "output_type": "stream",
     "text": [
      "0 아님\n"
     ]
    }
   ],
   "source": [
    "data = 1\n",
    "\n",
    "if data:\n",
    "    print(\"0 아님\")\n",
    "else:\n",
    "    print(\"0임\")"
   ]
  },
  {
   "cell_type": "code",
   "execution_count": 9,
   "id": "85282992",
   "metadata": {},
   "outputs": [
    {
     "data": {
      "text/plain": [
       "'0아님'"
      ]
     },
     "execution_count": 9,
     "metadata": {},
     "output_type": "execute_result"
    }
   ],
   "source": [
    "\"0아님\" if data else \"0임\""
   ]
  },
  {
   "cell_type": "markdown",
   "id": "9017b578",
   "metadata": {},
   "source": [
    "### 삼항 연산자\n",
    "- 참고\n",
    "    - 예문 참고\n",
    "        - https://wikidocs.net/20701\n",
    "    - 중첩된 삼항 연산자\n",
    "        - https://blockdmask.tistory.com/551\n",
    "        - https://ooyoung.tistory.com/116"
   ]
  },
  {
   "cell_type": "code",
   "execution_count": 11,
   "id": "00fe2c2c",
   "metadata": {},
   "outputs": [
    {
     "data": {
      "text/plain": [
       "[0, 1, 4, 9]"
      ]
     },
     "execution_count": 11,
     "metadata": {},
     "output_type": "execute_result"
    }
   ],
   "source": [
    "# 0 ~ 3까지의 값에 제곱한 결과를 리스트에 담아놓기\n",
    "lst = list(range(4)) # 0 ~ 3까지의 숫자를 리스트로 만들어 둔 것을 lst라는 변수에 담아둘 것이다.\n",
    "result = [] # result라는 변수의 리스트를 비워둔 것은, 조건문의 조건에 따라 변수를 담기 위함이다.\n",
    "\n",
    "for data in lst: # lst에서 data를 하나씩 뽑을 것이다.\n",
    "    result.append(data**2) # lst의 원소 하나를 뽑아 제곱한 것을 result라는 비어있는 리스트에 추가할 것이다.\n",
    "                                # lst의 원소를 뽑아서 추가한 것이 끝난다면\n",
    "    \n",
    "result # result 값을 확인한다. "
   ]
  },
  {
   "cell_type": "code",
   "execution_count": 12,
   "id": "45e90944",
   "metadata": {},
   "outputs": [
    {
     "data": {
      "text/plain": [
       "[0, 1, 4, 9]"
      ]
     },
     "execution_count": 12,
     "metadata": {},
     "output_type": "execute_result"
    }
   ],
   "source": [
    "# 리스트 컴프리헨션\n",
    " ## 컴프리헨션은 리스트, set, dict를 간단하게 만들기 위한 문법이다\n",
    " ## 여러 전처리나 효과 없이 아주 단순하게 만들어진 데이터를 컬렉션에 추가(append)라고 싶으면?\n",
    " ## 기존의 컬렉션을 이용해서 컬렉션 내의 데이터를 이용해 새로운 컬렉션을 만들 때 컴프리헨션을 사용\n",
    " ## 단순한 연산만 있을 경우 사용\n",
    "\n",
    "result = [ data **2 for data in lst] # data를 lst에서 뽑을 건데, 이 data는 제곱할거야. \n",
    "result"
   ]
  },
  {
   "cell_type": "code",
   "execution_count": 13,
   "id": "2b604232",
   "metadata": {},
   "outputs": [
    {
     "data": {
      "text/plain": [
       "['홀', '짝', '홀', '짝', '홀', '짝', '홀', '짝', '홀', '짝']"
      ]
     },
     "execution_count": 13,
     "metadata": {},
     "output_type": "execute_result"
    }
   ],
   "source": [
    "# 1 ~ 10 까지 리스트를 만들어서 홀수와 짝수 리스트 생성하기\n",
    "# num_list = [1,2,3,4,5,6,7,8,9,10]\n",
    "# even_odd_list 는 컴프리헨션을 이용해 [\"홀\",\"짝\",\"홀\",\"짝\",\"홀\",\"짝\",\"홀\",\"짝\",\"홀\",\"짝\"]\n",
    "\n",
    "num_list = range(1, 11) # 1 ~ 10까지의 범위를 num_list라고 할 것이다.\n",
    "even_odd_list = [\"홀\" if data % 2 == 1 else \"짝\" for data in num_list]\n",
    "    # data를 뽑을 건데 num_list안에서, 만약에 data를 2로 나눈 값이 1이라면 \"홀\"을 출력하고\n",
    "        # 아니면 짝을 출력한다. 이것을 리스트로 만들 것이다. \n",
    "even_odd_list"
   ]
  },
  {
   "cell_type": "code",
   "execution_count": 14,
   "id": "dea211f3",
   "metadata": {},
   "outputs": [
    {
     "name": "stdout",
     "output_type": "stream",
     "text": [
      "[3, 6, 9, 12, 15, 18, 21, 24, 27, 30, 33, 36, 39, 42, 45, 48]\n"
     ]
    }
   ],
   "source": [
    "# 1 ~ 50 까지 정수에서 3의 배수만 가지고 있는 리스트를 만들기\n",
    "num_list = range(1, 51) # 1 ~ 50까지의 범위를 num_list라는 변수에 대입할 것이다. \n",
    "mul_of_3_list = [data for data in num_list if data % 3 == 0] \n",
    "    # data라는 변수를 num_list안에서 뽑아서 data를 출력할 것이다. \n",
    "        # 그런데, data가 3으로 나눈 나머지가 0인 것들만 출력할거야.\n",
    "        # mul_of_3_list라는 뽑고 싶은 데이터의 조건을 설정(가공)해서\n",
    "print(mul_of_3_list) # 출력(시각화)할 것이다. "
   ]
  },
  {
   "cell_type": "markdown",
   "id": "7685f22f",
   "metadata": {},
   "source": [
    "### 컴프리헨션\n",
    "- 참고\n",
    "    - https://wikidocs.net/22805\n",
    "    - https://doorbw.tistory.com/174\n",
    "    - https://bio-info.tistory.com/28\n",
    "    - https://www.byfuls.com/programming/read?id=35\n",
    "    - 응용\n",
    "        - https://wikidocs.net/84393\n",
    "    - (심화)제너레이터 컴프리헨션\n",
    "        - https://wikidocs.net/22802\n",
    "        - https://blog.naver.com/PostView.nhn?blogId=websearch&logNo=222119814558&from=search&redirect=Log&widgetTypeCall=true&directAccess=false\n",
    "        - https://hcnoh.github.io/2018-09-17-effective-python-way09\n",
    "        - https://goodthings4me.tistory.com/30"
   ]
  },
  {
   "cell_type": "markdown",
   "id": "1b15036f",
   "metadata": {},
   "source": [
    "# 5. 총정리"
   ]
  },
  {
   "cell_type": "markdown",
   "id": "01392f20",
   "metadata": {},
   "source": [
    "- jupyter notebook으로 목차 정리하기\n",
    "    - 아나콘다 관리자 권한\n",
    "        - pip install jupyter_contrib_nbextensions\n",
    "    - jupyter notebook 홈 디렉토리에 설치\n",
    "    - re-launch하면 설치 완료\n",
    "    - Nbextensions > table > 체크 해제 > Table of Contents 체크 > Enable\n",
    "    - 참고\n",
    "        - https://velog.io/@jennayeo/%EC%A3%BC%ED%94%BC%ED%84%B0-%EB%85%B8%ED%8A%B8%EB%B6%81-Nbextensions%EB%A1%9C-%EB%AA%A9%EC%B0%A8-%EC%A0%95%EB%A6%AC%ED%95%98%EA%B8%B0\n",
    "        - https://bio-info.tistory.com/14\n",
    "        - 응용\n",
    "            - https://junpyopark.github.io/Jupyter_Extension/#Autopep8:-%EC%9E%90%EB%8F%99-%EC%BD%94%EB%93%9C%EC%A0%95%EB%A6%AC%EA%B8%B0%EB%8A%A5(-PEP-8-%EC%8A%A4%ED%83%80%EC%9D%BC-%EA%B0%80%EC%9D%B4%EB%93%9C-%EC%A0%81%EC%9A%A9-)"
   ]
  },
  {
   "cell_type": "markdown",
   "id": "37e91c86",
   "metadata": {},
   "source": [
    "- jupyter notebook 설정\n",
    "    - 참고\n",
    "        - https://pebpung.github.io/2020/08/06/Jupyter-Theme-and-Tool.html"
   ]
  },
  {
   "cell_type": "code",
   "execution_count": 26,
   "id": "ef50ff8e",
   "metadata": {},
   "outputs": [
    {
     "name": "stderr",
     "output_type": "stream",
     "text": [
      "[I 17:09:28 InstallContribNbextensionsApp] jupyter contrib nbextension install --user\n",
      "[I 17:09:28 InstallContribNbextensionsApp] Installing jupyter_contrib_nbextensions nbextension files to jupyter data directory\n",
      "[I 17:09:28 InstallContribNbextensionsApp] Installing C:\\ProgramData\\Anaconda3\\lib\\site-packages\\jupyter_contrib_nbextensions\\nbextensions\\addbefore -> addbefore\n",
      "[I 17:09:28 InstallContribNbextensionsApp] Making directory: C:\\Users\\easya\\AppData\\Roaming\\jupyter\\nbextensions\\addbefore\\\n",
      "[I 17:09:28 InstallContribNbextensionsApp] Copying: C:\\ProgramData\\Anaconda3\\lib\\site-packages\\jupyter_contrib_nbextensions\\nbextensions\\addbefore\\addbefore.yaml -> C:\\Users\\easya\\AppData\\Roaming\\jupyter\\nbextensions\\addbefore\\addbefore.yaml\n",
      "[I 17:09:28 InstallContribNbextensionsApp] Copying: C:\\ProgramData\\Anaconda3\\lib\\site-packages\\jupyter_contrib_nbextensions\\nbextensions\\addbefore\\icon.png -> C:\\Users\\easya\\AppData\\Roaming\\jupyter\\nbextensions\\addbefore\\icon.png\n",
      "[I 17:09:28 InstallContribNbextensionsApp] Copying: C:\\ProgramData\\Anaconda3\\lib\\site-packages\\jupyter_contrib_nbextensions\\nbextensions\\addbefore\\main.js -> C:\\Users\\easya\\AppData\\Roaming\\jupyter\\nbextensions\\addbefore\\main.js\n",
      "[I 17:09:28 InstallContribNbextensionsApp] Copying: C:\\ProgramData\\Anaconda3\\lib\\site-packages\\jupyter_contrib_nbextensions\\nbextensions\\addbefore\\readme.md -> C:\\Users\\easya\\AppData\\Roaming\\jupyter\\nbextensions\\addbefore\\readme.md\n",
      "[I 17:09:28 InstallContribNbextensionsApp] - Validating: ok\n",
      "[I 17:09:28 InstallContribNbextensionsApp] Installing C:\\ProgramData\\Anaconda3\\lib\\site-packages\\jupyter_contrib_nbextensions\\nbextensions\\autosavetime -> autosavetime\n",
      "[I 17:09:28 InstallContribNbextensionsApp] Making directory: C:\\Users\\easya\\AppData\\Roaming\\jupyter\\nbextensions\\autosavetime\\\n",
      "[I 17:09:28 InstallContribNbextensionsApp] Copying: C:\\ProgramData\\Anaconda3\\lib\\site-packages\\jupyter_contrib_nbextensions\\nbextensions\\autosavetime\\autosavetime.yaml -> C:\\Users\\easya\\AppData\\Roaming\\jupyter\\nbextensions\\autosavetime\\autosavetime.yaml\n",
      "[I 17:09:28 InstallContribNbextensionsApp] Copying: C:\\ProgramData\\Anaconda3\\lib\\site-packages\\jupyter_contrib_nbextensions\\nbextensions\\autosavetime\\icon.png -> C:\\Users\\easya\\AppData\\Roaming\\jupyter\\nbextensions\\autosavetime\\icon.png\n",
      "[I 17:09:28 InstallContribNbextensionsApp] Copying: C:\\ProgramData\\Anaconda3\\lib\\site-packages\\jupyter_contrib_nbextensions\\nbextensions\\autosavetime\\main.js -> C:\\Users\\easya\\AppData\\Roaming\\jupyter\\nbextensions\\autosavetime\\main.js\n",
      "[I 17:09:28 InstallContribNbextensionsApp] Copying: C:\\ProgramData\\Anaconda3\\lib\\site-packages\\jupyter_contrib_nbextensions\\nbextensions\\autosavetime\\README.md -> C:\\Users\\easya\\AppData\\Roaming\\jupyter\\nbextensions\\autosavetime\\README.md\n",
      "[I 17:09:28 InstallContribNbextensionsApp] - Validating: ok\n",
      "[I 17:09:28 InstallContribNbextensionsApp] Installing C:\\ProgramData\\Anaconda3\\lib\\site-packages\\jupyter_contrib_nbextensions\\nbextensions\\autoscroll -> autoscroll\n",
      "[I 17:09:28 InstallContribNbextensionsApp] Making directory: C:\\Users\\easya\\AppData\\Roaming\\jupyter\\nbextensions\\autoscroll\\\n",
      "[I 17:09:28 InstallContribNbextensionsApp] Copying: C:\\ProgramData\\Anaconda3\\lib\\site-packages\\jupyter_contrib_nbextensions\\nbextensions\\autoscroll\\autoscroll.yaml -> C:\\Users\\easya\\AppData\\Roaming\\jupyter\\nbextensions\\autoscroll\\autoscroll.yaml\n",
      "[I 17:09:28 InstallContribNbextensionsApp] Copying: C:\\ProgramData\\Anaconda3\\lib\\site-packages\\jupyter_contrib_nbextensions\\nbextensions\\autoscroll\\icon.png -> C:\\Users\\easya\\AppData\\Roaming\\jupyter\\nbextensions\\autoscroll\\icon.png\n",
      "[I 17:09:28 InstallContribNbextensionsApp] Copying: C:\\ProgramData\\Anaconda3\\lib\\site-packages\\jupyter_contrib_nbextensions\\nbextensions\\autoscroll\\main.js -> C:\\Users\\easya\\AppData\\Roaming\\jupyter\\nbextensions\\autoscroll\\main.js\n",
      "[I 17:09:28 InstallContribNbextensionsApp] Copying: C:\\ProgramData\\Anaconda3\\lib\\site-packages\\jupyter_contrib_nbextensions\\nbextensions\\autoscroll\\README.md -> C:\\Users\\easya\\AppData\\Roaming\\jupyter\\nbextensions\\autoscroll\\README.md\n",
      "[I 17:09:28 InstallContribNbextensionsApp] - Validating: ok\n",
      "[I 17:09:28 InstallContribNbextensionsApp] Installing C:\\ProgramData\\Anaconda3\\lib\\site-packages\\jupyter_contrib_nbextensions\\nbextensions\\cell_filter -> cell_filter\n",
      "[I 17:09:28 InstallContribNbextensionsApp] Making directory: C:\\Users\\easya\\AppData\\Roaming\\jupyter\\nbextensions\\cell_filter\\\n",
      "[I 17:09:28 InstallContribNbextensionsApp] Copying: C:\\ProgramData\\Anaconda3\\lib\\site-packages\\jupyter_contrib_nbextensions\\nbextensions\\cell_filter\\cell_filter.js -> C:\\Users\\easya\\AppData\\Roaming\\jupyter\\nbextensions\\cell_filter\\cell_filter.js\n",
      "[I 17:09:28 InstallContribNbextensionsApp] Copying: C:\\ProgramData\\Anaconda3\\lib\\site-packages\\jupyter_contrib_nbextensions\\nbextensions\\cell_filter\\cell_filter.yml -> C:\\Users\\easya\\AppData\\Roaming\\jupyter\\nbextensions\\cell_filter\\cell_filter.yml\n",
      "[I 17:09:28 InstallContribNbextensionsApp] Copying: C:\\ProgramData\\Anaconda3\\lib\\site-packages\\jupyter_contrib_nbextensions\\nbextensions\\cell_filter\\README.md -> C:\\Users\\easya\\AppData\\Roaming\\jupyter\\nbextensions\\cell_filter\\README.md\n",
      "[I 17:09:28 InstallContribNbextensionsApp] - Validating: ok\n",
      "[I 17:09:28 InstallContribNbextensionsApp] Installing C:\\ProgramData\\Anaconda3\\lib\\site-packages\\jupyter_contrib_nbextensions\\nbextensions\\codefolding -> codefolding\n",
      "[I 17:09:28 InstallContribNbextensionsApp] Making directory: C:\\Users\\easya\\AppData\\Roaming\\jupyter\\nbextensions\\codefolding\\\n",
      "[I 17:09:28 InstallContribNbextensionsApp] Copying: C:\\ProgramData\\Anaconda3\\lib\\site-packages\\jupyter_contrib_nbextensions\\nbextensions\\codefolding\\codefolding.yaml -> C:\\Users\\easya\\AppData\\Roaming\\jupyter\\nbextensions\\codefolding\\codefolding.yaml\n",
      "[I 17:09:28 InstallContribNbextensionsApp] Copying: C:\\ProgramData\\Anaconda3\\lib\\site-packages\\jupyter_contrib_nbextensions\\nbextensions\\codefolding\\codefolding_editor.png -> C:\\Users\\easya\\AppData\\Roaming\\jupyter\\nbextensions\\codefolding\\codefolding_editor.png\n",
      "[I 17:09:28 InstallContribNbextensionsApp] Copying: C:\\ProgramData\\Anaconda3\\lib\\site-packages\\jupyter_contrib_nbextensions\\nbextensions\\codefolding\\codefolding_editor.yaml -> C:\\Users\\easya\\AppData\\Roaming\\jupyter\\nbextensions\\codefolding\\codefolding_editor.yaml\n",
      "[I 17:09:28 InstallContribNbextensionsApp] Copying: C:\\ProgramData\\Anaconda3\\lib\\site-packages\\jupyter_contrib_nbextensions\\nbextensions\\codefolding\\codefolding_firstline_folded.png -> C:\\Users\\easya\\AppData\\Roaming\\jupyter\\nbextensions\\codefolding\\codefolding_firstline_folded.png\n",
      "[I 17:09:28 InstallContribNbextensionsApp] Copying: C:\\ProgramData\\Anaconda3\\lib\\site-packages\\jupyter_contrib_nbextensions\\nbextensions\\codefolding\\codefolding_firstline_unfolded.png -> C:\\Users\\easya\\AppData\\Roaming\\jupyter\\nbextensions\\codefolding\\codefolding_firstline_unfolded.png\n",
      "[I 17:09:28 InstallContribNbextensionsApp] Copying: C:\\ProgramData\\Anaconda3\\lib\\site-packages\\jupyter_contrib_nbextensions\\nbextensions\\codefolding\\codefolding_indent_folded_1.png -> C:\\Users\\easya\\AppData\\Roaming\\jupyter\\nbextensions\\codefolding\\codefolding_indent_folded_1.png\n",
      "[I 17:09:28 InstallContribNbextensionsApp] Copying: C:\\ProgramData\\Anaconda3\\lib\\site-packages\\jupyter_contrib_nbextensions\\nbextensions\\codefolding\\codefolding_indent_folded_2.png -> C:\\Users\\easya\\AppData\\Roaming\\jupyter\\nbextensions\\codefolding\\codefolding_indent_folded_2.png\n",
      "[I 17:09:28 InstallContribNbextensionsApp] Copying: C:\\ProgramData\\Anaconda3\\lib\\site-packages\\jupyter_contrib_nbextensions\\nbextensions\\codefolding\\codefolding_indent_unfolded.png -> C:\\Users\\easya\\AppData\\Roaming\\jupyter\\nbextensions\\codefolding\\codefolding_indent_unfolded.png\n",
      "[I 17:09:28 InstallContribNbextensionsApp] Copying: C:\\ProgramData\\Anaconda3\\lib\\site-packages\\jupyter_contrib_nbextensions\\nbextensions\\codefolding\\edit.js -> C:\\Users\\easya\\AppData\\Roaming\\jupyter\\nbextensions\\codefolding\\edit.js\n",
      "[I 17:09:28 InstallContribNbextensionsApp] Copying: C:\\ProgramData\\Anaconda3\\lib\\site-packages\\jupyter_contrib_nbextensions\\nbextensions\\codefolding\\firstline-fold.js -> C:\\Users\\easya\\AppData\\Roaming\\jupyter\\nbextensions\\codefolding\\firstline-fold.js\n",
      "[I 17:09:28 InstallContribNbextensionsApp] Copying: C:\\ProgramData\\Anaconda3\\lib\\site-packages\\jupyter_contrib_nbextensions\\nbextensions\\codefolding\\foldgutter.css -> C:\\Users\\easya\\AppData\\Roaming\\jupyter\\nbextensions\\codefolding\\foldgutter.css\n",
      "[I 17:09:28 InstallContribNbextensionsApp] Copying: C:\\ProgramData\\Anaconda3\\lib\\site-packages\\jupyter_contrib_nbextensions\\nbextensions\\codefolding\\icon.png -> C:\\Users\\easya\\AppData\\Roaming\\jupyter\\nbextensions\\codefolding\\icon.png\n",
      "[I 17:09:28 InstallContribNbextensionsApp] Copying: C:\\ProgramData\\Anaconda3\\lib\\site-packages\\jupyter_contrib_nbextensions\\nbextensions\\codefolding\\magic-fold.js -> C:\\Users\\easya\\AppData\\Roaming\\jupyter\\nbextensions\\codefolding\\magic-fold.js\n",
      "[I 17:09:28 InstallContribNbextensionsApp] Copying: C:\\ProgramData\\Anaconda3\\lib\\site-packages\\jupyter_contrib_nbextensions\\nbextensions\\codefolding\\magic-folded.png -> C:\\Users\\easya\\AppData\\Roaming\\jupyter\\nbextensions\\codefolding\\magic-folded.png\n",
      "[I 17:09:28 InstallContribNbextensionsApp] Copying: C:\\ProgramData\\Anaconda3\\lib\\site-packages\\jupyter_contrib_nbextensions\\nbextensions\\codefolding\\magic-unfolded.png -> C:\\Users\\easya\\AppData\\Roaming\\jupyter\\nbextensions\\codefolding\\magic-unfolded.png\n",
      "[I 17:09:28 InstallContribNbextensionsApp] Copying: C:\\ProgramData\\Anaconda3\\lib\\site-packages\\jupyter_contrib_nbextensions\\nbextensions\\codefolding\\main.js -> C:\\Users\\easya\\AppData\\Roaming\\jupyter\\nbextensions\\codefolding\\main.js\n",
      "[I 17:09:28 InstallContribNbextensionsApp] Copying: C:\\ProgramData\\Anaconda3\\lib\\site-packages\\jupyter_contrib_nbextensions\\nbextensions\\codefolding\\readme.md -> C:\\Users\\easya\\AppData\\Roaming\\jupyter\\nbextensions\\codefolding\\readme.md\n",
      "[I 17:09:28 InstallContribNbextensionsApp] - Validating: ok\n",
      "[I 17:09:28 InstallContribNbextensionsApp] Installing C:\\ProgramData\\Anaconda3\\lib\\site-packages\\jupyter_contrib_nbextensions\\nbextensions\\codefolding -> codefolding\n",
      "[I 17:09:28 InstallContribNbextensionsApp] Up to date: C:\\Users\\easya\\AppData\\Roaming\\jupyter\\nbextensions\\codefolding\\codefolding.yaml\n",
      "[I 17:09:28 InstallContribNbextensionsApp] Up to date: C:\\Users\\easya\\AppData\\Roaming\\jupyter\\nbextensions\\codefolding\\codefolding_editor.png\n",
      "[I 17:09:28 InstallContribNbextensionsApp] Up to date: C:\\Users\\easya\\AppData\\Roaming\\jupyter\\nbextensions\\codefolding\\codefolding_editor.yaml\n",
      "[I 17:09:28 InstallContribNbextensionsApp] Up to date: C:\\Users\\easya\\AppData\\Roaming\\jupyter\\nbextensions\\codefolding\\codefolding_firstline_folded.png\n",
      "[I 17:09:28 InstallContribNbextensionsApp] Up to date: C:\\Users\\easya\\AppData\\Roaming\\jupyter\\nbextensions\\codefolding\\codefolding_firstline_unfolded.png\n",
      "[I 17:09:28 InstallContribNbextensionsApp] Up to date: C:\\Users\\easya\\AppData\\Roaming\\jupyter\\nbextensions\\codefolding\\codefolding_indent_folded_1.png\n",
      "[I 17:09:28 InstallContribNbextensionsApp] Up to date: C:\\Users\\easya\\AppData\\Roaming\\jupyter\\nbextensions\\codefolding\\codefolding_indent_folded_2.png\n",
      "[I 17:09:28 InstallContribNbextensionsApp] Up to date: C:\\Users\\easya\\AppData\\Roaming\\jupyter\\nbextensions\\codefolding\\codefolding_indent_unfolded.png\n",
      "[I 17:09:28 InstallContribNbextensionsApp] Up to date: C:\\Users\\easya\\AppData\\Roaming\\jupyter\\nbextensions\\codefolding\\edit.js\n",
      "[I 17:09:28 InstallContribNbextensionsApp] Up to date: C:\\Users\\easya\\AppData\\Roaming\\jupyter\\nbextensions\\codefolding\\firstline-fold.js\n",
      "[I 17:09:28 InstallContribNbextensionsApp] Up to date: C:\\Users\\easya\\AppData\\Roaming\\jupyter\\nbextensions\\codefolding\\foldgutter.css\n",
      "[I 17:09:28 InstallContribNbextensionsApp] Up to date: C:\\Users\\easya\\AppData\\Roaming\\jupyter\\nbextensions\\codefolding\\icon.png\n",
      "[I 17:09:28 InstallContribNbextensionsApp] Up to date: C:\\Users\\easya\\AppData\\Roaming\\jupyter\\nbextensions\\codefolding\\magic-fold.js\n",
      "[I 17:09:28 InstallContribNbextensionsApp] Up to date: C:\\Users\\easya\\AppData\\Roaming\\jupyter\\nbextensions\\codefolding\\magic-folded.png\n",
      "[I 17:09:28 InstallContribNbextensionsApp] Up to date: C:\\Users\\easya\\AppData\\Roaming\\jupyter\\nbextensions\\codefolding\\magic-unfolded.png\n",
      "[I 17:09:28 InstallContribNbextensionsApp] Up to date: C:\\Users\\easya\\AppData\\Roaming\\jupyter\\nbextensions\\codefolding\\main.js\n",
      "[I 17:09:28 InstallContribNbextensionsApp] Up to date: C:\\Users\\easya\\AppData\\Roaming\\jupyter\\nbextensions\\codefolding\\readme.md\n",
      "[I 17:09:28 InstallContribNbextensionsApp] - Validating: ok\n",
      "[I 17:09:28 InstallContribNbextensionsApp] Installing C:\\ProgramData\\Anaconda3\\lib\\site-packages\\jupyter_contrib_nbextensions\\nbextensions\\codemirror_mode_extensions -> codemirror_mode_extensions\n",
      "[I 17:09:28 InstallContribNbextensionsApp] Making directory: C:\\Users\\easya\\AppData\\Roaming\\jupyter\\nbextensions\\codemirror_mode_extensions\\\n",
      "[I 17:09:28 InstallContribNbextensionsApp] Copying: C:\\ProgramData\\Anaconda3\\lib\\site-packages\\jupyter_contrib_nbextensions\\nbextensions\\codemirror_mode_extensions\\codemirror_mode_extensions.yaml -> C:\\Users\\easya\\AppData\\Roaming\\jupyter\\nbextensions\\codemirror_mode_extensions\\codemirror_mode_extensions.yaml\n",
      "[I 17:09:28 InstallContribNbextensionsApp] Copying: C:\\ProgramData\\Anaconda3\\lib\\site-packages\\jupyter_contrib_nbextensions\\nbextensions\\codemirror_mode_extensions\\main.js -> C:\\Users\\easya\\AppData\\Roaming\\jupyter\\nbextensions\\codemirror_mode_extensions\\main.js\n",
      "[I 17:09:28 InstallContribNbextensionsApp] - Validating: ok\n",
      "[I 17:09:28 InstallContribNbextensionsApp] Installing C:\\ProgramData\\Anaconda3\\lib\\site-packages\\jupyter_contrib_nbextensions\\nbextensions\\code_font_size -> code_font_size\n",
      "[I 17:09:28 InstallContribNbextensionsApp] Making directory: C:\\Users\\easya\\AppData\\Roaming\\jupyter\\nbextensions\\code_font_size\\\n",
      "[I 17:09:28 InstallContribNbextensionsApp] Copying: C:\\ProgramData\\Anaconda3\\lib\\site-packages\\jupyter_contrib_nbextensions\\nbextensions\\code_font_size\\code_font_size.js -> C:\\Users\\easya\\AppData\\Roaming\\jupyter\\nbextensions\\code_font_size\\code_font_size.js\n",
      "[I 17:09:28 InstallContribNbextensionsApp] Copying: C:\\ProgramData\\Anaconda3\\lib\\site-packages\\jupyter_contrib_nbextensions\\nbextensions\\code_font_size\\code_font_size.yaml -> C:\\Users\\easya\\AppData\\Roaming\\jupyter\\nbextensions\\code_font_size\\code_font_size.yaml\n",
      "[I 17:09:28 InstallContribNbextensionsApp] Copying: C:\\ProgramData\\Anaconda3\\lib\\site-packages\\jupyter_contrib_nbextensions\\nbextensions\\code_font_size\\README.md -> C:\\Users\\easya\\AppData\\Roaming\\jupyter\\nbextensions\\code_font_size\\README.md\n",
      "[I 17:09:28 InstallContribNbextensionsApp] - Validating: ok\n",
      "[I 17:09:28 InstallContribNbextensionsApp] Installing C:\\ProgramData\\Anaconda3\\lib\\site-packages\\jupyter_contrib_nbextensions\\nbextensions\\code_prettify -> code_prettify\n",
      "[I 17:09:28 InstallContribNbextensionsApp] Making directory: C:\\Users\\easya\\AppData\\Roaming\\jupyter\\nbextensions\\code_prettify\\\n",
      "[I 17:09:28 InstallContribNbextensionsApp] Copying: C:\\ProgramData\\Anaconda3\\lib\\site-packages\\jupyter_contrib_nbextensions\\nbextensions\\code_prettify\\2to3.js -> C:\\Users\\easya\\AppData\\Roaming\\jupyter\\nbextensions\\code_prettify\\2to3.js\n",
      "[I 17:09:28 InstallContribNbextensionsApp] Copying: C:\\ProgramData\\Anaconda3\\lib\\site-packages\\jupyter_contrib_nbextensions\\nbextensions\\code_prettify\\2to3.yaml -> C:\\Users\\easya\\AppData\\Roaming\\jupyter\\nbextensions\\code_prettify\\2to3.yaml\n",
      "[I 17:09:28 InstallContribNbextensionsApp] Copying: C:\\ProgramData\\Anaconda3\\lib\\site-packages\\jupyter_contrib_nbextensions\\nbextensions\\code_prettify\\autopep8.js -> C:\\Users\\easya\\AppData\\Roaming\\jupyter\\nbextensions\\code_prettify\\autopep8.js\n",
      "[I 17:09:28 InstallContribNbextensionsApp] Copying: C:\\ProgramData\\Anaconda3\\lib\\site-packages\\jupyter_contrib_nbextensions\\nbextensions\\code_prettify\\autopep8.yaml -> C:\\Users\\easya\\AppData\\Roaming\\jupyter\\nbextensions\\code_prettify\\autopep8.yaml\n",
      "[I 17:09:28 InstallContribNbextensionsApp] Copying: C:\\ProgramData\\Anaconda3\\lib\\site-packages\\jupyter_contrib_nbextensions\\nbextensions\\code_prettify\\code_prettify.js -> C:\\Users\\easya\\AppData\\Roaming\\jupyter\\nbextensions\\code_prettify\\code_prettify.js\n",
      "[I 17:09:28 InstallContribNbextensionsApp] Copying: C:\\ProgramData\\Anaconda3\\lib\\site-packages\\jupyter_contrib_nbextensions\\nbextensions\\code_prettify\\code_prettify.yaml -> C:\\Users\\easya\\AppData\\Roaming\\jupyter\\nbextensions\\code_prettify\\code_prettify.yaml\n",
      "[I 17:09:28 InstallContribNbextensionsApp] Copying: C:\\ProgramData\\Anaconda3\\lib\\site-packages\\jupyter_contrib_nbextensions\\nbextensions\\code_prettify\\demo-jv.gif -> C:\\Users\\easya\\AppData\\Roaming\\jupyter\\nbextensions\\code_prettify\\demo-jv.gif\n",
      "[I 17:09:28 InstallContribNbextensionsApp] Copying: C:\\ProgramData\\Anaconda3\\lib\\site-packages\\jupyter_contrib_nbextensions\\nbextensions\\code_prettify\\demo-py.gif -> C:\\Users\\easya\\AppData\\Roaming\\jupyter\\nbextensions\\code_prettify\\demo-py.gif\n",
      "[I 17:09:28 InstallContribNbextensionsApp] Copying: C:\\ProgramData\\Anaconda3\\lib\\site-packages\\jupyter_contrib_nbextensions\\nbextensions\\code_prettify\\demo-R.gif -> C:\\Users\\easya\\AppData\\Roaming\\jupyter\\nbextensions\\code_prettify\\demo-R.gif\n",
      "[I 17:09:28 InstallContribNbextensionsApp] Copying: C:\\ProgramData\\Anaconda3\\lib\\site-packages\\jupyter_contrib_nbextensions\\nbextensions\\code_prettify\\demo_2to3.gif -> C:\\Users\\easya\\AppData\\Roaming\\jupyter\\nbextensions\\code_prettify\\demo_2to3.gif\n",
      "[I 17:09:28 InstallContribNbextensionsApp] Copying: C:\\ProgramData\\Anaconda3\\lib\\site-packages\\jupyter_contrib_nbextensions\\nbextensions\\code_prettify\\isort.js -> C:\\Users\\easya\\AppData\\Roaming\\jupyter\\nbextensions\\code_prettify\\isort.js\n",
      "[I 17:09:28 InstallContribNbextensionsApp] Copying: C:\\ProgramData\\Anaconda3\\lib\\site-packages\\jupyter_contrib_nbextensions\\nbextensions\\code_prettify\\isort.yaml -> C:\\Users\\easya\\AppData\\Roaming\\jupyter\\nbextensions\\code_prettify\\isort.yaml\n",
      "[I 17:09:28 InstallContribNbextensionsApp] Copying: C:\\ProgramData\\Anaconda3\\lib\\site-packages\\jupyter_contrib_nbextensions\\nbextensions\\code_prettify\\kernel_exec_on_cell.js -> C:\\Users\\easya\\AppData\\Roaming\\jupyter\\nbextensions\\code_prettify\\kernel_exec_on_cell.js\n",
      "[I 17:09:28 InstallContribNbextensionsApp] Copying: C:\\ProgramData\\Anaconda3\\lib\\site-packages\\jupyter_contrib_nbextensions\\nbextensions\\code_prettify\\README.md -> C:\\Users\\easya\\AppData\\Roaming\\jupyter\\nbextensions\\code_prettify\\README.md\n",
      "[I 17:09:28 InstallContribNbextensionsApp] Copying: C:\\ProgramData\\Anaconda3\\lib\\site-packages\\jupyter_contrib_nbextensions\\nbextensions\\code_prettify\\README_2to3.md -> C:\\Users\\easya\\AppData\\Roaming\\jupyter\\nbextensions\\code_prettify\\README_2to3.md\n",
      "[I 17:09:28 InstallContribNbextensionsApp] Copying: C:\\ProgramData\\Anaconda3\\lib\\site-packages\\jupyter_contrib_nbextensions\\nbextensions\\code_prettify\\README_autopep8.md -> C:\\Users\\easya\\AppData\\Roaming\\jupyter\\nbextensions\\code_prettify\\README_autopep8.md\n",
      "[I 17:09:28 InstallContribNbextensionsApp] Copying: C:\\ProgramData\\Anaconda3\\lib\\site-packages\\jupyter_contrib_nbextensions\\nbextensions\\code_prettify\\README_code_prettify.md -> C:\\Users\\easya\\AppData\\Roaming\\jupyter\\nbextensions\\code_prettify\\README_code_prettify.md\n",
      "[I 17:09:28 InstallContribNbextensionsApp] Copying: C:\\ProgramData\\Anaconda3\\lib\\site-packages\\jupyter_contrib_nbextensions\\nbextensions\\code_prettify\\README_isort.md -> C:\\Users\\easya\\AppData\\Roaming\\jupyter\\nbextensions\\code_prettify\\README_isort.md\n",
      "[I 17:09:28 InstallContribNbextensionsApp] - Validating: ok\n",
      "[I 17:09:28 InstallContribNbextensionsApp] Installing C:\\ProgramData\\Anaconda3\\lib\\site-packages\\jupyter_contrib_nbextensions\\nbextensions\\code_prettify -> code_prettify\n",
      "[I 17:09:28 InstallContribNbextensionsApp] Up to date: C:\\Users\\easya\\AppData\\Roaming\\jupyter\\nbextensions\\code_prettify\\2to3.js\n",
      "[I 17:09:28 InstallContribNbextensionsApp] Up to date: C:\\Users\\easya\\AppData\\Roaming\\jupyter\\nbextensions\\code_prettify\\2to3.yaml\n",
      "[I 17:09:28 InstallContribNbextensionsApp] Up to date: C:\\Users\\easya\\AppData\\Roaming\\jupyter\\nbextensions\\code_prettify\\autopep8.js\n",
      "[I 17:09:28 InstallContribNbextensionsApp] Up to date: C:\\Users\\easya\\AppData\\Roaming\\jupyter\\nbextensions\\code_prettify\\autopep8.yaml\n",
      "[I 17:09:28 InstallContribNbextensionsApp] Up to date: C:\\Users\\easya\\AppData\\Roaming\\jupyter\\nbextensions\\code_prettify\\code_prettify.js\n",
      "[I 17:09:28 InstallContribNbextensionsApp] Up to date: C:\\Users\\easya\\AppData\\Roaming\\jupyter\\nbextensions\\code_prettify\\code_prettify.yaml\n",
      "[I 17:09:28 InstallContribNbextensionsApp] Up to date: C:\\Users\\easya\\AppData\\Roaming\\jupyter\\nbextensions\\code_prettify\\demo-jv.gif\n",
      "[I 17:09:28 InstallContribNbextensionsApp] Up to date: C:\\Users\\easya\\AppData\\Roaming\\jupyter\\nbextensions\\code_prettify\\demo-py.gif\n",
      "[I 17:09:28 InstallContribNbextensionsApp] Up to date: C:\\Users\\easya\\AppData\\Roaming\\jupyter\\nbextensions\\code_prettify\\demo-R.gif\n",
      "[I 17:09:28 InstallContribNbextensionsApp] Up to date: C:\\Users\\easya\\AppData\\Roaming\\jupyter\\nbextensions\\code_prettify\\demo_2to3.gif\n",
      "[I 17:09:28 InstallContribNbextensionsApp] Up to date: C:\\Users\\easya\\AppData\\Roaming\\jupyter\\nbextensions\\code_prettify\\isort.js\n",
      "[I 17:09:28 InstallContribNbextensionsApp] Up to date: C:\\Users\\easya\\AppData\\Roaming\\jupyter\\nbextensions\\code_prettify\\isort.yaml\n",
      "[I 17:09:28 InstallContribNbextensionsApp] Up to date: C:\\Users\\easya\\AppData\\Roaming\\jupyter\\nbextensions\\code_prettify\\kernel_exec_on_cell.js\n",
      "[I 17:09:28 InstallContribNbextensionsApp] Up to date: C:\\Users\\easya\\AppData\\Roaming\\jupyter\\nbextensions\\code_prettify\\README.md\n",
      "[I 17:09:28 InstallContribNbextensionsApp] Up to date: C:\\Users\\easya\\AppData\\Roaming\\jupyter\\nbextensions\\code_prettify\\README_2to3.md\n",
      "[I 17:09:28 InstallContribNbextensionsApp] Up to date: C:\\Users\\easya\\AppData\\Roaming\\jupyter\\nbextensions\\code_prettify\\README_autopep8.md\n",
      "[I 17:09:28 InstallContribNbextensionsApp] Up to date: C:\\Users\\easya\\AppData\\Roaming\\jupyter\\nbextensions\\code_prettify\\README_code_prettify.md\n",
      "[I 17:09:28 InstallContribNbextensionsApp] Up to date: C:\\Users\\easya\\AppData\\Roaming\\jupyter\\nbextensions\\code_prettify\\README_isort.md\n",
      "[I 17:09:28 InstallContribNbextensionsApp] - Validating: ok\n",
      "[I 17:09:28 InstallContribNbextensionsApp] Installing C:\\ProgramData\\Anaconda3\\lib\\site-packages\\jupyter_contrib_nbextensions\\nbextensions\\code_prettify -> code_prettify\n",
      "[I 17:09:28 InstallContribNbextensionsApp] Up to date: C:\\Users\\easya\\AppData\\Roaming\\jupyter\\nbextensions\\code_prettify\\2to3.js\n",
      "[I 17:09:28 InstallContribNbextensionsApp] Up to date: C:\\Users\\easya\\AppData\\Roaming\\jupyter\\nbextensions\\code_prettify\\2to3.yaml\n",
      "[I 17:09:28 InstallContribNbextensionsApp] Up to date: C:\\Users\\easya\\AppData\\Roaming\\jupyter\\nbextensions\\code_prettify\\autopep8.js\n",
      "[I 17:09:28 InstallContribNbextensionsApp] Up to date: C:\\Users\\easya\\AppData\\Roaming\\jupyter\\nbextensions\\code_prettify\\autopep8.yaml\n",
      "[I 17:09:28 InstallContribNbextensionsApp] Up to date: C:\\Users\\easya\\AppData\\Roaming\\jupyter\\nbextensions\\code_prettify\\code_prettify.js\n",
      "[I 17:09:28 InstallContribNbextensionsApp] Up to date: C:\\Users\\easya\\AppData\\Roaming\\jupyter\\nbextensions\\code_prettify\\code_prettify.yaml\n",
      "[I 17:09:28 InstallContribNbextensionsApp] Up to date: C:\\Users\\easya\\AppData\\Roaming\\jupyter\\nbextensions\\code_prettify\\demo-jv.gif\n",
      "[I 17:09:28 InstallContribNbextensionsApp] Up to date: C:\\Users\\easya\\AppData\\Roaming\\jupyter\\nbextensions\\code_prettify\\demo-py.gif\n",
      "[I 17:09:28 InstallContribNbextensionsApp] Up to date: C:\\Users\\easya\\AppData\\Roaming\\jupyter\\nbextensions\\code_prettify\\demo-R.gif\n",
      "[I 17:09:28 InstallContribNbextensionsApp] Up to date: C:\\Users\\easya\\AppData\\Roaming\\jupyter\\nbextensions\\code_prettify\\demo_2to3.gif\n",
      "[I 17:09:28 InstallContribNbextensionsApp] Up to date: C:\\Users\\easya\\AppData\\Roaming\\jupyter\\nbextensions\\code_prettify\\isort.js\n",
      "[I 17:09:28 InstallContribNbextensionsApp] Up to date: C:\\Users\\easya\\AppData\\Roaming\\jupyter\\nbextensions\\code_prettify\\isort.yaml\n",
      "[I 17:09:28 InstallContribNbextensionsApp] Up to date: C:\\Users\\easya\\AppData\\Roaming\\jupyter\\nbextensions\\code_prettify\\kernel_exec_on_cell.js\n",
      "[I 17:09:28 InstallContribNbextensionsApp] Up to date: C:\\Users\\easya\\AppData\\Roaming\\jupyter\\nbextensions\\code_prettify\\README.md\n",
      "[I 17:09:28 InstallContribNbextensionsApp] Up to date: C:\\Users\\easya\\AppData\\Roaming\\jupyter\\nbextensions\\code_prettify\\README_2to3.md\n",
      "[I 17:09:28 InstallContribNbextensionsApp] Up to date: C:\\Users\\easya\\AppData\\Roaming\\jupyter\\nbextensions\\code_prettify\\README_autopep8.md\n",
      "[I 17:09:28 InstallContribNbextensionsApp] Up to date: C:\\Users\\easya\\AppData\\Roaming\\jupyter\\nbextensions\\code_prettify\\README_code_prettify.md\n",
      "[I 17:09:28 InstallContribNbextensionsApp] Up to date: C:\\Users\\easya\\AppData\\Roaming\\jupyter\\nbextensions\\code_prettify\\README_isort.md\n",
      "[I 17:09:28 InstallContribNbextensionsApp] - Validating: ok\n",
      "[I 17:09:28 InstallContribNbextensionsApp] Installing C:\\ProgramData\\Anaconda3\\lib\\site-packages\\jupyter_contrib_nbextensions\\nbextensions\\code_prettify -> code_prettify\n",
      "[I 17:09:28 InstallContribNbextensionsApp] Up to date: C:\\Users\\easya\\AppData\\Roaming\\jupyter\\nbextensions\\code_prettify\\2to3.js\n",
      "[I 17:09:28 InstallContribNbextensionsApp] Up to date: C:\\Users\\easya\\AppData\\Roaming\\jupyter\\nbextensions\\code_prettify\\2to3.yaml\n",
      "[I 17:09:28 InstallContribNbextensionsApp] Up to date: C:\\Users\\easya\\AppData\\Roaming\\jupyter\\nbextensions\\code_prettify\\autopep8.js\n",
      "[I 17:09:28 InstallContribNbextensionsApp] Up to date: C:\\Users\\easya\\AppData\\Roaming\\jupyter\\nbextensions\\code_prettify\\autopep8.yaml\n",
      "[I 17:09:28 InstallContribNbextensionsApp] Up to date: C:\\Users\\easya\\AppData\\Roaming\\jupyter\\nbextensions\\code_prettify\\code_prettify.js\n",
      "[I 17:09:28 InstallContribNbextensionsApp] Up to date: C:\\Users\\easya\\AppData\\Roaming\\jupyter\\nbextensions\\code_prettify\\code_prettify.yaml\n",
      "[I 17:09:28 InstallContribNbextensionsApp] Up to date: C:\\Users\\easya\\AppData\\Roaming\\jupyter\\nbextensions\\code_prettify\\demo-jv.gif\n",
      "[I 17:09:28 InstallContribNbextensionsApp] Up to date: C:\\Users\\easya\\AppData\\Roaming\\jupyter\\nbextensions\\code_prettify\\demo-py.gif\n",
      "[I 17:09:28 InstallContribNbextensionsApp] Up to date: C:\\Users\\easya\\AppData\\Roaming\\jupyter\\nbextensions\\code_prettify\\demo-R.gif\n",
      "[I 17:09:28 InstallContribNbextensionsApp] Up to date: C:\\Users\\easya\\AppData\\Roaming\\jupyter\\nbextensions\\code_prettify\\demo_2to3.gif\n",
      "[I 17:09:28 InstallContribNbextensionsApp] Up to date: C:\\Users\\easya\\AppData\\Roaming\\jupyter\\nbextensions\\code_prettify\\isort.js\n",
      "[I 17:09:28 InstallContribNbextensionsApp] Up to date: C:\\Users\\easya\\AppData\\Roaming\\jupyter\\nbextensions\\code_prettify\\isort.yaml\n",
      "[I 17:09:28 InstallContribNbextensionsApp] Up to date: C:\\Users\\easya\\AppData\\Roaming\\jupyter\\nbextensions\\code_prettify\\kernel_exec_on_cell.js\n",
      "[I 17:09:28 InstallContribNbextensionsApp] Up to date: C:\\Users\\easya\\AppData\\Roaming\\jupyter\\nbextensions\\code_prettify\\README.md\n",
      "[I 17:09:28 InstallContribNbextensionsApp] Up to date: C:\\Users\\easya\\AppData\\Roaming\\jupyter\\nbextensions\\code_prettify\\README_2to3.md\n",
      "[I 17:09:28 InstallContribNbextensionsApp] Up to date: C:\\Users\\easya\\AppData\\Roaming\\jupyter\\nbextensions\\code_prettify\\README_autopep8.md\n",
      "[I 17:09:28 InstallContribNbextensionsApp] Up to date: C:\\Users\\easya\\AppData\\Roaming\\jupyter\\nbextensions\\code_prettify\\README_code_prettify.md\n",
      "[I 17:09:28 InstallContribNbextensionsApp] Up to date: C:\\Users\\easya\\AppData\\Roaming\\jupyter\\nbextensions\\code_prettify\\README_isort.md\n",
      "[I 17:09:28 InstallContribNbextensionsApp] - Validating: ok\n",
      "[I 17:09:28 InstallContribNbextensionsApp] Installing C:\\ProgramData\\Anaconda3\\lib\\site-packages\\jupyter_contrib_nbextensions\\nbextensions\\collapsible_headings -> collapsible_headings\n",
      "[I 17:09:28 InstallContribNbextensionsApp] Making directory: C:\\Users\\easya\\AppData\\Roaming\\jupyter\\nbextensions\\collapsible_headings\\\n",
      "[I 17:09:28 InstallContribNbextensionsApp] Copying: C:\\ProgramData\\Anaconda3\\lib\\site-packages\\jupyter_contrib_nbextensions\\nbextensions\\collapsible_headings\\collapsible_headings.yaml -> C:\\Users\\easya\\AppData\\Roaming\\jupyter\\nbextensions\\collapsible_headings\\collapsible_headings.yaml\n",
      "[I 17:09:28 InstallContribNbextensionsApp] Copying: C:\\ProgramData\\Anaconda3\\lib\\site-packages\\jupyter_contrib_nbextensions\\nbextensions\\collapsible_headings\\icon.png -> C:\\Users\\easya\\AppData\\Roaming\\jupyter\\nbextensions\\collapsible_headings\\icon.png\n",
      "[I 17:09:28 InstallContribNbextensionsApp] Copying: C:\\ProgramData\\Anaconda3\\lib\\site-packages\\jupyter_contrib_nbextensions\\nbextensions\\collapsible_headings\\main.css -> C:\\Users\\easya\\AppData\\Roaming\\jupyter\\nbextensions\\collapsible_headings\\main.css\n",
      "[I 17:09:28 InstallContribNbextensionsApp] Copying: C:\\ProgramData\\Anaconda3\\lib\\site-packages\\jupyter_contrib_nbextensions\\nbextensions\\collapsible_headings\\main.js -> C:\\Users\\easya\\AppData\\Roaming\\jupyter\\nbextensions\\collapsible_headings\\main.js\n",
      "[I 17:09:28 InstallContribNbextensionsApp] Copying: C:\\ProgramData\\Anaconda3\\lib\\site-packages\\jupyter_contrib_nbextensions\\nbextensions\\collapsible_headings\\readme.md -> C:\\Users\\easya\\AppData\\Roaming\\jupyter\\nbextensions\\collapsible_headings\\readme.md\n",
      "[I 17:09:28 InstallContribNbextensionsApp] Copying: C:\\ProgramData\\Anaconda3\\lib\\site-packages\\jupyter_contrib_nbextensions\\nbextensions\\collapsible_headings\\screenshot.png -> C:\\Users\\easya\\AppData\\Roaming\\jupyter\\nbextensions\\collapsible_headings\\screenshot.png\n",
      "[I 17:09:28 InstallContribNbextensionsApp] - Validating: ok\n",
      "[I 17:09:28 InstallContribNbextensionsApp] Installing C:\\ProgramData\\Anaconda3\\lib\\site-packages\\jupyter_contrib_nbextensions\\nbextensions\\comment-uncomment -> comment-uncomment\n",
      "[I 17:09:28 InstallContribNbextensionsApp] Making directory: C:\\Users\\easya\\AppData\\Roaming\\jupyter\\nbextensions\\comment-uncomment\\\n",
      "[I 17:09:28 InstallContribNbextensionsApp] Copying: C:\\ProgramData\\Anaconda3\\lib\\site-packages\\jupyter_contrib_nbextensions\\nbextensions\\comment-uncomment\\comment-uncomment.yaml -> C:\\Users\\easya\\AppData\\Roaming\\jupyter\\nbextensions\\comment-uncomment\\comment-uncomment.yaml\n",
      "[I 17:09:28 InstallContribNbextensionsApp] Copying: C:\\ProgramData\\Anaconda3\\lib\\site-packages\\jupyter_contrib_nbextensions\\nbextensions\\comment-uncomment\\icon.png -> C:\\Users\\easya\\AppData\\Roaming\\jupyter\\nbextensions\\comment-uncomment\\icon.png\n",
      "[I 17:09:28 InstallContribNbextensionsApp] Copying: C:\\ProgramData\\Anaconda3\\lib\\site-packages\\jupyter_contrib_nbextensions\\nbextensions\\comment-uncomment\\main.js -> C:\\Users\\easya\\AppData\\Roaming\\jupyter\\nbextensions\\comment-uncomment\\main.js\n",
      "[I 17:09:28 InstallContribNbextensionsApp] Copying: C:\\ProgramData\\Anaconda3\\lib\\site-packages\\jupyter_contrib_nbextensions\\nbextensions\\comment-uncomment\\readme.md -> C:\\Users\\easya\\AppData\\Roaming\\jupyter\\nbextensions\\comment-uncomment\\readme.md\n",
      "[I 17:09:28 InstallContribNbextensionsApp] - Validating: ok\n",
      "[I 17:09:28 InstallContribNbextensionsApp] Installing C:\\ProgramData\\Anaconda3\\lib\\site-packages\\jupyter_contrib_nbextensions\\nbextensions\\contrib_nbextensions_help_item -> contrib_nbextensions_help_item\n",
      "[I 17:09:28 InstallContribNbextensionsApp] Making directory: C:\\Users\\easya\\AppData\\Roaming\\jupyter\\nbextensions\\contrib_nbextensions_help_item\\\n",
      "[I 17:09:28 InstallContribNbextensionsApp] Copying: C:\\ProgramData\\Anaconda3\\lib\\site-packages\\jupyter_contrib_nbextensions\\nbextensions\\contrib_nbextensions_help_item\\contrib_nbextensions_help_item.yaml -> C:\\Users\\easya\\AppData\\Roaming\\jupyter\\nbextensions\\contrib_nbextensions_help_item\\contrib_nbextensions_help_item.yaml\n",
      "[I 17:09:28 InstallContribNbextensionsApp] Copying: C:\\ProgramData\\Anaconda3\\lib\\site-packages\\jupyter_contrib_nbextensions\\nbextensions\\contrib_nbextensions_help_item\\main.js -> C:\\Users\\easya\\AppData\\Roaming\\jupyter\\nbextensions\\contrib_nbextensions_help_item\\main.js\n",
      "[I 17:09:28 InstallContribNbextensionsApp] Copying: C:\\ProgramData\\Anaconda3\\lib\\site-packages\\jupyter_contrib_nbextensions\\nbextensions\\contrib_nbextensions_help_item\\README.md -> C:\\Users\\easya\\AppData\\Roaming\\jupyter\\nbextensions\\contrib_nbextensions_help_item\\README.md\n",
      "[I 17:09:28 InstallContribNbextensionsApp] - Validating: ok\n",
      "[I 17:09:28 InstallContribNbextensionsApp] Installing C:\\ProgramData\\Anaconda3\\lib\\site-packages\\jupyter_contrib_nbextensions\\nbextensions\\datestamper -> datestamper\n",
      "[I 17:09:28 InstallContribNbextensionsApp] Making directory: C:\\Users\\easya\\AppData\\Roaming\\jupyter\\nbextensions\\datestamper\\\n",
      "[I 17:09:28 InstallContribNbextensionsApp] Copying: C:\\ProgramData\\Anaconda3\\lib\\site-packages\\jupyter_contrib_nbextensions\\nbextensions\\datestamper\\icon.png -> C:\\Users\\easya\\AppData\\Roaming\\jupyter\\nbextensions\\datestamper\\icon.png\n",
      "[I 17:09:28 InstallContribNbextensionsApp] Copying: C:\\ProgramData\\Anaconda3\\lib\\site-packages\\jupyter_contrib_nbextensions\\nbextensions\\datestamper\\main.js -> C:\\Users\\easya\\AppData\\Roaming\\jupyter\\nbextensions\\datestamper\\main.js\n",
      "[I 17:09:28 InstallContribNbextensionsApp] Copying: C:\\ProgramData\\Anaconda3\\lib\\site-packages\\jupyter_contrib_nbextensions\\nbextensions\\datestamper\\main.yaml -> C:\\Users\\easya\\AppData\\Roaming\\jupyter\\nbextensions\\datestamper\\main.yaml\n",
      "[I 17:09:28 InstallContribNbextensionsApp] Copying: C:\\ProgramData\\Anaconda3\\lib\\site-packages\\jupyter_contrib_nbextensions\\nbextensions\\datestamper\\readme.md -> C:\\Users\\easya\\AppData\\Roaming\\jupyter\\nbextensions\\datestamper\\readme.md\n",
      "[I 17:09:28 InstallContribNbextensionsApp] - Validating: ok\n",
      "[I 17:09:28 InstallContribNbextensionsApp] Installing C:\\ProgramData\\Anaconda3\\lib\\site-packages\\jupyter_contrib_nbextensions\\nbextensions\\equation-numbering -> equation-numbering\n",
      "[I 17:09:28 InstallContribNbextensionsApp] Making directory: C:\\Users\\easya\\AppData\\Roaming\\jupyter\\nbextensions\\equation-numbering\\\n",
      "[I 17:09:28 InstallContribNbextensionsApp] Copying: C:\\ProgramData\\Anaconda3\\lib\\site-packages\\jupyter_contrib_nbextensions\\nbextensions\\equation-numbering\\button.png -> C:\\Users\\easya\\AppData\\Roaming\\jupyter\\nbextensions\\equation-numbering\\button.png\n",
      "[I 17:09:28 InstallContribNbextensionsApp] Copying: C:\\ProgramData\\Anaconda3\\lib\\site-packages\\jupyter_contrib_nbextensions\\nbextensions\\equation-numbering\\icon.png -> C:\\Users\\easya\\AppData\\Roaming\\jupyter\\nbextensions\\equation-numbering\\icon.png\n",
      "[I 17:09:28 InstallContribNbextensionsApp] Copying: C:\\ProgramData\\Anaconda3\\lib\\site-packages\\jupyter_contrib_nbextensions\\nbextensions\\equation-numbering\\info.yaml -> C:\\Users\\easya\\AppData\\Roaming\\jupyter\\nbextensions\\equation-numbering\\info.yaml\n",
      "[I 17:09:28 InstallContribNbextensionsApp] Copying: C:\\ProgramData\\Anaconda3\\lib\\site-packages\\jupyter_contrib_nbextensions\\nbextensions\\equation-numbering\\main.js -> C:\\Users\\easya\\AppData\\Roaming\\jupyter\\nbextensions\\equation-numbering\\main.js\n",
      "[I 17:09:28 InstallContribNbextensionsApp] Copying: C:\\ProgramData\\Anaconda3\\lib\\site-packages\\jupyter_contrib_nbextensions\\nbextensions\\equation-numbering\\readme.md -> C:\\Users\\easya\\AppData\\Roaming\\jupyter\\nbextensions\\equation-numbering\\readme.md\n",
      "[I 17:09:28 InstallContribNbextensionsApp] - Validating: ok\n",
      "[I 17:09:28 InstallContribNbextensionsApp] Installing C:\\ProgramData\\Anaconda3\\lib\\site-packages\\jupyter_contrib_nbextensions\\nbextensions\\execute_time -> execute_time\n",
      "[I 17:09:28 InstallContribNbextensionsApp] Making directory: C:\\Users\\easya\\AppData\\Roaming\\jupyter\\nbextensions\\execute_time\\\n",
      "[I 17:09:28 InstallContribNbextensionsApp] Copying: C:\\ProgramData\\Anaconda3\\lib\\site-packages\\jupyter_contrib_nbextensions\\nbextensions\\execute_time\\ExecuteTime.css -> C:\\Users\\easya\\AppData\\Roaming\\jupyter\\nbextensions\\execute_time\\ExecuteTime.css\n",
      "[I 17:09:28 InstallContribNbextensionsApp] Copying: C:\\ProgramData\\Anaconda3\\lib\\site-packages\\jupyter_contrib_nbextensions\\nbextensions\\execute_time\\ExecuteTime.js -> C:\\Users\\easya\\AppData\\Roaming\\jupyter\\nbextensions\\execute_time\\ExecuteTime.js\n",
      "[I 17:09:28 InstallContribNbextensionsApp] Copying: C:\\ProgramData\\Anaconda3\\lib\\site-packages\\jupyter_contrib_nbextensions\\nbextensions\\execute_time\\ExecuteTime.yaml -> C:\\Users\\easya\\AppData\\Roaming\\jupyter\\nbextensions\\execute_time\\ExecuteTime.yaml\n",
      "[I 17:09:28 InstallContribNbextensionsApp] Copying: C:\\ProgramData\\Anaconda3\\lib\\site-packages\\jupyter_contrib_nbextensions\\nbextensions\\execute_time\\execution-timings-box.png -> C:\\Users\\easya\\AppData\\Roaming\\jupyter\\nbextensions\\execute_time\\execution-timings-box.png\n",
      "[I 17:09:28 InstallContribNbextensionsApp] Copying: C:\\ProgramData\\Anaconda3\\lib\\site-packages\\jupyter_contrib_nbextensions\\nbextensions\\execute_time\\execution-timings-menu.png -> C:\\Users\\easya\\AppData\\Roaming\\jupyter\\nbextensions\\execute_time\\execution-timings-menu.png\n",
      "[I 17:09:28 InstallContribNbextensionsApp] Copying: C:\\ProgramData\\Anaconda3\\lib\\site-packages\\jupyter_contrib_nbextensions\\nbextensions\\execute_time\\icon.png -> C:\\Users\\easya\\AppData\\Roaming\\jupyter\\nbextensions\\execute_time\\icon.png\n",
      "[I 17:09:28 InstallContribNbextensionsApp] Copying: C:\\ProgramData\\Anaconda3\\lib\\site-packages\\jupyter_contrib_nbextensions\\nbextensions\\execute_time\\readme.md -> C:\\Users\\easya\\AppData\\Roaming\\jupyter\\nbextensions\\execute_time\\readme.md\n",
      "[I 17:09:28 InstallContribNbextensionsApp] - Validating: ok\n",
      "[I 17:09:28 InstallContribNbextensionsApp] Installing C:\\ProgramData\\Anaconda3\\lib\\site-packages\\jupyter_contrib_nbextensions\\nbextensions\\execution_dependencies -> execution_dependencies\n",
      "[I 17:09:28 InstallContribNbextensionsApp] Making directory: C:\\Users\\easya\\AppData\\Roaming\\jupyter\\nbextensions\\execution_dependencies\\\n",
      "[I 17:09:28 InstallContribNbextensionsApp] Copying: C:\\ProgramData\\Anaconda3\\lib\\site-packages\\jupyter_contrib_nbextensions\\nbextensions\\execution_dependencies\\execution_dependencies.js -> C:\\Users\\easya\\AppData\\Roaming\\jupyter\\nbextensions\\execution_dependencies\\execution_dependencies.js\n",
      "[I 17:09:28 InstallContribNbextensionsApp] Copying: C:\\ProgramData\\Anaconda3\\lib\\site-packages\\jupyter_contrib_nbextensions\\nbextensions\\execution_dependencies\\execution_dependencies.yml -> C:\\Users\\easya\\AppData\\Roaming\\jupyter\\nbextensions\\execution_dependencies\\execution_dependencies.yml\n",
      "[I 17:09:28 InstallContribNbextensionsApp] Copying: C:\\ProgramData\\Anaconda3\\lib\\site-packages\\jupyter_contrib_nbextensions\\nbextensions\\execution_dependencies\\README.md -> C:\\Users\\easya\\AppData\\Roaming\\jupyter\\nbextensions\\execution_dependencies\\README.md\n",
      "[I 17:09:28 InstallContribNbextensionsApp] - Validating: ok\n",
      "[I 17:09:28 InstallContribNbextensionsApp] Installing C:\\ProgramData\\Anaconda3\\lib\\site-packages\\jupyter_contrib_nbextensions\\nbextensions\\exercise -> exercise\n",
      "[I 17:09:28 InstallContribNbextensionsApp] Making directory: C:\\Users\\easya\\AppData\\Roaming\\jupyter\\nbextensions\\exercise\\\n",
      "[I 17:09:28 InstallContribNbextensionsApp] Copying: C:\\ProgramData\\Anaconda3\\lib\\site-packages\\jupyter_contrib_nbextensions\\nbextensions\\exercise\\exercise.yaml -> C:\\Users\\easya\\AppData\\Roaming\\jupyter\\nbextensions\\exercise\\exercise.yaml\n",
      "[I 17:09:28 InstallContribNbextensionsApp] Copying: C:\\ProgramData\\Anaconda3\\lib\\site-packages\\jupyter_contrib_nbextensions\\nbextensions\\exercise\\history.md -> C:\\Users\\easya\\AppData\\Roaming\\jupyter\\nbextensions\\exercise\\history.md\n",
      "[I 17:09:28 InstallContribNbextensionsApp] Copying: C:\\ProgramData\\Anaconda3\\lib\\site-packages\\jupyter_contrib_nbextensions\\nbextensions\\exercise\\icon.png -> C:\\Users\\easya\\AppData\\Roaming\\jupyter\\nbextensions\\exercise\\icon.png\n",
      "[I 17:09:28 InstallContribNbextensionsApp] Copying: C:\\ProgramData\\Anaconda3\\lib\\site-packages\\jupyter_contrib_nbextensions\\nbextensions\\exercise\\image.gif -> C:\\Users\\easya\\AppData\\Roaming\\jupyter\\nbextensions\\exercise\\image.gif\n",
      "[I 17:09:28 InstallContribNbextensionsApp] Copying: C:\\ProgramData\\Anaconda3\\lib\\site-packages\\jupyter_contrib_nbextensions\\nbextensions\\exercise\\main.css -> C:\\Users\\easya\\AppData\\Roaming\\jupyter\\nbextensions\\exercise\\main.css\n",
      "[I 17:09:28 InstallContribNbextensionsApp] Copying: C:\\ProgramData\\Anaconda3\\lib\\site-packages\\jupyter_contrib_nbextensions\\nbextensions\\exercise\\main.js -> C:\\Users\\easya\\AppData\\Roaming\\jupyter\\nbextensions\\exercise\\main.js\n",
      "[I 17:09:28 InstallContribNbextensionsApp] Copying: C:\\ProgramData\\Anaconda3\\lib\\site-packages\\jupyter_contrib_nbextensions\\nbextensions\\exercise\\readme.md -> C:\\Users\\easya\\AppData\\Roaming\\jupyter\\nbextensions\\exercise\\readme.md\n",
      "[I 17:09:28 InstallContribNbextensionsApp] - Validating: ok\n",
      "[I 17:09:28 InstallContribNbextensionsApp] Installing C:\\ProgramData\\Anaconda3\\lib\\site-packages\\jupyter_contrib_nbextensions\\nbextensions\\exercise2 -> exercise2\n",
      "[I 17:09:28 InstallContribNbextensionsApp] Making directory: C:\\Users\\easya\\AppData\\Roaming\\jupyter\\nbextensions\\exercise2\\\n",
      "[I 17:09:28 InstallContribNbextensionsApp] Copying: C:\\ProgramData\\Anaconda3\\lib\\site-packages\\jupyter_contrib_nbextensions\\nbextensions\\exercise2\\exercise2.yaml -> C:\\Users\\easya\\AppData\\Roaming\\jupyter\\nbextensions\\exercise2\\exercise2.yaml\n",
      "[I 17:09:28 InstallContribNbextensionsApp] Copying: C:\\ProgramData\\Anaconda3\\lib\\site-packages\\jupyter_contrib_nbextensions\\nbextensions\\exercise2\\icon.png -> C:\\Users\\easya\\AppData\\Roaming\\jupyter\\nbextensions\\exercise2\\icon.png\n",
      "[I 17:09:28 InstallContribNbextensionsApp] Copying: C:\\ProgramData\\Anaconda3\\lib\\site-packages\\jupyter_contrib_nbextensions\\nbextensions\\exercise2\\image.gif -> C:\\Users\\easya\\AppData\\Roaming\\jupyter\\nbextensions\\exercise2\\image.gif\n",
      "[I 17:09:28 InstallContribNbextensionsApp] Copying: C:\\ProgramData\\Anaconda3\\lib\\site-packages\\jupyter_contrib_nbextensions\\nbextensions\\exercise2\\main.css -> C:\\Users\\easya\\AppData\\Roaming\\jupyter\\nbextensions\\exercise2\\main.css\n",
      "[I 17:09:28 InstallContribNbextensionsApp] Copying: C:\\ProgramData\\Anaconda3\\lib\\site-packages\\jupyter_contrib_nbextensions\\nbextensions\\exercise2\\main.js -> C:\\Users\\easya\\AppData\\Roaming\\jupyter\\nbextensions\\exercise2\\main.js\n",
      "[I 17:09:28 InstallContribNbextensionsApp] Copying: C:\\ProgramData\\Anaconda3\\lib\\site-packages\\jupyter_contrib_nbextensions\\nbextensions\\exercise2\\readme.md -> C:\\Users\\easya\\AppData\\Roaming\\jupyter\\nbextensions\\exercise2\\readme.md\n",
      "[I 17:09:28 InstallContribNbextensionsApp] - Validating: ok\n",
      "[I 17:09:28 InstallContribNbextensionsApp] Installing C:\\ProgramData\\Anaconda3\\lib\\site-packages\\jupyter_contrib_nbextensions\\nbextensions\\export_embedded -> export_embedded\n",
      "[I 17:09:28 InstallContribNbextensionsApp] Making directory: C:\\Users\\easya\\AppData\\Roaming\\jupyter\\nbextensions\\export_embedded\\\n",
      "[I 17:09:28 InstallContribNbextensionsApp] Copying: C:\\ProgramData\\Anaconda3\\lib\\site-packages\\jupyter_contrib_nbextensions\\nbextensions\\export_embedded\\export_embedded.yaml -> C:\\Users\\easya\\AppData\\Roaming\\jupyter\\nbextensions\\export_embedded\\export_embedded.yaml\n",
      "[I 17:09:28 InstallContribNbextensionsApp] Copying: C:\\ProgramData\\Anaconda3\\lib\\site-packages\\jupyter_contrib_nbextensions\\nbextensions\\export_embedded\\icon.png -> C:\\Users\\easya\\AppData\\Roaming\\jupyter\\nbextensions\\export_embedded\\icon.png\n",
      "[I 17:09:28 InstallContribNbextensionsApp] Copying: C:\\ProgramData\\Anaconda3\\lib\\site-packages\\jupyter_contrib_nbextensions\\nbextensions\\export_embedded\\main.js -> C:\\Users\\easya\\AppData\\Roaming\\jupyter\\nbextensions\\export_embedded\\main.js\n",
      "[I 17:09:28 InstallContribNbextensionsApp] Copying: C:\\ProgramData\\Anaconda3\\lib\\site-packages\\jupyter_contrib_nbextensions\\nbextensions\\export_embedded\\readme.md -> C:\\Users\\easya\\AppData\\Roaming\\jupyter\\nbextensions\\export_embedded\\readme.md\n",
      "[I 17:09:28 InstallContribNbextensionsApp] - Validating: ok\n",
      "[I 17:09:28 InstallContribNbextensionsApp] Installing C:\\ProgramData\\Anaconda3\\lib\\site-packages\\jupyter_contrib_nbextensions\\nbextensions\\freeze -> freeze\n",
      "[I 17:09:28 InstallContribNbextensionsApp] Making directory: C:\\Users\\easya\\AppData\\Roaming\\jupyter\\nbextensions\\freeze\\\n",
      "[I 17:09:28 InstallContribNbextensionsApp] Copying: C:\\ProgramData\\Anaconda3\\lib\\site-packages\\jupyter_contrib_nbextensions\\nbextensions\\freeze\\config.yaml -> C:\\Users\\easya\\AppData\\Roaming\\jupyter\\nbextensions\\freeze\\config.yaml\n",
      "[I 17:09:28 InstallContribNbextensionsApp] Copying: C:\\ProgramData\\Anaconda3\\lib\\site-packages\\jupyter_contrib_nbextensions\\nbextensions\\freeze\\icon.png -> C:\\Users\\easya\\AppData\\Roaming\\jupyter\\nbextensions\\freeze\\icon.png\n",
      "[I 17:09:28 InstallContribNbextensionsApp] Copying: C:\\ProgramData\\Anaconda3\\lib\\site-packages\\jupyter_contrib_nbextensions\\nbextensions\\freeze\\main.js -> C:\\Users\\easya\\AppData\\Roaming\\jupyter\\nbextensions\\freeze\\main.js\n",
      "[I 17:09:28 InstallContribNbextensionsApp] Copying: C:\\ProgramData\\Anaconda3\\lib\\site-packages\\jupyter_contrib_nbextensions\\nbextensions\\freeze\\readme.md -> C:\\Users\\easya\\AppData\\Roaming\\jupyter\\nbextensions\\freeze\\readme.md\n",
      "[I 17:09:28 InstallContribNbextensionsApp] - Validating: ok\n",
      "[I 17:09:28 InstallContribNbextensionsApp] Installing C:\\ProgramData\\Anaconda3\\lib\\site-packages\\jupyter_contrib_nbextensions\\nbextensions\\gist_it -> gist_it\n",
      "[I 17:09:28 InstallContribNbextensionsApp] Making directory: C:\\Users\\easya\\AppData\\Roaming\\jupyter\\nbextensions\\gist_it\\\n",
      "[I 17:09:28 InstallContribNbextensionsApp] Copying: C:\\ProgramData\\Anaconda3\\lib\\site-packages\\jupyter_contrib_nbextensions\\nbextensions\\gist_it\\gist_it.yaml -> C:\\Users\\easya\\AppData\\Roaming\\jupyter\\nbextensions\\gist_it\\gist_it.yaml\n",
      "[I 17:09:28 InstallContribNbextensionsApp] Copying: C:\\ProgramData\\Anaconda3\\lib\\site-packages\\jupyter_contrib_nbextensions\\nbextensions\\gist_it\\icon.png -> C:\\Users\\easya\\AppData\\Roaming\\jupyter\\nbextensions\\gist_it\\icon.png\n",
      "[I 17:09:28 InstallContribNbextensionsApp] Copying: C:\\ProgramData\\Anaconda3\\lib\\site-packages\\jupyter_contrib_nbextensions\\nbextensions\\gist_it\\main.js -> C:\\Users\\easya\\AppData\\Roaming\\jupyter\\nbextensions\\gist_it\\main.js\n",
      "[I 17:09:28 InstallContribNbextensionsApp] Copying: C:\\ProgramData\\Anaconda3\\lib\\site-packages\\jupyter_contrib_nbextensions\\nbextensions\\gist_it\\readme.md -> C:\\Users\\easya\\AppData\\Roaming\\jupyter\\nbextensions\\gist_it\\readme.md\n",
      "[I 17:09:28 InstallContribNbextensionsApp] - Validating: ok\n",
      "[I 17:09:28 InstallContribNbextensionsApp] Installing C:\\ProgramData\\Anaconda3\\lib\\site-packages\\jupyter_contrib_nbextensions\\nbextensions\\help_panel -> help_panel\n",
      "[I 17:09:28 InstallContribNbextensionsApp] Making directory: C:\\Users\\easya\\AppData\\Roaming\\jupyter\\nbextensions\\help_panel\\\n",
      "[I 17:09:28 InstallContribNbextensionsApp] Copying: C:\\ProgramData\\Anaconda3\\lib\\site-packages\\jupyter_contrib_nbextensions\\nbextensions\\help_panel\\help_panel.css -> C:\\Users\\easya\\AppData\\Roaming\\jupyter\\nbextensions\\help_panel\\help_panel.css\n",
      "[I 17:09:28 InstallContribNbextensionsApp] Copying: C:\\ProgramData\\Anaconda3\\lib\\site-packages\\jupyter_contrib_nbextensions\\nbextensions\\help_panel\\help_panel.js -> C:\\Users\\easya\\AppData\\Roaming\\jupyter\\nbextensions\\help_panel\\help_panel.js\n",
      "[I 17:09:28 InstallContribNbextensionsApp] Copying: C:\\ProgramData\\Anaconda3\\lib\\site-packages\\jupyter_contrib_nbextensions\\nbextensions\\help_panel\\help_panel.yaml -> C:\\Users\\easya\\AppData\\Roaming\\jupyter\\nbextensions\\help_panel\\help_panel.yaml\n",
      "[I 17:09:28 InstallContribNbextensionsApp] Copying: C:\\ProgramData\\Anaconda3\\lib\\site-packages\\jupyter_contrib_nbextensions\\nbextensions\\help_panel\\help_panel_ext.png -> C:\\Users\\easya\\AppData\\Roaming\\jupyter\\nbextensions\\help_panel\\help_panel_ext.png\n",
      "[I 17:09:28 InstallContribNbextensionsApp] Copying: C:\\ProgramData\\Anaconda3\\lib\\site-packages\\jupyter_contrib_nbextensions\\nbextensions\\help_panel\\help_panel_ext_fullscreen.png -> C:\\Users\\easya\\AppData\\Roaming\\jupyter\\nbextensions\\help_panel\\help_panel_ext_fullscreen.png\n",
      "[I 17:09:28 InstallContribNbextensionsApp] Copying: C:\\ProgramData\\Anaconda3\\lib\\site-packages\\jupyter_contrib_nbextensions\\nbextensions\\help_panel\\icon.png -> C:\\Users\\easya\\AppData\\Roaming\\jupyter\\nbextensions\\help_panel\\icon.png\n",
      "[I 17:09:28 InstallContribNbextensionsApp] Copying: C:\\ProgramData\\Anaconda3\\lib\\site-packages\\jupyter_contrib_nbextensions\\nbextensions\\help_panel\\readme.md -> C:\\Users\\easya\\AppData\\Roaming\\jupyter\\nbextensions\\help_panel\\readme.md\n",
      "[I 17:09:28 InstallContribNbextensionsApp] Making directory: C:\\Users\\easya\\AppData\\Roaming\\jupyter\\nbextensions\\help_panel\\img\n",
      "[I 17:09:28 InstallContribNbextensionsApp] Copying: C:\\ProgramData\\Anaconda3\\lib\\site-packages\\jupyter_contrib_nbextensions\\nbextensions\\help_panel\\img\\handle-v.png -> C:\\Users\\easya\\AppData\\Roaming\\jupyter\\nbextensions\\help_panel\\img\\handle-v.png\n",
      "[I 17:09:28 InstallContribNbextensionsApp] - Validating: ok\n",
      "[I 17:09:28 InstallContribNbextensionsApp] Installing C:\\ProgramData\\Anaconda3\\lib\\site-packages\\jupyter_contrib_nbextensions\\nbextensions\\hide_header -> hide_header\n",
      "[I 17:09:29 InstallContribNbextensionsApp] Making directory: C:\\Users\\easya\\AppData\\Roaming\\jupyter\\nbextensions\\hide_header\\\n",
      "[I 17:09:29 InstallContribNbextensionsApp] Copying: C:\\ProgramData\\Anaconda3\\lib\\site-packages\\jupyter_contrib_nbextensions\\nbextensions\\hide_header\\hide_header.yaml -> C:\\Users\\easya\\AppData\\Roaming\\jupyter\\nbextensions\\hide_header\\hide_header.yaml\n",
      "[I 17:09:29 InstallContribNbextensionsApp] Copying: C:\\ProgramData\\Anaconda3\\lib\\site-packages\\jupyter_contrib_nbextensions\\nbextensions\\hide_header\\main.js -> C:\\Users\\easya\\AppData\\Roaming\\jupyter\\nbextensions\\hide_header\\main.js\n",
      "[I 17:09:29 InstallContribNbextensionsApp] Copying: C:\\ProgramData\\Anaconda3\\lib\\site-packages\\jupyter_contrib_nbextensions\\nbextensions\\hide_header\\README.md -> C:\\Users\\easya\\AppData\\Roaming\\jupyter\\nbextensions\\hide_header\\README.md\n",
      "[I 17:09:29 InstallContribNbextensionsApp] - Validating: ok\n",
      "[I 17:09:29 InstallContribNbextensionsApp] Installing C:\\ProgramData\\Anaconda3\\lib\\site-packages\\jupyter_contrib_nbextensions\\nbextensions\\hide_input -> hide_input\n",
      "[I 17:09:29 InstallContribNbextensionsApp] Making directory: C:\\Users\\easya\\AppData\\Roaming\\jupyter\\nbextensions\\hide_input\\\n",
      "[I 17:09:29 InstallContribNbextensionsApp] Copying: C:\\ProgramData\\Anaconda3\\lib\\site-packages\\jupyter_contrib_nbextensions\\nbextensions\\hide_input\\hide-input.yaml -> C:\\Users\\easya\\AppData\\Roaming\\jupyter\\nbextensions\\hide_input\\hide-input.yaml\n",
      "[I 17:09:29 InstallContribNbextensionsApp] Copying: C:\\ProgramData\\Anaconda3\\lib\\site-packages\\jupyter_contrib_nbextensions\\nbextensions\\hide_input\\icon.png -> C:\\Users\\easya\\AppData\\Roaming\\jupyter\\nbextensions\\hide_input\\icon.png\n",
      "[I 17:09:29 InstallContribNbextensionsApp] Copying: C:\\ProgramData\\Anaconda3\\lib\\site-packages\\jupyter_contrib_nbextensions\\nbextensions\\hide_input\\main.js -> C:\\Users\\easya\\AppData\\Roaming\\jupyter\\nbextensions\\hide_input\\main.js\n",
      "[I 17:09:29 InstallContribNbextensionsApp] Copying: C:\\ProgramData\\Anaconda3\\lib\\site-packages\\jupyter_contrib_nbextensions\\nbextensions\\hide_input\\readme.md -> C:\\Users\\easya\\AppData\\Roaming\\jupyter\\nbextensions\\hide_input\\readme.md\n",
      "[I 17:09:29 InstallContribNbextensionsApp] - Validating: ok\n",
      "[I 17:09:29 InstallContribNbextensionsApp] Installing C:\\ProgramData\\Anaconda3\\lib\\site-packages\\jupyter_contrib_nbextensions\\nbextensions\\hide_input_all -> hide_input_all\n",
      "[I 17:09:29 InstallContribNbextensionsApp] Making directory: C:\\Users\\easya\\AppData\\Roaming\\jupyter\\nbextensions\\hide_input_all\\\n",
      "[I 17:09:29 InstallContribNbextensionsApp] Copying: C:\\ProgramData\\Anaconda3\\lib\\site-packages\\jupyter_contrib_nbextensions\\nbextensions\\hide_input_all\\hide_input_all.yaml -> C:\\Users\\easya\\AppData\\Roaming\\jupyter\\nbextensions\\hide_input_all\\hide_input_all.yaml\n",
      "[I 17:09:29 InstallContribNbextensionsApp] Copying: C:\\ProgramData\\Anaconda3\\lib\\site-packages\\jupyter_contrib_nbextensions\\nbextensions\\hide_input_all\\hide_input_all_hide.png -> C:\\Users\\easya\\AppData\\Roaming\\jupyter\\nbextensions\\hide_input_all\\hide_input_all_hide.png\n",
      "[I 17:09:29 InstallContribNbextensionsApp] Copying: C:\\ProgramData\\Anaconda3\\lib\\site-packages\\jupyter_contrib_nbextensions\\nbextensions\\hide_input_all\\hide_input_all_show.png -> C:\\Users\\easya\\AppData\\Roaming\\jupyter\\nbextensions\\hide_input_all\\hide_input_all_show.png\n",
      "[I 17:09:29 InstallContribNbextensionsApp] Copying: C:\\ProgramData\\Anaconda3\\lib\\site-packages\\jupyter_contrib_nbextensions\\nbextensions\\hide_input_all\\icon.png -> C:\\Users\\easya\\AppData\\Roaming\\jupyter\\nbextensions\\hide_input_all\\icon.png\n",
      "[I 17:09:29 InstallContribNbextensionsApp] Copying: C:\\ProgramData\\Anaconda3\\lib\\site-packages\\jupyter_contrib_nbextensions\\nbextensions\\hide_input_all\\main.js -> C:\\Users\\easya\\AppData\\Roaming\\jupyter\\nbextensions\\hide_input_all\\main.js\n",
      "[I 17:09:29 InstallContribNbextensionsApp] Copying: C:\\ProgramData\\Anaconda3\\lib\\site-packages\\jupyter_contrib_nbextensions\\nbextensions\\hide_input_all\\readme.md -> C:\\Users\\easya\\AppData\\Roaming\\jupyter\\nbextensions\\hide_input_all\\readme.md\n",
      "[I 17:09:29 InstallContribNbextensionsApp] - Validating: ok\n",
      "[I 17:09:29 InstallContribNbextensionsApp] Installing C:\\ProgramData\\Anaconda3\\lib\\site-packages\\jupyter_contrib_nbextensions\\nbextensions\\highlighter -> highlighter\n",
      "[I 17:09:29 InstallContribNbextensionsApp] Making directory: C:\\Users\\easya\\AppData\\Roaming\\jupyter\\nbextensions\\highlighter\\\n",
      "[I 17:09:29 InstallContribNbextensionsApp] Copying: C:\\ProgramData\\Anaconda3\\lib\\site-packages\\jupyter_contrib_nbextensions\\nbextensions\\highlighter\\demo_highlighter.html -> C:\\Users\\easya\\AppData\\Roaming\\jupyter\\nbextensions\\highlighter\\demo_highlighter.html\n",
      "[I 17:09:29 InstallContribNbextensionsApp] Copying: C:\\ProgramData\\Anaconda3\\lib\\site-packages\\jupyter_contrib_nbextensions\\nbextensions\\highlighter\\demo_highlighter.ipynb -> C:\\Users\\easya\\AppData\\Roaming\\jupyter\\nbextensions\\highlighter\\demo_highlighter.ipynb\n",
      "[I 17:09:29 InstallContribNbextensionsApp] Copying: C:\\ProgramData\\Anaconda3\\lib\\site-packages\\jupyter_contrib_nbextensions\\nbextensions\\highlighter\\export_highlights.html -> C:\\Users\\easya\\AppData\\Roaming\\jupyter\\nbextensions\\highlighter\\export_highlights.html\n",
      "[I 17:09:29 InstallContribNbextensionsApp] Copying: C:\\ProgramData\\Anaconda3\\lib\\site-packages\\jupyter_contrib_nbextensions\\nbextensions\\highlighter\\export_highlights.ipynb -> C:\\Users\\easya\\AppData\\Roaming\\jupyter\\nbextensions\\highlighter\\export_highlights.ipynb\n",
      "[I 17:09:29 InstallContribNbextensionsApp] Copying: C:\\ProgramData\\Anaconda3\\lib\\site-packages\\jupyter_contrib_nbextensions\\nbextensions\\highlighter\\export_highlights.pdf -> C:\\Users\\easya\\AppData\\Roaming\\jupyter\\nbextensions\\highlighter\\export_highlights.pdf\n",
      "[I 17:09:29 InstallContribNbextensionsApp] Copying: C:\\ProgramData\\Anaconda3\\lib\\site-packages\\jupyter_contrib_nbextensions\\nbextensions\\highlighter\\export_highlights.tex -> C:\\Users\\easya\\AppData\\Roaming\\jupyter\\nbextensions\\highlighter\\export_highlights.tex\n",
      "[I 17:09:29 InstallContribNbextensionsApp] Copying: C:\\ProgramData\\Anaconda3\\lib\\site-packages\\jupyter_contrib_nbextensions\\nbextensions\\highlighter\\highlighter.css -> C:\\Users\\easya\\AppData\\Roaming\\jupyter\\nbextensions\\highlighter\\highlighter.css\n",
      "[I 17:09:29 InstallContribNbextensionsApp] Copying: C:\\ProgramData\\Anaconda3\\lib\\site-packages\\jupyter_contrib_nbextensions\\nbextensions\\highlighter\\highlighter.js -> C:\\Users\\easya\\AppData\\Roaming\\jupyter\\nbextensions\\highlighter\\highlighter.js\n",
      "[I 17:09:29 InstallContribNbextensionsApp] Copying: C:\\ProgramData\\Anaconda3\\lib\\site-packages\\jupyter_contrib_nbextensions\\nbextensions\\highlighter\\highlighter.yaml -> C:\\Users\\easya\\AppData\\Roaming\\jupyter\\nbextensions\\highlighter\\highlighter.yaml\n",
      "[I 17:09:29 InstallContribNbextensionsApp] Copying: C:\\ProgramData\\Anaconda3\\lib\\site-packages\\jupyter_contrib_nbextensions\\nbextensions\\highlighter\\icon.png -> C:\\Users\\easya\\AppData\\Roaming\\jupyter\\nbextensions\\highlighter\\icon.png\n",
      "[I 17:09:29 InstallContribNbextensionsApp] Copying: C:\\ProgramData\\Anaconda3\\lib\\site-packages\\jupyter_contrib_nbextensions\\nbextensions\\highlighter\\image.gif -> C:\\Users\\easya\\AppData\\Roaming\\jupyter\\nbextensions\\highlighter\\image.gif\n",
      "[I 17:09:29 InstallContribNbextensionsApp] Copying: C:\\ProgramData\\Anaconda3\\lib\\site-packages\\jupyter_contrib_nbextensions\\nbextensions\\highlighter\\readme.md -> C:\\Users\\easya\\AppData\\Roaming\\jupyter\\nbextensions\\highlighter\\readme.md\n",
      "[I 17:09:29 InstallContribNbextensionsApp] Copying: C:\\ProgramData\\Anaconda3\\lib\\site-packages\\jupyter_contrib_nbextensions\\nbextensions\\highlighter\\tst_highlights.html -> C:\\Users\\easya\\AppData\\Roaming\\jupyter\\nbextensions\\highlighter\\tst_highlights.html\n",
      "[I 17:09:29 InstallContribNbextensionsApp] Copying: C:\\ProgramData\\Anaconda3\\lib\\site-packages\\jupyter_contrib_nbextensions\\nbextensions\\highlighter\\tst_highlights.ipynb -> C:\\Users\\easya\\AppData\\Roaming\\jupyter\\nbextensions\\highlighter\\tst_highlights.ipynb\n",
      "[I 17:09:29 InstallContribNbextensionsApp] Copying: C:\\ProgramData\\Anaconda3\\lib\\site-packages\\jupyter_contrib_nbextensions\\nbextensions\\highlighter\\tst_highlights.pdf -> C:\\Users\\easya\\AppData\\Roaming\\jupyter\\nbextensions\\highlighter\\tst_highlights.pdf\n",
      "[I 17:09:29 InstallContribNbextensionsApp] Copying: C:\\ProgramData\\Anaconda3\\lib\\site-packages\\jupyter_contrib_nbextensions\\nbextensions\\highlighter\\tst_highlights.tex -> C:\\Users\\easya\\AppData\\Roaming\\jupyter\\nbextensions\\highlighter\\tst_highlights.tex\n",
      "[I 17:09:29 InstallContribNbextensionsApp] - Validating: ok\n",
      "[I 17:09:29 InstallContribNbextensionsApp] Installing C:\\ProgramData\\Anaconda3\\lib\\site-packages\\jupyter_contrib_nbextensions\\nbextensions\\hinterland -> hinterland\n",
      "[I 17:09:29 InstallContribNbextensionsApp] Making directory: C:\\Users\\easya\\AppData\\Roaming\\jupyter\\nbextensions\\hinterland\\\n",
      "[I 17:09:29 InstallContribNbextensionsApp] Copying: C:\\ProgramData\\Anaconda3\\lib\\site-packages\\jupyter_contrib_nbextensions\\nbextensions\\hinterland\\hinterland.js -> C:\\Users\\easya\\AppData\\Roaming\\jupyter\\nbextensions\\hinterland\\hinterland.js\n",
      "[I 17:09:29 InstallContribNbextensionsApp] Copying: C:\\ProgramData\\Anaconda3\\lib\\site-packages\\jupyter_contrib_nbextensions\\nbextensions\\hinterland\\hinterland.yaml -> C:\\Users\\easya\\AppData\\Roaming\\jupyter\\nbextensions\\hinterland\\hinterland.yaml\n",
      "[I 17:09:29 InstallContribNbextensionsApp] Copying: C:\\ProgramData\\Anaconda3\\lib\\site-packages\\jupyter_contrib_nbextensions\\nbextensions\\hinterland\\README.md -> C:\\Users\\easya\\AppData\\Roaming\\jupyter\\nbextensions\\hinterland\\README.md\n",
      "[I 17:09:29 InstallContribNbextensionsApp] - Validating: ok\n",
      "[I 17:09:29 InstallContribNbextensionsApp] Installing C:\\ProgramData\\Anaconda3\\lib\\site-packages\\jupyter_contrib_nbextensions\\nbextensions\\init_cell -> init_cell\n",
      "[I 17:09:29 InstallContribNbextensionsApp] Making directory: C:\\Users\\easya\\AppData\\Roaming\\jupyter\\nbextensions\\init_cell\\\n",
      "[I 17:09:29 InstallContribNbextensionsApp] Copying: C:\\ProgramData\\Anaconda3\\lib\\site-packages\\jupyter_contrib_nbextensions\\nbextensions\\init_cell\\cell_toolbar_menu.png -> C:\\Users\\easya\\AppData\\Roaming\\jupyter\\nbextensions\\init_cell\\cell_toolbar_menu.png\n",
      "[I 17:09:29 InstallContribNbextensionsApp] Copying: C:\\ProgramData\\Anaconda3\\lib\\site-packages\\jupyter_contrib_nbextensions\\nbextensions\\init_cell\\icon.png -> C:\\Users\\easya\\AppData\\Roaming\\jupyter\\nbextensions\\init_cell\\icon.png\n",
      "[I 17:09:29 InstallContribNbextensionsApp] Copying: C:\\ProgramData\\Anaconda3\\lib\\site-packages\\jupyter_contrib_nbextensions\\nbextensions\\init_cell\\init_cell.yaml -> C:\\Users\\easya\\AppData\\Roaming\\jupyter\\nbextensions\\init_cell\\init_cell.yaml\n",
      "[I 17:09:29 InstallContribNbextensionsApp] Copying: C:\\ProgramData\\Anaconda3\\lib\\site-packages\\jupyter_contrib_nbextensions\\nbextensions\\init_cell\\main.js -> C:\\Users\\easya\\AppData\\Roaming\\jupyter\\nbextensions\\init_cell\\main.js\n",
      "[I 17:09:29 InstallContribNbextensionsApp] Copying: C:\\ProgramData\\Anaconda3\\lib\\site-packages\\jupyter_contrib_nbextensions\\nbextensions\\init_cell\\README.md -> C:\\Users\\easya\\AppData\\Roaming\\jupyter\\nbextensions\\init_cell\\README.md\n",
      "[I 17:09:29 InstallContribNbextensionsApp] - Validating: ok\n",
      "[I 17:09:29 InstallContribNbextensionsApp] Installing C:\\ProgramData\\Anaconda3\\lib\\site-packages\\jupyter_contrib_nbextensions\\nbextensions\\keyboard_shortcut_editor -> keyboard_shortcut_editor\n",
      "[I 17:09:29 InstallContribNbextensionsApp] Making directory: C:\\Users\\easya\\AppData\\Roaming\\jupyter\\nbextensions\\keyboard_shortcut_editor\\\n",
      "[I 17:09:29 InstallContribNbextensionsApp] Copying: C:\\ProgramData\\Anaconda3\\lib\\site-packages\\jupyter_contrib_nbextensions\\nbextensions\\keyboard_shortcut_editor\\icon.png -> C:\\Users\\easya\\AppData\\Roaming\\jupyter\\nbextensions\\keyboard_shortcut_editor\\icon.png\n",
      "[I 17:09:29 InstallContribNbextensionsApp] Copying: C:\\ProgramData\\Anaconda3\\lib\\site-packages\\jupyter_contrib_nbextensions\\nbextensions\\keyboard_shortcut_editor\\keyboard_shortcut_editor.yaml -> C:\\Users\\easya\\AppData\\Roaming\\jupyter\\nbextensions\\keyboard_shortcut_editor\\keyboard_shortcut_editor.yaml\n",
      "[I 17:09:29 InstallContribNbextensionsApp] Copying: C:\\ProgramData\\Anaconda3\\lib\\site-packages\\jupyter_contrib_nbextensions\\nbextensions\\keyboard_shortcut_editor\\kse_components.js -> C:\\Users\\easya\\AppData\\Roaming\\jupyter\\nbextensions\\keyboard_shortcut_editor\\kse_components.js\n",
      "[I 17:09:29 InstallContribNbextensionsApp] Copying: C:\\ProgramData\\Anaconda3\\lib\\site-packages\\jupyter_contrib_nbextensions\\nbextensions\\keyboard_shortcut_editor\\main.css -> C:\\Users\\easya\\AppData\\Roaming\\jupyter\\nbextensions\\keyboard_shortcut_editor\\main.css\n",
      "[I 17:09:29 InstallContribNbextensionsApp] Copying: C:\\ProgramData\\Anaconda3\\lib\\site-packages\\jupyter_contrib_nbextensions\\nbextensions\\keyboard_shortcut_editor\\main.js -> C:\\Users\\easya\\AppData\\Roaming\\jupyter\\nbextensions\\keyboard_shortcut_editor\\main.js\n",
      "[I 17:09:29 InstallContribNbextensionsApp] Copying: C:\\ProgramData\\Anaconda3\\lib\\site-packages\\jupyter_contrib_nbextensions\\nbextensions\\keyboard_shortcut_editor\\quickhelp_shim.js -> C:\\Users\\easya\\AppData\\Roaming\\jupyter\\nbextensions\\keyboard_shortcut_editor\\quickhelp_shim.js\n",
      "[I 17:09:29 InstallContribNbextensionsApp] Copying: C:\\ProgramData\\Anaconda3\\lib\\site-packages\\jupyter_contrib_nbextensions\\nbextensions\\keyboard_shortcut_editor\\README.md -> C:\\Users\\easya\\AppData\\Roaming\\jupyter\\nbextensions\\keyboard_shortcut_editor\\README.md\n",
      "[I 17:09:29 InstallContribNbextensionsApp] Copying: C:\\ProgramData\\Anaconda3\\lib\\site-packages\\jupyter_contrib_nbextensions\\nbextensions\\keyboard_shortcut_editor\\readme_add_new_link.png -> C:\\Users\\easya\\AppData\\Roaming\\jupyter\\nbextensions\\keyboard_shortcut_editor\\readme_add_new_link.png\n",
      "[I 17:09:29 InstallContribNbextensionsApp] Copying: C:\\ProgramData\\Anaconda3\\lib\\site-packages\\jupyter_contrib_nbextensions\\nbextensions\\keyboard_shortcut_editor\\readme_add_new_select_action.png -> C:\\Users\\easya\\AppData\\Roaming\\jupyter\\nbextensions\\keyboard_shortcut_editor\\readme_add_new_select_action.png\n",
      "[I 17:09:29 InstallContribNbextensionsApp] Copying: C:\\ProgramData\\Anaconda3\\lib\\site-packages\\jupyter_contrib_nbextensions\\nbextensions\\keyboard_shortcut_editor\\readme_comma.png -> C:\\Users\\easya\\AppData\\Roaming\\jupyter\\nbextensions\\keyboard_shortcut_editor\\readme_comma.png\n",
      "[I 17:09:29 InstallContribNbextensionsApp] Copying: C:\\ProgramData\\Anaconda3\\lib\\site-packages\\jupyter_contrib_nbextensions\\nbextensions\\keyboard_shortcut_editor\\readme_conflict.png -> C:\\Users\\easya\\AppData\\Roaming\\jupyter\\nbextensions\\keyboard_shortcut_editor\\readme_conflict.png\n",
      "[I 17:09:29 InstallContribNbextensionsApp] Copying: C:\\ProgramData\\Anaconda3\\lib\\site-packages\\jupyter_contrib_nbextensions\\nbextensions\\keyboard_shortcut_editor\\readme_dropdown.png -> C:\\Users\\easya\\AppData\\Roaming\\jupyter\\nbextensions\\keyboard_shortcut_editor\\readme_dropdown.png\n",
      "[I 17:09:29 InstallContribNbextensionsApp] Copying: C:\\ProgramData\\Anaconda3\\lib\\site-packages\\jupyter_contrib_nbextensions\\nbextensions\\keyboard_shortcut_editor\\readme_menu_item.png -> C:\\Users\\easya\\AppData\\Roaming\\jupyter\\nbextensions\\keyboard_shortcut_editor\\readme_menu_item.png\n",
      "[I 17:09:29 InstallContribNbextensionsApp] Copying: C:\\ProgramData\\Anaconda3\\lib\\site-packages\\jupyter_contrib_nbextensions\\nbextensions\\keyboard_shortcut_editor\\readme_reset_disabled.png -> C:\\Users\\easya\\AppData\\Roaming\\jupyter\\nbextensions\\keyboard_shortcut_editor\\readme_reset_disabled.png\n",
      "[I 17:09:29 InstallContribNbextensionsApp] Copying: C:\\ProgramData\\Anaconda3\\lib\\site-packages\\jupyter_contrib_nbextensions\\nbextensions\\keyboard_shortcut_editor\\readme_shortcut_editor_blank.png -> C:\\Users\\easya\\AppData\\Roaming\\jupyter\\nbextensions\\keyboard_shortcut_editor\\readme_shortcut_editor_blank.png\n",
      "[I 17:09:29 InstallContribNbextensionsApp] Copying: C:\\ProgramData\\Anaconda3\\lib\\site-packages\\jupyter_contrib_nbextensions\\nbextensions\\keyboard_shortcut_editor\\readme_shortcut_editor_success.png -> C:\\Users\\easya\\AppData\\Roaming\\jupyter\\nbextensions\\keyboard_shortcut_editor\\readme_shortcut_editor_success.png\n",
      "[I 17:09:29 InstallContribNbextensionsApp] Copying: C:\\ProgramData\\Anaconda3\\lib\\site-packages\\jupyter_contrib_nbextensions\\nbextensions\\keyboard_shortcut_editor\\readme_undefined_key.png -> C:\\Users\\easya\\AppData\\Roaming\\jupyter\\nbextensions\\keyboard_shortcut_editor\\readme_undefined_key.png\n",
      "[I 17:09:29 InstallContribNbextensionsApp] - Validating: ok\n",
      "[I 17:09:29 InstallContribNbextensionsApp] Installing C:\\ProgramData\\Anaconda3\\lib\\site-packages\\jupyter_contrib_nbextensions\\nbextensions\\limit_output -> limit_output\n",
      "[I 17:09:29 InstallContribNbextensionsApp] Making directory: C:\\Users\\easya\\AppData\\Roaming\\jupyter\\nbextensions\\limit_output\\\n",
      "[I 17:09:29 InstallContribNbextensionsApp] Copying: C:\\ProgramData\\Anaconda3\\lib\\site-packages\\jupyter_contrib_nbextensions\\nbextensions\\limit_output\\icon.png -> C:\\Users\\easya\\AppData\\Roaming\\jupyter\\nbextensions\\limit_output\\icon.png\n",
      "[I 17:09:29 InstallContribNbextensionsApp] Copying: C:\\ProgramData\\Anaconda3\\lib\\site-packages\\jupyter_contrib_nbextensions\\nbextensions\\limit_output\\limit-output.yaml -> C:\\Users\\easya\\AppData\\Roaming\\jupyter\\nbextensions\\limit_output\\limit-output.yaml\n",
      "[I 17:09:29 InstallContribNbextensionsApp] Copying: C:\\ProgramData\\Anaconda3\\lib\\site-packages\\jupyter_contrib_nbextensions\\nbextensions\\limit_output\\main.js -> C:\\Users\\easya\\AppData\\Roaming\\jupyter\\nbextensions\\limit_output\\main.js\n",
      "[I 17:09:29 InstallContribNbextensionsApp] Copying: C:\\ProgramData\\Anaconda3\\lib\\site-packages\\jupyter_contrib_nbextensions\\nbextensions\\limit_output\\readme.md -> C:\\Users\\easya\\AppData\\Roaming\\jupyter\\nbextensions\\limit_output\\readme.md\n",
      "[I 17:09:29 InstallContribNbextensionsApp] - Validating: ok\n",
      "[I 17:09:29 InstallContribNbextensionsApp] Installing C:\\ProgramData\\Anaconda3\\lib\\site-packages\\jupyter_contrib_nbextensions\\nbextensions\\livemdpreview -> livemdpreview\n",
      "[I 17:09:29 InstallContribNbextensionsApp] Making directory: C:\\Users\\easya\\AppData\\Roaming\\jupyter\\nbextensions\\livemdpreview\\\n",
      "[I 17:09:29 InstallContribNbextensionsApp] Copying: C:\\ProgramData\\Anaconda3\\lib\\site-packages\\jupyter_contrib_nbextensions\\nbextensions\\livemdpreview\\livemdpreview.js -> C:\\Users\\easya\\AppData\\Roaming\\jupyter\\nbextensions\\livemdpreview\\livemdpreview.js\n",
      "[I 17:09:29 InstallContribNbextensionsApp] Copying: C:\\ProgramData\\Anaconda3\\lib\\site-packages\\jupyter_contrib_nbextensions\\nbextensions\\livemdpreview\\livemdpreview.yml -> C:\\Users\\easya\\AppData\\Roaming\\jupyter\\nbextensions\\livemdpreview\\livemdpreview.yml\n",
      "[I 17:09:29 InstallContribNbextensionsApp] - Validating: ok\n",
      "[I 17:09:29 InstallContribNbextensionsApp] Installing C:\\ProgramData\\Anaconda3\\lib\\site-packages\\jupyter_contrib_nbextensions\\nbextensions\\load_tex_macros -> load_tex_macros\n",
      "[I 17:09:29 InstallContribNbextensionsApp] Making directory: C:\\Users\\easya\\AppData\\Roaming\\jupyter\\nbextensions\\load_tex_macros\\\n",
      "[I 17:09:29 InstallContribNbextensionsApp] Copying: C:\\ProgramData\\Anaconda3\\lib\\site-packages\\jupyter_contrib_nbextensions\\nbextensions\\load_tex_macros\\icon.png -> C:\\Users\\easya\\AppData\\Roaming\\jupyter\\nbextensions\\load_tex_macros\\icon.png\n",
      "[I 17:09:29 InstallContribNbextensionsApp] Copying: C:\\ProgramData\\Anaconda3\\lib\\site-packages\\jupyter_contrib_nbextensions\\nbextensions\\load_tex_macros\\load_tex_macros.yaml -> C:\\Users\\easya\\AppData\\Roaming\\jupyter\\nbextensions\\load_tex_macros\\load_tex_macros.yaml\n",
      "[I 17:09:29 InstallContribNbextensionsApp] Copying: C:\\ProgramData\\Anaconda3\\lib\\site-packages\\jupyter_contrib_nbextensions\\nbextensions\\load_tex_macros\\main.js -> C:\\Users\\easya\\AppData\\Roaming\\jupyter\\nbextensions\\load_tex_macros\\main.js\n",
      "[I 17:09:29 InstallContribNbextensionsApp] Copying: C:\\ProgramData\\Anaconda3\\lib\\site-packages\\jupyter_contrib_nbextensions\\nbextensions\\load_tex_macros\\readme.md -> C:\\Users\\easya\\AppData\\Roaming\\jupyter\\nbextensions\\load_tex_macros\\readme.md\n",
      "[I 17:09:29 InstallContribNbextensionsApp] - Validating: ok\n",
      "[I 17:09:29 InstallContribNbextensionsApp] Installing C:\\ProgramData\\Anaconda3\\lib\\site-packages\\jupyter_contrib_nbextensions\\nbextensions\\move_selected_cells -> move_selected_cells\n",
      "[I 17:09:29 InstallContribNbextensionsApp] Making directory: C:\\Users\\easya\\AppData\\Roaming\\jupyter\\nbextensions\\move_selected_cells\\\n",
      "[I 17:09:29 InstallContribNbextensionsApp] Copying: C:\\ProgramData\\Anaconda3\\lib\\site-packages\\jupyter_contrib_nbextensions\\nbextensions\\move_selected_cells\\main.js -> C:\\Users\\easya\\AppData\\Roaming\\jupyter\\nbextensions\\move_selected_cells\\main.js\n",
      "[I 17:09:29 InstallContribNbextensionsApp] Copying: C:\\ProgramData\\Anaconda3\\lib\\site-packages\\jupyter_contrib_nbextensions\\nbextensions\\move_selected_cells\\move_selected_cells.yaml -> C:\\Users\\easya\\AppData\\Roaming\\jupyter\\nbextensions\\move_selected_cells\\move_selected_cells.yaml\n",
      "[I 17:09:29 InstallContribNbextensionsApp] Copying: C:\\ProgramData\\Anaconda3\\lib\\site-packages\\jupyter_contrib_nbextensions\\nbextensions\\move_selected_cells\\README.md -> C:\\Users\\easya\\AppData\\Roaming\\jupyter\\nbextensions\\move_selected_cells\\README.md\n",
      "[I 17:09:29 InstallContribNbextensionsApp] - Validating: ok\n",
      "[I 17:09:29 InstallContribNbextensionsApp] Installing C:\\ProgramData\\Anaconda3\\lib\\site-packages\\jupyter_contrib_nbextensions\\nbextensions\\navigation-hotkeys -> navigation-hotkeys\n",
      "[I 17:09:29 InstallContribNbextensionsApp] Making directory: C:\\Users\\easya\\AppData\\Roaming\\jupyter\\nbextensions\\navigation-hotkeys\\\n",
      "[I 17:09:29 InstallContribNbextensionsApp] Copying: C:\\ProgramData\\Anaconda3\\lib\\site-packages\\jupyter_contrib_nbextensions\\nbextensions\\navigation-hotkeys\\hotkeys.yaml -> C:\\Users\\easya\\AppData\\Roaming\\jupyter\\nbextensions\\navigation-hotkeys\\hotkeys.yaml\n",
      "[I 17:09:29 InstallContribNbextensionsApp] Copying: C:\\ProgramData\\Anaconda3\\lib\\site-packages\\jupyter_contrib_nbextensions\\nbextensions\\navigation-hotkeys\\icon.png -> C:\\Users\\easya\\AppData\\Roaming\\jupyter\\nbextensions\\navigation-hotkeys\\icon.png\n",
      "[I 17:09:29 InstallContribNbextensionsApp] Copying: C:\\ProgramData\\Anaconda3\\lib\\site-packages\\jupyter_contrib_nbextensions\\nbextensions\\navigation-hotkeys\\main.js -> C:\\Users\\easya\\AppData\\Roaming\\jupyter\\nbextensions\\navigation-hotkeys\\main.js\n",
      "[I 17:09:29 InstallContribNbextensionsApp] Copying: C:\\ProgramData\\Anaconda3\\lib\\site-packages\\jupyter_contrib_nbextensions\\nbextensions\\navigation-hotkeys\\readme.md -> C:\\Users\\easya\\AppData\\Roaming\\jupyter\\nbextensions\\navigation-hotkeys\\readme.md\n",
      "[I 17:09:29 InstallContribNbextensionsApp] - Validating: ok\n",
      "[I 17:09:29 InstallContribNbextensionsApp] Installing C:\\ProgramData\\Anaconda3\\lib\\site-packages\\jupyter_contrib_nbextensions\\nbextensions\\nbTranslate -> nbTranslate\n",
      "[I 17:09:29 InstallContribNbextensionsApp] Making directory: C:\\Users\\easya\\AppData\\Roaming\\jupyter\\nbextensions\\nbTranslate\\\n",
      "[I 17:09:29 InstallContribNbextensionsApp] Copying: C:\\ProgramData\\Anaconda3\\lib\\site-packages\\jupyter_contrib_nbextensions\\nbextensions\\nbTranslate\\demo1.gif -> C:\\Users\\easya\\AppData\\Roaming\\jupyter\\nbextensions\\nbTranslate\\demo1.gif\n",
      "[I 17:09:29 InstallContribNbextensionsApp] Copying: C:\\ProgramData\\Anaconda3\\lib\\site-packages\\jupyter_contrib_nbextensions\\nbextensions\\nbTranslate\\demo2.gif -> C:\\Users\\easya\\AppData\\Roaming\\jupyter\\nbextensions\\nbTranslate\\demo2.gif\n",
      "[I 17:09:29 InstallContribNbextensionsApp] Copying: C:\\ProgramData\\Anaconda3\\lib\\site-packages\\jupyter_contrib_nbextensions\\nbextensions\\nbTranslate\\languages.js -> C:\\Users\\easya\\AppData\\Roaming\\jupyter\\nbextensions\\nbTranslate\\languages.js\n",
      "[I 17:09:29 InstallContribNbextensionsApp] Copying: C:\\ProgramData\\Anaconda3\\lib\\site-packages\\jupyter_contrib_nbextensions\\nbextensions\\nbTranslate\\main.js -> C:\\Users\\easya\\AppData\\Roaming\\jupyter\\nbextensions\\nbTranslate\\main.js\n",
      "[I 17:09:29 InstallContribNbextensionsApp] Copying: C:\\ProgramData\\Anaconda3\\lib\\site-packages\\jupyter_contrib_nbextensions\\nbextensions\\nbTranslate\\mutils.js -> C:\\Users\\easya\\AppData\\Roaming\\jupyter\\nbextensions\\nbTranslate\\mutils.js\n",
      "[I 17:09:29 InstallContribNbextensionsApp] Copying: C:\\ProgramData\\Anaconda3\\lib\\site-packages\\jupyter_contrib_nbextensions\\nbextensions\\nbTranslate\\nbTranslate.js -> C:\\Users\\easya\\AppData\\Roaming\\jupyter\\nbextensions\\nbTranslate\\nbTranslate.js\n",
      "[I 17:09:29 InstallContribNbextensionsApp] Copying: C:\\ProgramData\\Anaconda3\\lib\\site-packages\\jupyter_contrib_nbextensions\\nbextensions\\nbTranslate\\nbTranslate.yaml -> C:\\Users\\easya\\AppData\\Roaming\\jupyter\\nbextensions\\nbTranslate\\nbTranslate.yaml\n",
      "[I 17:09:29 InstallContribNbextensionsApp] Copying: C:\\ProgramData\\Anaconda3\\lib\\site-packages\\jupyter_contrib_nbextensions\\nbextensions\\nbTranslate\\README.md -> C:\\Users\\easya\\AppData\\Roaming\\jupyter\\nbextensions\\nbTranslate\\README.md\n",
      "[I 17:09:29 InstallContribNbextensionsApp] - Validating: ok\n",
      "[I 17:09:29 InstallContribNbextensionsApp] Installing C:\\ProgramData\\Anaconda3\\lib\\site-packages\\jupyter_contrib_nbextensions\\nbextensions\\notify -> notify\n",
      "[I 17:09:29 InstallContribNbextensionsApp] Making directory: C:\\Users\\easya\\AppData\\Roaming\\jupyter\\nbextensions\\notify\\\n",
      "[I 17:09:29 InstallContribNbextensionsApp] Copying: C:\\ProgramData\\Anaconda3\\lib\\site-packages\\jupyter_contrib_nbextensions\\nbextensions\\notify\\notification.png -> C:\\Users\\easya\\AppData\\Roaming\\jupyter\\nbextensions\\notify\\notification.png\n",
      "[I 17:09:29 InstallContribNbextensionsApp] Copying: C:\\ProgramData\\Anaconda3\\lib\\site-packages\\jupyter_contrib_nbextensions\\nbextensions\\notify\\notify.js -> C:\\Users\\easya\\AppData\\Roaming\\jupyter\\nbextensions\\notify\\notify.js\n",
      "[I 17:09:29 InstallContribNbextensionsApp] Copying: C:\\ProgramData\\Anaconda3\\lib\\site-packages\\jupyter_contrib_nbextensions\\nbextensions\\notify\\notify.mp3 -> C:\\Users\\easya\\AppData\\Roaming\\jupyter\\nbextensions\\notify\\notify.mp3\n",
      "[I 17:09:29 InstallContribNbextensionsApp] Copying: C:\\ProgramData\\Anaconda3\\lib\\site-packages\\jupyter_contrib_nbextensions\\nbextensions\\notify\\notify.yaml -> C:\\Users\\easya\\AppData\\Roaming\\jupyter\\nbextensions\\notify\\notify.yaml\n",
      "[I 17:09:29 InstallContribNbextensionsApp] Copying: C:\\ProgramData\\Anaconda3\\lib\\site-packages\\jupyter_contrib_nbextensions\\nbextensions\\notify\\readme.md -> C:\\Users\\easya\\AppData\\Roaming\\jupyter\\nbextensions\\notify\\readme.md\n",
      "[I 17:09:29 InstallContribNbextensionsApp] - Validating: ok\n",
      "[I 17:09:29 InstallContribNbextensionsApp] Installing C:\\ProgramData\\Anaconda3\\lib\\site-packages\\jupyter_contrib_nbextensions\\nbextensions\\printview -> printview\n",
      "[I 17:09:29 InstallContribNbextensionsApp] Making directory: C:\\Users\\easya\\AppData\\Roaming\\jupyter\\nbextensions\\printview\\\n",
      "[I 17:09:29 InstallContribNbextensionsApp] Copying: C:\\ProgramData\\Anaconda3\\lib\\site-packages\\jupyter_contrib_nbextensions\\nbextensions\\printview\\icon.png -> C:\\Users\\easya\\AppData\\Roaming\\jupyter\\nbextensions\\printview\\icon.png\n",
      "[I 17:09:29 InstallContribNbextensionsApp] Copying: C:\\ProgramData\\Anaconda3\\lib\\site-packages\\jupyter_contrib_nbextensions\\nbextensions\\printview\\main.js -> C:\\Users\\easya\\AppData\\Roaming\\jupyter\\nbextensions\\printview\\main.js\n",
      "[I 17:09:29 InstallContribNbextensionsApp] Copying: C:\\ProgramData\\Anaconda3\\lib\\site-packages\\jupyter_contrib_nbextensions\\nbextensions\\printview\\printview-button.png -> C:\\Users\\easya\\AppData\\Roaming\\jupyter\\nbextensions\\printview\\printview-button.png\n",
      "[I 17:09:29 InstallContribNbextensionsApp] Copying: C:\\ProgramData\\Anaconda3\\lib\\site-packages\\jupyter_contrib_nbextensions\\nbextensions\\printview\\printview.yaml -> C:\\Users\\easya\\AppData\\Roaming\\jupyter\\nbextensions\\printview\\printview.yaml\n",
      "[I 17:09:29 InstallContribNbextensionsApp] Copying: C:\\ProgramData\\Anaconda3\\lib\\site-packages\\jupyter_contrib_nbextensions\\nbextensions\\printview\\readme.md -> C:\\Users\\easya\\AppData\\Roaming\\jupyter\\nbextensions\\printview\\readme.md\n",
      "[I 17:09:29 InstallContribNbextensionsApp] - Validating: ok\n",
      "[I 17:09:29 InstallContribNbextensionsApp] Installing C:\\ProgramData\\Anaconda3\\lib\\site-packages\\jupyter_contrib_nbextensions\\nbextensions\\python-markdown -> python-markdown\n",
      "[I 17:09:29 InstallContribNbextensionsApp] Making directory: C:\\Users\\easya\\AppData\\Roaming\\jupyter\\nbextensions\\python-markdown\\\n",
      "[I 17:09:29 InstallContribNbextensionsApp] Copying: C:\\ProgramData\\Anaconda3\\lib\\site-packages\\jupyter_contrib_nbextensions\\nbextensions\\python-markdown\\main.css -> C:\\Users\\easya\\AppData\\Roaming\\jupyter\\nbextensions\\python-markdown\\main.css\n",
      "[I 17:09:29 InstallContribNbextensionsApp] Copying: C:\\ProgramData\\Anaconda3\\lib\\site-packages\\jupyter_contrib_nbextensions\\nbextensions\\python-markdown\\main.js -> C:\\Users\\easya\\AppData\\Roaming\\jupyter\\nbextensions\\python-markdown\\main.js\n",
      "[I 17:09:29 InstallContribNbextensionsApp] Copying: C:\\ProgramData\\Anaconda3\\lib\\site-packages\\jupyter_contrib_nbextensions\\nbextensions\\python-markdown\\python-markdown-post.png -> C:\\Users\\easya\\AppData\\Roaming\\jupyter\\nbextensions\\python-markdown\\python-markdown-post.png\n",
      "[I 17:09:29 InstallContribNbextensionsApp] Copying: C:\\ProgramData\\Anaconda3\\lib\\site-packages\\jupyter_contrib_nbextensions\\nbextensions\\python-markdown\\python-markdown-pre.png -> C:\\Users\\easya\\AppData\\Roaming\\jupyter\\nbextensions\\python-markdown\\python-markdown-pre.png\n",
      "[I 17:09:29 InstallContribNbextensionsApp] Copying: C:\\ProgramData\\Anaconda3\\lib\\site-packages\\jupyter_contrib_nbextensions\\nbextensions\\python-markdown\\python-markdown.png -> C:\\Users\\easya\\AppData\\Roaming\\jupyter\\nbextensions\\python-markdown\\python-markdown.png\n",
      "[I 17:09:29 InstallContribNbextensionsApp] Copying: C:\\ProgramData\\Anaconda3\\lib\\site-packages\\jupyter_contrib_nbextensions\\nbextensions\\python-markdown\\python-markdown.yaml -> C:\\Users\\easya\\AppData\\Roaming\\jupyter\\nbextensions\\python-markdown\\python-markdown.yaml\n",
      "[I 17:09:29 InstallContribNbextensionsApp] Copying: C:\\ProgramData\\Anaconda3\\lib\\site-packages\\jupyter_contrib_nbextensions\\nbextensions\\python-markdown\\readme.md -> C:\\Users\\easya\\AppData\\Roaming\\jupyter\\nbextensions\\python-markdown\\readme.md\n",
      "[I 17:09:29 InstallContribNbextensionsApp] Copying: C:\\ProgramData\\Anaconda3\\lib\\site-packages\\jupyter_contrib_nbextensions\\nbextensions\\python-markdown\\trusted.png -> C:\\Users\\easya\\AppData\\Roaming\\jupyter\\nbextensions\\python-markdown\\trusted.png\n",
      "[I 17:09:29 InstallContribNbextensionsApp] Copying: C:\\ProgramData\\Anaconda3\\lib\\site-packages\\jupyter_contrib_nbextensions\\nbextensions\\python-markdown\\untrusted.png -> C:\\Users\\easya\\AppData\\Roaming\\jupyter\\nbextensions\\python-markdown\\untrusted.png\n",
      "[I 17:09:29 InstallContribNbextensionsApp] - Validating: ok\n",
      "[I 17:09:29 InstallContribNbextensionsApp] Installing C:\\ProgramData\\Anaconda3\\lib\\site-packages\\jupyter_contrib_nbextensions\\nbextensions\\qtconsole -> qtconsole\n",
      "[I 17:09:29 InstallContribNbextensionsApp] Making directory: C:\\Users\\easya\\AppData\\Roaming\\jupyter\\nbextensions\\qtconsole\\\n",
      "[I 17:09:29 InstallContribNbextensionsApp] Copying: C:\\ProgramData\\Anaconda3\\lib\\site-packages\\jupyter_contrib_nbextensions\\nbextensions\\qtconsole\\qtconsole.js -> C:\\Users\\easya\\AppData\\Roaming\\jupyter\\nbextensions\\qtconsole\\qtconsole.js\n",
      "[I 17:09:29 InstallContribNbextensionsApp] Copying: C:\\ProgramData\\Anaconda3\\lib\\site-packages\\jupyter_contrib_nbextensions\\nbextensions\\qtconsole\\qtconsole.yaml -> C:\\Users\\easya\\AppData\\Roaming\\jupyter\\nbextensions\\qtconsole\\qtconsole.yaml\n",
      "[I 17:09:29 InstallContribNbextensionsApp] Copying: C:\\ProgramData\\Anaconda3\\lib\\site-packages\\jupyter_contrib_nbextensions\\nbextensions\\qtconsole\\README.md -> C:\\Users\\easya\\AppData\\Roaming\\jupyter\\nbextensions\\qtconsole\\README.md\n",
      "[I 17:09:29 InstallContribNbextensionsApp] - Validating: ok\n",
      "[I 17:09:29 InstallContribNbextensionsApp] Installing C:\\ProgramData\\Anaconda3\\lib\\site-packages\\jupyter_contrib_nbextensions\\nbextensions\\rubberband -> rubberband\n",
      "[I 17:09:29 InstallContribNbextensionsApp] Making directory: C:\\Users\\easya\\AppData\\Roaming\\jupyter\\nbextensions\\rubberband\\\n",
      "[I 17:09:29 InstallContribNbextensionsApp] Copying: C:\\ProgramData\\Anaconda3\\lib\\site-packages\\jupyter_contrib_nbextensions\\nbextensions\\rubberband\\icon.png -> C:\\Users\\easya\\AppData\\Roaming\\jupyter\\nbextensions\\rubberband\\icon.png\n",
      "[I 17:09:29 InstallContribNbextensionsApp] Copying: C:\\ProgramData\\Anaconda3\\lib\\site-packages\\jupyter_contrib_nbextensions\\nbextensions\\rubberband\\main.css -> C:\\Users\\easya\\AppData\\Roaming\\jupyter\\nbextensions\\rubberband\\main.css\n",
      "[I 17:09:29 InstallContribNbextensionsApp] Copying: C:\\ProgramData\\Anaconda3\\lib\\site-packages\\jupyter_contrib_nbextensions\\nbextensions\\rubberband\\main.js -> C:\\Users\\easya\\AppData\\Roaming\\jupyter\\nbextensions\\rubberband\\main.js\n",
      "[I 17:09:29 InstallContribNbextensionsApp] Copying: C:\\ProgramData\\Anaconda3\\lib\\site-packages\\jupyter_contrib_nbextensions\\nbextensions\\rubberband\\readme.md -> C:\\Users\\easya\\AppData\\Roaming\\jupyter\\nbextensions\\rubberband\\readme.md\n",
      "[I 17:09:29 InstallContribNbextensionsApp] Copying: C:\\ProgramData\\Anaconda3\\lib\\site-packages\\jupyter_contrib_nbextensions\\nbextensions\\rubberband\\rubberband.yaml -> C:\\Users\\easya\\AppData\\Roaming\\jupyter\\nbextensions\\rubberband\\rubberband.yaml\n",
      "[I 17:09:29 InstallContribNbextensionsApp] - Validating: ok\n",
      "[I 17:09:29 InstallContribNbextensionsApp] Installing C:\\ProgramData\\Anaconda3\\lib\\site-packages\\jupyter_contrib_nbextensions\\nbextensions\\ruler -> ruler\n",
      "[I 17:09:29 InstallContribNbextensionsApp] Making directory: C:\\Users\\easya\\AppData\\Roaming\\jupyter\\nbextensions\\ruler\\\n",
      "[I 17:09:29 InstallContribNbextensionsApp] Copying: C:\\ProgramData\\Anaconda3\\lib\\site-packages\\jupyter_contrib_nbextensions\\nbextensions\\ruler\\edit.js -> C:\\Users\\easya\\AppData\\Roaming\\jupyter\\nbextensions\\ruler\\edit.js\n",
      "[I 17:09:29 InstallContribNbextensionsApp] Copying: C:\\ProgramData\\Anaconda3\\lib\\site-packages\\jupyter_contrib_nbextensions\\nbextensions\\ruler\\icon.png -> C:\\Users\\easya\\AppData\\Roaming\\jupyter\\nbextensions\\ruler\\icon.png\n",
      "[I 17:09:29 InstallContribNbextensionsApp] Copying: C:\\ProgramData\\Anaconda3\\lib\\site-packages\\jupyter_contrib_nbextensions\\nbextensions\\ruler\\main.js -> C:\\Users\\easya\\AppData\\Roaming\\jupyter\\nbextensions\\ruler\\main.js\n",
      "[I 17:09:29 InstallContribNbextensionsApp] Copying: C:\\ProgramData\\Anaconda3\\lib\\site-packages\\jupyter_contrib_nbextensions\\nbextensions\\ruler\\readme.md -> C:\\Users\\easya\\AppData\\Roaming\\jupyter\\nbextensions\\ruler\\readme.md\n",
      "[I 17:09:29 InstallContribNbextensionsApp] Copying: C:\\ProgramData\\Anaconda3\\lib\\site-packages\\jupyter_contrib_nbextensions\\nbextensions\\ruler\\ruler.yaml -> C:\\Users\\easya\\AppData\\Roaming\\jupyter\\nbextensions\\ruler\\ruler.yaml\n",
      "[I 17:09:29 InstallContribNbextensionsApp] Copying: C:\\ProgramData\\Anaconda3\\lib\\site-packages\\jupyter_contrib_nbextensions\\nbextensions\\ruler\\ruler_editor.yaml -> C:\\Users\\easya\\AppData\\Roaming\\jupyter\\nbextensions\\ruler\\ruler_editor.yaml\n",
      "[I 17:09:29 InstallContribNbextensionsApp] - Validating: ok\n",
      "[I 17:09:29 InstallContribNbextensionsApp] Installing C:\\ProgramData\\Anaconda3\\lib\\site-packages\\jupyter_contrib_nbextensions\\nbextensions\\ruler -> ruler\n",
      "[I 17:09:29 InstallContribNbextensionsApp] Up to date: C:\\Users\\easya\\AppData\\Roaming\\jupyter\\nbextensions\\ruler\\edit.js\n",
      "[I 17:09:29 InstallContribNbextensionsApp] Up to date: C:\\Users\\easya\\AppData\\Roaming\\jupyter\\nbextensions\\ruler\\icon.png\n",
      "[I 17:09:29 InstallContribNbextensionsApp] Up to date: C:\\Users\\easya\\AppData\\Roaming\\jupyter\\nbextensions\\ruler\\main.js\n",
      "[I 17:09:29 InstallContribNbextensionsApp] Up to date: C:\\Users\\easya\\AppData\\Roaming\\jupyter\\nbextensions\\ruler\\readme.md\n",
      "[I 17:09:29 InstallContribNbextensionsApp] Up to date: C:\\Users\\easya\\AppData\\Roaming\\jupyter\\nbextensions\\ruler\\ruler.yaml\n",
      "[I 17:09:29 InstallContribNbextensionsApp] Up to date: C:\\Users\\easya\\AppData\\Roaming\\jupyter\\nbextensions\\ruler\\ruler_editor.yaml\n",
      "[I 17:09:29 InstallContribNbextensionsApp] - Validating: ok\n",
      "[I 17:09:29 InstallContribNbextensionsApp] Installing C:\\ProgramData\\Anaconda3\\lib\\site-packages\\jupyter_contrib_nbextensions\\nbextensions\\runtools -> runtools\n",
      "[I 17:09:29 InstallContribNbextensionsApp] Making directory: C:\\Users\\easya\\AppData\\Roaming\\jupyter\\nbextensions\\runtools\\\n",
      "[I 17:09:29 InstallContribNbextensionsApp] Copying: C:\\ProgramData\\Anaconda3\\lib\\site-packages\\jupyter_contrib_nbextensions\\nbextensions\\runtools\\annotations.odg -> C:\\Users\\easya\\AppData\\Roaming\\jupyter\\nbextensions\\runtools\\annotations.odg\n",
      "[I 17:09:29 InstallContribNbextensionsApp] Copying: C:\\ProgramData\\Anaconda3\\lib\\site-packages\\jupyter_contrib_nbextensions\\nbextensions\\runtools\\cellstate.js -> C:\\Users\\easya\\AppData\\Roaming\\jupyter\\nbextensions\\runtools\\cellstate.js\n",
      "[I 17:09:29 InstallContribNbextensionsApp] Copying: C:\\ProgramData\\Anaconda3\\lib\\site-packages\\jupyter_contrib_nbextensions\\nbextensions\\runtools\\demo.gif -> C:\\Users\\easya\\AppData\\Roaming\\jupyter\\nbextensions\\runtools\\demo.gif\n",
      "[I 17:09:29 InstallContribNbextensionsApp] Copying: C:\\ProgramData\\Anaconda3\\lib\\site-packages\\jupyter_contrib_nbextensions\\nbextensions\\runtools\\gutter.css -> C:\\Users\\easya\\AppData\\Roaming\\jupyter\\nbextensions\\runtools\\gutter.css\n",
      "[I 17:09:29 InstallContribNbextensionsApp] Copying: C:\\ProgramData\\Anaconda3\\lib\\site-packages\\jupyter_contrib_nbextensions\\nbextensions\\runtools\\icon.png -> C:\\Users\\easya\\AppData\\Roaming\\jupyter\\nbextensions\\runtools\\icon.png\n",
      "[I 17:09:29 InstallContribNbextensionsApp] Copying: C:\\ProgramData\\Anaconda3\\lib\\site-packages\\jupyter_contrib_nbextensions\\nbextensions\\runtools\\main.css -> C:\\Users\\easya\\AppData\\Roaming\\jupyter\\nbextensions\\runtools\\main.css\n",
      "[I 17:09:29 InstallContribNbextensionsApp] Copying: C:\\ProgramData\\Anaconda3\\lib\\site-packages\\jupyter_contrib_nbextensions\\nbextensions\\runtools\\main.js -> C:\\Users\\easya\\AppData\\Roaming\\jupyter\\nbextensions\\runtools\\main.js\n",
      "[I 17:09:29 InstallContribNbextensionsApp] Copying: C:\\ProgramData\\Anaconda3\\lib\\site-packages\\jupyter_contrib_nbextensions\\nbextensions\\runtools\\readme.md -> C:\\Users\\easya\\AppData\\Roaming\\jupyter\\nbextensions\\runtools\\readme.md\n",
      "[I 17:09:29 InstallContribNbextensionsApp] Copying: C:\\ProgramData\\Anaconda3\\lib\\site-packages\\jupyter_contrib_nbextensions\\nbextensions\\runtools\\runtools.yaml -> C:\\Users\\easya\\AppData\\Roaming\\jupyter\\nbextensions\\runtools\\runtools.yaml\n",
      "[I 17:09:29 InstallContribNbextensionsApp] Copying: C:\\ProgramData\\Anaconda3\\lib\\site-packages\\jupyter_contrib_nbextensions\\nbextensions\\runtools\\runtools_execute.png -> C:\\Users\\easya\\AppData\\Roaming\\jupyter\\nbextensions\\runtools\\runtools_execute.png\n",
      "[I 17:09:29 InstallContribNbextensionsApp] Copying: C:\\ProgramData\\Anaconda3\\lib\\site-packages\\jupyter_contrib_nbextensions\\nbextensions\\runtools\\runtools_lock.png -> C:\\Users\\easya\\AppData\\Roaming\\jupyter\\nbextensions\\runtools\\runtools_lock.png\n",
      "[I 17:09:29 InstallContribNbextensionsApp] Copying: C:\\ProgramData\\Anaconda3\\lib\\site-packages\\jupyter_contrib_nbextensions\\nbextensions\\runtools\\runtools_marker.png -> C:\\Users\\easya\\AppData\\Roaming\\jupyter\\nbextensions\\runtools\\runtools_marker.png\n",
      "[I 17:09:29 InstallContribNbextensionsApp] Copying: C:\\ProgramData\\Anaconda3\\lib\\site-packages\\jupyter_contrib_nbextensions\\nbextensions\\runtools\\runtools_nb.png -> C:\\Users\\easya\\AppData\\Roaming\\jupyter\\nbextensions\\runtools\\runtools_nb.png\n",
      "[I 17:09:29 InstallContribNbextensionsApp] Copying: C:\\ProgramData\\Anaconda3\\lib\\site-packages\\jupyter_contrib_nbextensions\\nbextensions\\runtools\\runtools_show_hide.png -> C:\\Users\\easya\\AppData\\Roaming\\jupyter\\nbextensions\\runtools\\runtools_show_hide.png\n",
      "[I 17:09:29 InstallContribNbextensionsApp] - Validating: ok\n",
      "[I 17:09:29 InstallContribNbextensionsApp] Installing C:\\ProgramData\\Anaconda3\\lib\\site-packages\\jupyter_contrib_nbextensions\\nbextensions\\scratchpad -> scratchpad\n",
      "[I 17:09:29 InstallContribNbextensionsApp] Making directory: C:\\Users\\easya\\AppData\\Roaming\\jupyter\\nbextensions\\scratchpad\\\n",
      "[I 17:09:29 InstallContribNbextensionsApp] Copying: C:\\ProgramData\\Anaconda3\\lib\\site-packages\\jupyter_contrib_nbextensions\\nbextensions\\scratchpad\\demo.gif -> C:\\Users\\easya\\AppData\\Roaming\\jupyter\\nbextensions\\scratchpad\\demo.gif\n",
      "[I 17:09:29 InstallContribNbextensionsApp] Copying: C:\\ProgramData\\Anaconda3\\lib\\site-packages\\jupyter_contrib_nbextensions\\nbextensions\\scratchpad\\LICENSE -> C:\\Users\\easya\\AppData\\Roaming\\jupyter\\nbextensions\\scratchpad\\LICENSE\n",
      "[I 17:09:29 InstallContribNbextensionsApp] Copying: C:\\ProgramData\\Anaconda3\\lib\\site-packages\\jupyter_contrib_nbextensions\\nbextensions\\scratchpad\\main.js -> C:\\Users\\easya\\AppData\\Roaming\\jupyter\\nbextensions\\scratchpad\\main.js\n",
      "[I 17:09:29 InstallContribNbextensionsApp] Copying: C:\\ProgramData\\Anaconda3\\lib\\site-packages\\jupyter_contrib_nbextensions\\nbextensions\\scratchpad\\README.md -> C:\\Users\\easya\\AppData\\Roaming\\jupyter\\nbextensions\\scratchpad\\README.md\n",
      "[I 17:09:29 InstallContribNbextensionsApp] Copying: C:\\ProgramData\\Anaconda3\\lib\\site-packages\\jupyter_contrib_nbextensions\\nbextensions\\scratchpad\\scratchpad.css -> C:\\Users\\easya\\AppData\\Roaming\\jupyter\\nbextensions\\scratchpad\\scratchpad.css\n",
      "[I 17:09:29 InstallContribNbextensionsApp] Copying: C:\\ProgramData\\Anaconda3\\lib\\site-packages\\jupyter_contrib_nbextensions\\nbextensions\\scratchpad\\scratchpad.yaml -> C:\\Users\\easya\\AppData\\Roaming\\jupyter\\nbextensions\\scratchpad\\scratchpad.yaml\n",
      "[I 17:09:29 InstallContribNbextensionsApp] - Validating: ok\n",
      "[I 17:09:29 InstallContribNbextensionsApp] Installing C:\\ProgramData\\Anaconda3\\lib\\site-packages\\jupyter_contrib_nbextensions\\nbextensions\\scroll_down -> scroll_down\n",
      "[I 17:09:29 InstallContribNbextensionsApp] Making directory: C:\\Users\\easya\\AppData\\Roaming\\jupyter\\nbextensions\\scroll_down\\\n",
      "[I 17:09:29 InstallContribNbextensionsApp] Copying: C:\\ProgramData\\Anaconda3\\lib\\site-packages\\jupyter_contrib_nbextensions\\nbextensions\\scroll_down\\config.yaml -> C:\\Users\\easya\\AppData\\Roaming\\jupyter\\nbextensions\\scroll_down\\config.yaml\n",
      "[I 17:09:29 InstallContribNbextensionsApp] Copying: C:\\ProgramData\\Anaconda3\\lib\\site-packages\\jupyter_contrib_nbextensions\\nbextensions\\scroll_down\\icon.png -> C:\\Users\\easya\\AppData\\Roaming\\jupyter\\nbextensions\\scroll_down\\icon.png\n",
      "[I 17:09:29 InstallContribNbextensionsApp] Copying: C:\\ProgramData\\Anaconda3\\lib\\site-packages\\jupyter_contrib_nbextensions\\nbextensions\\scroll_down\\main.js -> C:\\Users\\easya\\AppData\\Roaming\\jupyter\\nbextensions\\scroll_down\\main.js\n",
      "[I 17:09:29 InstallContribNbextensionsApp] Copying: C:\\ProgramData\\Anaconda3\\lib\\site-packages\\jupyter_contrib_nbextensions\\nbextensions\\scroll_down\\readme.md -> C:\\Users\\easya\\AppData\\Roaming\\jupyter\\nbextensions\\scroll_down\\readme.md\n",
      "[I 17:09:29 InstallContribNbextensionsApp] - Validating: ok\n",
      "[I 17:09:29 InstallContribNbextensionsApp] Installing C:\\ProgramData\\Anaconda3\\lib\\site-packages\\jupyter_contrib_nbextensions\\nbextensions\\select_keymap -> select_keymap\n",
      "[I 17:09:29 InstallContribNbextensionsApp] Making directory: C:\\Users\\easya\\AppData\\Roaming\\jupyter\\nbextensions\\select_keymap\\\n",
      "[I 17:09:29 InstallContribNbextensionsApp] Copying: C:\\ProgramData\\Anaconda3\\lib\\site-packages\\jupyter_contrib_nbextensions\\nbextensions\\select_keymap\\main.js -> C:\\Users\\easya\\AppData\\Roaming\\jupyter\\nbextensions\\select_keymap\\main.js\n",
      "[I 17:09:29 InstallContribNbextensionsApp] Copying: C:\\ProgramData\\Anaconda3\\lib\\site-packages\\jupyter_contrib_nbextensions\\nbextensions\\select_keymap\\README.md -> C:\\Users\\easya\\AppData\\Roaming\\jupyter\\nbextensions\\select_keymap\\README.md\n",
      "[I 17:09:29 InstallContribNbextensionsApp] Copying: C:\\ProgramData\\Anaconda3\\lib\\site-packages\\jupyter_contrib_nbextensions\\nbextensions\\select_keymap\\select_keymap.png -> C:\\Users\\easya\\AppData\\Roaming\\jupyter\\nbextensions\\select_keymap\\select_keymap.png\n",
      "[I 17:09:29 InstallContribNbextensionsApp] Copying: C:\\ProgramData\\Anaconda3\\lib\\site-packages\\jupyter_contrib_nbextensions\\nbextensions\\select_keymap\\select_keymap.yaml -> C:\\Users\\easya\\AppData\\Roaming\\jupyter\\nbextensions\\select_keymap\\select_keymap.yaml\n",
      "[I 17:09:29 InstallContribNbextensionsApp] - Validating: ok\n",
      "[I 17:09:29 InstallContribNbextensionsApp] Installing C:\\ProgramData\\Anaconda3\\lib\\site-packages\\jupyter_contrib_nbextensions\\nbextensions\\skill -> skill\n",
      "[I 17:09:29 InstallContribNbextensionsApp] Making directory: C:\\Users\\easya\\AppData\\Roaming\\jupyter\\nbextensions\\skill\\\n",
      "[I 17:09:29 InstallContribNbextensionsApp] Copying: C:\\ProgramData\\Anaconda3\\lib\\site-packages\\jupyter_contrib_nbextensions\\nbextensions\\skill\\main.js -> C:\\Users\\easya\\AppData\\Roaming\\jupyter\\nbextensions\\skill\\main.js\n",
      "[I 17:09:29 InstallContribNbextensionsApp] Copying: C:\\ProgramData\\Anaconda3\\lib\\site-packages\\jupyter_contrib_nbextensions\\nbextensions\\skill\\README.md -> C:\\Users\\easya\\AppData\\Roaming\\jupyter\\nbextensions\\skill\\README.md\n",
      "[I 17:09:29 InstallContribNbextensionsApp] Copying: C:\\ProgramData\\Anaconda3\\lib\\site-packages\\jupyter_contrib_nbextensions\\nbextensions\\skill\\skill.js -> C:\\Users\\easya\\AppData\\Roaming\\jupyter\\nbextensions\\skill\\skill.js\n",
      "[I 17:09:29 InstallContribNbextensionsApp] Copying: C:\\ProgramData\\Anaconda3\\lib\\site-packages\\jupyter_contrib_nbextensions\\nbextensions\\skill\\skill.yaml -> C:\\Users\\easya\\AppData\\Roaming\\jupyter\\nbextensions\\skill\\skill.yaml\n",
      "[I 17:09:29 InstallContribNbextensionsApp] - Validating: ok\n",
      "[I 17:09:29 InstallContribNbextensionsApp] Installing C:\\ProgramData\\Anaconda3\\lib\\site-packages\\jupyter_contrib_nbextensions\\nbextensions\\skip-traceback -> skip-traceback\n",
      "[I 17:09:29 InstallContribNbextensionsApp] Making directory: C:\\Users\\easya\\AppData\\Roaming\\jupyter\\nbextensions\\skip-traceback\\\n",
      "[I 17:09:29 InstallContribNbextensionsApp] Copying: C:\\ProgramData\\Anaconda3\\lib\\site-packages\\jupyter_contrib_nbextensions\\nbextensions\\skip-traceback\\icon.png -> C:\\Users\\easya\\AppData\\Roaming\\jupyter\\nbextensions\\skip-traceback\\icon.png\n",
      "[I 17:09:29 InstallContribNbextensionsApp] Copying: C:\\ProgramData\\Anaconda3\\lib\\site-packages\\jupyter_contrib_nbextensions\\nbextensions\\skip-traceback\\main.js -> C:\\Users\\easya\\AppData\\Roaming\\jupyter\\nbextensions\\skip-traceback\\main.js\n",
      "[I 17:09:29 InstallContribNbextensionsApp] Copying: C:\\ProgramData\\Anaconda3\\lib\\site-packages\\jupyter_contrib_nbextensions\\nbextensions\\skip-traceback\\readme.md -> C:\\Users\\easya\\AppData\\Roaming\\jupyter\\nbextensions\\skip-traceback\\readme.md\n",
      "[I 17:09:29 InstallContribNbextensionsApp] Copying: C:\\ProgramData\\Anaconda3\\lib\\site-packages\\jupyter_contrib_nbextensions\\nbextensions\\skip-traceback\\skip-traceback.png -> C:\\Users\\easya\\AppData\\Roaming\\jupyter\\nbextensions\\skip-traceback\\skip-traceback.png\n",
      "[I 17:09:29 InstallContribNbextensionsApp] Copying: C:\\ProgramData\\Anaconda3\\lib\\site-packages\\jupyter_contrib_nbextensions\\nbextensions\\skip-traceback\\skip-traceback.yaml -> C:\\Users\\easya\\AppData\\Roaming\\jupyter\\nbextensions\\skip-traceback\\skip-traceback.yaml\n",
      "[I 17:09:29 InstallContribNbextensionsApp] Copying: C:\\ProgramData\\Anaconda3\\lib\\site-packages\\jupyter_contrib_nbextensions\\nbextensions\\skip-traceback\\traceback.png -> C:\\Users\\easya\\AppData\\Roaming\\jupyter\\nbextensions\\skip-traceback\\traceback.png\n",
      "[I 17:09:29 InstallContribNbextensionsApp] - Validating: ok\n",
      "[I 17:09:29 InstallContribNbextensionsApp] Installing C:\\ProgramData\\Anaconda3\\lib\\site-packages\\jupyter_contrib_nbextensions\\nbextensions\\snippets -> snippets\n",
      "[I 17:09:29 InstallContribNbextensionsApp] Making directory: C:\\Users\\easya\\AppData\\Roaming\\jupyter\\nbextensions\\snippets\\\n",
      "[I 17:09:29 InstallContribNbextensionsApp] Copying: C:\\ProgramData\\Anaconda3\\lib\\site-packages\\jupyter_contrib_nbextensions\\nbextensions\\snippets\\main.js -> C:\\Users\\easya\\AppData\\Roaming\\jupyter\\nbextensions\\snippets\\main.js\n",
      "[I 17:09:29 InstallContribNbextensionsApp] Copying: C:\\ProgramData\\Anaconda3\\lib\\site-packages\\jupyter_contrib_nbextensions\\nbextensions\\snippets\\README.md -> C:\\Users\\easya\\AppData\\Roaming\\jupyter\\nbextensions\\snippets\\README.md\n",
      "[I 17:09:29 InstallContribNbextensionsApp] Copying: C:\\ProgramData\\Anaconda3\\lib\\site-packages\\jupyter_contrib_nbextensions\\nbextensions\\snippets\\snippets-demo.gif -> C:\\Users\\easya\\AppData\\Roaming\\jupyter\\nbextensions\\snippets\\snippets-demo.gif\n",
      "[I 17:09:29 InstallContribNbextensionsApp] Copying: C:\\ProgramData\\Anaconda3\\lib\\site-packages\\jupyter_contrib_nbextensions\\nbextensions\\snippets\\snippets.json -> C:\\Users\\easya\\AppData\\Roaming\\jupyter\\nbextensions\\snippets\\snippets.json\n",
      "[I 17:09:29 InstallContribNbextensionsApp] Copying: C:\\ProgramData\\Anaconda3\\lib\\site-packages\\jupyter_contrib_nbextensions\\nbextensions\\snippets\\snippets.yaml -> C:\\Users\\easya\\AppData\\Roaming\\jupyter\\nbextensions\\snippets\\snippets.yaml\n",
      "[I 17:09:29 InstallContribNbextensionsApp] - Validating: ok\n",
      "[I 17:09:29 InstallContribNbextensionsApp] Installing C:\\ProgramData\\Anaconda3\\lib\\site-packages\\jupyter_contrib_nbextensions\\nbextensions\\snippets_menu -> snippets_menu\n",
      "[I 17:09:29 InstallContribNbextensionsApp] Making directory: C:\\Users\\easya\\AppData\\Roaming\\jupyter\\nbextensions\\snippets_menu\\\n",
      "[I 17:09:29 InstallContribNbextensionsApp] Copying: C:\\ProgramData\\Anaconda3\\lib\\site-packages\\jupyter_contrib_nbextensions\\nbextensions\\snippets_menu\\config.yaml -> C:\\Users\\easya\\AppData\\Roaming\\jupyter\\nbextensions\\snippets_menu\\config.yaml\n",
      "[I 17:09:29 InstallContribNbextensionsApp] Copying: C:\\ProgramData\\Anaconda3\\lib\\site-packages\\jupyter_contrib_nbextensions\\nbextensions\\snippets_menu\\examples_for_custom.js -> C:\\Users\\easya\\AppData\\Roaming\\jupyter\\nbextensions\\snippets_menu\\examples_for_custom.js\n",
      "[I 17:09:29 InstallContribNbextensionsApp] Copying: C:\\ProgramData\\Anaconda3\\lib\\site-packages\\jupyter_contrib_nbextensions\\nbextensions\\snippets_menu\\main.js -> C:\\Users\\easya\\AppData\\Roaming\\jupyter\\nbextensions\\snippets_menu\\main.js\n"
     ]
    },
    {
     "name": "stderr",
     "output_type": "stream",
     "text": [
      "[I 17:09:29 InstallContribNbextensionsApp] Copying: C:\\ProgramData\\Anaconda3\\lib\\site-packages\\jupyter_contrib_nbextensions\\nbextensions\\snippets_menu\\readme.md -> C:\\Users\\easya\\AppData\\Roaming\\jupyter\\nbextensions\\snippets_menu\\readme.md\n",
      "[I 17:09:29 InstallContribNbextensionsApp] Copying: C:\\ProgramData\\Anaconda3\\lib\\site-packages\\jupyter_contrib_nbextensions\\nbextensions\\snippets_menu\\screenshot1.png -> C:\\Users\\easya\\AppData\\Roaming\\jupyter\\nbextensions\\snippets_menu\\screenshot1.png\n",
      "[I 17:09:29 InstallContribNbextensionsApp] Copying: C:\\ProgramData\\Anaconda3\\lib\\site-packages\\jupyter_contrib_nbextensions\\nbextensions\\snippets_menu\\screenshot2.png -> C:\\Users\\easya\\AppData\\Roaming\\jupyter\\nbextensions\\snippets_menu\\screenshot2.png\n",
      "[I 17:09:29 InstallContribNbextensionsApp] Copying: C:\\ProgramData\\Anaconda3\\lib\\site-packages\\jupyter_contrib_nbextensions\\nbextensions\\snippets_menu\\screenshot3.png -> C:\\Users\\easya\\AppData\\Roaming\\jupyter\\nbextensions\\snippets_menu\\screenshot3.png\n",
      "[I 17:09:29 InstallContribNbextensionsApp] Copying: C:\\ProgramData\\Anaconda3\\lib\\site-packages\\jupyter_contrib_nbextensions\\nbextensions\\snippets_menu\\snippets_menu.css -> C:\\Users\\easya\\AppData\\Roaming\\jupyter\\nbextensions\\snippets_menu\\snippets_menu.css\n",
      "[I 17:09:29 InstallContribNbextensionsApp] Copying: C:\\ProgramData\\Anaconda3\\lib\\site-packages\\jupyter_contrib_nbextensions\\nbextensions\\snippets_menu\\snippets_submenu_markdown.js -> C:\\Users\\easya\\AppData\\Roaming\\jupyter\\nbextensions\\snippets_menu\\snippets_submenu_markdown.js\n",
      "[I 17:09:29 InstallContribNbextensionsApp] Copying: C:\\ProgramData\\Anaconda3\\lib\\site-packages\\jupyter_contrib_nbextensions\\nbextensions\\snippets_menu\\snippets_submenu_python.js -> C:\\Users\\easya\\AppData\\Roaming\\jupyter\\nbextensions\\snippets_menu\\snippets_submenu_python.js\n",
      "[I 17:09:29 InstallContribNbextensionsApp] Copying: C:\\ProgramData\\Anaconda3\\lib\\site-packages\\jupyter_contrib_nbextensions\\nbextensions\\snippets_menu\\thumbnail.png -> C:\\Users\\easya\\AppData\\Roaming\\jupyter\\nbextensions\\snippets_menu\\thumbnail.png\n",
      "[I 17:09:29 InstallContribNbextensionsApp] Making directory: C:\\Users\\easya\\AppData\\Roaming\\jupyter\\nbextensions\\snippets_menu\\snippets_submenus_python\n",
      "[I 17:09:29 InstallContribNbextensionsApp] Copying: C:\\ProgramData\\Anaconda3\\lib\\site-packages\\jupyter_contrib_nbextensions\\nbextensions\\snippets_menu\\snippets_submenus_python\\astropy.js -> C:\\Users\\easya\\AppData\\Roaming\\jupyter\\nbextensions\\snippets_menu\\snippets_submenus_python\\astropy.js\n",
      "[I 17:09:29 InstallContribNbextensionsApp] Copying: C:\\ProgramData\\Anaconda3\\lib\\site-packages\\jupyter_contrib_nbextensions\\nbextensions\\snippets_menu\\snippets_submenus_python\\h5py.js -> C:\\Users\\easya\\AppData\\Roaming\\jupyter\\nbextensions\\snippets_menu\\snippets_submenus_python\\h5py.js\n",
      "[I 17:09:29 InstallContribNbextensionsApp] Copying: C:\\ProgramData\\Anaconda3\\lib\\site-packages\\jupyter_contrib_nbextensions\\nbextensions\\snippets_menu\\snippets_submenus_python\\matplotlib.js -> C:\\Users\\easya\\AppData\\Roaming\\jupyter\\nbextensions\\snippets_menu\\snippets_submenus_python\\matplotlib.js\n",
      "[I 17:09:29 InstallContribNbextensionsApp] Copying: C:\\ProgramData\\Anaconda3\\lib\\site-packages\\jupyter_contrib_nbextensions\\nbextensions\\snippets_menu\\snippets_submenus_python\\numba.js -> C:\\Users\\easya\\AppData\\Roaming\\jupyter\\nbextensions\\snippets_menu\\snippets_submenus_python\\numba.js\n",
      "[I 17:09:29 InstallContribNbextensionsApp] Copying: C:\\ProgramData\\Anaconda3\\lib\\site-packages\\jupyter_contrib_nbextensions\\nbextensions\\snippets_menu\\snippets_submenus_python\\numpy.js -> C:\\Users\\easya\\AppData\\Roaming\\jupyter\\nbextensions\\snippets_menu\\snippets_submenus_python\\numpy.js\n",
      "[I 17:09:29 InstallContribNbextensionsApp] Copying: C:\\ProgramData\\Anaconda3\\lib\\site-packages\\jupyter_contrib_nbextensions\\nbextensions\\snippets_menu\\snippets_submenus_python\\numpy_polynomial.js -> C:\\Users\\easya\\AppData\\Roaming\\jupyter\\nbextensions\\snippets_menu\\snippets_submenus_python\\numpy_polynomial.js\n",
      "[I 17:09:29 InstallContribNbextensionsApp] Copying: C:\\ProgramData\\Anaconda3\\lib\\site-packages\\jupyter_contrib_nbextensions\\nbextensions\\snippets_menu\\snippets_submenus_python\\numpy_ufuncs.js -> C:\\Users\\easya\\AppData\\Roaming\\jupyter\\nbextensions\\snippets_menu\\snippets_submenus_python\\numpy_ufuncs.js\n",
      "[I 17:09:29 InstallContribNbextensionsApp] Copying: C:\\ProgramData\\Anaconda3\\lib\\site-packages\\jupyter_contrib_nbextensions\\nbextensions\\snippets_menu\\snippets_submenus_python\\pandas.js -> C:\\Users\\easya\\AppData\\Roaming\\jupyter\\nbextensions\\snippets_menu\\snippets_submenus_python\\pandas.js\n",
      "[I 17:09:29 InstallContribNbextensionsApp] Copying: C:\\ProgramData\\Anaconda3\\lib\\site-packages\\jupyter_contrib_nbextensions\\nbextensions\\snippets_menu\\snippets_submenus_python\\python.js -> C:\\Users\\easya\\AppData\\Roaming\\jupyter\\nbextensions\\snippets_menu\\snippets_submenus_python\\python.js\n",
      "[I 17:09:29 InstallContribNbextensionsApp] Copying: C:\\ProgramData\\Anaconda3\\lib\\site-packages\\jupyter_contrib_nbextensions\\nbextensions\\snippets_menu\\snippets_submenus_python\\python_regex.js -> C:\\Users\\easya\\AppData\\Roaming\\jupyter\\nbextensions\\snippets_menu\\snippets_submenus_python\\python_regex.js\n",
      "[I 17:09:29 InstallContribNbextensionsApp] Copying: C:\\ProgramData\\Anaconda3\\lib\\site-packages\\jupyter_contrib_nbextensions\\nbextensions\\snippets_menu\\snippets_submenus_python\\scipy.js -> C:\\Users\\easya\\AppData\\Roaming\\jupyter\\nbextensions\\snippets_menu\\snippets_submenus_python\\scipy.js\n",
      "[I 17:09:29 InstallContribNbextensionsApp] Copying: C:\\ProgramData\\Anaconda3\\lib\\site-packages\\jupyter_contrib_nbextensions\\nbextensions\\snippets_menu\\snippets_submenus_python\\scipy_constants.js -> C:\\Users\\easya\\AppData\\Roaming\\jupyter\\nbextensions\\snippets_menu\\snippets_submenus_python\\scipy_constants.js\n",
      "[I 17:09:29 InstallContribNbextensionsApp] Copying: C:\\ProgramData\\Anaconda3\\lib\\site-packages\\jupyter_contrib_nbextensions\\nbextensions\\snippets_menu\\snippets_submenus_python\\scipy_special.js -> C:\\Users\\easya\\AppData\\Roaming\\jupyter\\nbextensions\\snippets_menu\\snippets_submenus_python\\scipy_special.js\n",
      "[I 17:09:29 InstallContribNbextensionsApp] Copying: C:\\ProgramData\\Anaconda3\\lib\\site-packages\\jupyter_contrib_nbextensions\\nbextensions\\snippets_menu\\snippets_submenus_python\\sympy.js -> C:\\Users\\easya\\AppData\\Roaming\\jupyter\\nbextensions\\snippets_menu\\snippets_submenus_python\\sympy.js\n",
      "[I 17:09:29 InstallContribNbextensionsApp] Copying: C:\\ProgramData\\Anaconda3\\lib\\site-packages\\jupyter_contrib_nbextensions\\nbextensions\\snippets_menu\\snippets_submenus_python\\sympy_assumptions.js -> C:\\Users\\easya\\AppData\\Roaming\\jupyter\\nbextensions\\snippets_menu\\snippets_submenus_python\\sympy_assumptions.js\n",
      "[I 17:09:29 InstallContribNbextensionsApp] Copying: C:\\ProgramData\\Anaconda3\\lib\\site-packages\\jupyter_contrib_nbextensions\\nbextensions\\snippets_menu\\snippets_submenus_python\\sympy_functions.js -> C:\\Users\\easya\\AppData\\Roaming\\jupyter\\nbextensions\\snippets_menu\\snippets_submenus_python\\sympy_functions.js\n",
      "[I 17:09:29 InstallContribNbextensionsApp] - Validating: ok\n",
      "[I 17:09:29 InstallContribNbextensionsApp] Installing C:\\ProgramData\\Anaconda3\\lib\\site-packages\\jupyter_contrib_nbextensions\\nbextensions\\spellchecker -> spellchecker\n",
      "[I 17:09:29 InstallContribNbextensionsApp] Making directory: C:\\Users\\easya\\AppData\\Roaming\\jupyter\\nbextensions\\spellchecker\\\n",
      "[I 17:09:29 InstallContribNbextensionsApp] Copying: C:\\ProgramData\\Anaconda3\\lib\\site-packages\\jupyter_contrib_nbextensions\\nbextensions\\spellchecker\\config.yaml -> C:\\Users\\easya\\AppData\\Roaming\\jupyter\\nbextensions\\spellchecker\\config.yaml\n",
      "[I 17:09:29 InstallContribNbextensionsApp] Copying: C:\\ProgramData\\Anaconda3\\lib\\site-packages\\jupyter_contrib_nbextensions\\nbextensions\\spellchecker\\download_new_dict.py -> C:\\Users\\easya\\AppData\\Roaming\\jupyter\\nbextensions\\spellchecker\\download_new_dict.py\n",
      "[I 17:09:29 InstallContribNbextensionsApp] Copying: C:\\ProgramData\\Anaconda3\\lib\\site-packages\\jupyter_contrib_nbextensions\\nbextensions\\spellchecker\\main.css -> C:\\Users\\easya\\AppData\\Roaming\\jupyter\\nbextensions\\spellchecker\\main.css\n",
      "[I 17:09:29 InstallContribNbextensionsApp] Copying: C:\\ProgramData\\Anaconda3\\lib\\site-packages\\jupyter_contrib_nbextensions\\nbextensions\\spellchecker\\main.js -> C:\\Users\\easya\\AppData\\Roaming\\jupyter\\nbextensions\\spellchecker\\main.js\n",
      "[I 17:09:29 InstallContribNbextensionsApp] Copying: C:\\ProgramData\\Anaconda3\\lib\\site-packages\\jupyter_contrib_nbextensions\\nbextensions\\spellchecker\\README.md -> C:\\Users\\easya\\AppData\\Roaming\\jupyter\\nbextensions\\spellchecker\\README.md\n",
      "[I 17:09:29 InstallContribNbextensionsApp] Copying: C:\\ProgramData\\Anaconda3\\lib\\site-packages\\jupyter_contrib_nbextensions\\nbextensions\\spellchecker\\screenshot.png -> C:\\Users\\easya\\AppData\\Roaming\\jupyter\\nbextensions\\spellchecker\\screenshot.png\n",
      "[I 17:09:29 InstallContribNbextensionsApp] Making directory: C:\\Users\\easya\\AppData\\Roaming\\jupyter\\nbextensions\\spellchecker\\typo\n",
      "[I 17:09:29 InstallContribNbextensionsApp] Copying: C:\\ProgramData\\Anaconda3\\lib\\site-packages\\jupyter_contrib_nbextensions\\nbextensions\\spellchecker\\typo\\LICENSE.txt -> C:\\Users\\easya\\AppData\\Roaming\\jupyter\\nbextensions\\spellchecker\\typo\\LICENSE.txt\n",
      "[I 17:09:29 InstallContribNbextensionsApp] Copying: C:\\ProgramData\\Anaconda3\\lib\\site-packages\\jupyter_contrib_nbextensions\\nbextensions\\spellchecker\\typo\\typo.js -> C:\\Users\\easya\\AppData\\Roaming\\jupyter\\nbextensions\\spellchecker\\typo\\typo.js\n",
      "[I 17:09:29 InstallContribNbextensionsApp] Making directory: C:\\Users\\easya\\AppData\\Roaming\\jupyter\\nbextensions\\spellchecker\\__pycache__\n",
      "[I 17:09:29 InstallContribNbextensionsApp] Copying: C:\\ProgramData\\Anaconda3\\lib\\site-packages\\jupyter_contrib_nbextensions\\nbextensions\\spellchecker\\__pycache__\\download_new_dict.cpython-38.pyc -> C:\\Users\\easya\\AppData\\Roaming\\jupyter\\nbextensions\\spellchecker\\__pycache__\\download_new_dict.cpython-38.pyc\n",
      "[I 17:09:29 InstallContribNbextensionsApp] - Validating: ok\n",
      "[I 17:09:29 InstallContribNbextensionsApp] Installing C:\\ProgramData\\Anaconda3\\lib\\site-packages\\jupyter_contrib_nbextensions\\nbextensions\\splitcell -> splitcell\n",
      "[I 17:09:29 InstallContribNbextensionsApp] Making directory: C:\\Users\\easya\\AppData\\Roaming\\jupyter\\nbextensions\\splitcell\\\n",
      "[I 17:09:29 InstallContribNbextensionsApp] Copying: C:\\ProgramData\\Anaconda3\\lib\\site-packages\\jupyter_contrib_nbextensions\\nbextensions\\splitcell\\icon.png -> C:\\Users\\easya\\AppData\\Roaming\\jupyter\\nbextensions\\splitcell\\icon.png\n",
      "[I 17:09:29 InstallContribNbextensionsApp] Copying: C:\\ProgramData\\Anaconda3\\lib\\site-packages\\jupyter_contrib_nbextensions\\nbextensions\\splitcell\\readme.md -> C:\\Users\\easya\\AppData\\Roaming\\jupyter\\nbextensions\\splitcell\\readme.md\n",
      "[I 17:09:29 InstallContribNbextensionsApp] Copying: C:\\ProgramData\\Anaconda3\\lib\\site-packages\\jupyter_contrib_nbextensions\\nbextensions\\splitcell\\splitcell.js -> C:\\Users\\easya\\AppData\\Roaming\\jupyter\\nbextensions\\splitcell\\splitcell.js\n",
      "[I 17:09:29 InstallContribNbextensionsApp] Copying: C:\\ProgramData\\Anaconda3\\lib\\site-packages\\jupyter_contrib_nbextensions\\nbextensions\\splitcell\\splitcell.yaml -> C:\\Users\\easya\\AppData\\Roaming\\jupyter\\nbextensions\\splitcell\\splitcell.yaml\n",
      "[I 17:09:29 InstallContribNbextensionsApp] - Validating: ok\n",
      "[I 17:09:29 InstallContribNbextensionsApp] Installing C:\\ProgramData\\Anaconda3\\lib\\site-packages\\jupyter_contrib_nbextensions\\nbextensions\\table_beautifier -> table_beautifier\n",
      "[I 17:09:29 InstallContribNbextensionsApp] Making directory: C:\\Users\\easya\\AppData\\Roaming\\jupyter\\nbextensions\\table_beautifier\\\n",
      "[I 17:09:29 InstallContribNbextensionsApp] Copying: C:\\ProgramData\\Anaconda3\\lib\\site-packages\\jupyter_contrib_nbextensions\\nbextensions\\table_beautifier\\main.css -> C:\\Users\\easya\\AppData\\Roaming\\jupyter\\nbextensions\\table_beautifier\\main.css\n",
      "[I 17:09:29 InstallContribNbextensionsApp] Copying: C:\\ProgramData\\Anaconda3\\lib\\site-packages\\jupyter_contrib_nbextensions\\nbextensions\\table_beautifier\\main.js -> C:\\Users\\easya\\AppData\\Roaming\\jupyter\\nbextensions\\table_beautifier\\main.js\n",
      "[I 17:09:29 InstallContribNbextensionsApp] Copying: C:\\ProgramData\\Anaconda3\\lib\\site-packages\\jupyter_contrib_nbextensions\\nbextensions\\table_beautifier\\README.md -> C:\\Users\\easya\\AppData\\Roaming\\jupyter\\nbextensions\\table_beautifier\\README.md\n",
      "[I 17:09:29 InstallContribNbextensionsApp] Copying: C:\\ProgramData\\Anaconda3\\lib\\site-packages\\jupyter_contrib_nbextensions\\nbextensions\\table_beautifier\\table_beautifier.yaml -> C:\\Users\\easya\\AppData\\Roaming\\jupyter\\nbextensions\\table_beautifier\\table_beautifier.yaml\n",
      "[I 17:09:29 InstallContribNbextensionsApp] - Validating: ok\n",
      "[I 17:09:29 InstallContribNbextensionsApp] Installing C:\\ProgramData\\Anaconda3\\lib\\site-packages\\jupyter_contrib_nbextensions\\nbextensions\\toc2 -> toc2\n",
      "[I 17:09:29 InstallContribNbextensionsApp] Making directory: C:\\Users\\easya\\AppData\\Roaming\\jupyter\\nbextensions\\toc2\\\n",
      "[I 17:09:29 InstallContribNbextensionsApp] Copying: C:\\ProgramData\\Anaconda3\\lib\\site-packages\\jupyter_contrib_nbextensions\\nbextensions\\toc2\\demo.gif -> C:\\Users\\easya\\AppData\\Roaming\\jupyter\\nbextensions\\toc2\\demo.gif\n",
      "[I 17:09:29 InstallContribNbextensionsApp] Copying: C:\\ProgramData\\Anaconda3\\lib\\site-packages\\jupyter_contrib_nbextensions\\nbextensions\\toc2\\demo2.gif -> C:\\Users\\easya\\AppData\\Roaming\\jupyter\\nbextensions\\toc2\\demo2.gif\n",
      "[I 17:09:29 InstallContribNbextensionsApp] Copying: C:\\ProgramData\\Anaconda3\\lib\\site-packages\\jupyter_contrib_nbextensions\\nbextensions\\toc2\\demo3.gif -> C:\\Users\\easya\\AppData\\Roaming\\jupyter\\nbextensions\\toc2\\demo3.gif\n",
      "[I 17:09:29 InstallContribNbextensionsApp] Copying: C:\\ProgramData\\Anaconda3\\lib\\site-packages\\jupyter_contrib_nbextensions\\nbextensions\\toc2\\demo_dark.png -> C:\\Users\\easya\\AppData\\Roaming\\jupyter\\nbextensions\\toc2\\demo_dark.png\n",
      "[I 17:09:29 InstallContribNbextensionsApp] Copying: C:\\ProgramData\\Anaconda3\\lib\\site-packages\\jupyter_contrib_nbextensions\\nbextensions\\toc2\\icon.png -> C:\\Users\\easya\\AppData\\Roaming\\jupyter\\nbextensions\\toc2\\icon.png\n",
      "[I 17:09:29 InstallContribNbextensionsApp] Copying: C:\\ProgramData\\Anaconda3\\lib\\site-packages\\jupyter_contrib_nbextensions\\nbextensions\\toc2\\image.png -> C:\\Users\\easya\\AppData\\Roaming\\jupyter\\nbextensions\\toc2\\image.png\n",
      "[I 17:09:29 InstallContribNbextensionsApp] Copying: C:\\ProgramData\\Anaconda3\\lib\\site-packages\\jupyter_contrib_nbextensions\\nbextensions\\toc2\\main.css -> C:\\Users\\easya\\AppData\\Roaming\\jupyter\\nbextensions\\toc2\\main.css\n",
      "[I 17:09:29 InstallContribNbextensionsApp] Copying: C:\\ProgramData\\Anaconda3\\lib\\site-packages\\jupyter_contrib_nbextensions\\nbextensions\\toc2\\main.js -> C:\\Users\\easya\\AppData\\Roaming\\jupyter\\nbextensions\\toc2\\main.js\n",
      "[I 17:09:29 InstallContribNbextensionsApp] Copying: C:\\ProgramData\\Anaconda3\\lib\\site-packages\\jupyter_contrib_nbextensions\\nbextensions\\toc2\\README.md -> C:\\Users\\easya\\AppData\\Roaming\\jupyter\\nbextensions\\toc2\\README.md\n",
      "[I 17:09:29 InstallContribNbextensionsApp] Copying: C:\\ProgramData\\Anaconda3\\lib\\site-packages\\jupyter_contrib_nbextensions\\nbextensions\\toc2\\toc2.js -> C:\\Users\\easya\\AppData\\Roaming\\jupyter\\nbextensions\\toc2\\toc2.js\n",
      "[I 17:09:29 InstallContribNbextensionsApp] Copying: C:\\ProgramData\\Anaconda3\\lib\\site-packages\\jupyter_contrib_nbextensions\\nbextensions\\toc2\\toc2.yaml -> C:\\Users\\easya\\AppData\\Roaming\\jupyter\\nbextensions\\toc2\\toc2.yaml\n",
      "[I 17:09:29 InstallContribNbextensionsApp] - Validating: ok\n",
      "[I 17:09:29 InstallContribNbextensionsApp] Installing C:\\ProgramData\\Anaconda3\\lib\\site-packages\\jupyter_contrib_nbextensions\\nbextensions\\toggle_all_line_numbers -> toggle_all_line_numbers\n",
      "[I 17:09:29 InstallContribNbextensionsApp] Making directory: C:\\Users\\easya\\AppData\\Roaming\\jupyter\\nbextensions\\toggle_all_line_numbers\\\n",
      "[I 17:09:29 InstallContribNbextensionsApp] Copying: C:\\ProgramData\\Anaconda3\\lib\\site-packages\\jupyter_contrib_nbextensions\\nbextensions\\toggle_all_line_numbers\\icon.png -> C:\\Users\\easya\\AppData\\Roaming\\jupyter\\nbextensions\\toggle_all_line_numbers\\icon.png\n",
      "[I 17:09:29 InstallContribNbextensionsApp] Copying: C:\\ProgramData\\Anaconda3\\lib\\site-packages\\jupyter_contrib_nbextensions\\nbextensions\\toggle_all_line_numbers\\main.js -> C:\\Users\\easya\\AppData\\Roaming\\jupyter\\nbextensions\\toggle_all_line_numbers\\main.js\n",
      "[I 17:09:29 InstallContribNbextensionsApp] Copying: C:\\ProgramData\\Anaconda3\\lib\\site-packages\\jupyter_contrib_nbextensions\\nbextensions\\toggle_all_line_numbers\\main.yaml -> C:\\Users\\easya\\AppData\\Roaming\\jupyter\\nbextensions\\toggle_all_line_numbers\\main.yaml\n",
      "[I 17:09:29 InstallContribNbextensionsApp] Copying: C:\\ProgramData\\Anaconda3\\lib\\site-packages\\jupyter_contrib_nbextensions\\nbextensions\\toggle_all_line_numbers\\readme.md -> C:\\Users\\easya\\AppData\\Roaming\\jupyter\\nbextensions\\toggle_all_line_numbers\\readme.md\n",
      "[I 17:09:29 InstallContribNbextensionsApp] - Validating: ok\n",
      "[I 17:09:29 InstallContribNbextensionsApp] Installing C:\\ProgramData\\Anaconda3\\lib\\site-packages\\jupyter_contrib_nbextensions\\nbextensions\\tree-filter -> tree-filter\n",
      "[I 17:09:29 InstallContribNbextensionsApp] Making directory: C:\\Users\\easya\\AppData\\Roaming\\jupyter\\nbextensions\\tree-filter\\\n",
      "[I 17:09:29 InstallContribNbextensionsApp] Copying: C:\\ProgramData\\Anaconda3\\lib\\site-packages\\jupyter_contrib_nbextensions\\nbextensions\\tree-filter\\demo.gif -> C:\\Users\\easya\\AppData\\Roaming\\jupyter\\nbextensions\\tree-filter\\demo.gif\n",
      "[I 17:09:29 InstallContribNbextensionsApp] Copying: C:\\ProgramData\\Anaconda3\\lib\\site-packages\\jupyter_contrib_nbextensions\\nbextensions\\tree-filter\\index.js -> C:\\Users\\easya\\AppData\\Roaming\\jupyter\\nbextensions\\tree-filter\\index.js\n",
      "[I 17:09:29 InstallContribNbextensionsApp] Copying: C:\\ProgramData\\Anaconda3\\lib\\site-packages\\jupyter_contrib_nbextensions\\nbextensions\\tree-filter\\readme.md -> C:\\Users\\easya\\AppData\\Roaming\\jupyter\\nbextensions\\tree-filter\\readme.md\n",
      "[I 17:09:29 InstallContribNbextensionsApp] Copying: C:\\ProgramData\\Anaconda3\\lib\\site-packages\\jupyter_contrib_nbextensions\\nbextensions\\tree-filter\\tree-filter.yaml -> C:\\Users\\easya\\AppData\\Roaming\\jupyter\\nbextensions\\tree-filter\\tree-filter.yaml\n",
      "[I 17:09:29 InstallContribNbextensionsApp] - Validating: ok\n",
      "[I 17:09:29 InstallContribNbextensionsApp] Installing C:\\ProgramData\\Anaconda3\\lib\\site-packages\\jupyter_contrib_nbextensions\\nbextensions\\varInspector -> varInspector\n",
      "[I 17:09:29 InstallContribNbextensionsApp] Making directory: C:\\Users\\easya\\AppData\\Roaming\\jupyter\\nbextensions\\varInspector\\\n",
      "[I 17:09:29 InstallContribNbextensionsApp] Copying: C:\\ProgramData\\Anaconda3\\lib\\site-packages\\jupyter_contrib_nbextensions\\nbextensions\\varInspector\\demo.gif -> C:\\Users\\easya\\AppData\\Roaming\\jupyter\\nbextensions\\varInspector\\demo.gif\n",
      "[I 17:09:29 InstallContribNbextensionsApp] Copying: C:\\ProgramData\\Anaconda3\\lib\\site-packages\\jupyter_contrib_nbextensions\\nbextensions\\varInspector\\icon.png -> C:\\Users\\easya\\AppData\\Roaming\\jupyter\\nbextensions\\varInspector\\icon.png\n",
      "[I 17:09:29 InstallContribNbextensionsApp] Copying: C:\\ProgramData\\Anaconda3\\lib\\site-packages\\jupyter_contrib_nbextensions\\nbextensions\\varInspector\\jquery.tablesorter.min.js -> C:\\Users\\easya\\AppData\\Roaming\\jupyter\\nbextensions\\varInspector\\jquery.tablesorter.min.js\n",
      "[I 17:09:29 InstallContribNbextensionsApp] Copying: C:\\ProgramData\\Anaconda3\\lib\\site-packages\\jupyter_contrib_nbextensions\\nbextensions\\varInspector\\main.css -> C:\\Users\\easya\\AppData\\Roaming\\jupyter\\nbextensions\\varInspector\\main.css\n",
      "[I 17:09:29 InstallContribNbextensionsApp] Copying: C:\\ProgramData\\Anaconda3\\lib\\site-packages\\jupyter_contrib_nbextensions\\nbextensions\\varInspector\\main.js -> C:\\Users\\easya\\AppData\\Roaming\\jupyter\\nbextensions\\varInspector\\main.js\n",
      "[I 17:09:29 InstallContribNbextensionsApp] Copying: C:\\ProgramData\\Anaconda3\\lib\\site-packages\\jupyter_contrib_nbextensions\\nbextensions\\varInspector\\README.md -> C:\\Users\\easya\\AppData\\Roaming\\jupyter\\nbextensions\\varInspector\\README.md\n",
      "[I 17:09:29 InstallContribNbextensionsApp] Copying: C:\\ProgramData\\Anaconda3\\lib\\site-packages\\jupyter_contrib_nbextensions\\nbextensions\\varInspector\\tablesorter_LICENSE.txt -> C:\\Users\\easya\\AppData\\Roaming\\jupyter\\nbextensions\\varInspector\\tablesorter_LICENSE.txt\n",
      "[I 17:09:29 InstallContribNbextensionsApp] Copying: C:\\ProgramData\\Anaconda3\\lib\\site-packages\\jupyter_contrib_nbextensions\\nbextensions\\varInspector\\varInspector.yaml -> C:\\Users\\easya\\AppData\\Roaming\\jupyter\\nbextensions\\varInspector\\varInspector.yaml\n",
      "[I 17:09:29 InstallContribNbextensionsApp] Copying: C:\\ProgramData\\Anaconda3\\lib\\site-packages\\jupyter_contrib_nbextensions\\nbextensions\\varInspector\\var_list.py -> C:\\Users\\easya\\AppData\\Roaming\\jupyter\\nbextensions\\varInspector\\var_list.py\n",
      "[I 17:09:29 InstallContribNbextensionsApp] Copying: C:\\ProgramData\\Anaconda3\\lib\\site-packages\\jupyter_contrib_nbextensions\\nbextensions\\varInspector\\var_list.r -> C:\\Users\\easya\\AppData\\Roaming\\jupyter\\nbextensions\\varInspector\\var_list.r\n",
      "[I 17:09:29 InstallContribNbextensionsApp] Making directory: C:\\Users\\easya\\AppData\\Roaming\\jupyter\\nbextensions\\varInspector\\__pycache__\n",
      "[I 17:09:29 InstallContribNbextensionsApp] Copying: C:\\ProgramData\\Anaconda3\\lib\\site-packages\\jupyter_contrib_nbextensions\\nbextensions\\varInspector\\__pycache__\\var_list.cpython-38.pyc -> C:\\Users\\easya\\AppData\\Roaming\\jupyter\\nbextensions\\varInspector\\__pycache__\\var_list.cpython-38.pyc\n",
      "[I 17:09:29 InstallContribNbextensionsApp] - Validating: ok\n",
      "[I 17:09:29 InstallContribNbextensionsApp] Installing C:\\ProgramData\\Anaconda3\\lib\\site-packages\\jupyter_contrib_nbextensions\\nbextensions\\zenmode -> zenmode\n",
      "[I 17:09:29 InstallContribNbextensionsApp] Making directory: C:\\Users\\easya\\AppData\\Roaming\\jupyter\\nbextensions\\zenmode\\\n",
      "[I 17:09:29 InstallContribNbextensionsApp] Copying: C:\\ProgramData\\Anaconda3\\lib\\site-packages\\jupyter_contrib_nbextensions\\nbextensions\\zenmode\\main.css -> C:\\Users\\easya\\AppData\\Roaming\\jupyter\\nbextensions\\zenmode\\main.css\n",
      "[I 17:09:29 InstallContribNbextensionsApp] Copying: C:\\ProgramData\\Anaconda3\\lib\\site-packages\\jupyter_contrib_nbextensions\\nbextensions\\zenmode\\main.js -> C:\\Users\\easya\\AppData\\Roaming\\jupyter\\nbextensions\\zenmode\\main.js\n",
      "[I 17:09:29 InstallContribNbextensionsApp] Copying: C:\\ProgramData\\Anaconda3\\lib\\site-packages\\jupyter_contrib_nbextensions\\nbextensions\\zenmode\\README.md -> C:\\Users\\easya\\AppData\\Roaming\\jupyter\\nbextensions\\zenmode\\README.md\n",
      "[I 17:09:29 InstallContribNbextensionsApp] Copying: C:\\ProgramData\\Anaconda3\\lib\\site-packages\\jupyter_contrib_nbextensions\\nbextensions\\zenmode\\zenmode.yaml -> C:\\Users\\easya\\AppData\\Roaming\\jupyter\\nbextensions\\zenmode\\zenmode.yaml\n",
      "[I 17:09:29 InstallContribNbextensionsApp] Making directory: C:\\Users\\easya\\AppData\\Roaming\\jupyter\\nbextensions\\zenmode\\images\n",
      "[I 17:09:29 InstallContribNbextensionsApp] Copying: C:\\ProgramData\\Anaconda3\\lib\\site-packages\\jupyter_contrib_nbextensions\\nbextensions\\zenmode\\images\\back1.jpg -> C:\\Users\\easya\\AppData\\Roaming\\jupyter\\nbextensions\\zenmode\\images\\back1.jpg\n",
      "[I 17:09:29 InstallContribNbextensionsApp] Copying: C:\\ProgramData\\Anaconda3\\lib\\site-packages\\jupyter_contrib_nbextensions\\nbextensions\\zenmode\\images\\back11.jpg -> C:\\Users\\easya\\AppData\\Roaming\\jupyter\\nbextensions\\zenmode\\images\\back11.jpg\n",
      "[I 17:09:29 InstallContribNbextensionsApp] Copying: C:\\ProgramData\\Anaconda3\\lib\\site-packages\\jupyter_contrib_nbextensions\\nbextensions\\zenmode\\images\\back12.jpg -> C:\\Users\\easya\\AppData\\Roaming\\jupyter\\nbextensions\\zenmode\\images\\back12.jpg\n",
      "[I 17:09:29 InstallContribNbextensionsApp] Copying: C:\\ProgramData\\Anaconda3\\lib\\site-packages\\jupyter_contrib_nbextensions\\nbextensions\\zenmode\\images\\back2.jpg -> C:\\Users\\easya\\AppData\\Roaming\\jupyter\\nbextensions\\zenmode\\images\\back2.jpg\n",
      "[I 17:09:29 InstallContribNbextensionsApp] Copying: C:\\ProgramData\\Anaconda3\\lib\\site-packages\\jupyter_contrib_nbextensions\\nbextensions\\zenmode\\images\\back21.jpg -> C:\\Users\\easya\\AppData\\Roaming\\jupyter\\nbextensions\\zenmode\\images\\back21.jpg\n",
      "[I 17:09:29 InstallContribNbextensionsApp] Copying: C:\\ProgramData\\Anaconda3\\lib\\site-packages\\jupyter_contrib_nbextensions\\nbextensions\\zenmode\\images\\back22.jpg -> C:\\Users\\easya\\AppData\\Roaming\\jupyter\\nbextensions\\zenmode\\images\\back22.jpg\n",
      "[I 17:09:29 InstallContribNbextensionsApp] Copying: C:\\ProgramData\\Anaconda3\\lib\\site-packages\\jupyter_contrib_nbextensions\\nbextensions\\zenmode\\images\\back3.jpg -> C:\\Users\\easya\\AppData\\Roaming\\jupyter\\nbextensions\\zenmode\\images\\back3.jpg\n",
      "[I 17:09:29 InstallContribNbextensionsApp] Copying: C:\\ProgramData\\Anaconda3\\lib\\site-packages\\jupyter_contrib_nbextensions\\nbextensions\\zenmode\\images\\ipynblogo0.png -> C:\\Users\\easya\\AppData\\Roaming\\jupyter\\nbextensions\\zenmode\\images\\ipynblogo0.png\n",
      "[I 17:09:29 InstallContribNbextensionsApp] Copying: C:\\ProgramData\\Anaconda3\\lib\\site-packages\\jupyter_contrib_nbextensions\\nbextensions\\zenmode\\images\\ipynblogo1.png -> C:\\Users\\easya\\AppData\\Roaming\\jupyter\\nbextensions\\zenmode\\images\\ipynblogo1.png\n",
      "[I 17:09:29 InstallContribNbextensionsApp] - Validating: ok\n",
      "[I 17:09:29 InstallContribNbextensionsApp] Installing C:\\ProgramData\\Anaconda3\\lib\\site-packages\\jupyter_highlight_selected_word\\static\\highlight_selected_word -> highlight_selected_word\n",
      "[I 17:09:29 InstallContribNbextensionsApp] Making directory: C:\\Users\\easya\\AppData\\Roaming\\jupyter\\nbextensions\\highlight_selected_word\\\n",
      "[I 17:09:29 InstallContribNbextensionsApp] Copying: C:\\ProgramData\\Anaconda3\\lib\\site-packages\\jupyter_highlight_selected_word\\static\\highlight_selected_word\\configurator.yaml -> C:\\Users\\easya\\AppData\\Roaming\\jupyter\\nbextensions\\highlight_selected_word\\configurator.yaml\n",
      "[I 17:09:29 InstallContribNbextensionsApp] Copying: C:\\ProgramData\\Anaconda3\\lib\\site-packages\\jupyter_highlight_selected_word\\static\\highlight_selected_word\\main.js -> C:\\Users\\easya\\AppData\\Roaming\\jupyter\\nbextensions\\highlight_selected_word\\main.js\n",
      "[I 17:09:29 InstallContribNbextensionsApp] Copying: C:\\ProgramData\\Anaconda3\\lib\\site-packages\\jupyter_highlight_selected_word\\static\\highlight_selected_word\\README.md -> C:\\Users\\easya\\AppData\\Roaming\\jupyter\\nbextensions\\highlight_selected_word\\README.md\n",
      "[I 17:09:29 InstallContribNbextensionsApp] - Validating: ok\n",
      "[I 17:09:29 InstallContribNbextensionsApp] Installing C:\\ProgramData\\Anaconda3\\lib\\site-packages\\latex_envs\\static -> latex_envs\n",
      "[I 17:09:29 InstallContribNbextensionsApp] Making directory: C:\\Users\\easya\\AppData\\Roaming\\jupyter\\nbextensions\\latex_envs\\\n",
      "[I 17:09:29 InstallContribNbextensionsApp] Copying: C:\\ProgramData\\Anaconda3\\lib\\site-packages\\latex_envs\\static\\bibInNb4.js -> C:\\Users\\easya\\AppData\\Roaming\\jupyter\\nbextensions\\latex_envs\\bibInNb4.js\n",
      "[I 17:09:29 InstallContribNbextensionsApp] Copying: C:\\ProgramData\\Anaconda3\\lib\\site-packages\\latex_envs\\static\\bibtex2.js -> C:\\Users\\easya\\AppData\\Roaming\\jupyter\\nbextensions\\latex_envs\\bibtex2.js\n",
      "[I 17:09:29 InstallContribNbextensionsApp] Copying: C:\\ProgramData\\Anaconda3\\lib\\site-packages\\latex_envs\\static\\configuration_toolbar.png -> C:\\Users\\easya\\AppData\\Roaming\\jupyter\\nbextensions\\latex_envs\\configuration_toolbar.png\n",
      "[I 17:09:29 InstallContribNbextensionsApp] Copying: C:\\ProgramData\\Anaconda3\\lib\\site-packages\\latex_envs\\static\\envsLatex.js -> C:\\Users\\easya\\AppData\\Roaming\\jupyter\\nbextensions\\latex_envs\\envsLatex.js\n",
      "[I 17:09:29 InstallContribNbextensionsApp] Copying: C:\\ProgramData\\Anaconda3\\lib\\site-packages\\latex_envs\\static\\envsLatex.json -> C:\\Users\\easya\\AppData\\Roaming\\jupyter\\nbextensions\\latex_envs\\envsLatex.json\n",
      "[I 17:09:29 InstallContribNbextensionsApp] Copying: C:\\ProgramData\\Anaconda3\\lib\\site-packages\\latex_envs\\static\\example.png -> C:\\Users\\easya\\AppData\\Roaming\\jupyter\\nbextensions\\latex_envs\\example.png\n",
      "[I 17:09:29 InstallContribNbextensionsApp] Copying: C:\\ProgramData\\Anaconda3\\lib\\site-packages\\latex_envs\\static\\example_user_envs.json -> C:\\Users\\easya\\AppData\\Roaming\\jupyter\\nbextensions\\latex_envs\\example_user_envs.json\n",
      "[I 17:09:29 InstallContribNbextensionsApp] Copying: C:\\ProgramData\\Anaconda3\\lib\\site-packages\\latex_envs\\static\\icon.png -> C:\\Users\\easya\\AppData\\Roaming\\jupyter\\nbextensions\\latex_envs\\icon.png\n",
      "[I 17:09:29 InstallContribNbextensionsApp] Copying: C:\\ProgramData\\Anaconda3\\lib\\site-packages\\latex_envs\\static\\initNb.js -> C:\\Users\\easya\\AppData\\Roaming\\jupyter\\nbextensions\\latex_envs\\initNb.js\n",
      "[I 17:09:29 InstallContribNbextensionsApp] Copying: C:\\ProgramData\\Anaconda3\\lib\\site-packages\\latex_envs\\static\\latex_envs.css -> C:\\Users\\easya\\AppData\\Roaming\\jupyter\\nbextensions\\latex_envs\\latex_envs.css\n",
      "[I 17:09:29 InstallContribNbextensionsApp] Copying: C:\\ProgramData\\Anaconda3\\lib\\site-packages\\latex_envs\\static\\latex_envs.js -> C:\\Users\\easya\\AppData\\Roaming\\jupyter\\nbextensions\\latex_envs\\latex_envs.js\n",
      "[I 17:09:29 InstallContribNbextensionsApp] Copying: C:\\ProgramData\\Anaconda3\\lib\\site-packages\\latex_envs\\static\\latex_envs.yaml -> C:\\Users\\easya\\AppData\\Roaming\\jupyter\\nbextensions\\latex_envs\\latex_envs.yaml\n",
      "[I 17:09:29 InstallContribNbextensionsApp] Copying: C:\\ProgramData\\Anaconda3\\lib\\site-packages\\latex_envs\\static\\main_toolbar.png -> C:\\Users\\easya\\AppData\\Roaming\\jupyter\\nbextensions\\latex_envs\\main_toolbar.png\n",
      "[I 17:09:29 InstallContribNbextensionsApp] Copying: C:\\ProgramData\\Anaconda3\\lib\\site-packages\\latex_envs\\static\\README.md -> C:\\Users\\easya\\AppData\\Roaming\\jupyter\\nbextensions\\latex_envs\\README.md\n",
      "[I 17:09:29 InstallContribNbextensionsApp] Copying: C:\\ProgramData\\Anaconda3\\lib\\site-packages\\latex_envs\\static\\thmsInNb4.js -> C:\\Users\\easya\\AppData\\Roaming\\jupyter\\nbextensions\\latex_envs\\thmsInNb4.js\n",
      "[I 17:09:29 InstallContribNbextensionsApp] Making directory: C:\\Users\\easya\\AppData\\Roaming\\jupyter\\nbextensions\\latex_envs\\doc\n",
      "[I 17:09:29 InstallContribNbextensionsApp] Copying: C:\\ProgramData\\Anaconda3\\lib\\site-packages\\latex_envs\\static\\doc\\biblio_ipython.bib -> C:\\Users\\easya\\AppData\\Roaming\\jupyter\\nbextensions\\latex_envs\\doc\\biblio_ipython.bib\n",
      "[I 17:09:29 InstallContribNbextensionsApp] Copying: C:\\ProgramData\\Anaconda3\\lib\\site-packages\\latex_envs\\static\\doc\\configuration_toolbar.png -> C:\\Users\\easya\\AppData\\Roaming\\jupyter\\nbextensions\\latex_envs\\doc\\configuration_toolbar.png\n",
      "[I 17:09:29 InstallContribNbextensionsApp] Copying: C:\\ProgramData\\Anaconda3\\lib\\site-packages\\latex_envs\\static\\doc\\config_toolbar.png -> C:\\Users\\easya\\AppData\\Roaming\\jupyter\\nbextensions\\latex_envs\\doc\\config_toolbar.png\n",
      "[I 17:09:29 InstallContribNbextensionsApp] Copying: C:\\ProgramData\\Anaconda3\\lib\\site-packages\\latex_envs\\static\\doc\\documentation.pdf -> C:\\Users\\easya\\AppData\\Roaming\\jupyter\\nbextensions\\latex_envs\\doc\\documentation.pdf\n",
      "[I 17:09:29 InstallContribNbextensionsApp] Copying: C:\\ProgramData\\Anaconda3\\lib\\site-packages\\latex_envs\\static\\doc\\documentation.tex -> C:\\Users\\easya\\AppData\\Roaming\\jupyter\\nbextensions\\latex_envs\\doc\\documentation.tex\n",
      "[I 17:09:29 InstallContribNbextensionsApp] Copying: C:\\ProgramData\\Anaconda3\\lib\\site-packages\\latex_envs\\static\\doc\\example.png -> C:\\Users\\easya\\AppData\\Roaming\\jupyter\\nbextensions\\latex_envs\\doc\\example.png\n",
      "[I 17:09:29 InstallContribNbextensionsApp] Copying: C:\\ProgramData\\Anaconda3\\lib\\site-packages\\latex_envs\\static\\doc\\header.tex -> C:\\Users\\easya\\AppData\\Roaming\\jupyter\\nbextensions\\latex_envs\\doc\\header.tex\n",
      "[I 17:09:29 InstallContribNbextensionsApp] Copying: C:\\ProgramData\\Anaconda3\\lib\\site-packages\\latex_envs\\static\\doc\\IEEEtran.bst -> C:\\Users\\easya\\AppData\\Roaming\\jupyter\\nbextensions\\latex_envs\\doc\\IEEEtran.bst\n",
      "[I 17:09:29 InstallContribNbextensionsApp] Copying: C:\\ProgramData\\Anaconda3\\lib\\site-packages\\latex_envs\\static\\doc\\LaTeX_envs_menu.png -> C:\\Users\\easya\\AppData\\Roaming\\jupyter\\nbextensions\\latex_envs\\doc\\LaTeX_envs_menu.png\n",
      "[I 17:09:29 InstallContribNbextensionsApp] Copying: C:\\ProgramData\\Anaconda3\\lib\\site-packages\\latex_envs\\static\\doc\\latex_env_doc.html -> C:\\Users\\easya\\AppData\\Roaming\\jupyter\\nbextensions\\latex_envs\\doc\\latex_env_doc.html\n",
      "[I 17:09:29 InstallContribNbextensionsApp] Copying: C:\\ProgramData\\Anaconda3\\lib\\site-packages\\latex_envs\\static\\doc\\latex_env_doc.ipynb -> C:\\Users\\easya\\AppData\\Roaming\\jupyter\\nbextensions\\latex_envs\\doc\\latex_env_doc.ipynb\n",
      "[I 17:09:29 InstallContribNbextensionsApp] Copying: C:\\ProgramData\\Anaconda3\\lib\\site-packages\\latex_envs\\static\\doc\\latex_env_doc.tex -> C:\\Users\\easya\\AppData\\Roaming\\jupyter\\nbextensions\\latex_envs\\doc\\latex_env_doc.tex\n",
      "[I 17:09:29 InstallContribNbextensionsApp] Copying: C:\\ProgramData\\Anaconda3\\lib\\site-packages\\latex_envs\\static\\doc\\main_toolbar.png -> C:\\Users\\easya\\AppData\\Roaming\\jupyter\\nbextensions\\latex_envs\\doc\\main_toolbar.png\n",
      "[I 17:09:29 InstallContribNbextensionsApp] Copying: C:\\ProgramData\\Anaconda3\\lib\\site-packages\\latex_envs\\static\\doc\\README.md -> C:\\Users\\easya\\AppData\\Roaming\\jupyter\\nbextensions\\latex_envs\\doc\\README.md\n",
      "[I 17:09:29 InstallContribNbextensionsApp] Copying: C:\\ProgramData\\Anaconda3\\lib\\site-packages\\latex_envs\\static\\doc\\Toggles.png -> C:\\Users\\easya\\AppData\\Roaming\\jupyter\\nbextensions\\latex_envs\\doc\\Toggles.png\n",
      "[I 17:09:29 InstallContribNbextensionsApp] Making directory: C:\\Users\\easya\\AppData\\Roaming\\jupyter\\nbextensions\\latex_envs\\doc\\.ipynb_checkpoints\n",
      "[I 17:09:29 InstallContribNbextensionsApp] Copying: C:\\ProgramData\\Anaconda3\\lib\\site-packages\\latex_envs\\static\\doc\\.ipynb_checkpoints\\latex_env_doc-checkpoint.ipynb -> C:\\Users\\easya\\AppData\\Roaming\\jupyter\\nbextensions\\latex_envs\\doc\\.ipynb_checkpoints\\latex_env_doc-checkpoint.ipynb\n",
      "[I 17:09:29 InstallContribNbextensionsApp] Making directory: C:\\Users\\easya\\AppData\\Roaming\\jupyter\\nbextensions\\latex_envs\\doc\\latex_env_doc_files\n",
      "[I 17:09:29 InstallContribNbextensionsApp] Copying: C:\\ProgramData\\Anaconda3\\lib\\site-packages\\latex_envs\\static\\doc\\latex_env_doc_files\\latex_env_doc_23_2.png -> C:\\Users\\easya\\AppData\\Roaming\\jupyter\\nbextensions\\latex_envs\\doc\\latex_env_doc_files\\latex_env_doc_23_2.png\n",
      "[I 17:09:29 InstallContribNbextensionsApp] Copying: C:\\ProgramData\\Anaconda3\\lib\\site-packages\\latex_envs\\static\\doc\\latex_env_doc_files\\latex_env_doc_24_2.png -> C:\\Users\\easya\\AppData\\Roaming\\jupyter\\nbextensions\\latex_envs\\doc\\latex_env_doc_files\\latex_env_doc_24_2.png\n",
      "[I 17:09:29 InstallContribNbextensionsApp] Copying: C:\\ProgramData\\Anaconda3\\lib\\site-packages\\latex_envs\\static\\doc\\latex_env_doc_files\\latex_env_doc_26_2.png -> C:\\Users\\easya\\AppData\\Roaming\\jupyter\\nbextensions\\latex_envs\\doc\\latex_env_doc_files\\latex_env_doc_26_2.png\n",
      "[I 17:09:29 InstallContribNbextensionsApp] Copying: C:\\ProgramData\\Anaconda3\\lib\\site-packages\\latex_envs\\static\\doc\\latex_env_doc_files\\latex_env_doc_27_2.png -> C:\\Users\\easya\\AppData\\Roaming\\jupyter\\nbextensions\\latex_envs\\doc\\latex_env_doc_files\\latex_env_doc_27_2.png\n",
      "[I 17:09:29 InstallContribNbextensionsApp] Copying: C:\\ProgramData\\Anaconda3\\lib\\site-packages\\latex_envs\\static\\doc\\latex_env_doc_files\\latex_env_doc_41_0.png -> C:\\Users\\easya\\AppData\\Roaming\\jupyter\\nbextensions\\latex_envs\\doc\\latex_env_doc_files\\latex_env_doc_41_0.png\n",
      "[I 17:09:29 InstallContribNbextensionsApp] Copying: C:\\ProgramData\\Anaconda3\\lib\\site-packages\\latex_envs\\static\\doc\\latex_env_doc_files\\latex_env_doc_42_0.png -> C:\\Users\\easya\\AppData\\Roaming\\jupyter\\nbextensions\\latex_envs\\doc\\latex_env_doc_files\\latex_env_doc_42_0.png\n",
      "[I 17:09:29 InstallContribNbextensionsApp] Copying: C:\\ProgramData\\Anaconda3\\lib\\site-packages\\latex_envs\\static\\doc\\latex_env_doc_files\\latex_env_doc_43_0.png -> C:\\Users\\easya\\AppData\\Roaming\\jupyter\\nbextensions\\latex_envs\\doc\\latex_env_doc_files\\latex_env_doc_43_0.png\n",
      "[I 17:09:29 InstallContribNbextensionsApp] Copying: C:\\ProgramData\\Anaconda3\\lib\\site-packages\\latex_envs\\static\\doc\\latex_env_doc_files\\latex_env_doc_44_0.png -> C:\\Users\\easya\\AppData\\Roaming\\jupyter\\nbextensions\\latex_envs\\doc\\latex_env_doc_files\\latex_env_doc_44_0.png\n",
      "[I 17:09:29 InstallContribNbextensionsApp] Copying: C:\\ProgramData\\Anaconda3\\lib\\site-packages\\latex_envs\\static\\doc\\latex_env_doc_files\\latex_env_doc_45_0.png -> C:\\Users\\easya\\AppData\\Roaming\\jupyter\\nbextensions\\latex_envs\\doc\\latex_env_doc_files\\latex_env_doc_45_0.png\n",
      "[I 17:09:29 InstallContribNbextensionsApp] Copying: C:\\ProgramData\\Anaconda3\\lib\\site-packages\\latex_envs\\static\\doc\\latex_env_doc_files\\latex_env_doc_46_0.png -> C:\\Users\\easya\\AppData\\Roaming\\jupyter\\nbextensions\\latex_envs\\doc\\latex_env_doc_files\\latex_env_doc_46_0.png\n",
      "[I 17:09:29 InstallContribNbextensionsApp] Copying: C:\\ProgramData\\Anaconda3\\lib\\site-packages\\latex_envs\\static\\doc\\latex_env_doc_files\\latex_env_doc_47_0.png -> C:\\Users\\easya\\AppData\\Roaming\\jupyter\\nbextensions\\latex_envs\\doc\\latex_env_doc_files\\latex_env_doc_47_0.png\n",
      "[I 17:09:29 InstallContribNbextensionsApp] Copying: C:\\ProgramData\\Anaconda3\\lib\\site-packages\\latex_envs\\static\\doc\\latex_env_doc_files\\latex_env_doc_48_0.png -> C:\\Users\\easya\\AppData\\Roaming\\jupyter\\nbextensions\\latex_envs\\doc\\latex_env_doc_files\\latex_env_doc_48_0.png\n",
      "[I 17:09:29 InstallContribNbextensionsApp] Copying: C:\\ProgramData\\Anaconda3\\lib\\site-packages\\latex_envs\\static\\doc\\latex_env_doc_files\\latex_env_doc_49_0.png -> C:\\Users\\easya\\AppData\\Roaming\\jupyter\\nbextensions\\latex_envs\\doc\\latex_env_doc_files\\latex_env_doc_49_0.png\n",
      "[I 17:09:29 InstallContribNbextensionsApp] Copying: C:\\ProgramData\\Anaconda3\\lib\\site-packages\\latex_envs\\static\\doc\\latex_env_doc_files\\latex_env_doc_50_0.png -> C:\\Users\\easya\\AppData\\Roaming\\jupyter\\nbextensions\\latex_envs\\doc\\latex_env_doc_files\\latex_env_doc_50_0.png\n",
      "[I 17:09:29 InstallContribNbextensionsApp] Copying: C:\\ProgramData\\Anaconda3\\lib\\site-packages\\latex_envs\\static\\doc\\latex_env_doc_files\\latex_env_doc_51_0.png -> C:\\Users\\easya\\AppData\\Roaming\\jupyter\\nbextensions\\latex_envs\\doc\\latex_env_doc_files\\latex_env_doc_51_0.png\n",
      "[I 17:09:29 InstallContribNbextensionsApp] Copying: C:\\ProgramData\\Anaconda3\\lib\\site-packages\\latex_envs\\static\\doc\\latex_env_doc_files\\latex_env_doc_52_0.png -> C:\\Users\\easya\\AppData\\Roaming\\jupyter\\nbextensions\\latex_envs\\doc\\latex_env_doc_files\\latex_env_doc_52_0.png\n",
      "[I 17:09:29 InstallContribNbextensionsApp] - Validating: ok\n",
      "[I 17:09:29 InstallContribNbextensionsApp] Installing jupyter_contrib_nbextensions items to config in C:\\Users\\easya\\.jupyter\n",
      "Enabling: jupyter_nbextensions_configurator\n",
      "- Writing config: C:\\Users\\easya\\.jupyter\n",
      "    - Validating...\n",
      "      jupyter_nbextensions_configurator 0.4.1 ok\n",
      "Enabling notebook nbextension nbextensions_configurator/config_menu/main...\n",
      "Enabling tree nbextension nbextensions_configurator/tree_tab/main...\n",
      "[I 17:09:29 InstallContribNbextensionsApp] Enabling notebook extension contrib_nbextensions_help_item/main...\n",
      "[I 17:09:29 InstallContribNbextensionsApp]       - Validating: ok\n",
      "[I 17:09:29 InstallContribNbextensionsApp] - Editing config: C:\\Users\\easya\\.jupyter\\jupyter_nbconvert_config.json\n",
      "[I 17:09:29 InstallContribNbextensionsApp] --  Configuring nbconvert template path\n",
      "[I 17:09:29 InstallContribNbextensionsApp] --  Configuring nbconvert preprocessors\n",
      "[I 17:09:29 InstallContribNbextensionsApp] - Writing config: C:\\Users\\easya\\.jupyter\\jupyter_nbconvert_config.json\n",
      "[I 17:09:29 InstallContribNbextensionsApp] --  Writing updated config file C:\\Users\\easya\\.jupyter\\jupyter_nbconvert_config.json\n"
     ]
    }
   ],
   "source": [
    "! jupyter contrib nbextensions install --user"
   ]
  },
  {
   "cell_type": "code",
   "execution_count": null,
   "id": "b28dea7d",
   "metadata": {},
   "outputs": [],
   "source": []
  }
 ],
 "metadata": {
  "kernelspec": {
   "display_name": "Python 3",
   "language": "python",
   "name": "python3"
  },
  "language_info": {
   "codemirror_mode": {
    "name": "ipython",
    "version": 3
   },
   "file_extension": ".py",
   "mimetype": "text/x-python",
   "name": "python",
   "nbconvert_exporter": "python",
   "pygments_lexer": "ipython3",
   "version": "3.8.8"
  },
  "toc": {
   "base_numbering": 1,
   "nav_menu": {},
   "number_sections": true,
   "sideBar": true,
   "skip_h1_title": false,
   "title_cell": "Table of Contents",
   "title_sidebar": "Contents",
   "toc_cell": false,
   "toc_position": {
    "height": "calc(100% - 180px)",
    "left": "10px",
    "top": "150px",
    "width": "233.633px"
   },
   "toc_section_display": true,
   "toc_window_display": true
  },
  "varInspector": {
   "cols": {
    "lenName": 16,
    "lenType": 16,
    "lenVar": 40
   },
   "kernels_config": {
    "python": {
     "delete_cmd_postfix": "",
     "delete_cmd_prefix": "del ",
     "library": "var_list.py",
     "varRefreshCmd": "print(var_dic_list())"
    },
    "r": {
     "delete_cmd_postfix": ") ",
     "delete_cmd_prefix": "rm(",
     "library": "var_list.r",
     "varRefreshCmd": "cat(var_dic_list()) "
    }
   },
   "types_to_exclude": [
    "module",
    "function",
    "builtin_function_or_method",
    "instance",
    "_Feature"
   ],
   "window_display": false
  },
  "widgets": {
   "application/vnd.jupyter.widget-state+json": {
    "state": {},
    "version_major": 2,
    "version_minor": 0
   }
  }
 },
 "nbformat": 4,
 "nbformat_minor": 5
}
